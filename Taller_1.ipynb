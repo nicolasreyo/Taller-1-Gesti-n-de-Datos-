{
  "nbformat": 4,
  "nbformat_minor": 0,
  "metadata": {
    "colab": {
      "name": "Taller 1.ipynb",
      "provenance": [],
      "collapsed_sections": [
        "S7QB1GWNVpsn",
        "oMyot2yXSss2",
        "7_Ja5Pv_KlgI",
        "byYPq1nkZ6SL",
        "N6Z80BRRcHM3",
        "pLaYxVNvaKqP",
        "iqbhQJ59aKqQ",
        "OP-63T1eaKqW",
        "PJCZpJKOaOQw",
        "jZ6kXTWPaOQx",
        "ektDUHSjaOQ2",
        "nbi6JJikaQNI",
        "FTyQvrfjaQNJ",
        "t1STOguWaQNO",
        "2y4RlHlVhlqF",
        "8xxbrt75kjsP",
        "xC2NQNWJuOKC",
        "YCnB1l-z44ck",
        "9clyruB9bOS9",
        "84RdmmuEePJg",
        "PjAGmrIJu_LT",
        "fXaXUPq6vDAa"
      ]
    },
    "kernelspec": {
      "name": "python3",
      "display_name": "Python 3"
    },
    "language_info": {
      "name": "python"
    }
  },
  "cells": [
    {
      "cell_type": "markdown",
      "source": [
        "# Gestión de Datos\n",
        "\n",
        "Taller 1 \n",
        "Univerisdad Javeriana  \n",
        "August, 2022  \n",
        "  \n",
        "Datasets:   \n",
        "\n",
        "1. Lesiones Personales\n",
        "2. Violencia Intrafamiliar\n",
        "3. Delitos Sexuales\n",
        "4. Homicidios"
      ],
      "metadata": {
        "id": "9LNLhKHEjCKX"
      }
    },
    {
      "cell_type": "code",
      "source": [
        "import pandas as pd \n",
        "import numpy as np\n",
        "from datetime import datetime\n",
        "import re\n",
        "import matplotlib.pyplot as plt\n",
        "import seaborn as sns\n",
        "\n",
        "%matplotlib inline"
      ],
      "metadata": {
        "id": "1PvKjkpRJNLn"
      },
      "execution_count": 2,
      "outputs": []
    },
    {
      "cell_type": "markdown",
      "source": [
        "# Desarrollo de Taller"
      ],
      "metadata": {
        "id": "rLj-8MooKgJP"
      }
    },
    {
      "cell_type": "markdown",
      "source": [
        "#Punto 1"
      ],
      "metadata": {
        "id": "2ltQS08ahigG"
      }
    },
    {
      "cell_type": "markdown",
      "source": [
        "R/ Para el desarrollo de este taller se escogen los siguientes dataframes: Lesiones Personales, Violencia Intrafamiliar, Delitos Sexuales y Homicidios Accidente de Transito. \n",
        "\n",
        "Para cada uno de estos data frames se tienen en su gran mayoría variables categoricas nominales y ordinales con la unica excepción de la 'CANTIDAD' la cual es la cantidad de delitos realizados (Variable escalar)\n",
        "\n",
        "De igual manera se revisan cada uno de los campos tratando de identificar datos anomalos. Para estos se crean diccionarios especificos con el objetivo de reemplzar dichos valores. Para los datos nulos se reportan como \"NO REPORTADO\". \n",
        "\n",
        "Por ultimo, se estandariza el formato de la fecha. "
      ],
      "metadata": {
        "id": "A4F6Ym_ZiPAu"
      }
    },
    {
      "cell_type": "markdown",
      "source": [
        "##Diccionarios"
      ],
      "metadata": {
        "id": "S7QB1GWNVpsn"
      }
    },
    {
      "cell_type": "code",
      "source": [
        "#Diccionario para poder modificar lo que sea no responde o sinonimos. \n",
        "estandarizar_dic = {\n",
        "    \"NO REPORTA\": \"NO REPORTA\", \n",
        "    \"-\": \"NO REPORTA\",\n",
        "    \"NO REPORTADO\":\"NO REPORTA\",\n",
        "    \"ADOLECENTES\":\"ADOLESCENTES\"\n",
        "}\n",
        "\n",
        "estandarizar_dic"
      ],
      "metadata": {
        "colab": {
          "base_uri": "https://localhost:8080/"
        },
        "id": "fJurThixSwdu",
        "outputId": "805b0868-c67a-4d13-9ead-64a0dfd01e53"
      },
      "execution_count": 3,
      "outputs": [
        {
          "output_type": "execute_result",
          "data": {
            "text/plain": [
              "{'NO REPORTA': 'NO REPORTA',\n",
              " '-': 'NO REPORTA',\n",
              " 'NO REPORTADO': 'NO REPORTA',\n",
              " 'ADOLECENTES': 'ADOLESCENTES'}"
            ]
          },
          "metadata": {},
          "execution_count": 3
        }
      ]
    },
    {
      "cell_type": "code",
      "source": [
        "#Diccionario para poder modificar departamenteos erroneos. \n",
        "estandarizar_dep = {\n",
        "    \"SAN ANDRÉS\": \"SAN ANDRÉS Y PROVIDENCIA\",\n",
        "    \"Antioquia\": \"ANTIOQUIA\",\n",
        "    \"Atlántico\": \"ATLÁNTICO\", \n",
        "    \"Bogotá, D.C.\": \"CUNDINAMARCA\", \n",
        "    \"Bolívar\": \"BOLÍVAR\", \n",
        "    \"Valle del Cauca\": \"VALLE DEL CAUCA\",\n",
        "    \"ARCHIPIÉLAGO DE SAN ANDRÉS, PROVIDENCIA Y SANTA CATALINA\": \"SAN ANDRÉS Y PROVIDENCIA\",\n",
        "    \"LA GUAJIRA\": \"GUAJIRA\"\n",
        "}\n",
        "\n",
        "estandarizar_dep"
      ],
      "metadata": {
        "colab": {
          "base_uri": "https://localhost:8080/"
        },
        "id": "xF5eNHly6nfC",
        "outputId": "430960e6-0d66-4595-ed2e-f722d50e15d7"
      },
      "execution_count": 170,
      "outputs": [
        {
          "output_type": "execute_result",
          "data": {
            "text/plain": [
              "{'SAN ANDRÉS': 'SAN ANDRÉS Y PROVIDENCIA',\n",
              " 'Antioquia': 'ANTIOQUIA',\n",
              " 'Atlántico': 'ATLÁNTICO',\n",
              " 'Bogotá, D.C.': 'CUNDINAMARCA',\n",
              " 'Bolívar': 'BOLÍVAR',\n",
              " 'Valle del Cauca': 'VALLE DEL CAUCA',\n",
              " 'ARCHIPIÉLAGO DE SAN ANDRÉS, PROVIDENCIA Y SANTA CATALINA': 'SAN ANDRÉS Y PROVIDENCIA',\n",
              " 'LA GUAJIRA': 'GUAJIRA'}"
            ]
          },
          "metadata": {},
          "execution_count": 170
        }
      ]
    },
    {
      "cell_type": "code",
      "source": [
        "#Diccionario para poder modificar municipios erroneos. \n",
        "estandarizar_mun = {\n",
        "    \"Medellín\": \"MEDELLÍN (CT)\",\n",
        "    \"Barranquilla\": \"BARRANQUILLA (CT)\",\n",
        "    \"Bogotá, D.C.\": \"BOGOTÁ D.C. (CT)\", \n",
        "    \"Cartagena de Indias\": \"CARTAGENA (CT)\", \n",
        "    \"Cali\": \"CALI (CT)\"\n",
        "}\n",
        "\n",
        "estandarizar_mun"
      ],
      "metadata": {
        "colab": {
          "base_uri": "https://localhost:8080/"
        },
        "id": "BgS38m8yzI7k",
        "outputId": "5692437d-aebb-4b21-ec0e-4f9bd595f6b7"
      },
      "execution_count": 158,
      "outputs": [
        {
          "output_type": "execute_result",
          "data": {
            "text/plain": [
              "{'Medellín': 'MEDELLÍN (CT)',\n",
              " 'Barranquilla': 'BARRANQUILLA (CT)',\n",
              " 'Bogotá, D.C.': 'BOGOTÁ D.C. (CT)',\n",
              " 'Cartagena de Indias': 'CARTAGENA (CT)',\n",
              " 'Cali': 'CALI (CT)'}"
            ]
          },
          "metadata": {},
          "execution_count": 158
        }
      ]
    },
    {
      "cell_type": "markdown",
      "source": [
        "# Carga de Base de Datos"
      ],
      "metadata": {
        "id": "oMyot2yXSss2"
      }
    },
    {
      "cell_type": "code",
      "source": [
        "#Cargue de la base de datos de lesiones personales\n",
        "ls_df = pd.read_csv('/content/gdrive/MyDrive/MAESTRIA/GESTION DE DATOS/Preparación de Datos/Taller 1/Data/lesiones_personales.csv', sep = \",\")"
      ],
      "metadata": {
        "id": "9bA4hmgUSsI4"
      },
      "execution_count": null,
      "outputs": []
    },
    {
      "cell_type": "code",
      "source": [
        "#Cargue de la base de datos de lesiones personales\n",
        "vi_df = pd.read_csv('/content/gdrive/MyDrive/MAESTRIA/GESTION DE DATOS/Preparación de Datos/Taller 1/Data/Violencia_intrafamiliar.csv', sep = \",\")"
      ],
      "metadata": {
        "id": "S7edAxm8S5Xx"
      },
      "execution_count": null,
      "outputs": []
    },
    {
      "cell_type": "code",
      "source": [
        "#Cargue de la base de datos de lesiones personales\n",
        "ds_df = pd.read_csv('/content/gdrive/MyDrive/MAESTRIA/GESTION DE DATOS/Preparación de Datos/Taller 1/Data/Delitos_sexuales.csv', sep = \",\", dtype = {\"CODIGO DANE\" : \"object\"})"
      ],
      "metadata": {
        "id": "6PoKkCW0S89H"
      },
      "execution_count": null,
      "outputs": []
    },
    {
      "cell_type": "code",
      "source": [
        "#Cargue de la base de datos de lesiones personales\n",
        "hat_df = pd.read_csv('/content/gdrive/MyDrive/MAESTRIA/GESTION DE DATOS/Preparación de Datos/Taller 1/Data/Homicidios.csv', sep = \",\", dtype = {\"CODIGO DANE\" : \"object\"})"
      ],
      "metadata": {
        "id": "qBoQnUNOTArM"
      },
      "execution_count": null,
      "outputs": []
    },
    {
      "cell_type": "code",
      "source": [
        "#Carga de Base de Datos poblacional para el punto 3\n",
        "poblacion_df = pd.read_csv('/content/gdrive/MyDrive/MAESTRIA/GESTION DE DATOS/Preparación de Datos/Taller 1/Data/poblacion_colombia_2018.csv',sep=\";\",header= 0)"
      ],
      "metadata": {
        "id": "8vGGxLalTGKk"
      },
      "execution_count": null,
      "outputs": []
    },
    {
      "cell_type": "code",
      "source": [
        "#Cargue de la base de datos de lesiones personales\n",
        "proy_pob_all_df = pd.read_excel('/content/gdrive/MyDrive/MAESTRIA/GESTION DE DATOS/Preparación de Datos/Taller 1/Data/proyecciones-poblacion-Municipal.xlsx')"
      ],
      "metadata": {
        "id": "5WutCOlrTbss"
      },
      "execution_count": null,
      "outputs": []
    },
    {
      "cell_type": "markdown",
      "source": [
        "## DB Lesiones personales"
      ],
      "metadata": {
        "id": "7_Ja5Pv_KlgI"
      }
    },
    {
      "cell_type": "markdown",
      "source": [
        "###General"
      ],
      "metadata": {
        "id": "byYPq1nkZ6SL"
      }
    },
    {
      "cell_type": "code",
      "source": [
        "#Primeras5 filas del df\n",
        "ls_df.head()"
      ],
      "metadata": {
        "id": "G5d6Z1I7K4hH",
        "outputId": "9012cbef-6ddc-4d28-b0ff-6223fac5ba40",
        "colab": {
          "base_uri": "https://localhost:8080/",
          "height": 206
        }
      },
      "execution_count": 6,
      "outputs": [
        {
          "output_type": "execute_result",
          "data": {
            "text/plain": [
              "  DEPARTAMENTO          MUNICIPIO CODIGO DANE                 ARMAS MEDIOS  \\\n",
              "0    ANTIOQUIA          GIRARDOTA     5308000  ARMA BLANCA / CORTOPUNZANTE   \n",
              "1    ANTIOQUIA          GIRARDOTA     5308000  ARMA BLANCA / CORTOPUNZANTE   \n",
              "2    ANTIOQUIA             MUTATÁ     5480000  ARMA BLANCA / CORTOPUNZANTE   \n",
              "3    ANTIOQUIA            NECOCLÍ     5490000  ARMA BLANCA / CORTOPUNZANTE   \n",
              "4    ATLÁNTICO  BARRANQUILLA (CT)     8001000  ARMA BLANCA / CORTOPUNZANTE   \n",
              "\n",
              "  FECHA HECHO     GENERO GRUPO ETARIO DESCRIPCIÓN CONDUCTA  CANTIDAD  \n",
              "0   1/01/2010   FEMENINO      ADULTOS  LESIONES PERSONALES         2  \n",
              "1   1/01/2010  MASCULINO      ADULTOS  LESIONES PERSONALES         1  \n",
              "2   1/01/2010  MASCULINO      ADULTOS  LESIONES PERSONALES         1  \n",
              "3   1/01/2010   FEMENINO      ADULTOS  LESIONES PERSONALES         1  \n",
              "4   1/01/2010   FEMENINO      ADULTOS  LESIONES PERSONALES         2  "
            ],
            "text/html": [
              "\n",
              "  <div id=\"df-11f2e341-4e7c-4d93-9094-f759978b487b\">\n",
              "    <div class=\"colab-df-container\">\n",
              "      <div>\n",
              "<style scoped>\n",
              "    .dataframe tbody tr th:only-of-type {\n",
              "        vertical-align: middle;\n",
              "    }\n",
              "\n",
              "    .dataframe tbody tr th {\n",
              "        vertical-align: top;\n",
              "    }\n",
              "\n",
              "    .dataframe thead th {\n",
              "        text-align: right;\n",
              "    }\n",
              "</style>\n",
              "<table border=\"1\" class=\"dataframe\">\n",
              "  <thead>\n",
              "    <tr style=\"text-align: right;\">\n",
              "      <th></th>\n",
              "      <th>DEPARTAMENTO</th>\n",
              "      <th>MUNICIPIO</th>\n",
              "      <th>CODIGO DANE</th>\n",
              "      <th>ARMAS MEDIOS</th>\n",
              "      <th>FECHA HECHO</th>\n",
              "      <th>GENERO</th>\n",
              "      <th>GRUPO ETARIO</th>\n",
              "      <th>DESCRIPCIÓN CONDUCTA</th>\n",
              "      <th>CANTIDAD</th>\n",
              "    </tr>\n",
              "  </thead>\n",
              "  <tbody>\n",
              "    <tr>\n",
              "      <th>0</th>\n",
              "      <td>ANTIOQUIA</td>\n",
              "      <td>GIRARDOTA</td>\n",
              "      <td>5308000</td>\n",
              "      <td>ARMA BLANCA / CORTOPUNZANTE</td>\n",
              "      <td>1/01/2010</td>\n",
              "      <td>FEMENINO</td>\n",
              "      <td>ADULTOS</td>\n",
              "      <td>LESIONES PERSONALES</td>\n",
              "      <td>2</td>\n",
              "    </tr>\n",
              "    <tr>\n",
              "      <th>1</th>\n",
              "      <td>ANTIOQUIA</td>\n",
              "      <td>GIRARDOTA</td>\n",
              "      <td>5308000</td>\n",
              "      <td>ARMA BLANCA / CORTOPUNZANTE</td>\n",
              "      <td>1/01/2010</td>\n",
              "      <td>MASCULINO</td>\n",
              "      <td>ADULTOS</td>\n",
              "      <td>LESIONES PERSONALES</td>\n",
              "      <td>1</td>\n",
              "    </tr>\n",
              "    <tr>\n",
              "      <th>2</th>\n",
              "      <td>ANTIOQUIA</td>\n",
              "      <td>MUTATÁ</td>\n",
              "      <td>5480000</td>\n",
              "      <td>ARMA BLANCA / CORTOPUNZANTE</td>\n",
              "      <td>1/01/2010</td>\n",
              "      <td>MASCULINO</td>\n",
              "      <td>ADULTOS</td>\n",
              "      <td>LESIONES PERSONALES</td>\n",
              "      <td>1</td>\n",
              "    </tr>\n",
              "    <tr>\n",
              "      <th>3</th>\n",
              "      <td>ANTIOQUIA</td>\n",
              "      <td>NECOCLÍ</td>\n",
              "      <td>5490000</td>\n",
              "      <td>ARMA BLANCA / CORTOPUNZANTE</td>\n",
              "      <td>1/01/2010</td>\n",
              "      <td>FEMENINO</td>\n",
              "      <td>ADULTOS</td>\n",
              "      <td>LESIONES PERSONALES</td>\n",
              "      <td>1</td>\n",
              "    </tr>\n",
              "    <tr>\n",
              "      <th>4</th>\n",
              "      <td>ATLÁNTICO</td>\n",
              "      <td>BARRANQUILLA (CT)</td>\n",
              "      <td>8001000</td>\n",
              "      <td>ARMA BLANCA / CORTOPUNZANTE</td>\n",
              "      <td>1/01/2010</td>\n",
              "      <td>FEMENINO</td>\n",
              "      <td>ADULTOS</td>\n",
              "      <td>LESIONES PERSONALES</td>\n",
              "      <td>2</td>\n",
              "    </tr>\n",
              "  </tbody>\n",
              "</table>\n",
              "</div>\n",
              "      <button class=\"colab-df-convert\" onclick=\"convertToInteractive('df-11f2e341-4e7c-4d93-9094-f759978b487b')\"\n",
              "              title=\"Convert this dataframe to an interactive table.\"\n",
              "              style=\"display:none;\">\n",
              "        \n",
              "  <svg xmlns=\"http://www.w3.org/2000/svg\" height=\"24px\"viewBox=\"0 0 24 24\"\n",
              "       width=\"24px\">\n",
              "    <path d=\"M0 0h24v24H0V0z\" fill=\"none\"/>\n",
              "    <path d=\"M18.56 5.44l.94 2.06.94-2.06 2.06-.94-2.06-.94-.94-2.06-.94 2.06-2.06.94zm-11 1L8.5 8.5l.94-2.06 2.06-.94-2.06-.94L8.5 2.5l-.94 2.06-2.06.94zm10 10l.94 2.06.94-2.06 2.06-.94-2.06-.94-.94-2.06-.94 2.06-2.06.94z\"/><path d=\"M17.41 7.96l-1.37-1.37c-.4-.4-.92-.59-1.43-.59-.52 0-1.04.2-1.43.59L10.3 9.45l-7.72 7.72c-.78.78-.78 2.05 0 2.83L4 21.41c.39.39.9.59 1.41.59.51 0 1.02-.2 1.41-.59l7.78-7.78 2.81-2.81c.8-.78.8-2.07 0-2.86zM5.41 20L4 18.59l7.72-7.72 1.47 1.35L5.41 20z\"/>\n",
              "  </svg>\n",
              "      </button>\n",
              "      \n",
              "  <style>\n",
              "    .colab-df-container {\n",
              "      display:flex;\n",
              "      flex-wrap:wrap;\n",
              "      gap: 12px;\n",
              "    }\n",
              "\n",
              "    .colab-df-convert {\n",
              "      background-color: #E8F0FE;\n",
              "      border: none;\n",
              "      border-radius: 50%;\n",
              "      cursor: pointer;\n",
              "      display: none;\n",
              "      fill: #1967D2;\n",
              "      height: 32px;\n",
              "      padding: 0 0 0 0;\n",
              "      width: 32px;\n",
              "    }\n",
              "\n",
              "    .colab-df-convert:hover {\n",
              "      background-color: #E2EBFA;\n",
              "      box-shadow: 0px 1px 2px rgba(60, 64, 67, 0.3), 0px 1px 3px 1px rgba(60, 64, 67, 0.15);\n",
              "      fill: #174EA6;\n",
              "    }\n",
              "\n",
              "    [theme=dark] .colab-df-convert {\n",
              "      background-color: #3B4455;\n",
              "      fill: #D2E3FC;\n",
              "    }\n",
              "\n",
              "    [theme=dark] .colab-df-convert:hover {\n",
              "      background-color: #434B5C;\n",
              "      box-shadow: 0px 1px 3px 1px rgba(0, 0, 0, 0.15);\n",
              "      filter: drop-shadow(0px 1px 2px rgba(0, 0, 0, 0.3));\n",
              "      fill: #FFFFFF;\n",
              "    }\n",
              "  </style>\n",
              "\n",
              "      <script>\n",
              "        const buttonEl =\n",
              "          document.querySelector('#df-11f2e341-4e7c-4d93-9094-f759978b487b button.colab-df-convert');\n",
              "        buttonEl.style.display =\n",
              "          google.colab.kernel.accessAllowed ? 'block' : 'none';\n",
              "\n",
              "        async function convertToInteractive(key) {\n",
              "          const element = document.querySelector('#df-11f2e341-4e7c-4d93-9094-f759978b487b');\n",
              "          const dataTable =\n",
              "            await google.colab.kernel.invokeFunction('convertToInteractive',\n",
              "                                                     [key], {});\n",
              "          if (!dataTable) return;\n",
              "\n",
              "          const docLinkHtml = 'Like what you see? Visit the ' +\n",
              "            '<a target=\"_blank\" href=https://colab.research.google.com/notebooks/data_table.ipynb>data table notebook</a>'\n",
              "            + ' to learn more about interactive tables.';\n",
              "          element.innerHTML = '';\n",
              "          dataTable['output_type'] = 'display_data';\n",
              "          await google.colab.output.renderOutput(dataTable, element);\n",
              "          const docLink = document.createElement('div');\n",
              "          docLink.innerHTML = docLinkHtml;\n",
              "          element.appendChild(docLink);\n",
              "        }\n",
              "      </script>\n",
              "    </div>\n",
              "  </div>\n",
              "  "
            ]
          },
          "metadata": {},
          "execution_count": 6
        }
      ]
    },
    {
      "cell_type": "code",
      "source": [
        "#Dimension del df\n",
        "ls_df.shape"
      ],
      "metadata": {
        "colab": {
          "base_uri": "https://localhost:8080/"
        },
        "id": "2tnN8sHiRCTk",
        "outputId": "b52a4cd2-5908-4663-b85a-8a4a75a2d862"
      },
      "execution_count": 7,
      "outputs": [
        {
          "output_type": "execute_result",
          "data": {
            "text/plain": [
              "(1032881, 9)"
            ]
          },
          "metadata": {},
          "execution_count": 7
        }
      ]
    },
    {
      "cell_type": "code",
      "source": [
        "#Información General del df\n",
        "ls_df.info()"
      ],
      "metadata": {
        "colab": {
          "base_uri": "https://localhost:8080/"
        },
        "id": "lTaYJnauKQP0",
        "outputId": "06fb6f29-687b-42a0-ffcc-0070f18ae716"
      },
      "execution_count": 8,
      "outputs": [
        {
          "output_type": "stream",
          "name": "stdout",
          "text": [
            "<class 'pandas.core.frame.DataFrame'>\n",
            "RangeIndex: 1032881 entries, 0 to 1032880\n",
            "Data columns (total 9 columns):\n",
            " #   Column                Non-Null Count    Dtype \n",
            "---  ------                --------------    ----- \n",
            " 0   DEPARTAMENTO          1032881 non-null  object\n",
            " 1   MUNICIPIO             1032881 non-null  object\n",
            " 2   CODIGO DANE           1032881 non-null  object\n",
            " 3   ARMAS MEDIOS          1032881 non-null  object\n",
            " 4   FECHA HECHO           1032881 non-null  object\n",
            " 5   GENERO                1032881 non-null  object\n",
            " 6   GRUPO ETARIO          1031917 non-null  object\n",
            " 7   DESCRIPCIÓN CONDUCTA  1032881 non-null  object\n",
            " 8   CANTIDAD              1032881 non-null  int64 \n",
            "dtypes: int64(1), object(8)\n",
            "memory usage: 70.9+ MB\n"
          ]
        }
      ]
    },
    {
      "cell_type": "code",
      "source": [
        "ls_df.isnull().any()"
      ],
      "metadata": {
        "colab": {
          "base_uri": "https://localhost:8080/"
        },
        "id": "mUQ1aubYUpLA",
        "outputId": "bbe66681-d32a-48fc-af7e-a6623eb9de44"
      },
      "execution_count": 26,
      "outputs": [
        {
          "output_type": "execute_result",
          "data": {
            "text/plain": [
              "DEPARTAMENTO            False\n",
              "MUNICIPIO               False\n",
              "CODIGO DANE             False\n",
              "ARMAS MEDIOS            False\n",
              "FECHA HECHO             False\n",
              "GENERO                  False\n",
              "GRUPO ETARIO            False\n",
              "DESCRIPCIÓN CONDUCTA    False\n",
              "CANTIDAD                False\n",
              "year                    False\n",
              "month                   False\n",
              "dtype: bool"
            ]
          },
          "metadata": {},
          "execution_count": 26
        }
      ]
    },
    {
      "cell_type": "markdown",
      "source": [
        "###Analyzing Data Quality"
      ],
      "metadata": {
        "id": "N6Z80BRRcHM3"
      }
    },
    {
      "cell_type": "code",
      "source": [
        "# Analyzing unique values for column DEPARTAMENTO\n",
        "ls_df['DEPARTAMENTO'].unique()"
      ],
      "metadata": {
        "colab": {
          "base_uri": "https://localhost:8080/"
        },
        "id": "_c1gHp0nRa2g",
        "outputId": "69f22db4-0f39-4030-dcb9-60336b208e5e"
      },
      "execution_count": 10,
      "outputs": [
        {
          "output_type": "execute_result",
          "data": {
            "text/plain": [
              "array(['ANTIOQUIA', 'ATLÁNTICO', 'BOLÍVAR', 'BOYACÁ', 'CALDAS', 'CAQUETÁ',\n",
              "       'CAUCA', 'CESAR', 'CHOCÓ', 'CÓRDOBA', 'CUNDINAMARCA', 'GUAJIRA',\n",
              "       'GUAVIARE', 'HUILA', 'MAGDALENA', 'META', 'NARIÑO', 'PUTUMAYO',\n",
              "       'QUINDÍO', 'RISARALDA', 'SAN ANDRÉS', 'SANTANDER', 'SUCRE',\n",
              "       'TOLIMA', 'VALLE', 'AMAZONAS', 'ARAUCA', 'CASANARE',\n",
              "       'NORTE DE SANTANDER', 'VAUPÉS', 'GUAINÍA', 'VICHADA'], dtype=object)"
            ]
          },
          "metadata": {},
          "execution_count": 10
        }
      ]
    },
    {
      "cell_type": "code",
      "source": [
        "# Creating a dictionary representing the valid departments for Colombia\n",
        "departments_list = ['ANTIOQUIA', 'ATLÁNTICO', 'BOLÍVAR', 'BOYACÁ', 'CALDAS', 'CAQUETÁ',\n",
        "       'CASANARE', 'CAUCA', 'CESAR', 'CHOCÓ', 'CÓRDOBA', 'META',\n",
        "       'CUNDINAMARCA', 'HUILA', 'MAGDALENA', 'NARIÑO', 'PUTUMAYO',\n",
        "       'RISARALDA', 'SANTANDER', 'SUCRE', 'TOLIMA', 'VALLE',\n",
        "       'NORTE DE SANTANDER', 'GUAJIRA', 'QUINDÍO', 'SAN ANDRÉS Y PROVIDENCIA', 'ARAUCA',\n",
        "       'GUAINÍA', 'VICHADA', 'VAUPÉS', 'GUAVIARE', 'AMAZONAS']\n",
        "departments_list"
      ],
      "metadata": {
        "id": "S5sJ-nY538Z3"
      },
      "execution_count": null,
      "outputs": []
    },
    {
      "cell_type": "code",
      "source": [
        "#Checkeo de palabras que no se encuentren correctamente escritas\n",
        "ls_df.loc[~ls_df[\"DEPARTAMENTO\"].isin(departments_list), \"DEPARTAMENTO\"].unique()"
      ],
      "metadata": {
        "colab": {
          "base_uri": "https://localhost:8080/"
        },
        "id": "qvlzsIYA4BUg",
        "outputId": "7d92c1dd-822a-428d-a3e8-652565232a87"
      },
      "execution_count": 14,
      "outputs": [
        {
          "output_type": "execute_result",
          "data": {
            "text/plain": [
              "array([], dtype=object)"
            ]
          },
          "metadata": {},
          "execution_count": 14
        }
      ]
    },
    {
      "cell_type": "code",
      "source": [
        "#Reemplazar departamentos mal escritos. (Checkear primero si hay alguno adicioanl en los otros df y añadirlo a los diccionarios arriba.)\n",
        "ls_df.replace({\"DEPARTAMENTO\":estandarizar_dep}, inplace = True)"
      ],
      "metadata": {
        "id": "o7ZyoHQ67Mg3"
      },
      "execution_count": 13,
      "outputs": []
    },
    {
      "cell_type": "code",
      "source": [
        "# Analyzing unique values for column MUNICIPIO\n",
        "ls_df.replace({\"MUNICIPIO\":estandarizar_dic}, inplace = True)\n",
        "ls_df['MUNICIPIO'].unique()"
      ],
      "metadata": {
        "colab": {
          "base_uri": "https://localhost:8080/"
        },
        "id": "UNVKFgCD0OxZ",
        "outputId": "52032754-cd13-4a8a-bf67-821441db7c6a"
      },
      "execution_count": 15,
      "outputs": [
        {
          "output_type": "execute_result",
          "data": {
            "text/plain": [
              "array(['GIRARDOTA', 'MUTATÁ', 'NECOCLÍ', ..., 'ALTO BAUDÓ', 'NO REPORTA',\n",
              "       'MURINDÓ'], dtype=object)"
            ]
          },
          "metadata": {},
          "execution_count": 15
        }
      ]
    },
    {
      "cell_type": "code",
      "source": [
        "# Analyzing unique values for column CODIGO DANE\n",
        "ls_df['CODIGO DANE'].unique()"
      ],
      "metadata": {
        "colab": {
          "base_uri": "https://localhost:8080/"
        },
        "id": "izqmQqUERfyr",
        "outputId": "4c004dec-c911-4262-bda9-992fff0d9fb4"
      },
      "execution_count": 17,
      "outputs": [
        {
          "output_type": "execute_result",
          "data": {
            "text/plain": [
              "array([5308000, 5480000, 5490000, ..., '27425000', '27430000', '27580000'],\n",
              "      dtype=object)"
            ]
          },
          "metadata": {},
          "execution_count": 17
        }
      ]
    },
    {
      "cell_type": "code",
      "source": [
        "# Analyzing unique values for column ARMAS MEDIOS\n",
        "ls_df.replace({\"ARMAS MEDIOS\":estandarizar_dic}, inplace = True)\n",
        "ls_df['ARMAS MEDIOS'].unique()\n",
        "\n",
        "#Se podria llegar a homologar los valores para queden en categorias mas grandes"
      ],
      "metadata": {
        "id": "EJ3uYRiNRgOz"
      },
      "execution_count": null,
      "outputs": []
    },
    {
      "cell_type": "code",
      "source": [
        "# Creating a lambda expression for datetime parsing\n",
        "dateparse = lambda x: datetime.strptime(x, \"%d/%m/%Y\")"
      ],
      "metadata": {
        "id": "mlY8oAa-TJLD"
      },
      "execution_count": 19,
      "outputs": []
    },
    {
      "cell_type": "code",
      "source": [
        "# Analyzing unique values for column FECHA HECHO\n",
        "ls_df['FECHA HECHO']=ls_df['FECHA HECHO'].apply(dateparse)"
      ],
      "metadata": {
        "id": "eeKN18coRgf0"
      },
      "execution_count": 20,
      "outputs": []
    },
    {
      "cell_type": "code",
      "source": [
        "# Analyzing unique values for column GENERO\n",
        "ls_df.replace({\"GENERO\":estandarizar_dic}, inplace = True)\n",
        "\n",
        "ls_df['GENERO'].unique()"
      ],
      "metadata": {
        "colab": {
          "base_uri": "https://localhost:8080/"
        },
        "id": "y0W_Z4l1Rg7G",
        "outputId": "c430e65f-ccfb-4869-effc-b6614b69b969"
      },
      "execution_count": 21,
      "outputs": [
        {
          "output_type": "execute_result",
          "data": {
            "text/plain": [
              "array(['FEMENINO', 'MASCULINO', 'NO REPORTA'], dtype=object)"
            ]
          },
          "metadata": {},
          "execution_count": 21
        }
      ]
    },
    {
      "cell_type": "code",
      "source": [
        "# Analyzing unique values for column GRUPO ETARIO\n",
        "ls_df.replace({\"GRUPO ETARIO\":estandarizar_dic}, inplace = True)\n",
        "\n",
        "#Reemplazar valores nulos con NO REPORTA\n",
        "ls_df['GRUPO ETARIO'].fillna('NO REPORTA',inplace = True)\n",
        "\n",
        "ls_df['GRUPO ETARIO'].unique()\n"
      ],
      "metadata": {
        "colab": {
          "base_uri": "https://localhost:8080/"
        },
        "id": "UM0o9zfURhLJ",
        "outputId": "28109ef6-1470-4045-e689-5bba202daa18"
      },
      "execution_count": 22,
      "outputs": [
        {
          "output_type": "execute_result",
          "data": {
            "text/plain": [
              "array(['ADULTOS', 'ADOLESCENTES', 'MENORES', 'NO REPORTA'], dtype=object)"
            ]
          },
          "metadata": {},
          "execution_count": 22
        }
      ]
    },
    {
      "cell_type": "code",
      "source": [
        "# Analyzing unique values for column DESCRIPCION CONDUCTA\n",
        "ls_df[\"DESCRIPCIÓN CONDUCTA\"].unique()"
      ],
      "metadata": {
        "colab": {
          "base_uri": "https://localhost:8080/"
        },
        "id": "VmSuhB1WRizs",
        "outputId": "e1359616-4207-4607-d17b-2e8564899311"
      },
      "execution_count": 23,
      "outputs": [
        {
          "output_type": "execute_result",
          "data": {
            "text/plain": [
              "array(['LESIONES PERSONALES',\n",
              "       'LESIONES CULPOSAS ( EN ACCIDENTE DE TRANSITO )'], dtype=object)"
            ]
          },
          "metadata": {},
          "execution_count": 23
        }
      ]
    },
    {
      "cell_type": "code",
      "source": [
        "# Analyzing unique values for column CANTIDAD\n",
        "ls_df['CANTIDAD'].unique()"
      ],
      "metadata": {
        "colab": {
          "base_uri": "https://localhost:8080/"
        },
        "id": "t051MNdWRjGV",
        "outputId": "a2d87577-ec41-41c4-de91-6b7d0aabc68b"
      },
      "execution_count": 24,
      "outputs": [
        {
          "output_type": "execute_result",
          "data": {
            "text/plain": [
              "array([  2,   1,   5,   3,   4,   7,  29,  12,   6,   9,  22,  25,   8,\n",
              "        30,  15,  13,  10,  18,  11,  16,  24,  28,  17,  14,  27,  20,\n",
              "        19,  23,  26,  35,  21,  42,  65,  76,  38,  52,  31,  32,  39,\n",
              "        36,  49,  41,  51,  66,  34,  71,  62,  46,  37,  53,  61,  33,\n",
              "        40,  54,  63,  44,  70,  45,  86,  47,  43,  48,  67,  55,  69,\n",
              "        80,  50,  60,  73,  64,  79,  56,  99,  78,  88,  59,  77,  57,\n",
              "        72,  58,  82,  84, 114,  97,  75,  92])"
            ]
          },
          "metadata": {},
          "execution_count": 24
        }
      ]
    },
    {
      "cell_type": "code",
      "source": [
        "#Crear columnas año y mes\n",
        "ls_df['year'] = pd.DatetimeIndex(ls_df['FECHA HECHO']).year \n",
        "ls_df['month'] = pd.DatetimeIndex(ls_df['FECHA HECHO']).month"
      ],
      "metadata": {
        "id": "ORzlLQtdjHR2"
      },
      "execution_count": 25,
      "outputs": []
    },
    {
      "cell_type": "markdown",
      "source": [
        "## DB Violencia Intrafamiliar"
      ],
      "metadata": {
        "id": "pLaYxVNvaKqP"
      }
    },
    {
      "cell_type": "markdown",
      "source": [
        "###General"
      ],
      "metadata": {
        "id": "iqbhQJ59aKqQ"
      }
    },
    {
      "cell_type": "code",
      "source": [
        "#Primeras5 filas del df\n",
        "vi_df.head()"
      ],
      "metadata": {
        "outputId": "a473da9b-3d18-4a32-ce2b-4176a7b6591c",
        "colab": {
          "base_uri": "https://localhost:8080/",
          "height": 206
        },
        "id": "kw2PckIJaKqS"
      },
      "execution_count": 28,
      "outputs": [
        {
          "output_type": "execute_result",
          "data": {
            "text/plain": [
              "   DEPARTAMENTO          MUNICIPIO CODIGO DANE                 ARMAS MEDIOS  \\\n",
              "0     ATLÁNTICO  BARRANQUILLA (CT)     8001000  ARMA BLANCA / CORTOPUNZANTE   \n",
              "1        BOYACÁ            DUITAMA    15238000  ARMA BLANCA / CORTOPUNZANTE   \n",
              "2       CAQUETÁ        PUERTO RICO    18592000  ARMA BLANCA / CORTOPUNZANTE   \n",
              "3      CASANARE               MANÍ    85139000  ARMA BLANCA / CORTOPUNZANTE   \n",
              "4  CUNDINAMARCA   BOGOTÁ D.C. (CT)    11001000  ARMA BLANCA / CORTOPUNZANTE   \n",
              "\n",
              "  FECHA HECHO     GENERO GRUPO ETARIO  CANTIDAD  \n",
              "0   1/01/2010  MASCULINO      ADULTOS         1  \n",
              "1   1/01/2010   FEMENINO      ADULTOS         1  \n",
              "2   1/01/2010  MASCULINO      ADULTOS         1  \n",
              "3   1/01/2010   FEMENINO      ADULTOS         1  \n",
              "4   1/01/2010   FEMENINO      ADULTOS         1  "
            ],
            "text/html": [
              "\n",
              "  <div id=\"df-8fb933aa-99d0-46ff-b961-6804e614851e\">\n",
              "    <div class=\"colab-df-container\">\n",
              "      <div>\n",
              "<style scoped>\n",
              "    .dataframe tbody tr th:only-of-type {\n",
              "        vertical-align: middle;\n",
              "    }\n",
              "\n",
              "    .dataframe tbody tr th {\n",
              "        vertical-align: top;\n",
              "    }\n",
              "\n",
              "    .dataframe thead th {\n",
              "        text-align: right;\n",
              "    }\n",
              "</style>\n",
              "<table border=\"1\" class=\"dataframe\">\n",
              "  <thead>\n",
              "    <tr style=\"text-align: right;\">\n",
              "      <th></th>\n",
              "      <th>DEPARTAMENTO</th>\n",
              "      <th>MUNICIPIO</th>\n",
              "      <th>CODIGO DANE</th>\n",
              "      <th>ARMAS MEDIOS</th>\n",
              "      <th>FECHA HECHO</th>\n",
              "      <th>GENERO</th>\n",
              "      <th>GRUPO ETARIO</th>\n",
              "      <th>CANTIDAD</th>\n",
              "    </tr>\n",
              "  </thead>\n",
              "  <tbody>\n",
              "    <tr>\n",
              "      <th>0</th>\n",
              "      <td>ATLÁNTICO</td>\n",
              "      <td>BARRANQUILLA (CT)</td>\n",
              "      <td>8001000</td>\n",
              "      <td>ARMA BLANCA / CORTOPUNZANTE</td>\n",
              "      <td>1/01/2010</td>\n",
              "      <td>MASCULINO</td>\n",
              "      <td>ADULTOS</td>\n",
              "      <td>1</td>\n",
              "    </tr>\n",
              "    <tr>\n",
              "      <th>1</th>\n",
              "      <td>BOYACÁ</td>\n",
              "      <td>DUITAMA</td>\n",
              "      <td>15238000</td>\n",
              "      <td>ARMA BLANCA / CORTOPUNZANTE</td>\n",
              "      <td>1/01/2010</td>\n",
              "      <td>FEMENINO</td>\n",
              "      <td>ADULTOS</td>\n",
              "      <td>1</td>\n",
              "    </tr>\n",
              "    <tr>\n",
              "      <th>2</th>\n",
              "      <td>CAQUETÁ</td>\n",
              "      <td>PUERTO RICO</td>\n",
              "      <td>18592000</td>\n",
              "      <td>ARMA BLANCA / CORTOPUNZANTE</td>\n",
              "      <td>1/01/2010</td>\n",
              "      <td>MASCULINO</td>\n",
              "      <td>ADULTOS</td>\n",
              "      <td>1</td>\n",
              "    </tr>\n",
              "    <tr>\n",
              "      <th>3</th>\n",
              "      <td>CASANARE</td>\n",
              "      <td>MANÍ</td>\n",
              "      <td>85139000</td>\n",
              "      <td>ARMA BLANCA / CORTOPUNZANTE</td>\n",
              "      <td>1/01/2010</td>\n",
              "      <td>FEMENINO</td>\n",
              "      <td>ADULTOS</td>\n",
              "      <td>1</td>\n",
              "    </tr>\n",
              "    <tr>\n",
              "      <th>4</th>\n",
              "      <td>CUNDINAMARCA</td>\n",
              "      <td>BOGOTÁ D.C. (CT)</td>\n",
              "      <td>11001000</td>\n",
              "      <td>ARMA BLANCA / CORTOPUNZANTE</td>\n",
              "      <td>1/01/2010</td>\n",
              "      <td>FEMENINO</td>\n",
              "      <td>ADULTOS</td>\n",
              "      <td>1</td>\n",
              "    </tr>\n",
              "  </tbody>\n",
              "</table>\n",
              "</div>\n",
              "      <button class=\"colab-df-convert\" onclick=\"convertToInteractive('df-8fb933aa-99d0-46ff-b961-6804e614851e')\"\n",
              "              title=\"Convert this dataframe to an interactive table.\"\n",
              "              style=\"display:none;\">\n",
              "        \n",
              "  <svg xmlns=\"http://www.w3.org/2000/svg\" height=\"24px\"viewBox=\"0 0 24 24\"\n",
              "       width=\"24px\">\n",
              "    <path d=\"M0 0h24v24H0V0z\" fill=\"none\"/>\n",
              "    <path d=\"M18.56 5.44l.94 2.06.94-2.06 2.06-.94-2.06-.94-.94-2.06-.94 2.06-2.06.94zm-11 1L8.5 8.5l.94-2.06 2.06-.94-2.06-.94L8.5 2.5l-.94 2.06-2.06.94zm10 10l.94 2.06.94-2.06 2.06-.94-2.06-.94-.94-2.06-.94 2.06-2.06.94z\"/><path d=\"M17.41 7.96l-1.37-1.37c-.4-.4-.92-.59-1.43-.59-.52 0-1.04.2-1.43.59L10.3 9.45l-7.72 7.72c-.78.78-.78 2.05 0 2.83L4 21.41c.39.39.9.59 1.41.59.51 0 1.02-.2 1.41-.59l7.78-7.78 2.81-2.81c.8-.78.8-2.07 0-2.86zM5.41 20L4 18.59l7.72-7.72 1.47 1.35L5.41 20z\"/>\n",
              "  </svg>\n",
              "      </button>\n",
              "      \n",
              "  <style>\n",
              "    .colab-df-container {\n",
              "      display:flex;\n",
              "      flex-wrap:wrap;\n",
              "      gap: 12px;\n",
              "    }\n",
              "\n",
              "    .colab-df-convert {\n",
              "      background-color: #E8F0FE;\n",
              "      border: none;\n",
              "      border-radius: 50%;\n",
              "      cursor: pointer;\n",
              "      display: none;\n",
              "      fill: #1967D2;\n",
              "      height: 32px;\n",
              "      padding: 0 0 0 0;\n",
              "      width: 32px;\n",
              "    }\n",
              "\n",
              "    .colab-df-convert:hover {\n",
              "      background-color: #E2EBFA;\n",
              "      box-shadow: 0px 1px 2px rgba(60, 64, 67, 0.3), 0px 1px 3px 1px rgba(60, 64, 67, 0.15);\n",
              "      fill: #174EA6;\n",
              "    }\n",
              "\n",
              "    [theme=dark] .colab-df-convert {\n",
              "      background-color: #3B4455;\n",
              "      fill: #D2E3FC;\n",
              "    }\n",
              "\n",
              "    [theme=dark] .colab-df-convert:hover {\n",
              "      background-color: #434B5C;\n",
              "      box-shadow: 0px 1px 3px 1px rgba(0, 0, 0, 0.15);\n",
              "      filter: drop-shadow(0px 1px 2px rgba(0, 0, 0, 0.3));\n",
              "      fill: #FFFFFF;\n",
              "    }\n",
              "  </style>\n",
              "\n",
              "      <script>\n",
              "        const buttonEl =\n",
              "          document.querySelector('#df-8fb933aa-99d0-46ff-b961-6804e614851e button.colab-df-convert');\n",
              "        buttonEl.style.display =\n",
              "          google.colab.kernel.accessAllowed ? 'block' : 'none';\n",
              "\n",
              "        async function convertToInteractive(key) {\n",
              "          const element = document.querySelector('#df-8fb933aa-99d0-46ff-b961-6804e614851e');\n",
              "          const dataTable =\n",
              "            await google.colab.kernel.invokeFunction('convertToInteractive',\n",
              "                                                     [key], {});\n",
              "          if (!dataTable) return;\n",
              "\n",
              "          const docLinkHtml = 'Like what you see? Visit the ' +\n",
              "            '<a target=\"_blank\" href=https://colab.research.google.com/notebooks/data_table.ipynb>data table notebook</a>'\n",
              "            + ' to learn more about interactive tables.';\n",
              "          element.innerHTML = '';\n",
              "          dataTable['output_type'] = 'display_data';\n",
              "          await google.colab.output.renderOutput(dataTable, element);\n",
              "          const docLink = document.createElement('div');\n",
              "          docLink.innerHTML = docLinkHtml;\n",
              "          element.appendChild(docLink);\n",
              "        }\n",
              "      </script>\n",
              "    </div>\n",
              "  </div>\n",
              "  "
            ]
          },
          "metadata": {},
          "execution_count": 28
        }
      ]
    },
    {
      "cell_type": "code",
      "source": [
        "#Dimension del df\n",
        "vi_df.shape"
      ],
      "metadata": {
        "colab": {
          "base_uri": "https://localhost:8080/"
        },
        "outputId": "eb90fca3-458c-4d11-9079-43bdd98d1a1c",
        "id": "EbBjsLxOaKqT"
      },
      "execution_count": 29,
      "outputs": [
        {
          "output_type": "execute_result",
          "data": {
            "text/plain": [
              "(528880, 8)"
            ]
          },
          "metadata": {},
          "execution_count": 29
        }
      ]
    },
    {
      "cell_type": "code",
      "source": [
        "#Información General del df\n",
        "vi_df.info()"
      ],
      "metadata": {
        "colab": {
          "base_uri": "https://localhost:8080/"
        },
        "outputId": "e2d1b544-7ddc-446f-a425-6caff1799789",
        "id": "CQmxCsUYaKqU"
      },
      "execution_count": 30,
      "outputs": [
        {
          "output_type": "stream",
          "name": "stdout",
          "text": [
            "<class 'pandas.core.frame.DataFrame'>\n",
            "RangeIndex: 528880 entries, 0 to 528879\n",
            "Data columns (total 8 columns):\n",
            " #   Column        Non-Null Count   Dtype \n",
            "---  ------        --------------   ----- \n",
            " 0   DEPARTAMENTO  528880 non-null  object\n",
            " 1   MUNICIPIO     528880 non-null  object\n",
            " 2   CODIGO DANE   528880 non-null  object\n",
            " 3   ARMAS MEDIOS  528880 non-null  object\n",
            " 4   FECHA HECHO   528880 non-null  object\n",
            " 5   GENERO        528880 non-null  object\n",
            " 6   GRUPO ETARIO  527269 non-null  object\n",
            " 7   CANTIDAD      528880 non-null  int64 \n",
            "dtypes: int64(1), object(7)\n",
            "memory usage: 32.3+ MB\n"
          ]
        }
      ]
    },
    {
      "cell_type": "code",
      "source": [
        "#Checkeo que columnas tienen nulos\n",
        "vi_df.isnull().any()"
      ],
      "metadata": {
        "colab": {
          "base_uri": "https://localhost:8080/"
        },
        "outputId": "274680fa-f85c-4550-8df8-76fd0f8faf0c",
        "id": "Z82lejVzaKqV"
      },
      "execution_count": 46,
      "outputs": [
        {
          "output_type": "execute_result",
          "data": {
            "text/plain": [
              "DEPARTAMENTO    False\n",
              "MUNICIPIO       False\n",
              "CODIGO DANE     False\n",
              "ARMAS MEDIOS    False\n",
              "FECHA HECHO     False\n",
              "GENERO          False\n",
              "GRUPO ETARIO    False\n",
              "CANTIDAD        False\n",
              "year            False\n",
              "month           False\n",
              "dtype: bool"
            ]
          },
          "metadata": {},
          "execution_count": 46
        }
      ]
    },
    {
      "cell_type": "markdown",
      "source": [
        "###Analyzing Data Quality"
      ],
      "metadata": {
        "id": "OP-63T1eaKqW"
      }
    },
    {
      "cell_type": "code",
      "source": [
        "# Analyzing unique values for column DEPARTAMENTO\n",
        "vi_df['DEPARTAMENTO'].unique()"
      ],
      "metadata": {
        "colab": {
          "base_uri": "https://localhost:8080/"
        },
        "outputId": "b472d90e-d55b-4b79-e81c-3556e1378836",
        "id": "tlImWP5_aKqW"
      },
      "execution_count": 32,
      "outputs": [
        {
          "output_type": "execute_result",
          "data": {
            "text/plain": [
              "array(['ATLÁNTICO', 'BOYACÁ', 'CAQUETÁ', 'CASANARE', 'CUNDINAMARCA',\n",
              "       'SUCRE', 'VALLE', 'HUILA', 'ANTIOQUIA', 'ARAUCA', 'BOLÍVAR',\n",
              "       'CALDAS', 'CAUCA', 'CESAR', 'CHOCÓ', 'CÓRDOBA', 'MAGDALENA',\n",
              "       'META', 'NARIÑO', 'NORTE DE SANTANDER', 'PUTUMAYO', 'RISARALDA',\n",
              "       'SANTANDER', 'TOLIMA', 'VAUPÉS', 'GUAVIARE', 'GUAJIRA', 'QUINDÍO',\n",
              "       'AMAZONAS', 'VICHADA', 'GUAINÍA', 'SAN ANDRÉS', 'NO REPORTA'],\n",
              "      dtype=object)"
            ]
          },
          "metadata": {},
          "execution_count": 32
        }
      ]
    },
    {
      "cell_type": "code",
      "source": [
        "# Creating a dictionary representing the valid departments for Colombia\n",
        "departments_list = ['ANTIOQUIA', 'ATLÁNTICO', 'BOLÍVAR', 'BOYACÁ', 'CALDAS', 'CAQUETÁ',\n",
        "       'CASANARE', 'CAUCA', 'CESAR', 'CHOCÓ', 'CÓRDOBA', 'META',\n",
        "       'CUNDINAMARCA', 'HUILA', 'MAGDALENA', 'NARIÑO', 'PUTUMAYO',\n",
        "       'RISARALDA', 'SANTANDER', 'SUCRE', 'TOLIMA', 'VALLE',\n",
        "       'NORTE DE SANTANDER', 'GUAJIRA', 'QUINDÍO', 'SAN ANDRÉS Y PROVIDENCIA', 'ARAUCA',\n",
        "       'GUAINÍA', 'VICHADA', 'VAUPÉS', 'GUAVIARE', 'AMAZONAS']\n",
        "departments_list"
      ],
      "metadata": {
        "id": "JfSYiM5YaKqX"
      },
      "execution_count": null,
      "outputs": []
    },
    {
      "cell_type": "code",
      "source": [
        "#Checkeo de palabras que no se encuentren correctamente escritas\n",
        "vi_df.loc[~vi_df[\"DEPARTAMENTO\"].isin(departments_list), \"DEPARTAMENTO\"].unique()"
      ],
      "metadata": {
        "colab": {
          "base_uri": "https://localhost:8080/"
        },
        "outputId": "12854517-8921-473c-dba9-5f98ad31b9d0",
        "id": "q3DpOOIoaKqY"
      },
      "execution_count": 34,
      "outputs": [
        {
          "output_type": "execute_result",
          "data": {
            "text/plain": [
              "array(['SAN ANDRÉS', 'NO REPORTA'], dtype=object)"
            ]
          },
          "metadata": {},
          "execution_count": 34
        }
      ]
    },
    {
      "cell_type": "code",
      "source": [
        "#Reemplazar departamentos mal escritos. (Checkear primero si hay alguno adicioanl en los otros df y añadirlo a los diccionarios arriba.)\n",
        "vi_df.replace({\"DEPARTAMENTO\":estandarizar_dep}, inplace = True)"
      ],
      "metadata": {
        "id": "iA6R48wAaKqZ"
      },
      "execution_count": 35,
      "outputs": []
    },
    {
      "cell_type": "code",
      "source": [
        "# Analyzing unique values for column MUNICIPIO\n",
        "vi_df.replace({\"MUNICIPIO\":estandarizar_dic}, inplace = True)\n",
        "vi_df['MUNICIPIO'].unique()"
      ],
      "metadata": {
        "colab": {
          "base_uri": "https://localhost:8080/"
        },
        "outputId": "6ee5051a-2ac7-4b59-9293-3d312a3bc521",
        "id": "h7guaREHaKqZ"
      },
      "execution_count": 36,
      "outputs": [
        {
          "output_type": "execute_result",
          "data": {
            "text/plain": [
              "array(['BARRANQUILLA (CT)', 'DUITAMA', 'PUERTO RICO', ..., 'CEPITÁ',\n",
              "       'RÍO QUITO', 'NOROSÍ'], dtype=object)"
            ]
          },
          "metadata": {},
          "execution_count": 36
        }
      ]
    },
    {
      "cell_type": "code",
      "source": [
        "# Analyzing unique values for column CODIGO DANE\n",
        "ls_df['CODIGO DANE'].unique()"
      ],
      "metadata": {
        "colab": {
          "base_uri": "https://localhost:8080/"
        },
        "outputId": "c4fff38e-3a7c-421c-dde4-acc08e7d7121",
        "id": "Vl05EeGRaKqb"
      },
      "execution_count": 38,
      "outputs": [
        {
          "output_type": "execute_result",
          "data": {
            "text/plain": [
              "array([5308000, 5480000, 5490000, ..., '27425000', '27430000', '27580000'],\n",
              "      dtype=object)"
            ]
          },
          "metadata": {},
          "execution_count": 38
        }
      ]
    },
    {
      "cell_type": "code",
      "source": [
        "# Analyzing unique values for column ARMAS MEDIOS\n",
        "vi_df.replace({\"ARMAS MEDIOS\":estandarizar_dic}, inplace = True)\n",
        "vi_df['ARMAS MEDIOS'].unique()\n",
        "\n",
        "#Se podria llegar a homologar los valores para queden en categorias mas grandes"
      ],
      "metadata": {
        "colab": {
          "base_uri": "https://localhost:8080/"
        },
        "outputId": "4b668e69-f401-4684-c225-f20a093b5630",
        "id": "8_VxsP2saKqb"
      },
      "execution_count": 39,
      "outputs": [
        {
          "output_type": "execute_result",
          "data": {
            "text/plain": [
              "array(['ARMA BLANCA / CORTOPUNZANTE', 'ARMA DE FUEGO', 'CONTUNDENTES',\n",
              "       'CORTANTES', 'CORTOPUNZANTES', 'NO REPORTA', 'PUNZANTES',\n",
              "       'SIN EMPLEO DE ARMAS', 'ESCOPOLAMINA'], dtype=object)"
            ]
          },
          "metadata": {},
          "execution_count": 39
        }
      ]
    },
    {
      "cell_type": "code",
      "source": [
        "# Creating a lambda expression for datetime parsing\n",
        "dateparse = lambda x: datetime.strptime(x, \"%d/%m/%Y\")"
      ],
      "metadata": {
        "id": "bdVKtK31aKqc"
      },
      "execution_count": 40,
      "outputs": []
    },
    {
      "cell_type": "code",
      "source": [
        "# Analyzing unique values for column FECHA HECHO\n",
        "vi_df['FECHA HECHO']=vi_df['FECHA HECHO'].apply(dateparse)"
      ],
      "metadata": {
        "id": "L9GMmmvzaKqe"
      },
      "execution_count": 41,
      "outputs": []
    },
    {
      "cell_type": "code",
      "source": [
        "# Analyzing unique values for column GENERO\n",
        "vi_df.replace({\"GENERO\":estandarizar_dic}, inplace = True)\n",
        "\n",
        "vi_df['GENERO'].unique()"
      ],
      "metadata": {
        "colab": {
          "base_uri": "https://localhost:8080/"
        },
        "outputId": "f6bc19cf-2d79-469d-b9ea-798cf5829902",
        "id": "OWpb8h7WaKqf"
      },
      "execution_count": 42,
      "outputs": [
        {
          "output_type": "execute_result",
          "data": {
            "text/plain": [
              "array(['MASCULINO', 'FEMENINO', 'NO REPORTA'], dtype=object)"
            ]
          },
          "metadata": {},
          "execution_count": 42
        }
      ]
    },
    {
      "cell_type": "code",
      "source": [
        "# Analyzing unique values for column GRUPO ETARIO\n",
        "vi_df.replace({\"GRUPO ETARIO\":estandarizar_dic}, inplace = True)\n",
        "\n",
        "#Reemplazar valores nulos con NO REPORTA\n",
        "vi_df['GRUPO ETARIO'].fillna('NO REPORTA',inplace = True)\n",
        "\n",
        "vi_df['GRUPO ETARIO'].unique()\n"
      ],
      "metadata": {
        "colab": {
          "base_uri": "https://localhost:8080/"
        },
        "outputId": "b974f20f-4b4d-4f05-8f50-ccd67cb65a27",
        "id": "ptqK-9gZaKqg"
      },
      "execution_count": 43,
      "outputs": [
        {
          "output_type": "execute_result",
          "data": {
            "text/plain": [
              "array(['ADULTOS', 'ADOLESCENTES', 'MENORES', 'NO REPORTA'], dtype=object)"
            ]
          },
          "metadata": {},
          "execution_count": 43
        }
      ]
    },
    {
      "cell_type": "code",
      "source": [
        "# Analyzing unique values for column CANTIDAD\n",
        "vi_df['CANTIDAD'].unique()"
      ],
      "metadata": {
        "colab": {
          "base_uri": "https://localhost:8080/"
        },
        "outputId": "abc7b66e-b1d0-410a-bf2f-44e84293c31d",
        "id": "d8M8FWmzaKqj"
      },
      "execution_count": 44,
      "outputs": [
        {
          "output_type": "execute_result",
          "data": {
            "text/plain": [
              "array([  1,   2,   3,   4,  22,   6,   8,   5,  27,  10,   7,  11,  12,\n",
              "        16,   9,  15,  14,  13,  17,  20,  19,  21,  18,  23,  24,  25,\n",
              "        35,  26,  31,  29,  36,  28,  30,  32,  33,  39,  42,  34,  37,\n",
              "        38,  41,  46,  56,  59,  53,  50,  40,  58,  47,  45,  85,  72,\n",
              "        48,  49,  44,  54,  68,  65,  51,  71,  55,  43,  52,  61,  60,\n",
              "        76,  57,  77,  78,  67,  62,  91,  69,  64,  82,  86,  66,  63,\n",
              "        75,  74,  87,  79, 105,  83, 118,  90,  70,  73, 102, 100,  88,\n",
              "        89, 130,  98, 109, 101,  81,  80, 106, 107, 110,  93,  92,  84,\n",
              "       113,  94,  96])"
            ]
          },
          "metadata": {},
          "execution_count": 44
        }
      ]
    },
    {
      "cell_type": "code",
      "source": [
        "#Crear columnas año y mes\n",
        "vi_df['year'] = pd.DatetimeIndex(vi_df['FECHA HECHO']).year \n",
        "vi_df['month'] = pd.DatetimeIndex(vi_df['FECHA HECHO']).month"
      ],
      "metadata": {
        "id": "Lz3WeyUDjQJG"
      },
      "execution_count": 45,
      "outputs": []
    },
    {
      "cell_type": "markdown",
      "source": [
        "## DB Delitos Sexuales"
      ],
      "metadata": {
        "id": "PJCZpJKOaOQw"
      }
    },
    {
      "cell_type": "markdown",
      "source": [
        "###General"
      ],
      "metadata": {
        "id": "jZ6kXTWPaOQx"
      }
    },
    {
      "cell_type": "code",
      "source": [
        "#Primeras5 filas del df\n",
        "ds_df.head()"
      ],
      "metadata": {
        "outputId": "43327f00-6cb5-43c7-a88c-3099355c8a6e",
        "colab": {
          "base_uri": "https://localhost:8080/",
          "height": 206
        },
        "id": "Yvd1rtxjaOQz"
      },
      "execution_count": 48,
      "outputs": [
        {
          "output_type": "execute_result",
          "data": {
            "text/plain": [
              "  DEPARTAMENTO           MUNICIPIO CODIGO DANE                 ARMAS MEDIOS  \\\n",
              "0      CAQUETÁ              SOLANO    18756000  ARMA BLANCA / CORTOPUNZANTE   \n",
              "1      BOLÍVAR      CARTAGENA (CT)    13001000  ARMA BLANCA / CORTOPUNZANTE   \n",
              "2        HUILA            LA PLATA    41396000  ARMA BLANCA / CORTOPUNZANTE   \n",
              "3    SANTANDER         PIEDECUESTA    68547000                 CONTUNDENTES   \n",
              "4         META  VILLAVICENCIO (CT)    50001000                 CONTUNDENTES   \n",
              "\n",
              "  FECHA HECHO    GENERO GRUPO ETARIO  CANTIDAD  \\\n",
              "0   1/01/2010  FEMENINO      MENORES         1   \n",
              "1   1/01/2010  FEMENINO  ADOLECENTES         1   \n",
              "2   1/01/2010  FEMENINO      ADULTOS         1   \n",
              "3   1/01/2010  FEMENINO      ADULTOS         1   \n",
              "4   1/01/2010  FEMENINO      ADULTOS         1   \n",
              "\n",
              "                                              delito  \n",
              "0  ARTÍCULO 209. ACTOS SEXUALES CON MENOR DE 14 AÑOS  \n",
              "1               ARTÍCULO 205. ACCESO CARNAL VIOLENTO  \n",
              "2               ARTÍCULO 205. ACCESO CARNAL VIOLENTO  \n",
              "3               ARTÍCULO 205. ACCESO CARNAL VIOLENTO  \n",
              "4               ARTÍCULO 205. ACCESO CARNAL VIOLENTO  "
            ],
            "text/html": [
              "\n",
              "  <div id=\"df-c4271d6a-0198-4af8-9785-5432188c4dc5\">\n",
              "    <div class=\"colab-df-container\">\n",
              "      <div>\n",
              "<style scoped>\n",
              "    .dataframe tbody tr th:only-of-type {\n",
              "        vertical-align: middle;\n",
              "    }\n",
              "\n",
              "    .dataframe tbody tr th {\n",
              "        vertical-align: top;\n",
              "    }\n",
              "\n",
              "    .dataframe thead th {\n",
              "        text-align: right;\n",
              "    }\n",
              "</style>\n",
              "<table border=\"1\" class=\"dataframe\">\n",
              "  <thead>\n",
              "    <tr style=\"text-align: right;\">\n",
              "      <th></th>\n",
              "      <th>DEPARTAMENTO</th>\n",
              "      <th>MUNICIPIO</th>\n",
              "      <th>CODIGO DANE</th>\n",
              "      <th>ARMAS MEDIOS</th>\n",
              "      <th>FECHA HECHO</th>\n",
              "      <th>GENERO</th>\n",
              "      <th>GRUPO ETARIO</th>\n",
              "      <th>CANTIDAD</th>\n",
              "      <th>delito</th>\n",
              "    </tr>\n",
              "  </thead>\n",
              "  <tbody>\n",
              "    <tr>\n",
              "      <th>0</th>\n",
              "      <td>CAQUETÁ</td>\n",
              "      <td>SOLANO</td>\n",
              "      <td>18756000</td>\n",
              "      <td>ARMA BLANCA / CORTOPUNZANTE</td>\n",
              "      <td>1/01/2010</td>\n",
              "      <td>FEMENINO</td>\n",
              "      <td>MENORES</td>\n",
              "      <td>1</td>\n",
              "      <td>ARTÍCULO 209. ACTOS SEXUALES CON MENOR DE 14 AÑOS</td>\n",
              "    </tr>\n",
              "    <tr>\n",
              "      <th>1</th>\n",
              "      <td>BOLÍVAR</td>\n",
              "      <td>CARTAGENA (CT)</td>\n",
              "      <td>13001000</td>\n",
              "      <td>ARMA BLANCA / CORTOPUNZANTE</td>\n",
              "      <td>1/01/2010</td>\n",
              "      <td>FEMENINO</td>\n",
              "      <td>ADOLECENTES</td>\n",
              "      <td>1</td>\n",
              "      <td>ARTÍCULO 205. ACCESO CARNAL VIOLENTO</td>\n",
              "    </tr>\n",
              "    <tr>\n",
              "      <th>2</th>\n",
              "      <td>HUILA</td>\n",
              "      <td>LA PLATA</td>\n",
              "      <td>41396000</td>\n",
              "      <td>ARMA BLANCA / CORTOPUNZANTE</td>\n",
              "      <td>1/01/2010</td>\n",
              "      <td>FEMENINO</td>\n",
              "      <td>ADULTOS</td>\n",
              "      <td>1</td>\n",
              "      <td>ARTÍCULO 205. ACCESO CARNAL VIOLENTO</td>\n",
              "    </tr>\n",
              "    <tr>\n",
              "      <th>3</th>\n",
              "      <td>SANTANDER</td>\n",
              "      <td>PIEDECUESTA</td>\n",
              "      <td>68547000</td>\n",
              "      <td>CONTUNDENTES</td>\n",
              "      <td>1/01/2010</td>\n",
              "      <td>FEMENINO</td>\n",
              "      <td>ADULTOS</td>\n",
              "      <td>1</td>\n",
              "      <td>ARTÍCULO 205. ACCESO CARNAL VIOLENTO</td>\n",
              "    </tr>\n",
              "    <tr>\n",
              "      <th>4</th>\n",
              "      <td>META</td>\n",
              "      <td>VILLAVICENCIO (CT)</td>\n",
              "      <td>50001000</td>\n",
              "      <td>CONTUNDENTES</td>\n",
              "      <td>1/01/2010</td>\n",
              "      <td>FEMENINO</td>\n",
              "      <td>ADULTOS</td>\n",
              "      <td>1</td>\n",
              "      <td>ARTÍCULO 205. ACCESO CARNAL VIOLENTO</td>\n",
              "    </tr>\n",
              "  </tbody>\n",
              "</table>\n",
              "</div>\n",
              "      <button class=\"colab-df-convert\" onclick=\"convertToInteractive('df-c4271d6a-0198-4af8-9785-5432188c4dc5')\"\n",
              "              title=\"Convert this dataframe to an interactive table.\"\n",
              "              style=\"display:none;\">\n",
              "        \n",
              "  <svg xmlns=\"http://www.w3.org/2000/svg\" height=\"24px\"viewBox=\"0 0 24 24\"\n",
              "       width=\"24px\">\n",
              "    <path d=\"M0 0h24v24H0V0z\" fill=\"none\"/>\n",
              "    <path d=\"M18.56 5.44l.94 2.06.94-2.06 2.06-.94-2.06-.94-.94-2.06-.94 2.06-2.06.94zm-11 1L8.5 8.5l.94-2.06 2.06-.94-2.06-.94L8.5 2.5l-.94 2.06-2.06.94zm10 10l.94 2.06.94-2.06 2.06-.94-2.06-.94-.94-2.06-.94 2.06-2.06.94z\"/><path d=\"M17.41 7.96l-1.37-1.37c-.4-.4-.92-.59-1.43-.59-.52 0-1.04.2-1.43.59L10.3 9.45l-7.72 7.72c-.78.78-.78 2.05 0 2.83L4 21.41c.39.39.9.59 1.41.59.51 0 1.02-.2 1.41-.59l7.78-7.78 2.81-2.81c.8-.78.8-2.07 0-2.86zM5.41 20L4 18.59l7.72-7.72 1.47 1.35L5.41 20z\"/>\n",
              "  </svg>\n",
              "      </button>\n",
              "      \n",
              "  <style>\n",
              "    .colab-df-container {\n",
              "      display:flex;\n",
              "      flex-wrap:wrap;\n",
              "      gap: 12px;\n",
              "    }\n",
              "\n",
              "    .colab-df-convert {\n",
              "      background-color: #E8F0FE;\n",
              "      border: none;\n",
              "      border-radius: 50%;\n",
              "      cursor: pointer;\n",
              "      display: none;\n",
              "      fill: #1967D2;\n",
              "      height: 32px;\n",
              "      padding: 0 0 0 0;\n",
              "      width: 32px;\n",
              "    }\n",
              "\n",
              "    .colab-df-convert:hover {\n",
              "      background-color: #E2EBFA;\n",
              "      box-shadow: 0px 1px 2px rgba(60, 64, 67, 0.3), 0px 1px 3px 1px rgba(60, 64, 67, 0.15);\n",
              "      fill: #174EA6;\n",
              "    }\n",
              "\n",
              "    [theme=dark] .colab-df-convert {\n",
              "      background-color: #3B4455;\n",
              "      fill: #D2E3FC;\n",
              "    }\n",
              "\n",
              "    [theme=dark] .colab-df-convert:hover {\n",
              "      background-color: #434B5C;\n",
              "      box-shadow: 0px 1px 3px 1px rgba(0, 0, 0, 0.15);\n",
              "      filter: drop-shadow(0px 1px 2px rgba(0, 0, 0, 0.3));\n",
              "      fill: #FFFFFF;\n",
              "    }\n",
              "  </style>\n",
              "\n",
              "      <script>\n",
              "        const buttonEl =\n",
              "          document.querySelector('#df-c4271d6a-0198-4af8-9785-5432188c4dc5 button.colab-df-convert');\n",
              "        buttonEl.style.display =\n",
              "          google.colab.kernel.accessAllowed ? 'block' : 'none';\n",
              "\n",
              "        async function convertToInteractive(key) {\n",
              "          const element = document.querySelector('#df-c4271d6a-0198-4af8-9785-5432188c4dc5');\n",
              "          const dataTable =\n",
              "            await google.colab.kernel.invokeFunction('convertToInteractive',\n",
              "                                                     [key], {});\n",
              "          if (!dataTable) return;\n",
              "\n",
              "          const docLinkHtml = 'Like what you see? Visit the ' +\n",
              "            '<a target=\"_blank\" href=https://colab.research.google.com/notebooks/data_table.ipynb>data table notebook</a>'\n",
              "            + ' to learn more about interactive tables.';\n",
              "          element.innerHTML = '';\n",
              "          dataTable['output_type'] = 'display_data';\n",
              "          await google.colab.output.renderOutput(dataTable, element);\n",
              "          const docLink = document.createElement('div');\n",
              "          docLink.innerHTML = docLinkHtml;\n",
              "          element.appendChild(docLink);\n",
              "        }\n",
              "      </script>\n",
              "    </div>\n",
              "  </div>\n",
              "  "
            ]
          },
          "metadata": {},
          "execution_count": 48
        }
      ]
    },
    {
      "cell_type": "code",
      "source": [
        "#Dimension del df\n",
        "ds_df.shape"
      ],
      "metadata": {
        "colab": {
          "base_uri": "https://localhost:8080/"
        },
        "outputId": "deb31362-e268-4bb4-876e-3b78b67529d0",
        "id": "YhLtdTVXaOQ0"
      },
      "execution_count": 49,
      "outputs": [
        {
          "output_type": "execute_result",
          "data": {
            "text/plain": [
              "(260323, 9)"
            ]
          },
          "metadata": {},
          "execution_count": 49
        }
      ]
    },
    {
      "cell_type": "code",
      "source": [
        "#Información General del df\n",
        "ds_df.info()"
      ],
      "metadata": {
        "colab": {
          "base_uri": "https://localhost:8080/"
        },
        "outputId": "e4ebf237-94be-44cd-cfed-c14b8dfcba68",
        "id": "zpo-zSHAaOQ1"
      },
      "execution_count": 50,
      "outputs": [
        {
          "output_type": "stream",
          "name": "stdout",
          "text": [
            "<class 'pandas.core.frame.DataFrame'>\n",
            "RangeIndex: 260323 entries, 0 to 260322\n",
            "Data columns (total 9 columns):\n",
            " #   Column        Non-Null Count   Dtype \n",
            "---  ------        --------------   ----- \n",
            " 0   DEPARTAMENTO  260323 non-null  object\n",
            " 1   MUNICIPIO     260322 non-null  object\n",
            " 2   CODIGO DANE   260322 non-null  object\n",
            " 3   ARMAS MEDIOS  260323 non-null  object\n",
            " 4   FECHA HECHO   260323 non-null  object\n",
            " 5   GENERO        260019 non-null  object\n",
            " 6   GRUPO ETARIO  259786 non-null  object\n",
            " 7   CANTIDAD      260323 non-null  int64 \n",
            " 8   delito        260323 non-null  object\n",
            "dtypes: int64(1), object(8)\n",
            "memory usage: 17.9+ MB\n"
          ]
        }
      ]
    },
    {
      "cell_type": "code",
      "source": [
        "ds_df.isnull().sum()"
      ],
      "metadata": {
        "colab": {
          "base_uri": "https://localhost:8080/"
        },
        "outputId": "3beff14b-f926-4204-f018-0eaf65242d0c",
        "id": "wcbjJa53aOQ1"
      },
      "execution_count": 69,
      "outputs": [
        {
          "output_type": "execute_result",
          "data": {
            "text/plain": [
              "DEPARTAMENTO    0\n",
              "MUNICIPIO       0\n",
              "CODIGO DANE     1\n",
              "ARMAS MEDIOS    0\n",
              "FECHA HECHO     0\n",
              "GENERO          0\n",
              "GRUPO ETARIO    0\n",
              "CANTIDAD        0\n",
              "delito          0\n",
              "year            0\n",
              "month           0\n",
              "dtype: int64"
            ]
          },
          "metadata": {},
          "execution_count": 69
        }
      ]
    },
    {
      "cell_type": "markdown",
      "source": [
        "###Analyzing Data Quality"
      ],
      "metadata": {
        "id": "ektDUHSjaOQ2"
      }
    },
    {
      "cell_type": "code",
      "source": [
        "# Analyzing unique values for column DEPARTAMENTO\n",
        "ds_df['DEPARTAMENTO'].unique()"
      ],
      "metadata": {
        "colab": {
          "base_uri": "https://localhost:8080/"
        },
        "outputId": "7cb32ac9-8d89-4ff8-99e8-ee5994811038",
        "id": "Va5PSevkaOQ2"
      },
      "execution_count": 52,
      "outputs": [
        {
          "output_type": "execute_result",
          "data": {
            "text/plain": [
              "array(['CAQUETÁ', 'BOLÍVAR', 'HUILA', 'SANTANDER', 'META', 'CUNDINAMARCA',\n",
              "       'BOYACÁ', 'VALLE', 'GUAJIRA', 'SUCRE', 'CASANARE', 'RISARALDA',\n",
              "       'ARAUCA', 'CÓRDOBA', 'CHOCÓ', 'VICHADA', 'TOLIMA', 'CALDAS',\n",
              "       'PUTUMAYO', 'ATLÁNTICO', 'ANTIOQUIA', 'CAUCA', 'QUINDÍO',\n",
              "       'NORTE DE SANTANDER', 'AMAZONAS', 'MAGDALENA', 'CESAR', 'NARIÑO',\n",
              "       'GUAVIARE', 'SAN ANDRÉS', 'VAUPÉS', 'GUAINÍA'], dtype=object)"
            ]
          },
          "metadata": {},
          "execution_count": 52
        }
      ]
    },
    {
      "cell_type": "code",
      "source": [
        "# Creating a dictionary representing the valid departments for Colombia\n",
        "departments_list = ['ANTIOQUIA', 'ATLÁNTICO', 'BOLÍVAR', 'BOYACÁ', 'CALDAS', 'CAQUETÁ',\n",
        "       'CASANARE', 'CAUCA', 'CESAR', 'CHOCÓ', 'CÓRDOBA', 'META',\n",
        "       'CUNDINAMARCA', 'HUILA', 'MAGDALENA', 'NARIÑO', 'PUTUMAYO',\n",
        "       'RISARALDA', 'SANTANDER', 'SUCRE', 'TOLIMA', 'VALLE',\n",
        "       'NORTE DE SANTANDER', 'GUAJIRA', 'QUINDÍO', 'SAN ANDRÉS Y PROVIDENCIA', 'ARAUCA',\n",
        "       'GUAINÍA', 'VICHADA', 'VAUPÉS', 'GUAVIARE', 'AMAZONAS']\n",
        "departments_list"
      ],
      "metadata": {
        "id": "sq-tCAi3aOQ3"
      },
      "execution_count": null,
      "outputs": []
    },
    {
      "cell_type": "code",
      "source": [
        "#Checkeo de palabras que no se encuentren correctamente escritas\n",
        "ds_df.loc[~ds_df[\"DEPARTAMENTO\"].isin(departments_list), \"DEPARTAMENTO\"].unique()"
      ],
      "metadata": {
        "colab": {
          "base_uri": "https://localhost:8080/"
        },
        "outputId": "b042d7ea-799c-4a97-888d-818d35f2f1b3",
        "id": "s6Ru-f1saOQ4"
      },
      "execution_count": 54,
      "outputs": [
        {
          "output_type": "execute_result",
          "data": {
            "text/plain": [
              "array(['SAN ANDRÉS'], dtype=object)"
            ]
          },
          "metadata": {},
          "execution_count": 54
        }
      ]
    },
    {
      "cell_type": "code",
      "source": [
        "#Reemplazar departamentos mal escritos. (Checkear primero si hay alguno adicioanl en los otros df y añadirlo a los diccionarios arriba.)\n",
        "ds_df.replace({\"DEPARTAMENTO\":estandarizar_dep}, inplace = True)"
      ],
      "metadata": {
        "id": "tAaeyPWHaOQ4"
      },
      "execution_count": 55,
      "outputs": []
    },
    {
      "cell_type": "code",
      "source": [
        "# Analyzing unique values for column MUNICIPIO\n",
        "ds_df.replace({\"MUNICIPIO\":estandarizar_dic}, inplace = True)\n",
        "#Reemplazar valores nulos con NO REPORTA\n",
        "ds_df['MUNICIPIO'].fillna('NO REPORTA',inplace = True)\n",
        "\n",
        "ds_df['MUNICIPIO'].unique()"
      ],
      "metadata": {
        "colab": {
          "base_uri": "https://localhost:8080/"
        },
        "outputId": "7cd18eea-5073-485a-c440-9bb4b73227b3",
        "id": "gfSOUr4xaOQ5"
      },
      "execution_count": 56,
      "outputs": [
        {
          "output_type": "execute_result",
          "data": {
            "text/plain": [
              "array(['SOLANO', 'CARTAGENA (CT)', 'LA PLATA', ..., 'NO REPORTA',\n",
              "       'GONZÁLEZ', 'JORDÁN'], dtype=object)"
            ]
          },
          "metadata": {},
          "execution_count": 56
        }
      ]
    },
    {
      "cell_type": "code",
      "source": [
        "# Analyzing unique values for column MUNICIPIO. (Checkear valores que terminen con (CT))\n",
        "ds_df['MUNICIPIO'][(ds_df['MUNICIPIO'].str.lower().str.contains('barr'))].unique()"
      ],
      "metadata": {
        "colab": {
          "base_uri": "https://localhost:8080/"
        },
        "outputId": "34542aaa-9b81-4940-9229-4ceccfd04d01",
        "id": "7U43Y15AaOQ5"
      },
      "execution_count": 57,
      "outputs": [
        {
          "output_type": "execute_result",
          "data": {
            "text/plain": [
              "array(['BARRANQUILLA (CT)', 'BARRANCABERMEJA', 'BARRANCA DE UPÍA',\n",
              "       'BARRANCAS', 'CUBARRAL', 'BARRANCO DE LOBA'], dtype=object)"
            ]
          },
          "metadata": {},
          "execution_count": 57
        }
      ]
    },
    {
      "cell_type": "code",
      "source": [
        "# Analyzing unique values for column CODIGO DANE. Se encuentra que Codigo Dane tiene un valor nulo, en guainia. Se identifica que\n",
        "#Guainia solamente tiene un codigo y se procede a reemplazar el valor nulo por este \n",
        "ds_df['CODIGO DANE'].fillna('94001000',inplace = True)\n",
        "ds_df['CODIGO DANE'].unique()"
      ],
      "metadata": {
        "colab": {
          "base_uri": "https://localhost:8080/"
        },
        "outputId": "6597b16a-9b7d-43af-af11-608a2958db36",
        "id": "bq7tE8nMaOQ6"
      },
      "execution_count": 79,
      "outputs": [
        {
          "output_type": "execute_result",
          "data": {
            "text/plain": [
              "array(['18756000', '13001000', '41396000', ..., '08675000', '05315000',\n",
              "       '05652000'], dtype=object)"
            ]
          },
          "metadata": {},
          "execution_count": 79
        }
      ]
    },
    {
      "cell_type": "code",
      "source": [
        "ds_df[ds_df['CODIGO DANE'].isnull()]"
      ],
      "metadata": {
        "colab": {
          "base_uri": "https://localhost:8080/",
          "height": 0
        },
        "id": "Vt-eb3cppwM7",
        "outputId": "443b5875-17c4-408c-a66c-f00a4bee2cd7"
      },
      "execution_count": 77,
      "outputs": [
        {
          "output_type": "execute_result",
          "data": {
            "text/plain": [
              "       DEPARTAMENTO   MUNICIPIO CODIGO DANE         ARMAS MEDIOS FECHA HECHO  \\\n",
              "117312      GUAINÍA  NO REPORTA         NaN  SIN EMPLEO DE ARMAS  2017-10-01   \n",
              "\n",
              "          GENERO GRUPO ETARIO  CANTIDAD  \\\n",
              "117312  FEMENINO      MENORES         1   \n",
              "\n",
              "                                       delito  year  month  \n",
              "117312  ARTÍCULO 218. PORNOGRAFÍA CON MENORES  2017     10  "
            ],
            "text/html": [
              "\n",
              "  <div id=\"df-2cea5fe4-36cc-4801-8938-794165ba92e0\">\n",
              "    <div class=\"colab-df-container\">\n",
              "      <div>\n",
              "<style scoped>\n",
              "    .dataframe tbody tr th:only-of-type {\n",
              "        vertical-align: middle;\n",
              "    }\n",
              "\n",
              "    .dataframe tbody tr th {\n",
              "        vertical-align: top;\n",
              "    }\n",
              "\n",
              "    .dataframe thead th {\n",
              "        text-align: right;\n",
              "    }\n",
              "</style>\n",
              "<table border=\"1\" class=\"dataframe\">\n",
              "  <thead>\n",
              "    <tr style=\"text-align: right;\">\n",
              "      <th></th>\n",
              "      <th>DEPARTAMENTO</th>\n",
              "      <th>MUNICIPIO</th>\n",
              "      <th>CODIGO DANE</th>\n",
              "      <th>ARMAS MEDIOS</th>\n",
              "      <th>FECHA HECHO</th>\n",
              "      <th>GENERO</th>\n",
              "      <th>GRUPO ETARIO</th>\n",
              "      <th>CANTIDAD</th>\n",
              "      <th>delito</th>\n",
              "      <th>year</th>\n",
              "      <th>month</th>\n",
              "    </tr>\n",
              "  </thead>\n",
              "  <tbody>\n",
              "    <tr>\n",
              "      <th>117312</th>\n",
              "      <td>GUAINÍA</td>\n",
              "      <td>NO REPORTA</td>\n",
              "      <td>NaN</td>\n",
              "      <td>SIN EMPLEO DE ARMAS</td>\n",
              "      <td>2017-10-01</td>\n",
              "      <td>FEMENINO</td>\n",
              "      <td>MENORES</td>\n",
              "      <td>1</td>\n",
              "      <td>ARTÍCULO 218. PORNOGRAFÍA CON MENORES</td>\n",
              "      <td>2017</td>\n",
              "      <td>10</td>\n",
              "    </tr>\n",
              "  </tbody>\n",
              "</table>\n",
              "</div>\n",
              "      <button class=\"colab-df-convert\" onclick=\"convertToInteractive('df-2cea5fe4-36cc-4801-8938-794165ba92e0')\"\n",
              "              title=\"Convert this dataframe to an interactive table.\"\n",
              "              style=\"display:none;\">\n",
              "        \n",
              "  <svg xmlns=\"http://www.w3.org/2000/svg\" height=\"24px\"viewBox=\"0 0 24 24\"\n",
              "       width=\"24px\">\n",
              "    <path d=\"M0 0h24v24H0V0z\" fill=\"none\"/>\n",
              "    <path d=\"M18.56 5.44l.94 2.06.94-2.06 2.06-.94-2.06-.94-.94-2.06-.94 2.06-2.06.94zm-11 1L8.5 8.5l.94-2.06 2.06-.94-2.06-.94L8.5 2.5l-.94 2.06-2.06.94zm10 10l.94 2.06.94-2.06 2.06-.94-2.06-.94-.94-2.06-.94 2.06-2.06.94z\"/><path d=\"M17.41 7.96l-1.37-1.37c-.4-.4-.92-.59-1.43-.59-.52 0-1.04.2-1.43.59L10.3 9.45l-7.72 7.72c-.78.78-.78 2.05 0 2.83L4 21.41c.39.39.9.59 1.41.59.51 0 1.02-.2 1.41-.59l7.78-7.78 2.81-2.81c.8-.78.8-2.07 0-2.86zM5.41 20L4 18.59l7.72-7.72 1.47 1.35L5.41 20z\"/>\n",
              "  </svg>\n",
              "      </button>\n",
              "      \n",
              "  <style>\n",
              "    .colab-df-container {\n",
              "      display:flex;\n",
              "      flex-wrap:wrap;\n",
              "      gap: 12px;\n",
              "    }\n",
              "\n",
              "    .colab-df-convert {\n",
              "      background-color: #E8F0FE;\n",
              "      border: none;\n",
              "      border-radius: 50%;\n",
              "      cursor: pointer;\n",
              "      display: none;\n",
              "      fill: #1967D2;\n",
              "      height: 32px;\n",
              "      padding: 0 0 0 0;\n",
              "      width: 32px;\n",
              "    }\n",
              "\n",
              "    .colab-df-convert:hover {\n",
              "      background-color: #E2EBFA;\n",
              "      box-shadow: 0px 1px 2px rgba(60, 64, 67, 0.3), 0px 1px 3px 1px rgba(60, 64, 67, 0.15);\n",
              "      fill: #174EA6;\n",
              "    }\n",
              "\n",
              "    [theme=dark] .colab-df-convert {\n",
              "      background-color: #3B4455;\n",
              "      fill: #D2E3FC;\n",
              "    }\n",
              "\n",
              "    [theme=dark] .colab-df-convert:hover {\n",
              "      background-color: #434B5C;\n",
              "      box-shadow: 0px 1px 3px 1px rgba(0, 0, 0, 0.15);\n",
              "      filter: drop-shadow(0px 1px 2px rgba(0, 0, 0, 0.3));\n",
              "      fill: #FFFFFF;\n",
              "    }\n",
              "  </style>\n",
              "\n",
              "      <script>\n",
              "        const buttonEl =\n",
              "          document.querySelector('#df-2cea5fe4-36cc-4801-8938-794165ba92e0 button.colab-df-convert');\n",
              "        buttonEl.style.display =\n",
              "          google.colab.kernel.accessAllowed ? 'block' : 'none';\n",
              "\n",
              "        async function convertToInteractive(key) {\n",
              "          const element = document.querySelector('#df-2cea5fe4-36cc-4801-8938-794165ba92e0');\n",
              "          const dataTable =\n",
              "            await google.colab.kernel.invokeFunction('convertToInteractive',\n",
              "                                                     [key], {});\n",
              "          if (!dataTable) return;\n",
              "\n",
              "          const docLinkHtml = 'Like what you see? Visit the ' +\n",
              "            '<a target=\"_blank\" href=https://colab.research.google.com/notebooks/data_table.ipynb>data table notebook</a>'\n",
              "            + ' to learn more about interactive tables.';\n",
              "          element.innerHTML = '';\n",
              "          dataTable['output_type'] = 'display_data';\n",
              "          await google.colab.output.renderOutput(dataTable, element);\n",
              "          const docLink = document.createElement('div');\n",
              "          docLink.innerHTML = docLinkHtml;\n",
              "          element.appendChild(docLink);\n",
              "        }\n",
              "      </script>\n",
              "    </div>\n",
              "  </div>\n",
              "  "
            ]
          },
          "metadata": {},
          "execution_count": 77
        }
      ]
    },
    {
      "cell_type": "code",
      "source": [
        "ds_df[ds_df['DEPARTAMENTO'] == \"GUAINÍA\"]['CODIGO DANE'].unique()"
      ],
      "metadata": {
        "colab": {
          "base_uri": "https://localhost:8080/"
        },
        "id": "DER6b1lntjai",
        "outputId": "251823e0-5a44-49d1-aeba-89cf1752f886"
      },
      "execution_count": 78,
      "outputs": [
        {
          "output_type": "execute_result",
          "data": {
            "text/plain": [
              "array(['94001000', nan], dtype=object)"
            ]
          },
          "metadata": {},
          "execution_count": 78
        }
      ]
    },
    {
      "cell_type": "code",
      "source": [
        "# Analyzing unique values for column ARMAS MEDIOS\n",
        "ds_df.replace({\"ARMAS MEDIOS\":estandarizar_dic}, inplace = True)\n",
        "ds_df['ARMAS MEDIOS'].unique()\n",
        "\n",
        "#Se podria llegar a homologar los valores para queden en categorias mas grandes"
      ],
      "metadata": {
        "colab": {
          "base_uri": "https://localhost:8080/"
        },
        "outputId": "455db8ea-1c6a-400a-e81c-4675c6eb7957",
        "id": "K16FP_8aaOQ7"
      },
      "execution_count": 58,
      "outputs": [
        {
          "output_type": "execute_result",
          "data": {
            "text/plain": [
              "array(['ARMA BLANCA / CORTOPUNZANTE', 'CONTUNDENTES', 'NO REPORTA',\n",
              "       'SIN EMPLEO DE ARMAS', 'ARMA DE FUEGO', 'CORTOPUNZANTES',\n",
              "       'ESCOPOLAMINA', 'LICOR ADULTERADO', 'CINTAS/CINTURON', 'CORTANTES',\n",
              "       'ESPOSAS', 'ARMAS BLANCAS'], dtype=object)"
            ]
          },
          "metadata": {},
          "execution_count": 58
        }
      ]
    },
    {
      "cell_type": "code",
      "source": [
        "# Creating a lambda expression for datetime parsing\n",
        "dateparse = lambda x: datetime.strptime(x, \"%d/%m/%Y\")"
      ],
      "metadata": {
        "id": "CwkyME8GaOQ7"
      },
      "execution_count": 59,
      "outputs": []
    },
    {
      "cell_type": "code",
      "source": [
        "# Analyzing unique values for column FECHA HECHO\n",
        "ds_df['FECHA HECHO']=ds_df['FECHA HECHO'].apply(dateparse)"
      ],
      "metadata": {
        "id": "V5pIrcpRaOQ8"
      },
      "execution_count": 60,
      "outputs": []
    },
    {
      "cell_type": "code",
      "source": [
        "# Analyzing unique values for column GENERO\n",
        "ds_df.replace({\"GENERO\":estandarizar_dic}, inplace = True)\n",
        "\n",
        "#Reemplazar valores nulos con NO REPORTA\n",
        "ds_df['GENERO'].fillna('NO REPORTA',inplace = True)\n",
        "\n",
        "\n",
        "ds_df['GENERO'].unique()"
      ],
      "metadata": {
        "colab": {
          "base_uri": "https://localhost:8080/"
        },
        "outputId": "2e975403-ecdb-44d1-abed-6ba3bc406e3c",
        "id": "Wm-63XkMaOQ8"
      },
      "execution_count": 61,
      "outputs": [
        {
          "output_type": "execute_result",
          "data": {
            "text/plain": [
              "array(['FEMENINO', 'MASCULINO', 'NO REPORTA'], dtype=object)"
            ]
          },
          "metadata": {},
          "execution_count": 61
        }
      ]
    },
    {
      "cell_type": "code",
      "source": [
        "# Analyzing unique values for column GRUPO ETARIO\n",
        "ds_df.replace({\"GRUPO ETARIO\":estandarizar_dic}, inplace = True)\n",
        "\n",
        "#Reemplazar valores nulos con NO REPORTA\n",
        "ds_df['GRUPO ETARIO'].fillna('NO REPORTA',inplace = True)\n",
        "\n",
        "ds_df['GRUPO ETARIO'].unique()\n"
      ],
      "metadata": {
        "colab": {
          "base_uri": "https://localhost:8080/"
        },
        "outputId": "ceca7199-e809-4ceb-ec93-88fc3f40ffcb",
        "id": "ZO4DLrdGaOQ9"
      },
      "execution_count": 62,
      "outputs": [
        {
          "output_type": "execute_result",
          "data": {
            "text/plain": [
              "array(['MENORES', 'ADOLESCENTES', 'ADULTOS', 'NO REPORTA'], dtype=object)"
            ]
          },
          "metadata": {},
          "execution_count": 62
        }
      ]
    },
    {
      "cell_type": "code",
      "source": [
        "# Analyzing unique values for column DESCRIPCION CONDUCTA\n",
        "ds_df[\"delito\"].unique()"
      ],
      "metadata": {
        "colab": {
          "base_uri": "https://localhost:8080/"
        },
        "outputId": "3c8756e0-a080-4ec9-c8ba-b31254270562",
        "id": "am8Yypu8aOQ-"
      },
      "execution_count": 63,
      "outputs": [
        {
          "output_type": "execute_result",
          "data": {
            "text/plain": [
              "array(['ARTÍCULO 209. ACTOS SEXUALES CON MENOR DE 14 AÑOS',\n",
              "       'ARTÍCULO 205. ACCESO CARNAL VIOLENTO',\n",
              "       'ARTÍCULO 206. ACTO SEXUAL VIOLENTO',\n",
              "       'ARTÍCULO 208. ACCESO CARNAL ABUSIVO CON MENOR DE 14 AÑOS',\n",
              "       'ARTÍCULO 210 A. ACOSO SEXUAL',\n",
              "       'ARTÍCULO 210. ACCESO CARNAL O ACTO SEXUAL ABUSIVO CON INCAPAZ DE RESISTIR',\n",
              "       'ARTÍCULO 211. ACCESO CARNAL O ACTO SEXUAL ABUSIVO CON INCAPAZ DE RESISTIR (CIRCUNSTANCIAS AGRAVACIÓN',\n",
              "       'ARTÍCULO 211. ACCESO CARNAL ABUSIVO CON MENOR DE 14 AÑOS (CIRCUNSTANCIAS AGRAVACIÓN)',\n",
              "       'ARTÍCULO 211. ACTOS SEXUALES CON MENOR DE 14 AÑOS (CIRCUNSTANCIAS DE AGRAVACIÓN)',\n",
              "       'ARTÍCULO 207. ACCESO CARNAL O ACTO SEXUAL EN PERSONA PUESTA EN INCAPACIDAD DE RESISTIR',\n",
              "       'ARTÍCULO 211. ACCESO CARNAL VIOLENTO (CIRCUNSTANCIAS AGRAVACIÓN)',\n",
              "       'ARTÍCULO 218. PORNOGRAFÍA CON MENORES',\n",
              "       'ARTÍCULO 213. INDUCCIÓN A LA PROSTITUCIÓN',\n",
              "       'ARTÍCULO 211. ACCESO CARNAL O ACTO SEXUAL EN PERSONA PUESTA EN INCAPACIDAD DE RESISTIR  (CIRCUNSTANC',\n",
              "       'ARTÍCULO 211. ACTO SEXUAL VIOLENTO (CIRCUNSTANCIAS DE AGRAVACIÓN)',\n",
              "       'ARTÍCULO 214. CONSTREÑIMIENTO A LA PROSTITUCIÓN',\n",
              "       'ARTÍCULO 219 A. UTILIZACIÓN O FACILITACIÓN DE MEDIOS DE COMUNICACIÓN PARA OFRECER SERVICIOS SEXUALES DE MENORES',\n",
              "       'ARTÍCULO 217. ESTÍMULO A LA PROSTITUCIÓN DE MENORES',\n",
              "       'ARTÍCULO 217 A. DEMANDA DE EXPLOTACION SEXUAL COMERCIAL DE PERSONA MENOR DE 18 AÑOS DE EDAD',\n",
              "       'ARTÍCULO 216. CONSTREÑIMIENTO A LA PROSTITUCIÓN (CIRCUNSTANCIAS AGRAVACIÓN)',\n",
              "       'ARTÍCULO 213 A. PROXENETISMO CON MENOR DE EDAD',\n",
              "       'ARTÍCULO 216. INDUCCIÓN A LA PROSTITUCIÓN (CIRCUNSTANCIAS AGRAVACIÓN)',\n",
              "       'ARTÍCULO 219 B. OMISIÓN DE DENUNCIA'], dtype=object)"
            ]
          },
          "metadata": {},
          "execution_count": 63
        }
      ]
    },
    {
      "cell_type": "code",
      "source": [
        "# Analyzing unique values for column CANTIDAD\n",
        "ds_df['CANTIDAD'].unique()"
      ],
      "metadata": {
        "colab": {
          "base_uri": "https://localhost:8080/"
        },
        "outputId": "98ab3169-271b-451c-98a7-6af83987e06f",
        "id": "o1J6gImHaOQ-"
      },
      "execution_count": 64,
      "outputs": [
        {
          "output_type": "execute_result",
          "data": {
            "text/plain": [
              "array([ 1,  2,  3,  4,  5,  6, 16, 11,  7, 10, 86, 15,  8,  9, 48, 43])"
            ]
          },
          "metadata": {},
          "execution_count": 64
        }
      ]
    },
    {
      "cell_type": "code",
      "source": [
        "#Crear columnas año y mes\n",
        "ds_df['year'] = pd.DatetimeIndex(ds_df['FECHA HECHO']).year \n",
        "ds_df['month'] = pd.DatetimeIndex(ds_df['FECHA HECHO']).month"
      ],
      "metadata": {
        "id": "H0nS6cwZjVlQ"
      },
      "execution_count": 65,
      "outputs": []
    },
    {
      "cell_type": "markdown",
      "source": [
        "## DB Homicidios Accidente Transito"
      ],
      "metadata": {
        "id": "nbi6JJikaQNI"
      }
    },
    {
      "cell_type": "markdown",
      "source": [
        "###General"
      ],
      "metadata": {
        "id": "FTyQvrfjaQNJ"
      }
    },
    {
      "cell_type": "code",
      "source": [
        "#Primeras5 filas del df\n",
        "hat_df.head()"
      ],
      "metadata": {
        "outputId": "9ea3fbaa-3b6e-4ef3-f5b0-68e8ad5e86a1",
        "colab": {
          "base_uri": "https://localhost:8080/",
          "height": 206
        },
        "id": "Kc93B7tUaQNL"
      },
      "execution_count": 81,
      "outputs": [
        {
          "output_type": "execute_result",
          "data": {
            "text/plain": [
              "  DEPARTAMENTO          MUNICIPIO CODIGO DANE ARMAS MEDIOS FECHA HECHO  \\\n",
              "0    ANTIOQUIA            LA CEJA    05376000         MOTO   1/01/2010   \n",
              "1    ATLÁNTICO  BARRANQUILLA (CT)    08001000         MOTO   1/01/2010   \n",
              "2    ATLÁNTICO            LURUACO    08421000         MOTO   1/01/2010   \n",
              "3      CAQUETÁ        PUERTO RICO    18592000         MOTO   1/01/2010   \n",
              "4     CASANARE            AGUAZUL    85010000         MOTO   1/01/2010   \n",
              "\n",
              "      GENERO  GRUPO ETARÍO                               DESCRIPCIÓN CONDUCTA  \\\n",
              "0  MASCULINO       ADULTOS  ARTÍCULO 109. HOMICIDIO CULPOSO ( EN ACCIDENTE...   \n",
              "1   FEMENINO       ADULTOS  ARTÍCULO 109. HOMICIDIO CULPOSO ( EN ACCIDENTE...   \n",
              "2  MASCULINO       ADULTOS  ARTÍCULO 109. HOMICIDIO CULPOSO ( EN ACCIDENTE...   \n",
              "3  MASCULINO  ADOLESCENTES  ARTÍCULO 109. HOMICIDIO CULPOSO ( EN ACCIDENTE...   \n",
              "4  MASCULINO       ADULTOS  ARTÍCULO 109. HOMICIDIO CULPOSO ( EN ACCIDENTE...   \n",
              "\n",
              "   CANTIDAD  \n",
              "0         1  \n",
              "1         1  \n",
              "2         1  \n",
              "3         1  \n",
              "4         1  "
            ],
            "text/html": [
              "\n",
              "  <div id=\"df-1b183a3f-3325-4bba-ac93-0ab47bc99347\">\n",
              "    <div class=\"colab-df-container\">\n",
              "      <div>\n",
              "<style scoped>\n",
              "    .dataframe tbody tr th:only-of-type {\n",
              "        vertical-align: middle;\n",
              "    }\n",
              "\n",
              "    .dataframe tbody tr th {\n",
              "        vertical-align: top;\n",
              "    }\n",
              "\n",
              "    .dataframe thead th {\n",
              "        text-align: right;\n",
              "    }\n",
              "</style>\n",
              "<table border=\"1\" class=\"dataframe\">\n",
              "  <thead>\n",
              "    <tr style=\"text-align: right;\">\n",
              "      <th></th>\n",
              "      <th>DEPARTAMENTO</th>\n",
              "      <th>MUNICIPIO</th>\n",
              "      <th>CODIGO DANE</th>\n",
              "      <th>ARMAS MEDIOS</th>\n",
              "      <th>FECHA HECHO</th>\n",
              "      <th>GENERO</th>\n",
              "      <th>GRUPO ETARÍO</th>\n",
              "      <th>DESCRIPCIÓN CONDUCTA</th>\n",
              "      <th>CANTIDAD</th>\n",
              "    </tr>\n",
              "  </thead>\n",
              "  <tbody>\n",
              "    <tr>\n",
              "      <th>0</th>\n",
              "      <td>ANTIOQUIA</td>\n",
              "      <td>LA CEJA</td>\n",
              "      <td>05376000</td>\n",
              "      <td>MOTO</td>\n",
              "      <td>1/01/2010</td>\n",
              "      <td>MASCULINO</td>\n",
              "      <td>ADULTOS</td>\n",
              "      <td>ARTÍCULO 109. HOMICIDIO CULPOSO ( EN ACCIDENTE...</td>\n",
              "      <td>1</td>\n",
              "    </tr>\n",
              "    <tr>\n",
              "      <th>1</th>\n",
              "      <td>ATLÁNTICO</td>\n",
              "      <td>BARRANQUILLA (CT)</td>\n",
              "      <td>08001000</td>\n",
              "      <td>MOTO</td>\n",
              "      <td>1/01/2010</td>\n",
              "      <td>FEMENINO</td>\n",
              "      <td>ADULTOS</td>\n",
              "      <td>ARTÍCULO 109. HOMICIDIO CULPOSO ( EN ACCIDENTE...</td>\n",
              "      <td>1</td>\n",
              "    </tr>\n",
              "    <tr>\n",
              "      <th>2</th>\n",
              "      <td>ATLÁNTICO</td>\n",
              "      <td>LURUACO</td>\n",
              "      <td>08421000</td>\n",
              "      <td>MOTO</td>\n",
              "      <td>1/01/2010</td>\n",
              "      <td>MASCULINO</td>\n",
              "      <td>ADULTOS</td>\n",
              "      <td>ARTÍCULO 109. HOMICIDIO CULPOSO ( EN ACCIDENTE...</td>\n",
              "      <td>1</td>\n",
              "    </tr>\n",
              "    <tr>\n",
              "      <th>3</th>\n",
              "      <td>CAQUETÁ</td>\n",
              "      <td>PUERTO RICO</td>\n",
              "      <td>18592000</td>\n",
              "      <td>MOTO</td>\n",
              "      <td>1/01/2010</td>\n",
              "      <td>MASCULINO</td>\n",
              "      <td>ADOLESCENTES</td>\n",
              "      <td>ARTÍCULO 109. HOMICIDIO CULPOSO ( EN ACCIDENTE...</td>\n",
              "      <td>1</td>\n",
              "    </tr>\n",
              "    <tr>\n",
              "      <th>4</th>\n",
              "      <td>CASANARE</td>\n",
              "      <td>AGUAZUL</td>\n",
              "      <td>85010000</td>\n",
              "      <td>MOTO</td>\n",
              "      <td>1/01/2010</td>\n",
              "      <td>MASCULINO</td>\n",
              "      <td>ADULTOS</td>\n",
              "      <td>ARTÍCULO 109. HOMICIDIO CULPOSO ( EN ACCIDENTE...</td>\n",
              "      <td>1</td>\n",
              "    </tr>\n",
              "  </tbody>\n",
              "</table>\n",
              "</div>\n",
              "      <button class=\"colab-df-convert\" onclick=\"convertToInteractive('df-1b183a3f-3325-4bba-ac93-0ab47bc99347')\"\n",
              "              title=\"Convert this dataframe to an interactive table.\"\n",
              "              style=\"display:none;\">\n",
              "        \n",
              "  <svg xmlns=\"http://www.w3.org/2000/svg\" height=\"24px\"viewBox=\"0 0 24 24\"\n",
              "       width=\"24px\">\n",
              "    <path d=\"M0 0h24v24H0V0z\" fill=\"none\"/>\n",
              "    <path d=\"M18.56 5.44l.94 2.06.94-2.06 2.06-.94-2.06-.94-.94-2.06-.94 2.06-2.06.94zm-11 1L8.5 8.5l.94-2.06 2.06-.94-2.06-.94L8.5 2.5l-.94 2.06-2.06.94zm10 10l.94 2.06.94-2.06 2.06-.94-2.06-.94-.94-2.06-.94 2.06-2.06.94z\"/><path d=\"M17.41 7.96l-1.37-1.37c-.4-.4-.92-.59-1.43-.59-.52 0-1.04.2-1.43.59L10.3 9.45l-7.72 7.72c-.78.78-.78 2.05 0 2.83L4 21.41c.39.39.9.59 1.41.59.51 0 1.02-.2 1.41-.59l7.78-7.78 2.81-2.81c.8-.78.8-2.07 0-2.86zM5.41 20L4 18.59l7.72-7.72 1.47 1.35L5.41 20z\"/>\n",
              "  </svg>\n",
              "      </button>\n",
              "      \n",
              "  <style>\n",
              "    .colab-df-container {\n",
              "      display:flex;\n",
              "      flex-wrap:wrap;\n",
              "      gap: 12px;\n",
              "    }\n",
              "\n",
              "    .colab-df-convert {\n",
              "      background-color: #E8F0FE;\n",
              "      border: none;\n",
              "      border-radius: 50%;\n",
              "      cursor: pointer;\n",
              "      display: none;\n",
              "      fill: #1967D2;\n",
              "      height: 32px;\n",
              "      padding: 0 0 0 0;\n",
              "      width: 32px;\n",
              "    }\n",
              "\n",
              "    .colab-df-convert:hover {\n",
              "      background-color: #E2EBFA;\n",
              "      box-shadow: 0px 1px 2px rgba(60, 64, 67, 0.3), 0px 1px 3px 1px rgba(60, 64, 67, 0.15);\n",
              "      fill: #174EA6;\n",
              "    }\n",
              "\n",
              "    [theme=dark] .colab-df-convert {\n",
              "      background-color: #3B4455;\n",
              "      fill: #D2E3FC;\n",
              "    }\n",
              "\n",
              "    [theme=dark] .colab-df-convert:hover {\n",
              "      background-color: #434B5C;\n",
              "      box-shadow: 0px 1px 3px 1px rgba(0, 0, 0, 0.15);\n",
              "      filter: drop-shadow(0px 1px 2px rgba(0, 0, 0, 0.3));\n",
              "      fill: #FFFFFF;\n",
              "    }\n",
              "  </style>\n",
              "\n",
              "      <script>\n",
              "        const buttonEl =\n",
              "          document.querySelector('#df-1b183a3f-3325-4bba-ac93-0ab47bc99347 button.colab-df-convert');\n",
              "        buttonEl.style.display =\n",
              "          google.colab.kernel.accessAllowed ? 'block' : 'none';\n",
              "\n",
              "        async function convertToInteractive(key) {\n",
              "          const element = document.querySelector('#df-1b183a3f-3325-4bba-ac93-0ab47bc99347');\n",
              "          const dataTable =\n",
              "            await google.colab.kernel.invokeFunction('convertToInteractive',\n",
              "                                                     [key], {});\n",
              "          if (!dataTable) return;\n",
              "\n",
              "          const docLinkHtml = 'Like what you see? Visit the ' +\n",
              "            '<a target=\"_blank\" href=https://colab.research.google.com/notebooks/data_table.ipynb>data table notebook</a>'\n",
              "            + ' to learn more about interactive tables.';\n",
              "          element.innerHTML = '';\n",
              "          dataTable['output_type'] = 'display_data';\n",
              "          await google.colab.output.renderOutput(dataTable, element);\n",
              "          const docLink = document.createElement('div');\n",
              "          docLink.innerHTML = docLinkHtml;\n",
              "          element.appendChild(docLink);\n",
              "        }\n",
              "      </script>\n",
              "    </div>\n",
              "  </div>\n",
              "  "
            ]
          },
          "metadata": {},
          "execution_count": 81
        }
      ]
    },
    {
      "cell_type": "code",
      "source": [
        "#Dimension del df\n",
        "hat_df.shape"
      ],
      "metadata": {
        "colab": {
          "base_uri": "https://localhost:8080/"
        },
        "outputId": "d74fab8c-0280-4971-ba47-b4c3f3bc8194",
        "id": "SIhxthpTaQNM"
      },
      "execution_count": 82,
      "outputs": [
        {
          "output_type": "execute_result",
          "data": {
            "text/plain": [
              "(59810, 9)"
            ]
          },
          "metadata": {},
          "execution_count": 82
        }
      ]
    },
    {
      "cell_type": "code",
      "source": [
        "# Changing the column name GRUPO ETARÍO por GRUPO ETARIO\n",
        "hat_df.rename(columns={'GRUPO ETARÍO':'GRUPO ETARIO'},               inplace=True)"
      ],
      "metadata": {
        "id": "tfCgpr6SgZqV"
      },
      "execution_count": 83,
      "outputs": []
    },
    {
      "cell_type": "code",
      "source": [
        "#Información General del df\n",
        "hat_df.info()"
      ],
      "metadata": {
        "colab": {
          "base_uri": "https://localhost:8080/"
        },
        "outputId": "baa498f1-bd52-4145-f395-9a40fda35746",
        "id": "gjrsScC9aQNN"
      },
      "execution_count": 84,
      "outputs": [
        {
          "output_type": "stream",
          "name": "stdout",
          "text": [
            "<class 'pandas.core.frame.DataFrame'>\n",
            "RangeIndex: 59810 entries, 0 to 59809\n",
            "Data columns (total 9 columns):\n",
            " #   Column                Non-Null Count  Dtype \n",
            "---  ------                --------------  ----- \n",
            " 0   DEPARTAMENTO          59810 non-null  object\n",
            " 1   MUNICIPIO             59810 non-null  object\n",
            " 2   CODIGO DANE           59810 non-null  object\n",
            " 3   ARMAS MEDIOS          59810 non-null  object\n",
            " 4   FECHA HECHO           59810 non-null  object\n",
            " 5   GENERO                59810 non-null  object\n",
            " 6   GRUPO ETARIO          59810 non-null  object\n",
            " 7   DESCRIPCIÓN CONDUCTA  59810 non-null  object\n",
            " 8   CANTIDAD              59810 non-null  int64 \n",
            "dtypes: int64(1), object(8)\n",
            "memory usage: 4.1+ MB\n"
          ]
        }
      ]
    },
    {
      "cell_type": "code",
      "source": [
        "hat_df.isnull().any()"
      ],
      "metadata": {
        "colab": {
          "base_uri": "https://localhost:8080/"
        },
        "outputId": "3f8986a0-d733-45a0-ac74-f510896f82d3",
        "id": "kBupKz_6aQNN"
      },
      "execution_count": 85,
      "outputs": [
        {
          "output_type": "execute_result",
          "data": {
            "text/plain": [
              "DEPARTAMENTO            False\n",
              "MUNICIPIO               False\n",
              "CODIGO DANE             False\n",
              "ARMAS MEDIOS            False\n",
              "FECHA HECHO             False\n",
              "GENERO                  False\n",
              "GRUPO ETARIO            False\n",
              "DESCRIPCIÓN CONDUCTA    False\n",
              "CANTIDAD                False\n",
              "dtype: bool"
            ]
          },
          "metadata": {},
          "execution_count": 85
        }
      ]
    },
    {
      "cell_type": "markdown",
      "source": [
        "###Analyzing Data Quality"
      ],
      "metadata": {
        "id": "t1STOguWaQNO"
      }
    },
    {
      "cell_type": "code",
      "source": [
        "# Analyzing unique values for column DEPARTAMENTO\n",
        "hat_df['DEPARTAMENTO'].unique()"
      ],
      "metadata": {
        "colab": {
          "base_uri": "https://localhost:8080/"
        },
        "outputId": "34e48c27-849d-4392-dc67-fd6a4482d547",
        "id": "TE1u9dfVaQNO"
      },
      "execution_count": 87,
      "outputs": [
        {
          "output_type": "execute_result",
          "data": {
            "text/plain": [
              "array(['ANTIOQUIA', 'ATLÁNTICO', 'CAQUETÁ', 'CASANARE', 'CESAR',\n",
              "       'GUAJIRA', 'HUILA', 'NARIÑO', 'RISARALDA', 'SANTANDER', 'CÓRDOBA',\n",
              "       'CUNDINAMARCA', 'TOLIMA', 'VALLE', 'MAGDALENA', 'BOYACÁ', 'CAUCA',\n",
              "       'NORTE DE SANTANDER', 'SUCRE', 'META', 'QUINDÍO', 'BOLÍVAR',\n",
              "       'CALDAS', 'ARAUCA', 'PUTUMAYO', 'SAN ANDRÉS', 'GUAVIARE',\n",
              "       'AMAZONAS', 'VICHADA', 'CHOCÓ', 'GUAINÍA', 'VAUPÉS'], dtype=object)"
            ]
          },
          "metadata": {},
          "execution_count": 87
        }
      ]
    },
    {
      "cell_type": "code",
      "source": [
        "# Creating a dictionary representing the valid departments for Colombia\n",
        "departments_list = ['ANTIOQUIA', 'ATLÁNTICO', 'BOLÍVAR', 'BOYACÁ', 'CALDAS', 'CAQUETÁ',\n",
        "       'CASANARE', 'CAUCA', 'CESAR', 'CHOCÓ', 'CÓRDOBA', 'META',\n",
        "       'CUNDINAMARCA', 'HUILA', 'MAGDALENA', 'NARIÑO', 'PUTUMAYO',\n",
        "       'RISARALDA', 'SANTANDER', 'SUCRE', 'TOLIMA', 'VALLE',\n",
        "       'NORTE DE SANTANDER', 'GUAJIRA', 'QUINDÍO', 'SAN ANDRÉS Y PROVIDENCIA', 'ARAUCA',\n",
        "       'GUAINÍA', 'VICHADA', 'VAUPÉS', 'GUAVIARE', 'AMAZONAS']\n",
        "departments_list"
      ],
      "metadata": {
        "id": "j2i4CW_YaQNP"
      },
      "execution_count": null,
      "outputs": []
    },
    {
      "cell_type": "code",
      "source": [
        "#Checkeo de palabras que no se encuentren correctamente escritas\n",
        "hat_df.loc[~hat_df[\"DEPARTAMENTO\"].isin(departments_list), \"DEPARTAMENTO\"].unique()"
      ],
      "metadata": {
        "colab": {
          "base_uri": "https://localhost:8080/"
        },
        "outputId": "f7b20784-0917-406e-8df3-b1ea3d8a9f2f",
        "id": "7YyJQnuAaQNQ"
      },
      "execution_count": 90,
      "outputs": [
        {
          "output_type": "execute_result",
          "data": {
            "text/plain": [
              "array([], dtype=object)"
            ]
          },
          "metadata": {},
          "execution_count": 90
        }
      ]
    },
    {
      "cell_type": "code",
      "source": [
        "#Reemplazar departamentos mal escritos. (Checkear primero si hay alguno adicioanl en los otros df y añadirlo a los diccionarios arriba.)\n",
        "hat_df.replace({\"DEPARTAMENTO\":estandarizar_dep}, inplace = True)"
      ],
      "metadata": {
        "id": "scXEnx8aaQNQ"
      },
      "execution_count": 89,
      "outputs": []
    },
    {
      "cell_type": "code",
      "source": [
        "# Analyzing unique values for column MUNICIPIO\n",
        "hat_df.replace({\"MUNICIPIO\":estandarizar_dic}, inplace = True)\n",
        "hat_df['MUNICIPIO'].unique()"
      ],
      "metadata": {
        "id": "0i-oREWRaQNR"
      },
      "execution_count": null,
      "outputs": []
    },
    {
      "cell_type": "code",
      "source": [
        "# Analyzing unique values for column MUNICIPIO. (Checkear valores que terminen con (CT))\n",
        "hat_df['MUNICIPIO'][(hat_df['MUNICIPIO'].str.lower().str.contains('barr'))].unique()"
      ],
      "metadata": {
        "colab": {
          "base_uri": "https://localhost:8080/"
        },
        "outputId": "e833edc3-7d7e-4a32-fc27-5a26a76a8865",
        "id": "ZqYNzsICaQNS"
      },
      "execution_count": 92,
      "outputs": [
        {
          "output_type": "execute_result",
          "data": {
            "text/plain": [
              "array(['BARRANQUILLA (CT)', 'BARRANCABERMEJA', 'BARRANCO DE LOBA',\n",
              "       'BARRANCA DE UPÍA', 'BARRANCAS', 'CUBARRAL'], dtype=object)"
            ]
          },
          "metadata": {},
          "execution_count": 92
        }
      ]
    },
    {
      "cell_type": "code",
      "source": [
        "# Analyzing unique values for column CODIGO DANE\n",
        "hat_df['CODIGO DANE'].unique()"
      ],
      "metadata": {
        "colab": {
          "base_uri": "https://localhost:8080/"
        },
        "outputId": "2d1efa71-972d-4fff-f0df-527044c85461",
        "id": "2Ltbsa7paQNS"
      },
      "execution_count": 93,
      "outputs": [
        {
          "output_type": "execute_result",
          "data": {
            "text/plain": [
              "array(['05376000', '08001000', '08421000', ..., '68682000', '27025000',\n",
              "       '25368000'], dtype=object)"
            ]
          },
          "metadata": {},
          "execution_count": 93
        }
      ]
    },
    {
      "cell_type": "code",
      "source": [
        "# Analyzing unique values for column ARMAS MEDIOS\n",
        "hat_df.replace({\"ARMAS MEDIOS\":estandarizar_dic}, inplace = True)\n",
        "hat_df['ARMAS MEDIOS'].unique()\n",
        "\n",
        "#Se podria llegar a homologar los valores para queden en categorias mas grandes"
      ],
      "metadata": {
        "colab": {
          "base_uri": "https://localhost:8080/"
        },
        "outputId": "4f1114d4-b403-4272-bddc-5177600ac5cb",
        "id": "LknyINhBaQNT"
      },
      "execution_count": 94,
      "outputs": [
        {
          "output_type": "execute_result",
          "data": {
            "text/plain": [
              "array(['MOTO', 'VEHICULO', 'NO REPORTA', 'BICICLETA',\n",
              "       'SIN EMPLEO DE ARMAS', 'TREN', 'CONTUNDENTES'], dtype=object)"
            ]
          },
          "metadata": {},
          "execution_count": 94
        }
      ]
    },
    {
      "cell_type": "code",
      "source": [
        "# Creating a lambda expression for datetime parsing\n",
        "dateparse = lambda x: datetime.strptime(x, \"%d/%m/%Y\")"
      ],
      "metadata": {
        "id": "HufqwyaXaQNU"
      },
      "execution_count": 95,
      "outputs": []
    },
    {
      "cell_type": "code",
      "source": [
        "# Analyzing unique values for column FECHA HECHO\n",
        "hat_df['FECHA HECHO']=hat_df['FECHA HECHO'].apply(dateparse)"
      ],
      "metadata": {
        "id": "vflsgHn2aQNU"
      },
      "execution_count": 96,
      "outputs": []
    },
    {
      "cell_type": "code",
      "source": [
        "# Analyzing unique values for column GENERO\n",
        "hat_df.replace({\"GENERO\":estandarizar_dic}, inplace = True)\n",
        "\n",
        "hat_df['GENERO'].unique()"
      ],
      "metadata": {
        "colab": {
          "base_uri": "https://localhost:8080/"
        },
        "outputId": "1704cf02-30cc-4bb8-8f91-d779457721d6",
        "id": "w3h76oV_aQNV"
      },
      "execution_count": 97,
      "outputs": [
        {
          "output_type": "execute_result",
          "data": {
            "text/plain": [
              "array(['MASCULINO', 'FEMENINO', 'NO REPORTA'], dtype=object)"
            ]
          },
          "metadata": {},
          "execution_count": 97
        }
      ]
    },
    {
      "cell_type": "code",
      "source": [
        "# Analyzing unique values for column GRUPO ETARIO\n",
        "hat_df.replace({\"GRUPO ETARIO\":estandarizar_dic}, inplace = True)\n",
        "\n",
        "#Reemplazar valores nulos con NO REPORTA\n",
        "hat_df['GRUPO ETARIO'].fillna('NO REPORTA',inplace = True)\n",
        "\n",
        "hat_df['GRUPO ETARIO'].unique()\n"
      ],
      "metadata": {
        "colab": {
          "base_uri": "https://localhost:8080/"
        },
        "outputId": "68f39313-6c90-4d64-eb7b-f25696b0ea99",
        "id": "ynOaKgyhaQNW"
      },
      "execution_count": 98,
      "outputs": [
        {
          "output_type": "execute_result",
          "data": {
            "text/plain": [
              "array(['ADULTOS', 'ADOLESCENTES', 'MENORES', 'NO REPORTA'], dtype=object)"
            ]
          },
          "metadata": {},
          "execution_count": 98
        }
      ]
    },
    {
      "cell_type": "code",
      "source": [
        "# Analyzing unique values for column DESCRIPCION CONDUCTA\n",
        "hat_df[\"DESCRIPCIÓN CONDUCTA\"].unique()"
      ],
      "metadata": {
        "colab": {
          "base_uri": "https://localhost:8080/"
        },
        "outputId": "848b15a7-5b10-4f37-d972-0583325cc607",
        "id": "Tkml-Hl8aQNX"
      },
      "execution_count": 99,
      "outputs": [
        {
          "output_type": "execute_result",
          "data": {
            "text/plain": [
              "array(['ARTÍCULO 109. HOMICIDIO CULPOSO ( EN ACCIDENTE DE TRÁNSITO)',\n",
              "       'ARTÍCULO 110. HOMICIDIO CULPOSO ( CIRCUNSTANCIAS DE AGRAVACIÓN)'],\n",
              "      dtype=object)"
            ]
          },
          "metadata": {},
          "execution_count": 99
        }
      ]
    },
    {
      "cell_type": "code",
      "source": [
        "# Analyzing unique values for column CANTIDAD\n",
        "hat_df['CANTIDAD'].unique()"
      ],
      "metadata": {
        "colab": {
          "base_uri": "https://localhost:8080/"
        },
        "outputId": "eb369dd6-66b6-4a74-eddb-00158dcc0919",
        "id": "wjmGkGTDaQNX"
      },
      "execution_count": 100,
      "outputs": [
        {
          "output_type": "execute_result",
          "data": {
            "text/plain": [
              "array([ 1,  2,  4,  3,  7,  5, 10,  8,  6,  9])"
            ]
          },
          "metadata": {},
          "execution_count": 100
        }
      ]
    },
    {
      "cell_type": "code",
      "source": [
        "#Crear columnas año y mes\n",
        "hat_df['year'] = pd.DatetimeIndex(hat_df['FECHA HECHO']).year \n",
        "hat_df['month'] = pd.DatetimeIndex(hat_df['FECHA HECHO']).month"
      ],
      "metadata": {
        "id": "v_np5AsFjaA2"
      },
      "execution_count": 101,
      "outputs": []
    },
    {
      "cell_type": "markdown",
      "source": [
        "#Punto 2"
      ],
      "metadata": {
        "id": "2y4RlHlVhlqF"
      }
    },
    {
      "cell_type": "markdown",
      "source": [
        "##2.1 ¿Cuáles han sido los departamentos (TOP 3) más afectados en términos de cantidad de delitos cometidos en los últimos 5 años?"
      ],
      "metadata": {
        "id": "8xxbrt75kjsP"
      }
    },
    {
      "cell_type": "markdown",
      "source": [
        "R/ Para cada uno de los delitos escogidos, al analizar en un rango de los ultimos 5 años se encuentra que los principales departamentos, en cada una de estos delitos, son: CUNDINAMARCA, ANTIOQUIA y VALLE. "
      ],
      "metadata": {
        "id": "jh4ItjFByAYo"
      }
    },
    {
      "cell_type": "markdown",
      "source": [
        "Top 3 Departamentos mas afectados en cantidad de delitos en los 5 ultimos años (Lesiones Personales)"
      ],
      "metadata": {
        "id": "eTBaVAM8hwVA"
      }
    },
    {
      "cell_type": "code",
      "source": [
        "#Filtrar Dataframe para que solamente muestre los ultimos 5 años\n",
        "ls_df_last_5 = ls_df[ls_df['year'] >= (ls_df['year'].max()-5)]"
      ],
      "metadata": {
        "id": "mUOoUU2Nl_c5"
      },
      "execution_count": 103,
      "outputs": []
    },
    {
      "cell_type": "code",
      "source": [
        "ls_df_last_5.groupby(\"DEPARTAMENTO\").sum().sort_values(by = 'CANTIDAD', ascending = False).head(3)['CANTIDAD']"
      ],
      "metadata": {
        "colab": {
          "base_uri": "https://localhost:8080/"
        },
        "id": "O_dIlXf2ifEd",
        "outputId": "e2110503-fb7a-4d5f-bb84-2e6547de436f"
      },
      "execution_count": 104,
      "outputs": [
        {
          "output_type": "execute_result",
          "data": {
            "text/plain": [
              "DEPARTAMENTO\n",
              "CUNDINAMARCA    198817\n",
              "ANTIOQUIA        86339\n",
              "VALLE            84791\n",
              "Name: CANTIDAD, dtype: int64"
            ]
          },
          "metadata": {},
          "execution_count": 104
        }
      ]
    },
    {
      "cell_type": "markdown",
      "source": [
        "Top 3 Departamentos mas afectados en cantidad de delitos en los 5 ultimos años (Violencia Intrafamiliar)"
      ],
      "metadata": {
        "id": "lSMMr237h_KT"
      }
    },
    {
      "cell_type": "code",
      "source": [
        "#Filtrar Dataframe para que solamente muestre los ultimos 5 años\n",
        "vi_df_last_5 = vi_df[vi_df['year'] >= (vi_df['year'].max()-5)]"
      ],
      "metadata": {
        "colab": {
          "base_uri": "https://localhost:8080/",
          "height": 0
        },
        "id": "2fHS69SSsWoP",
        "outputId": "e97553ce-c072-418d-e083-e5f735d7e30c"
      },
      "execution_count": 106,
      "outputs": [
        {
          "output_type": "execute_result",
          "data": {
            "text/plain": [
              "       DEPARTAMENTO            MUNICIPIO CODIGO DANE  \\\n",
              "200288    ANTIOQUIA            ANGOSTURA     5038000   \n",
              "200289    ANTIOQUIA               CAREPA     5147000   \n",
              "200290    ANTIOQUIA        MEDELLÍN (CT)     5001000   \n",
              "200291    ANTIOQUIA        PUERTO BERRÍO     5579000   \n",
              "200292    ATLÁNTICO    BARRANQUILLA (CT)     8001000   \n",
              "...             ...                  ...         ...   \n",
              "528875      VICHADA  PUERTO CARREÑO (CT)    99001000   \n",
              "528876      VICHADA        SANTA ROSALÍA    99624000   \n",
              "528877      VICHADA        SANTA ROSALÍA    99624000   \n",
              "528878      VICHADA        SANTA ROSALÍA    99624000   \n",
              "528879      VICHADA        SANTA ROSALÍA    99624000   \n",
              "\n",
              "                       ARMAS MEDIOS FECHA HECHO     GENERO  GRUPO ETARIO  \\\n",
              "200288  ARMA BLANCA / CORTOPUNZANTE  2017-01-01   FEMENINO       ADULTOS   \n",
              "200289  ARMA BLANCA / CORTOPUNZANTE  2017-01-01   FEMENINO  ADOLESCENTES   \n",
              "200290  ARMA BLANCA / CORTOPUNZANTE  2017-01-01  MASCULINO       ADULTOS   \n",
              "200291  ARMA BLANCA / CORTOPUNZANTE  2017-01-01   FEMENINO       ADULTOS   \n",
              "200292  ARMA BLANCA / CORTOPUNZANTE  2017-01-01   FEMENINO       ADULTOS   \n",
              "...                             ...         ...        ...           ...   \n",
              "528875          SIN EMPLEO DE ARMAS  2022-04-17   FEMENINO       ADULTOS   \n",
              "528876          SIN EMPLEO DE ARMAS  2022-01-18   FEMENINO       MENORES   \n",
              "528877          SIN EMPLEO DE ARMAS  2022-02-12   FEMENINO       ADULTOS   \n",
              "528878          SIN EMPLEO DE ARMAS  2022-02-16   FEMENINO       ADULTOS   \n",
              "528879          SIN EMPLEO DE ARMAS  2022-03-06   FEMENINO       ADULTOS   \n",
              "\n",
              "        CANTIDAD  year  month  \n",
              "200288         1  2017      1  \n",
              "200289         1  2017      1  \n",
              "200290         1  2017      1  \n",
              "200291         1  2017      1  \n",
              "200292         1  2017      1  \n",
              "...          ...   ...    ...  \n",
              "528875         1  2022      4  \n",
              "528876         1  2022      1  \n",
              "528877         1  2022      2  \n",
              "528878         1  2022      2  \n",
              "528879         1  2022      3  \n",
              "\n",
              "[328592 rows x 10 columns]"
            ],
            "text/html": [
              "\n",
              "  <div id=\"df-ec629a1a-51ea-4d23-9e4c-c9084f06af65\">\n",
              "    <div class=\"colab-df-container\">\n",
              "      <div>\n",
              "<style scoped>\n",
              "    .dataframe tbody tr th:only-of-type {\n",
              "        vertical-align: middle;\n",
              "    }\n",
              "\n",
              "    .dataframe tbody tr th {\n",
              "        vertical-align: top;\n",
              "    }\n",
              "\n",
              "    .dataframe thead th {\n",
              "        text-align: right;\n",
              "    }\n",
              "</style>\n",
              "<table border=\"1\" class=\"dataframe\">\n",
              "  <thead>\n",
              "    <tr style=\"text-align: right;\">\n",
              "      <th></th>\n",
              "      <th>DEPARTAMENTO</th>\n",
              "      <th>MUNICIPIO</th>\n",
              "      <th>CODIGO DANE</th>\n",
              "      <th>ARMAS MEDIOS</th>\n",
              "      <th>FECHA HECHO</th>\n",
              "      <th>GENERO</th>\n",
              "      <th>GRUPO ETARIO</th>\n",
              "      <th>CANTIDAD</th>\n",
              "      <th>year</th>\n",
              "      <th>month</th>\n",
              "    </tr>\n",
              "  </thead>\n",
              "  <tbody>\n",
              "    <tr>\n",
              "      <th>200288</th>\n",
              "      <td>ANTIOQUIA</td>\n",
              "      <td>ANGOSTURA</td>\n",
              "      <td>5038000</td>\n",
              "      <td>ARMA BLANCA / CORTOPUNZANTE</td>\n",
              "      <td>2017-01-01</td>\n",
              "      <td>FEMENINO</td>\n",
              "      <td>ADULTOS</td>\n",
              "      <td>1</td>\n",
              "      <td>2017</td>\n",
              "      <td>1</td>\n",
              "    </tr>\n",
              "    <tr>\n",
              "      <th>200289</th>\n",
              "      <td>ANTIOQUIA</td>\n",
              "      <td>CAREPA</td>\n",
              "      <td>5147000</td>\n",
              "      <td>ARMA BLANCA / CORTOPUNZANTE</td>\n",
              "      <td>2017-01-01</td>\n",
              "      <td>FEMENINO</td>\n",
              "      <td>ADOLESCENTES</td>\n",
              "      <td>1</td>\n",
              "      <td>2017</td>\n",
              "      <td>1</td>\n",
              "    </tr>\n",
              "    <tr>\n",
              "      <th>200290</th>\n",
              "      <td>ANTIOQUIA</td>\n",
              "      <td>MEDELLÍN (CT)</td>\n",
              "      <td>5001000</td>\n",
              "      <td>ARMA BLANCA / CORTOPUNZANTE</td>\n",
              "      <td>2017-01-01</td>\n",
              "      <td>MASCULINO</td>\n",
              "      <td>ADULTOS</td>\n",
              "      <td>1</td>\n",
              "      <td>2017</td>\n",
              "      <td>1</td>\n",
              "    </tr>\n",
              "    <tr>\n",
              "      <th>200291</th>\n",
              "      <td>ANTIOQUIA</td>\n",
              "      <td>PUERTO BERRÍO</td>\n",
              "      <td>5579000</td>\n",
              "      <td>ARMA BLANCA / CORTOPUNZANTE</td>\n",
              "      <td>2017-01-01</td>\n",
              "      <td>FEMENINO</td>\n",
              "      <td>ADULTOS</td>\n",
              "      <td>1</td>\n",
              "      <td>2017</td>\n",
              "      <td>1</td>\n",
              "    </tr>\n",
              "    <tr>\n",
              "      <th>200292</th>\n",
              "      <td>ATLÁNTICO</td>\n",
              "      <td>BARRANQUILLA (CT)</td>\n",
              "      <td>8001000</td>\n",
              "      <td>ARMA BLANCA / CORTOPUNZANTE</td>\n",
              "      <td>2017-01-01</td>\n",
              "      <td>FEMENINO</td>\n",
              "      <td>ADULTOS</td>\n",
              "      <td>1</td>\n",
              "      <td>2017</td>\n",
              "      <td>1</td>\n",
              "    </tr>\n",
              "    <tr>\n",
              "      <th>...</th>\n",
              "      <td>...</td>\n",
              "      <td>...</td>\n",
              "      <td>...</td>\n",
              "      <td>...</td>\n",
              "      <td>...</td>\n",
              "      <td>...</td>\n",
              "      <td>...</td>\n",
              "      <td>...</td>\n",
              "      <td>...</td>\n",
              "      <td>...</td>\n",
              "    </tr>\n",
              "    <tr>\n",
              "      <th>528875</th>\n",
              "      <td>VICHADA</td>\n",
              "      <td>PUERTO CARREÑO (CT)</td>\n",
              "      <td>99001000</td>\n",
              "      <td>SIN EMPLEO DE ARMAS</td>\n",
              "      <td>2022-04-17</td>\n",
              "      <td>FEMENINO</td>\n",
              "      <td>ADULTOS</td>\n",
              "      <td>1</td>\n",
              "      <td>2022</td>\n",
              "      <td>4</td>\n",
              "    </tr>\n",
              "    <tr>\n",
              "      <th>528876</th>\n",
              "      <td>VICHADA</td>\n",
              "      <td>SANTA ROSALÍA</td>\n",
              "      <td>99624000</td>\n",
              "      <td>SIN EMPLEO DE ARMAS</td>\n",
              "      <td>2022-01-18</td>\n",
              "      <td>FEMENINO</td>\n",
              "      <td>MENORES</td>\n",
              "      <td>1</td>\n",
              "      <td>2022</td>\n",
              "      <td>1</td>\n",
              "    </tr>\n",
              "    <tr>\n",
              "      <th>528877</th>\n",
              "      <td>VICHADA</td>\n",
              "      <td>SANTA ROSALÍA</td>\n",
              "      <td>99624000</td>\n",
              "      <td>SIN EMPLEO DE ARMAS</td>\n",
              "      <td>2022-02-12</td>\n",
              "      <td>FEMENINO</td>\n",
              "      <td>ADULTOS</td>\n",
              "      <td>1</td>\n",
              "      <td>2022</td>\n",
              "      <td>2</td>\n",
              "    </tr>\n",
              "    <tr>\n",
              "      <th>528878</th>\n",
              "      <td>VICHADA</td>\n",
              "      <td>SANTA ROSALÍA</td>\n",
              "      <td>99624000</td>\n",
              "      <td>SIN EMPLEO DE ARMAS</td>\n",
              "      <td>2022-02-16</td>\n",
              "      <td>FEMENINO</td>\n",
              "      <td>ADULTOS</td>\n",
              "      <td>1</td>\n",
              "      <td>2022</td>\n",
              "      <td>2</td>\n",
              "    </tr>\n",
              "    <tr>\n",
              "      <th>528879</th>\n",
              "      <td>VICHADA</td>\n",
              "      <td>SANTA ROSALÍA</td>\n",
              "      <td>99624000</td>\n",
              "      <td>SIN EMPLEO DE ARMAS</td>\n",
              "      <td>2022-03-06</td>\n",
              "      <td>FEMENINO</td>\n",
              "      <td>ADULTOS</td>\n",
              "      <td>1</td>\n",
              "      <td>2022</td>\n",
              "      <td>3</td>\n",
              "    </tr>\n",
              "  </tbody>\n",
              "</table>\n",
              "<p>328592 rows × 10 columns</p>\n",
              "</div>\n",
              "      <button class=\"colab-df-convert\" onclick=\"convertToInteractive('df-ec629a1a-51ea-4d23-9e4c-c9084f06af65')\"\n",
              "              title=\"Convert this dataframe to an interactive table.\"\n",
              "              style=\"display:none;\">\n",
              "        \n",
              "  <svg xmlns=\"http://www.w3.org/2000/svg\" height=\"24px\"viewBox=\"0 0 24 24\"\n",
              "       width=\"24px\">\n",
              "    <path d=\"M0 0h24v24H0V0z\" fill=\"none\"/>\n",
              "    <path d=\"M18.56 5.44l.94 2.06.94-2.06 2.06-.94-2.06-.94-.94-2.06-.94 2.06-2.06.94zm-11 1L8.5 8.5l.94-2.06 2.06-.94-2.06-.94L8.5 2.5l-.94 2.06-2.06.94zm10 10l.94 2.06.94-2.06 2.06-.94-2.06-.94-.94-2.06-.94 2.06-2.06.94z\"/><path d=\"M17.41 7.96l-1.37-1.37c-.4-.4-.92-.59-1.43-.59-.52 0-1.04.2-1.43.59L10.3 9.45l-7.72 7.72c-.78.78-.78 2.05 0 2.83L4 21.41c.39.39.9.59 1.41.59.51 0 1.02-.2 1.41-.59l7.78-7.78 2.81-2.81c.8-.78.8-2.07 0-2.86zM5.41 20L4 18.59l7.72-7.72 1.47 1.35L5.41 20z\"/>\n",
              "  </svg>\n",
              "      </button>\n",
              "      \n",
              "  <style>\n",
              "    .colab-df-container {\n",
              "      display:flex;\n",
              "      flex-wrap:wrap;\n",
              "      gap: 12px;\n",
              "    }\n",
              "\n",
              "    .colab-df-convert {\n",
              "      background-color: #E8F0FE;\n",
              "      border: none;\n",
              "      border-radius: 50%;\n",
              "      cursor: pointer;\n",
              "      display: none;\n",
              "      fill: #1967D2;\n",
              "      height: 32px;\n",
              "      padding: 0 0 0 0;\n",
              "      width: 32px;\n",
              "    }\n",
              "\n",
              "    .colab-df-convert:hover {\n",
              "      background-color: #E2EBFA;\n",
              "      box-shadow: 0px 1px 2px rgba(60, 64, 67, 0.3), 0px 1px 3px 1px rgba(60, 64, 67, 0.15);\n",
              "      fill: #174EA6;\n",
              "    }\n",
              "\n",
              "    [theme=dark] .colab-df-convert {\n",
              "      background-color: #3B4455;\n",
              "      fill: #D2E3FC;\n",
              "    }\n",
              "\n",
              "    [theme=dark] .colab-df-convert:hover {\n",
              "      background-color: #434B5C;\n",
              "      box-shadow: 0px 1px 3px 1px rgba(0, 0, 0, 0.15);\n",
              "      filter: drop-shadow(0px 1px 2px rgba(0, 0, 0, 0.3));\n",
              "      fill: #FFFFFF;\n",
              "    }\n",
              "  </style>\n",
              "\n",
              "      <script>\n",
              "        const buttonEl =\n",
              "          document.querySelector('#df-ec629a1a-51ea-4d23-9e4c-c9084f06af65 button.colab-df-convert');\n",
              "        buttonEl.style.display =\n",
              "          google.colab.kernel.accessAllowed ? 'block' : 'none';\n",
              "\n",
              "        async function convertToInteractive(key) {\n",
              "          const element = document.querySelector('#df-ec629a1a-51ea-4d23-9e4c-c9084f06af65');\n",
              "          const dataTable =\n",
              "            await google.colab.kernel.invokeFunction('convertToInteractive',\n",
              "                                                     [key], {});\n",
              "          if (!dataTable) return;\n",
              "\n",
              "          const docLinkHtml = 'Like what you see? Visit the ' +\n",
              "            '<a target=\"_blank\" href=https://colab.research.google.com/notebooks/data_table.ipynb>data table notebook</a>'\n",
              "            + ' to learn more about interactive tables.';\n",
              "          element.innerHTML = '';\n",
              "          dataTable['output_type'] = 'display_data';\n",
              "          await google.colab.output.renderOutput(dataTable, element);\n",
              "          const docLink = document.createElement('div');\n",
              "          docLink.innerHTML = docLinkHtml;\n",
              "          element.appendChild(docLink);\n",
              "        }\n",
              "      </script>\n",
              "    </div>\n",
              "  </div>\n",
              "  "
            ]
          },
          "metadata": {},
          "execution_count": 106
        }
      ]
    },
    {
      "cell_type": "code",
      "source": [
        "vi_df_last_5.groupby(\"DEPARTAMENTO\").sum().sort_values(by = 'CANTIDAD', ascending = False).head(3)['CANTIDAD']"
      ],
      "metadata": {
        "colab": {
          "base_uri": "https://localhost:8080/"
        },
        "id": "nEEUKkMCsW7G",
        "outputId": "54f95f3e-09de-4b45-d0e6-692a25bc2256"
      },
      "execution_count": 107,
      "outputs": [
        {
          "output_type": "execute_result",
          "data": {
            "text/plain": [
              "DEPARTAMENTO\n",
              "CUNDINAMARCA    222353\n",
              "ANTIOQUIA        79031\n",
              "VALLE            45156\n",
              "Name: CANTIDAD, dtype: int64"
            ]
          },
          "metadata": {},
          "execution_count": 107
        }
      ]
    },
    {
      "cell_type": "markdown",
      "source": [
        "Top 3 Departamentos mas afectados en cantidad de delitos en los 5 ultimos años (Delitos Sexuales)"
      ],
      "metadata": {
        "id": "yI-0bl8eiC1B"
      }
    },
    {
      "cell_type": "code",
      "source": [
        "#Filtrar Dataframe para que solamente muestre los ultimos 5 años\n",
        "ds_df_last_5 = ds_df[ds_df['year'] >= (ds_df['year'].max()-5)]"
      ],
      "metadata": {
        "id": "pwAHd81IsXmH"
      },
      "execution_count": 109,
      "outputs": []
    },
    {
      "cell_type": "code",
      "source": [
        "ds_df_last_5.groupby(\"DEPARTAMENTO\").sum().sort_values(by = 'CANTIDAD', ascending = False).head(3)['CANTIDAD']"
      ],
      "metadata": {
        "colab": {
          "base_uri": "https://localhost:8080/"
        },
        "id": "nI9io6-DsX2g",
        "outputId": "3534506f-2ca2-44bf-f54f-fdf96ece3123"
      },
      "execution_count": 110,
      "outputs": [
        {
          "output_type": "execute_result",
          "data": {
            "text/plain": [
              "DEPARTAMENTO\n",
              "CUNDINAMARCA    37982\n",
              "ANTIOQUIA       23494\n",
              "VALLE           15569\n",
              "Name: CANTIDAD, dtype: int64"
            ]
          },
          "metadata": {},
          "execution_count": 110
        }
      ]
    },
    {
      "cell_type": "markdown",
      "source": [
        "Top 3 Departamentos mas afectados en cantidad de delitos en los 5 ultimos años (Homicidios Accidentes Transito)"
      ],
      "metadata": {
        "id": "IAAms6aMiFnK"
      }
    },
    {
      "cell_type": "code",
      "source": [
        "#Filtrar Dataframe para que solamente muestre los ultimos 5 años\n",
        "hat_df_last_5 = hat_df[hat_df['year'] >= (hat_df['year'].max()-5)]"
      ],
      "metadata": {
        "id": "7AZkeFaOsYXr"
      },
      "execution_count": 112,
      "outputs": []
    },
    {
      "cell_type": "code",
      "source": [
        "hat_df_last_5.groupby(\"DEPARTAMENTO\").sum().sort_values(by = 'CANTIDAD', ascending = False).head(3)['CANTIDAD']"
      ],
      "metadata": {
        "colab": {
          "base_uri": "https://localhost:8080/"
        },
        "id": "O2nJ_vybsYOZ",
        "outputId": "910acb93-95bf-4351-b36f-46d34c50b76b"
      },
      "execution_count": 113,
      "outputs": [
        {
          "output_type": "execute_result",
          "data": {
            "text/plain": [
              "DEPARTAMENTO\n",
              "CUNDINAMARCA    4737\n",
              "ANTIOQUIA       4393\n",
              "VALLE           3855\n",
              "Name: CANTIDAD, dtype: int64"
            ]
          },
          "metadata": {},
          "execution_count": 113
        }
      ]
    },
    {
      "cell_type": "markdown",
      "source": [
        "##2.2 Para los casos en los que aplique, ¿cuál ha sido el arma o medio más común para cometer el delito?"
      ],
      "metadata": {
        "id": "xC2NQNWJuOKC"
      }
    },
    {
      "cell_type": "markdown",
      "source": [
        "R/ De los delitos escogidos se podía realizar el análisis acerca de solamente tres de ellos: Lesiones Personales, Violencia Familiar y Delitos Sexuales. \n",
        "\n",
        "* Para los data frame de Lesiones Personales se encuentra que las armas mayormente utilizadas en este tipo de delitos son armas contundentes.\n",
        "* Para los delitos sexuales se encuentra que para la mayor cantidad de estos delitos fueron sin utilizar armas. "
      ],
      "metadata": {
        "id": "qTIKpouJw_5C"
      }
    },
    {
      "cell_type": "code",
      "source": [
        "ls_df.groupby(\"ARMAS MEDIOS\").sum().sort_values(by = 'CANTIDAD', ascending = False).head(10)['CANTIDAD']"
      ],
      "metadata": {
        "colab": {
          "base_uri": "https://localhost:8080/"
        },
        "id": "Efsr1NHbuRdF",
        "outputId": "6d6d1b17-074c-4359-c67e-34501486de82"
      },
      "execution_count": 114,
      "outputs": [
        {
          "output_type": "execute_result",
          "data": {
            "text/plain": [
              "ARMAS MEDIOS\n",
              "CONTUNDENTES                   584986\n",
              "ARMA BLANCA / CORTOPUNZANTE    424040\n",
              "VEHICULO                       254127\n",
              "MOTO                           153216\n",
              "SIN EMPLEO DE ARMAS            100682\n",
              "NO REPORTA                      59464\n",
              "ARMA DE FUEGO                   56094\n",
              "ACIDO                           15590\n",
              "PUNZANTES                        5388\n",
              "BICICLETA                        2672\n",
              "Name: CANTIDAD, dtype: int64"
            ]
          },
          "metadata": {},
          "execution_count": 114
        }
      ]
    },
    {
      "cell_type": "code",
      "source": [
        "vi_df.groupby(\"ARMAS MEDIOS\").sum().sort_values(by = 'CANTIDAD', ascending = False).head(10)['CANTIDAD']"
      ],
      "metadata": {
        "colab": {
          "base_uri": "https://localhost:8080/"
        },
        "id": "2_Mi1Q-GudLZ",
        "outputId": "364fc494-c11c-482c-d909-75f3d1cd81d3"
      },
      "execution_count": 115,
      "outputs": [
        {
          "output_type": "execute_result",
          "data": {
            "text/plain": [
              "ARMAS MEDIOS\n",
              "CONTUNDENTES                   414516\n",
              "SIN EMPLEO DE ARMAS            296258\n",
              "NO REPORTA                     154657\n",
              "ARMA BLANCA / CORTOPUNZANTE     46459\n",
              "ESCOPOLAMINA                     7294\n",
              "ARMA DE FUEGO                    2624\n",
              "CORTOPUNZANTES                   1195\n",
              "CORTANTES                        1178\n",
              "PUNZANTES                         336\n",
              "Name: CANTIDAD, dtype: int64"
            ]
          },
          "metadata": {},
          "execution_count": 115
        }
      ]
    },
    {
      "cell_type": "code",
      "source": [
        "ds_df.groupby(\"ARMAS MEDIOS\").sum().sort_values(by = 'CANTIDAD', ascending = False).head(10)['CANTIDAD']"
      ],
      "metadata": {
        "colab": {
          "base_uri": "https://localhost:8080/"
        },
        "id": "-AT69PXhuek9",
        "outputId": "a00dc30d-2a57-4b03-9a98-574995fa0428"
      },
      "execution_count": 116,
      "outputs": [
        {
          "output_type": "execute_result",
          "data": {
            "text/plain": [
              "ARMAS MEDIOS\n",
              "SIN EMPLEO DE ARMAS            130259\n",
              "NO REPORTA                      70048\n",
              "CONTUNDENTES                    45995\n",
              "ARMA BLANCA / CORTOPUNZANTE     13098\n",
              "ESCOPOLAMINA                     6268\n",
              "ARMA DE FUEGO                    2254\n",
              "LICOR ADULTERADO                  971\n",
              "CORTOPUNZANTES                    107\n",
              "CINTAS/CINTURON                   105\n",
              "ESPOSAS                            63\n",
              "Name: CANTIDAD, dtype: int64"
            ]
          },
          "metadata": {},
          "execution_count": 116
        }
      ]
    },
    {
      "cell_type": "markdown",
      "source": [
        "##2.3 Para los casos en los que aplique, ¿cómo ha sido la proporción de géneros  grupos etarios que han estado involucrados en este tipo de delito? ¿Han variado con el paso de los años?"
      ],
      "metadata": {
        "id": "YCnB1l-z44ck"
      }
    },
    {
      "cell_type": "markdown",
      "source": [
        "R/ Para cada uno de los dataframes analizados se evidencia que las personas del genero masculino han sido los mas involucrados en este tipo de delitos. Estos a lo largo de los años se han venido incrementando con la excepción que desde el año 2018 se evidencia una disminución. Este mismo comportamiento se evidencia con los ADULTOS con la variable de GRUPO ETARIO. "
      ],
      "metadata": {
        "id": "zShlRhdRazUP"
      }
    },
    {
      "cell_type": "markdown",
      "source": [
        "Data Frame de lesiones: "
      ],
      "metadata": {
        "id": "CK-X2q_p5JP6"
      }
    },
    {
      "cell_type": "code",
      "source": [
        "#Creacion de nueva variable conteniendo genero, año y creacion de grafica\n",
        "ls_genero = ls_df.groupby(['GENERO', 'year']).sum().sort_values(by = 'CANTIDAD', ascending = False)['CANTIDAD']\n",
        "ls_genero = ls_genero.reset_index()\n",
        "ls_genero.sort_values(by = 'year')"
      ],
      "metadata": {
        "id": "pXJhMoFQ5GcS"
      },
      "execution_count": null,
      "outputs": []
    },
    {
      "cell_type": "code",
      "source": [
        "fig, ax = plt.subplots(figsize=(20, 8))\n",
        "sns.barplot(ax = ax, data = ls_genero, x='year', y='CANTIDAD', hue ='GENERO')"
      ],
      "metadata": {
        "colab": {
          "base_uri": "https://localhost:8080/",
          "height": 0
        },
        "id": "gHezHA-x-_mx",
        "outputId": "715b807b-26ff-40a0-93bf-d218fa20e40a"
      },
      "execution_count": 118,
      "outputs": [
        {
          "output_type": "execute_result",
          "data": {
            "text/plain": [
              "<matplotlib.axes._subplots.AxesSubplot at 0x7fe5430b0610>"
            ]
          },
          "metadata": {},
          "execution_count": 118
        },
        {
          "output_type": "display_data",
          "data": {
            "text/plain": [
              "<Figure size 1440x576 with 1 Axes>"
            ],
            "image/png": "[encoded data removed]"
          },
          "metadata": {
            "needs_background": "light"
          }
        }
      ]
    },
    {
      "cell_type": "code",
      "source": [
        "#Creacion de nueva variable conteniendo grupo etario, año y creacion de grafica\n",
        "ls_grupoetario = ls_df.groupby(['GRUPO ETARIO', 'year']).sum().sort_values(by = 'CANTIDAD', ascending = False)['CANTIDAD']\n",
        "ls_grupoetario = ls_grupoetario.reset_index()\n",
        "ls_grupoetario.sort_values(by = 'year')"
      ],
      "metadata": {
        "colab": {
          "base_uri": "https://localhost:8080/",
          "height": 0
        },
        "id": "LoS-ppu6LxCc",
        "outputId": "f6e22596-9c4a-44d3-8a27-79ca9a7ed0c6"
      },
      "execution_count": 119,
      "outputs": [
        {
          "output_type": "execute_result",
          "data": {
            "text/plain": [
              "    GRUPO ETARIO  year  CANTIDAD\n",
              "22  ADOLESCENTES  2010      7165\n",
              "33       MENORES  2010      3378\n",
              "10       ADULTOS  2010     78602\n",
              "21  ADOLESCENTES  2011      8273\n",
              "9        ADULTOS  2011     87426\n",
              "32       MENORES  2011      3451\n",
              "19  ADOLESCENTES  2012      9239\n",
              "31       MENORES  2012      3567\n",
              "45    NO REPORTA  2012         2\n",
              "7        ADULTOS  2012    107504\n",
              "5        ADULTOS  2013    110738\n",
              "28       MENORES  2013      3948\n",
              "18  ADOLESCENTES  2013      9534\n",
              "6        ADULTOS  2014    109867\n",
              "30       MENORES  2014      3748\n",
              "46    NO REPORTA  2014         1\n",
              "20  ADOLESCENTES  2014      9052\n",
              "4        ADULTOS  2015    115901\n",
              "29       MENORES  2015      3794\n",
              "47    NO REPORTA  2015         1\n",
              "17  ADOLESCENTES  2015      9855\n",
              "23       MENORES  2016      5545\n",
              "0        ADULTOS  2016    184067\n",
              "48    NO REPORTA  2016         1\n",
              "13  ADOLESCENTES  2016     14650\n",
              "24       MENORES  2017      5183\n",
              "1        ADULTOS  2017    181217\n",
              "44    NO REPORTA  2017        12\n",
              "14  ADOLESCENTES  2017     13524\n",
              "2        ADULTOS  2018    171195\n",
              "41    NO REPORTA  2018        41\n",
              "15  ADOLESCENTES  2018     11836\n",
              "26       MENORES  2018      4232\n",
              "3        ADULTOS  2019    144650\n",
              "16  ADOLESCENTES  2019     10717\n",
              "27       MENORES  2019      4039\n",
              "42    NO REPORTA  2019        26\n",
              "25  ADOLESCENTES  2020      4477\n",
              "35       MENORES  2020      1670\n",
              "38    NO REPORTA  2020      1083\n",
              "11       ADULTOS  2020     77063\n",
              "8     NO REPORTA  2021     98446\n",
              "43       MENORES  2021        14\n",
              "40  ADOLESCENTES  2021        55\n",
              "37       ADULTOS  2021      1143\n",
              "39    NO REPORTA  2022        57\n",
              "34  ADOLESCENTES  2022      3363\n",
              "12       ADULTOS  2022     43754\n",
              "36       MENORES  2022      1442"
            ],
            "text/html": [
              "\n",
              "  <div id=\"df-ad9e7fe0-23f6-4f80-8cb5-feaebd8464b9\">\n",
              "    <div class=\"colab-df-container\">\n",
              "      <div>\n",
              "<style scoped>\n",
              "    .dataframe tbody tr th:only-of-type {\n",
              "        vertical-align: middle;\n",
              "    }\n",
              "\n",
              "    .dataframe tbody tr th {\n",
              "        vertical-align: top;\n",
              "    }\n",
              "\n",
              "    .dataframe thead th {\n",
              "        text-align: right;\n",
              "    }\n",
              "</style>\n",
              "<table border=\"1\" class=\"dataframe\">\n",
              "  <thead>\n",
              "    <tr style=\"text-align: right;\">\n",
              "      <th></th>\n",
              "      <th>GRUPO ETARIO</th>\n",
              "      <th>year</th>\n",
              "      <th>CANTIDAD</th>\n",
              "    </tr>\n",
              "  </thead>\n",
              "  <tbody>\n",
              "    <tr>\n",
              "      <th>22</th>\n",
              "      <td>ADOLESCENTES</td>\n",
              "      <td>2010</td>\n",
              "      <td>7165</td>\n",
              "    </tr>\n",
              "    <tr>\n",
              "      <th>33</th>\n",
              "      <td>MENORES</td>\n",
              "      <td>2010</td>\n",
              "      <td>3378</td>\n",
              "    </tr>\n",
              "    <tr>\n",
              "      <th>10</th>\n",
              "      <td>ADULTOS</td>\n",
              "      <td>2010</td>\n",
              "      <td>78602</td>\n",
              "    </tr>\n",
              "    <tr>\n",
              "      <th>21</th>\n",
              "      <td>ADOLESCENTES</td>\n",
              "      <td>2011</td>\n",
              "      <td>8273</td>\n",
              "    </tr>\n",
              "    <tr>\n",
              "      <th>9</th>\n",
              "      <td>ADULTOS</td>\n",
              "      <td>2011</td>\n",
              "      <td>87426</td>\n",
              "    </tr>\n",
              "    <tr>\n",
              "      <th>32</th>\n",
              "      <td>MENORES</td>\n",
              "      <td>2011</td>\n",
              "      <td>3451</td>\n",
              "    </tr>\n",
              "    <tr>\n",
              "      <th>19</th>\n",
              "      <td>ADOLESCENTES</td>\n",
              "      <td>2012</td>\n",
              "      <td>9239</td>\n",
              "    </tr>\n",
              "    <tr>\n",
              "      <th>31</th>\n",
              "      <td>MENORES</td>\n",
              "      <td>2012</td>\n",
              "      <td>3567</td>\n",
              "    </tr>\n",
              "    <tr>\n",
              "      <th>45</th>\n",
              "      <td>NO REPORTA</td>\n",
              "      <td>2012</td>\n",
              "      <td>2</td>\n",
              "    </tr>\n",
              "    <tr>\n",
              "      <th>7</th>\n",
              "      <td>ADULTOS</td>\n",
              "      <td>2012</td>\n",
              "      <td>107504</td>\n",
              "    </tr>\n",
              "    <tr>\n",
              "      <th>5</th>\n",
              "      <td>ADULTOS</td>\n",
              "      <td>2013</td>\n",
              "      <td>110738</td>\n",
              "    </tr>\n",
              "    <tr>\n",
              "      <th>28</th>\n",
              "      <td>MENORES</td>\n",
              "      <td>2013</td>\n",
              "      <td>3948</td>\n",
              "    </tr>\n",
              "    <tr>\n",
              "      <th>18</th>\n",
              "      <td>ADOLESCENTES</td>\n",
              "      <td>2013</td>\n",
              "      <td>9534</td>\n",
              "    </tr>\n",
              "    <tr>\n",
              "      <th>6</th>\n",
              "      <td>ADULTOS</td>\n",
              "      <td>2014</td>\n",
              "      <td>109867</td>\n",
              "    </tr>\n",
              "    <tr>\n",
              "      <th>30</th>\n",
              "      <td>MENORES</td>\n",
              "      <td>2014</td>\n",
              "      <td>3748</td>\n",
              "    </tr>\n",
              "    <tr>\n",
              "      <th>46</th>\n",
              "      <td>NO REPORTA</td>\n",
              "      <td>2014</td>\n",
              "      <td>1</td>\n",
              "    </tr>\n",
              "    <tr>\n",
              "      <th>20</th>\n",
              "      <td>ADOLESCENTES</td>\n",
              "      <td>2014</td>\n",
              "      <td>9052</td>\n",
              "    </tr>\n",
              "    <tr>\n",
              "      <th>4</th>\n",
              "      <td>ADULTOS</td>\n",
              "      <td>2015</td>\n",
              "      <td>115901</td>\n",
              "    </tr>\n",
              "    <tr>\n",
              "      <th>29</th>\n",
              "      <td>MENORES</td>\n",
              "      <td>2015</td>\n",
              "      <td>3794</td>\n",
              "    </tr>\n",
              "    <tr>\n",
              "      <th>47</th>\n",
              "      <td>NO REPORTA</td>\n",
              "      <td>2015</td>\n",
              "      <td>1</td>\n",
              "    </tr>\n",
              "    <tr>\n",
              "      <th>17</th>\n",
              "      <td>ADOLESCENTES</td>\n",
              "      <td>2015</td>\n",
              "      <td>9855</td>\n",
              "    </tr>\n",
              "    <tr>\n",
              "      <th>23</th>\n",
              "      <td>MENORES</td>\n",
              "      <td>2016</td>\n",
              "      <td>5545</td>\n",
              "    </tr>\n",
              "    <tr>\n",
              "      <th>0</th>\n",
              "      <td>ADULTOS</td>\n",
              "      <td>2016</td>\n",
              "      <td>184067</td>\n",
              "    </tr>\n",
              "    <tr>\n",
              "      <th>48</th>\n",
              "      <td>NO REPORTA</td>\n",
              "      <td>2016</td>\n",
              "      <td>1</td>\n",
              "    </tr>\n",
              "    <tr>\n",
              "      <th>13</th>\n",
              "      <td>ADOLESCENTES</td>\n",
              "      <td>2016</td>\n",
              "      <td>14650</td>\n",
              "    </tr>\n",
              "    <tr>\n",
              "      <th>24</th>\n",
              "      <td>MENORES</td>\n",
              "      <td>2017</td>\n",
              "      <td>5183</td>\n",
              "    </tr>\n",
              "    <tr>\n",
              "      <th>1</th>\n",
              "      <td>ADULTOS</td>\n",
              "      <td>2017</td>\n",
              "      <td>181217</td>\n",
              "    </tr>\n",
              "    <tr>\n",
              "      <th>44</th>\n",
              "      <td>NO REPORTA</td>\n",
              "      <td>2017</td>\n",
              "      <td>12</td>\n",
              "    </tr>\n",
              "    <tr>\n",
              "      <th>14</th>\n",
              "      <td>ADOLESCENTES</td>\n",
              "      <td>2017</td>\n",
              "      <td>13524</td>\n",
              "    </tr>\n",
              "    <tr>\n",
              "      <th>2</th>\n",
              "      <td>ADULTOS</td>\n",
              "      <td>2018</td>\n",
              "      <td>171195</td>\n",
              "    </tr>\n",
              "    <tr>\n",
              "      <th>41</th>\n",
              "      <td>NO REPORTA</td>\n",
              "      <td>2018</td>\n",
              "      <td>41</td>\n",
              "    </tr>\n",
              "    <tr>\n",
              "      <th>15</th>\n",
              "      <td>ADOLESCENTES</td>\n",
              "      <td>2018</td>\n",
              "      <td>11836</td>\n",
              "    </tr>\n",
              "    <tr>\n",
              "      <th>26</th>\n",
              "      <td>MENORES</td>\n",
              "      <td>2018</td>\n",
              "      <td>4232</td>\n",
              "    </tr>\n",
              "    <tr>\n",
              "      <th>3</th>\n",
              "      <td>ADULTOS</td>\n",
              "      <td>2019</td>\n",
              "      <td>144650</td>\n",
              "    </tr>\n",
              "    <tr>\n",
              "      <th>16</th>\n",
              "      <td>ADOLESCENTES</td>\n",
              "      <td>2019</td>\n",
              "      <td>10717</td>\n",
              "    </tr>\n",
              "    <tr>\n",
              "      <th>27</th>\n",
              "      <td>MENORES</td>\n",
              "      <td>2019</td>\n",
              "      <td>4039</td>\n",
              "    </tr>\n",
              "    <tr>\n",
              "      <th>42</th>\n",
              "      <td>NO REPORTA</td>\n",
              "      <td>2019</td>\n",
              "      <td>26</td>\n",
              "    </tr>\n",
              "    <tr>\n",
              "      <th>25</th>\n",
              "      <td>ADOLESCENTES</td>\n",
              "      <td>2020</td>\n",
              "      <td>4477</td>\n",
              "    </tr>\n",
              "    <tr>\n",
              "      <th>35</th>\n",
              "      <td>MENORES</td>\n",
              "      <td>2020</td>\n",
              "      <td>1670</td>\n",
              "    </tr>\n",
              "    <tr>\n",
              "      <th>38</th>\n",
              "      <td>NO REPORTA</td>\n",
              "      <td>2020</td>\n",
              "      <td>1083</td>\n",
              "    </tr>\n",
              "    <tr>\n",
              "      <th>11</th>\n",
              "      <td>ADULTOS</td>\n",
              "      <td>2020</td>\n",
              "      <td>77063</td>\n",
              "    </tr>\n",
              "    <tr>\n",
              "      <th>8</th>\n",
              "      <td>NO REPORTA</td>\n",
              "      <td>2021</td>\n",
              "      <td>98446</td>\n",
              "    </tr>\n",
              "    <tr>\n",
              "      <th>43</th>\n",
              "      <td>MENORES</td>\n",
              "      <td>2021</td>\n",
              "      <td>14</td>\n",
              "    </tr>\n",
              "    <tr>\n",
              "      <th>40</th>\n",
              "      <td>ADOLESCENTES</td>\n",
              "      <td>2021</td>\n",
              "      <td>55</td>\n",
              "    </tr>\n",
              "    <tr>\n",
              "      <th>37</th>\n",
              "      <td>ADULTOS</td>\n",
              "      <td>2021</td>\n",
              "      <td>1143</td>\n",
              "    </tr>\n",
              "    <tr>\n",
              "      <th>39</th>\n",
              "      <td>NO REPORTA</td>\n",
              "      <td>2022</td>\n",
              "      <td>57</td>\n",
              "    </tr>\n",
              "    <tr>\n",
              "      <th>34</th>\n",
              "      <td>ADOLESCENTES</td>\n",
              "      <td>2022</td>\n",
              "      <td>3363</td>\n",
              "    </tr>\n",
              "    <tr>\n",
              "      <th>12</th>\n",
              "      <td>ADULTOS</td>\n",
              "      <td>2022</td>\n",
              "      <td>43754</td>\n",
              "    </tr>\n",
              "    <tr>\n",
              "      <th>36</th>\n",
              "      <td>MENORES</td>\n",
              "      <td>2022</td>\n",
              "      <td>1442</td>\n",
              "    </tr>\n",
              "  </tbody>\n",
              "</table>\n",
              "</div>\n",
              "      <button class=\"colab-df-convert\" onclick=\"convertToInteractive('df-ad9e7fe0-23f6-4f80-8cb5-feaebd8464b9')\"\n",
              "              title=\"Convert this dataframe to an interactive table.\"\n",
              "              style=\"display:none;\">\n",
              "        \n",
              "  <svg xmlns=\"http://www.w3.org/2000/svg\" height=\"24px\"viewBox=\"0 0 24 24\"\n",
              "       width=\"24px\">\n",
              "    <path d=\"M0 0h24v24H0V0z\" fill=\"none\"/>\n",
              "    <path d=\"M18.56 5.44l.94 2.06.94-2.06 2.06-.94-2.06-.94-.94-2.06-.94 2.06-2.06.94zm-11 1L8.5 8.5l.94-2.06 2.06-.94-2.06-.94L8.5 2.5l-.94 2.06-2.06.94zm10 10l.94 2.06.94-2.06 2.06-.94-2.06-.94-.94-2.06-.94 2.06-2.06.94z\"/><path d=\"M17.41 7.96l-1.37-1.37c-.4-.4-.92-.59-1.43-.59-.52 0-1.04.2-1.43.59L10.3 9.45l-7.72 7.72c-.78.78-.78 2.05 0 2.83L4 21.41c.39.39.9.59 1.41.59.51 0 1.02-.2 1.41-.59l7.78-7.78 2.81-2.81c.8-.78.8-2.07 0-2.86zM5.41 20L4 18.59l7.72-7.72 1.47 1.35L5.41 20z\"/>\n",
              "  </svg>\n",
              "      </button>\n",
              "      \n",
              "  <style>\n",
              "    .colab-df-container {\n",
              "      display:flex;\n",
              "      flex-wrap:wrap;\n",
              "      gap: 12px;\n",
              "    }\n",
              "\n",
              "    .colab-df-convert {\n",
              "      background-color: #E8F0FE;\n",
              "      border: none;\n",
              "      border-radius: 50%;\n",
              "      cursor: pointer;\n",
              "      display: none;\n",
              "      fill: #1967D2;\n",
              "      height: 32px;\n",
              "      padding: 0 0 0 0;\n",
              "      width: 32px;\n",
              "    }\n",
              "\n",
              "    .colab-df-convert:hover {\n",
              "      background-color: #E2EBFA;\n",
              "      box-shadow: 0px 1px 2px rgba(60, 64, 67, 0.3), 0px 1px 3px 1px rgba(60, 64, 67, 0.15);\n",
              "      fill: #174EA6;\n",
              "    }\n",
              "\n",
              "    [theme=dark] .colab-df-convert {\n",
              "      background-color: #3B4455;\n",
              "      fill: #D2E3FC;\n",
              "    }\n",
              "\n",
              "    [theme=dark] .colab-df-convert:hover {\n",
              "      background-color: #434B5C;\n",
              "      box-shadow: 0px 1px 3px 1px rgba(0, 0, 0, 0.15);\n",
              "      filter: drop-shadow(0px 1px 2px rgba(0, 0, 0, 0.3));\n",
              "      fill: #FFFFFF;\n",
              "    }\n",
              "  </style>\n",
              "\n",
              "      <script>\n",
              "        const buttonEl =\n",
              "          document.querySelector('#df-ad9e7fe0-23f6-4f80-8cb5-feaebd8464b9 button.colab-df-convert');\n",
              "        buttonEl.style.display =\n",
              "          google.colab.kernel.accessAllowed ? 'block' : 'none';\n",
              "\n",
              "        async function convertToInteractive(key) {\n",
              "          const element = document.querySelector('#df-ad9e7fe0-23f6-4f80-8cb5-feaebd8464b9');\n",
              "          const dataTable =\n",
              "            await google.colab.kernel.invokeFunction('convertToInteractive',\n",
              "                                                     [key], {});\n",
              "          if (!dataTable) return;\n",
              "\n",
              "          const docLinkHtml = 'Like what you see? Visit the ' +\n",
              "            '<a target=\"_blank\" href=https://colab.research.google.com/notebooks/data_table.ipynb>data table notebook</a>'\n",
              "            + ' to learn more about interactive tables.';\n",
              "          element.innerHTML = '';\n",
              "          dataTable['output_type'] = 'display_data';\n",
              "          await google.colab.output.renderOutput(dataTable, element);\n",
              "          const docLink = document.createElement('div');\n",
              "          docLink.innerHTML = docLinkHtml;\n",
              "          element.appendChild(docLink);\n",
              "        }\n",
              "      </script>\n",
              "    </div>\n",
              "  </div>\n",
              "  "
            ]
          },
          "metadata": {},
          "execution_count": 119
        }
      ]
    },
    {
      "cell_type": "code",
      "source": [
        "fig, ax = plt.subplots(figsize=(20, 9))\n",
        "sns.barplot(ax = ax, data = ls_grupoetario, x='year', y='CANTIDAD', hue ='GRUPO ETARIO')"
      ],
      "metadata": {
        "colab": {
          "base_uri": "https://localhost:8080/",
          "height": 0
        },
        "id": "RDTdPo1KMYhG",
        "outputId": "94eca774-63ff-4cea-d059-2a72bfaf0e48"
      },
      "execution_count": 120,
      "outputs": [
        {
          "output_type": "execute_result",
          "data": {
            "text/plain": [
              "<matplotlib.axes._subplots.AxesSubplot at 0x7fe542fc8690>"
            ]
          },
          "metadata": {},
          "execution_count": 120
        },
        {
          "output_type": "display_data",
          "data": {
            "text/plain": [
              "<Figure size 1440x648 with 1 Axes>"
            ],
            "image/png": "[encoded data removed]"
          },
          "metadata": {
            "needs_background": "light"
          }
        }
      ]
    },
    {
      "cell_type": "markdown",
      "source": [
        "Data Frame Violencia Intrafamiliar:"
      ],
      "metadata": {
        "id": "4_0ApBQX5HJW"
      }
    },
    {
      "cell_type": "code",
      "source": [
        "#Creacion de nueva variable conteniendo genero, año y creacion de grafica\n",
        "vi_genero = vi_df.groupby(['GENERO', 'year']).sum().sort_values(by = 'CANTIDAD', ascending = False)['CANTIDAD']\n",
        "vi_genero = vi_genero.reset_index()\n",
        "vi_genero.sort_values(by = 'year')"
      ],
      "metadata": {
        "colab": {
          "base_uri": "https://localhost:8080/",
          "height": 0
        },
        "id": "DFVIkuSW5GZh",
        "outputId": "3ce250d0-a11d-4191-b54e-2f342c7b3147"
      },
      "execution_count": 121,
      "outputs": [
        {
          "output_type": "execute_result",
          "data": {
            "text/plain": [
              "        GENERO  year  CANTIDAD\n",
              "25   MASCULINO  2010      4049\n",
              "34  NO REPORTA  2010        24\n",
              "16    FEMENINO  2010     19098\n",
              "32  NO REPORTA  2011        26\n",
              "14    FEMENINO  2011     22432\n",
              "24   MASCULINO  2011      4736\n",
              "33  NO REPORTA  2012        25\n",
              "11    FEMENINO  2012     26473\n",
              "23   MASCULINO  2012      5919\n",
              "31  NO REPORTA  2013        32\n",
              "10    FEMENINO  2013     26924\n",
              "22   MASCULINO  2013      6120\n",
              "21   MASCULINO  2014      7950\n",
              "7     FEMENINO  2014     40490\n",
              "19   MASCULINO  2015     12427\n",
              "35  NO REPORTA  2015        11\n",
              "6     FEMENINO  2015     63261\n",
              "18   MASCULINO  2016     17241\n",
              "37  NO REPORTA  2016         4\n",
              "4     FEMENINO  2016     79894\n",
              "17   MASCULINO  2017     18561\n",
              "3     FEMENINO  2017     81918\n",
              "29  NO REPORTA  2017        48\n",
              "15   MASCULINO  2018     20264\n",
              "5     FEMENINO  2018     79547\n",
              "26  NO REPORTA  2018        95\n",
              "28  NO REPORTA  2019        54\n",
              "13   MASCULINO  2019     24801\n",
              "0     FEMENINO  2019     91650\n",
              "36  NO REPORTA  2020         8\n",
              "12   MASCULINO  2020     25756\n",
              "2     FEMENINO  2020     87803\n",
              "9    MASCULINO  2021     27190\n",
              "30  NO REPORTA  2021        34\n",
              "1     FEMENINO  2021     89908\n",
              "27  NO REPORTA  2022        69\n",
              "20   MASCULINO  2022     10437\n",
              "8     FEMENINO  2022     29238"
            ],
            "text/html": [
              "\n",
              "  <div id=\"df-668e0238-06b8-4690-91da-f5549b1ddaa4\">\n",
              "    <div class=\"colab-df-container\">\n",
              "      <div>\n",
              "<style scoped>\n",
              "    .dataframe tbody tr th:only-of-type {\n",
              "        vertical-align: middle;\n",
              "    }\n",
              "\n",
              "    .dataframe tbody tr th {\n",
              "        vertical-align: top;\n",
              "    }\n",
              "\n",
              "    .dataframe thead th {\n",
              "        text-align: right;\n",
              "    }\n",
              "</style>\n",
              "<table border=\"1\" class=\"dataframe\">\n",
              "  <thead>\n",
              "    <tr style=\"text-align: right;\">\n",
              "      <th></th>\n",
              "      <th>GENERO</th>\n",
              "      <th>year</th>\n",
              "      <th>CANTIDAD</th>\n",
              "    </tr>\n",
              "  </thead>\n",
              "  <tbody>\n",
              "    <tr>\n",
              "      <th>25</th>\n",
              "      <td>MASCULINO</td>\n",
              "      <td>2010</td>\n",
              "      <td>4049</td>\n",
              "    </tr>\n",
              "    <tr>\n",
              "      <th>34</th>\n",
              "      <td>NO REPORTA</td>\n",
              "      <td>2010</td>\n",
              "      <td>24</td>\n",
              "    </tr>\n",
              "    <tr>\n",
              "      <th>16</th>\n",
              "      <td>FEMENINO</td>\n",
              "      <td>2010</td>\n",
              "      <td>19098</td>\n",
              "    </tr>\n",
              "    <tr>\n",
              "      <th>32</th>\n",
              "      <td>NO REPORTA</td>\n",
              "      <td>2011</td>\n",
              "      <td>26</td>\n",
              "    </tr>\n",
              "    <tr>\n",
              "      <th>14</th>\n",
              "      <td>FEMENINO</td>\n",
              "      <td>2011</td>\n",
              "      <td>22432</td>\n",
              "    </tr>\n",
              "    <tr>\n",
              "      <th>24</th>\n",
              "      <td>MASCULINO</td>\n",
              "      <td>2011</td>\n",
              "      <td>4736</td>\n",
              "    </tr>\n",
              "    <tr>\n",
              "      <th>33</th>\n",
              "      <td>NO REPORTA</td>\n",
              "      <td>2012</td>\n",
              "      <td>25</td>\n",
              "    </tr>\n",
              "    <tr>\n",
              "      <th>11</th>\n",
              "      <td>FEMENINO</td>\n",
              "      <td>2012</td>\n",
              "      <td>26473</td>\n",
              "    </tr>\n",
              "    <tr>\n",
              "      <th>23</th>\n",
              "      <td>MASCULINO</td>\n",
              "      <td>2012</td>\n",
              "      <td>5919</td>\n",
              "    </tr>\n",
              "    <tr>\n",
              "      <th>31</th>\n",
              "      <td>NO REPORTA</td>\n",
              "      <td>2013</td>\n",
              "      <td>32</td>\n",
              "    </tr>\n",
              "    <tr>\n",
              "      <th>10</th>\n",
              "      <td>FEMENINO</td>\n",
              "      <td>2013</td>\n",
              "      <td>26924</td>\n",
              "    </tr>\n",
              "    <tr>\n",
              "      <th>22</th>\n",
              "      <td>MASCULINO</td>\n",
              "      <td>2013</td>\n",
              "      <td>6120</td>\n",
              "    </tr>\n",
              "    <tr>\n",
              "      <th>21</th>\n",
              "      <td>MASCULINO</td>\n",
              "      <td>2014</td>\n",
              "      <td>7950</td>\n",
              "    </tr>\n",
              "    <tr>\n",
              "      <th>7</th>\n",
              "      <td>FEMENINO</td>\n",
              "      <td>2014</td>\n",
              "      <td>40490</td>\n",
              "    </tr>\n",
              "    <tr>\n",
              "      <th>19</th>\n",
              "      <td>MASCULINO</td>\n",
              "      <td>2015</td>\n",
              "      <td>12427</td>\n",
              "    </tr>\n",
              "    <tr>\n",
              "      <th>35</th>\n",
              "      <td>NO REPORTA</td>\n",
              "      <td>2015</td>\n",
              "      <td>11</td>\n",
              "    </tr>\n",
              "    <tr>\n",
              "      <th>6</th>\n",
              "      <td>FEMENINO</td>\n",
              "      <td>2015</td>\n",
              "      <td>63261</td>\n",
              "    </tr>\n",
              "    <tr>\n",
              "      <th>18</th>\n",
              "      <td>MASCULINO</td>\n",
              "      <td>2016</td>\n",
              "      <td>17241</td>\n",
              "    </tr>\n",
              "    <tr>\n",
              "      <th>37</th>\n",
              "      <td>NO REPORTA</td>\n",
              "      <td>2016</td>\n",
              "      <td>4</td>\n",
              "    </tr>\n",
              "    <tr>\n",
              "      <th>4</th>\n",
              "      <td>FEMENINO</td>\n",
              "      <td>2016</td>\n",
              "      <td>79894</td>\n",
              "    </tr>\n",
              "    <tr>\n",
              "      <th>17</th>\n",
              "      <td>MASCULINO</td>\n",
              "      <td>2017</td>\n",
              "      <td>18561</td>\n",
              "    </tr>\n",
              "    <tr>\n",
              "      <th>3</th>\n",
              "      <td>FEMENINO</td>\n",
              "      <td>2017</td>\n",
              "      <td>81918</td>\n",
              "    </tr>\n",
              "    <tr>\n",
              "      <th>29</th>\n",
              "      <td>NO REPORTA</td>\n",
              "      <td>2017</td>\n",
              "      <td>48</td>\n",
              "    </tr>\n",
              "    <tr>\n",
              "      <th>15</th>\n",
              "      <td>MASCULINO</td>\n",
              "      <td>2018</td>\n",
              "      <td>20264</td>\n",
              "    </tr>\n",
              "    <tr>\n",
              "      <th>5</th>\n",
              "      <td>FEMENINO</td>\n",
              "      <td>2018</td>\n",
              "      <td>79547</td>\n",
              "    </tr>\n",
              "    <tr>\n",
              "      <th>26</th>\n",
              "      <td>NO REPORTA</td>\n",
              "      <td>2018</td>\n",
              "      <td>95</td>\n",
              "    </tr>\n",
              "    <tr>\n",
              "      <th>28</th>\n",
              "      <td>NO REPORTA</td>\n",
              "      <td>2019</td>\n",
              "      <td>54</td>\n",
              "    </tr>\n",
              "    <tr>\n",
              "      <th>13</th>\n",
              "      <td>MASCULINO</td>\n",
              "      <td>2019</td>\n",
              "      <td>24801</td>\n",
              "    </tr>\n",
              "    <tr>\n",
              "      <th>0</th>\n",
              "      <td>FEMENINO</td>\n",
              "      <td>2019</td>\n",
              "      <td>91650</td>\n",
              "    </tr>\n",
              "    <tr>\n",
              "      <th>36</th>\n",
              "      <td>NO REPORTA</td>\n",
              "      <td>2020</td>\n",
              "      <td>8</td>\n",
              "    </tr>\n",
              "    <tr>\n",
              "      <th>12</th>\n",
              "      <td>MASCULINO</td>\n",
              "      <td>2020</td>\n",
              "      <td>25756</td>\n",
              "    </tr>\n",
              "    <tr>\n",
              "      <th>2</th>\n",
              "      <td>FEMENINO</td>\n",
              "      <td>2020</td>\n",
              "      <td>87803</td>\n",
              "    </tr>\n",
              "    <tr>\n",
              "      <th>9</th>\n",
              "      <td>MASCULINO</td>\n",
              "      <td>2021</td>\n",
              "      <td>27190</td>\n",
              "    </tr>\n",
              "    <tr>\n",
              "      <th>30</th>\n",
              "      <td>NO REPORTA</td>\n",
              "      <td>2021</td>\n",
              "      <td>34</td>\n",
              "    </tr>\n",
              "    <tr>\n",
              "      <th>1</th>\n",
              "      <td>FEMENINO</td>\n",
              "      <td>2021</td>\n",
              "      <td>89908</td>\n",
              "    </tr>\n",
              "    <tr>\n",
              "      <th>27</th>\n",
              "      <td>NO REPORTA</td>\n",
              "      <td>2022</td>\n",
              "      <td>69</td>\n",
              "    </tr>\n",
              "    <tr>\n",
              "      <th>20</th>\n",
              "      <td>MASCULINO</td>\n",
              "      <td>2022</td>\n",
              "      <td>10437</td>\n",
              "    </tr>\n",
              "    <tr>\n",
              "      <th>8</th>\n",
              "      <td>FEMENINO</td>\n",
              "      <td>2022</td>\n",
              "      <td>29238</td>\n",
              "    </tr>\n",
              "  </tbody>\n",
              "</table>\n",
              "</div>\n",
              "      <button class=\"colab-df-convert\" onclick=\"convertToInteractive('df-668e0238-06b8-4690-91da-f5549b1ddaa4')\"\n",
              "              title=\"Convert this dataframe to an interactive table.\"\n",
              "              style=\"display:none;\">\n",
              "        \n",
              "  <svg xmlns=\"http://www.w3.org/2000/svg\" height=\"24px\"viewBox=\"0 0 24 24\"\n",
              "       width=\"24px\">\n",
              "    <path d=\"M0 0h24v24H0V0z\" fill=\"none\"/>\n",
              "    <path d=\"M18.56 5.44l.94 2.06.94-2.06 2.06-.94-2.06-.94-.94-2.06-.94 2.06-2.06.94zm-11 1L8.5 8.5l.94-2.06 2.06-.94-2.06-.94L8.5 2.5l-.94 2.06-2.06.94zm10 10l.94 2.06.94-2.06 2.06-.94-2.06-.94-.94-2.06-.94 2.06-2.06.94z\"/><path d=\"M17.41 7.96l-1.37-1.37c-.4-.4-.92-.59-1.43-.59-.52 0-1.04.2-1.43.59L10.3 9.45l-7.72 7.72c-.78.78-.78 2.05 0 2.83L4 21.41c.39.39.9.59 1.41.59.51 0 1.02-.2 1.41-.59l7.78-7.78 2.81-2.81c.8-.78.8-2.07 0-2.86zM5.41 20L4 18.59l7.72-7.72 1.47 1.35L5.41 20z\"/>\n",
              "  </svg>\n",
              "      </button>\n",
              "      \n",
              "  <style>\n",
              "    .colab-df-container {\n",
              "      display:flex;\n",
              "      flex-wrap:wrap;\n",
              "      gap: 12px;\n",
              "    }\n",
              "\n",
              "    .colab-df-convert {\n",
              "      background-color: #E8F0FE;\n",
              "      border: none;\n",
              "      border-radius: 50%;\n",
              "      cursor: pointer;\n",
              "      display: none;\n",
              "      fill: #1967D2;\n",
              "      height: 32px;\n",
              "      padding: 0 0 0 0;\n",
              "      width: 32px;\n",
              "    }\n",
              "\n",
              "    .colab-df-convert:hover {\n",
              "      background-color: #E2EBFA;\n",
              "      box-shadow: 0px 1px 2px rgba(60, 64, 67, 0.3), 0px 1px 3px 1px rgba(60, 64, 67, 0.15);\n",
              "      fill: #174EA6;\n",
              "    }\n",
              "\n",
              "    [theme=dark] .colab-df-convert {\n",
              "      background-color: #3B4455;\n",
              "      fill: #D2E3FC;\n",
              "    }\n",
              "\n",
              "    [theme=dark] .colab-df-convert:hover {\n",
              "      background-color: #434B5C;\n",
              "      box-shadow: 0px 1px 3px 1px rgba(0, 0, 0, 0.15);\n",
              "      filter: drop-shadow(0px 1px 2px rgba(0, 0, 0, 0.3));\n",
              "      fill: #FFFFFF;\n",
              "    }\n",
              "  </style>\n",
              "\n",
              "      <script>\n",
              "        const buttonEl =\n",
              "          document.querySelector('#df-668e0238-06b8-4690-91da-f5549b1ddaa4 button.colab-df-convert');\n",
              "        buttonEl.style.display =\n",
              "          google.colab.kernel.accessAllowed ? 'block' : 'none';\n",
              "\n",
              "        async function convertToInteractive(key) {\n",
              "          const element = document.querySelector('#df-668e0238-06b8-4690-91da-f5549b1ddaa4');\n",
              "          const dataTable =\n",
              "            await google.colab.kernel.invokeFunction('convertToInteractive',\n",
              "                                                     [key], {});\n",
              "          if (!dataTable) return;\n",
              "\n",
              "          const docLinkHtml = 'Like what you see? Visit the ' +\n",
              "            '<a target=\"_blank\" href=https://colab.research.google.com/notebooks/data_table.ipynb>data table notebook</a>'\n",
              "            + ' to learn more about interactive tables.';\n",
              "          element.innerHTML = '';\n",
              "          dataTable['output_type'] = 'display_data';\n",
              "          await google.colab.output.renderOutput(dataTable, element);\n",
              "          const docLink = document.createElement('div');\n",
              "          docLink.innerHTML = docLinkHtml;\n",
              "          element.appendChild(docLink);\n",
              "        }\n",
              "      </script>\n",
              "    </div>\n",
              "  </div>\n",
              "  "
            ]
          },
          "metadata": {},
          "execution_count": 121
        }
      ]
    },
    {
      "cell_type": "code",
      "source": [
        "fig, ax = plt.subplots(figsize=(20, 9))\n",
        "sns.barplot(ax = ax, data = vi_genero, x='year', y='CANTIDAD', hue ='GENERO')"
      ],
      "metadata": {
        "colab": {
          "base_uri": "https://localhost:8080/",
          "height": 0
        },
        "id": "xJqIRYpBHKdq",
        "outputId": "87cd09e8-3c70-4b39-ed66-2ec6532ff02a"
      },
      "execution_count": 122,
      "outputs": [
        {
          "output_type": "execute_result",
          "data": {
            "text/plain": [
              "<matplotlib.axes._subplots.AxesSubplot at 0x7fe54277d350>"
            ]
          },
          "metadata": {},
          "execution_count": 122
        },
        {
          "output_type": "display_data",
          "data": {
            "text/plain": [
              "<Figure size 1440x648 with 1 Axes>"
            ],
            "image/png": "[encoded data removed]"
          },
          "metadata": {
            "needs_background": "light"
          }
        }
      ]
    },
    {
      "cell_type": "code",
      "source": [
        "#Creacion de nueva variable conteniendo genero, año y creacion de grafica\n",
        "vi_grupoetario = vi_df.groupby(['GRUPO ETARIO', 'year']).sum().sort_values(by = 'CANTIDAD', ascending = False)['CANTIDAD']\n",
        "vi_grupoetario = vi_grupoetario.reset_index()\n",
        "vi_grupoetario.sort_values(by = 'year')"
      ],
      "metadata": {
        "colab": {
          "base_uri": "https://localhost:8080/",
          "height": 0
        },
        "id": "mUPYeE8_Ly44",
        "outputId": "4b931fe7-662b-4630-bfd9-6d14e1551e48"
      },
      "execution_count": 123,
      "outputs": [
        {
          "output_type": "execute_result",
          "data": {
            "text/plain": [
              "    GRUPO ETARIO  year  CANTIDAD\n",
              "48    NO REPORTA  2010        18\n",
              "35  ADOLESCENTES  2010      1088\n",
              "39       MENORES  2010       588\n",
              "12       ADULTOS  2010     21477\n",
              "11       ADULTOS  2011     25345\n",
              "47    NO REPORTA  2011        21\n",
              "33  ADOLESCENTES  2011      1192\n",
              "38       MENORES  2011       636\n",
              "36       MENORES  2012       778\n",
              "10       ADULTOS  2012     30114\n",
              "31  ADOLESCENTES  2012      1503\n",
              "46    NO REPORTA  2012        22\n",
              "37       MENORES  2013       665\n",
              "45    NO REPORTA  2013        27\n",
              "32  ADOLESCENTES  2013      1390\n",
              "9        ADULTOS  2013     30994\n",
              "29  ADOLESCENTES  2014      1869\n",
              "7        ADULTOS  2014     45439\n",
              "34       MENORES  2014      1132\n",
              "28       MENORES  2015      1969\n",
              "24  ADOLESCENTES  2015      2970\n",
              "6        ADULTOS  2015     70749\n",
              "49    NO REPORTA  2015        11\n",
              "25       MENORES  2016      2821\n",
              "50    NO REPORTA  2016         3\n",
              "4        ADULTOS  2016     90937\n",
              "23  ADOLESCENTES  2016      3378\n",
              "21  ADOLESCENTES  2017      3917\n",
              "3        ADULTOS  2017     91654\n",
              "19       MENORES  2017      4908\n",
              "43    NO REPORTA  2017        48\n",
              "18  ADOLESCENTES  2018      5084\n",
              "15       MENORES  2018      6539\n",
              "40    NO REPORTA  2018        95\n",
              "5        ADULTOS  2018     88188\n",
              "13       MENORES  2019      9130\n",
              "1        ADULTOS  2019    101097\n",
              "16  ADOLESCENTES  2019      6224\n",
              "42    NO REPORTA  2019        54\n",
              "2        ADULTOS  2020    100469\n",
              "22  ADOLESCENTES  2020      3729\n",
              "14       MENORES  2020      6846\n",
              "26    NO REPORTA  2020      2523\n",
              "17       MENORES  2021      5575\n",
              "44    NO REPORTA  2021        34\n",
              "20  ADOLESCENTES  2021      4202\n",
              "0        ADULTOS  2021    107321\n",
              "41    NO REPORTA  2022        69\n",
              "30  ADOLESCENTES  2022      1626\n",
              "27       MENORES  2022      2262\n",
              "8        ADULTOS  2022     35787"
            ],
            "text/html": [
              "\n",
              "  <div id=\"df-9d7e4493-1089-4069-b5f6-a3b596cdc407\">\n",
              "    <div class=\"colab-df-container\">\n",
              "      <div>\n",
              "<style scoped>\n",
              "    .dataframe tbody tr th:only-of-type {\n",
              "        vertical-align: middle;\n",
              "    }\n",
              "\n",
              "    .dataframe tbody tr th {\n",
              "        vertical-align: top;\n",
              "    }\n",
              "\n",
              "    .dataframe thead th {\n",
              "        text-align: right;\n",
              "    }\n",
              "</style>\n",
              "<table border=\"1\" class=\"dataframe\">\n",
              "  <thead>\n",
              "    <tr style=\"text-align: right;\">\n",
              "      <th></th>\n",
              "      <th>GRUPO ETARIO</th>\n",
              "      <th>year</th>\n",
              "      <th>CANTIDAD</th>\n",
              "    </tr>\n",
              "  </thead>\n",
              "  <tbody>\n",
              "    <tr>\n",
              "      <th>48</th>\n",
              "      <td>NO REPORTA</td>\n",
              "      <td>2010</td>\n",
              "      <td>18</td>\n",
              "    </tr>\n",
              "    <tr>\n",
              "      <th>35</th>\n",
              "      <td>ADOLESCENTES</td>\n",
              "      <td>2010</td>\n",
              "      <td>1088</td>\n",
              "    </tr>\n",
              "    <tr>\n",
              "      <th>39</th>\n",
              "      <td>MENORES</td>\n",
              "      <td>2010</td>\n",
              "      <td>588</td>\n",
              "    </tr>\n",
              "    <tr>\n",
              "      <th>12</th>\n",
              "      <td>ADULTOS</td>\n",
              "      <td>2010</td>\n",
              "      <td>21477</td>\n",
              "    </tr>\n",
              "    <tr>\n",
              "      <th>11</th>\n",
              "      <td>ADULTOS</td>\n",
              "      <td>2011</td>\n",
              "      <td>25345</td>\n",
              "    </tr>\n",
              "    <tr>\n",
              "      <th>47</th>\n",
              "      <td>NO REPORTA</td>\n",
              "      <td>2011</td>\n",
              "      <td>21</td>\n",
              "    </tr>\n",
              "    <tr>\n",
              "      <th>33</th>\n",
              "      <td>ADOLESCENTES</td>\n",
              "      <td>2011</td>\n",
              "      <td>1192</td>\n",
              "    </tr>\n",
              "    <tr>\n",
              "      <th>38</th>\n",
              "      <td>MENORES</td>\n",
              "      <td>2011</td>\n",
              "      <td>636</td>\n",
              "    </tr>\n",
              "    <tr>\n",
              "      <th>36</th>\n",
              "      <td>MENORES</td>\n",
              "      <td>2012</td>\n",
              "      <td>778</td>\n",
              "    </tr>\n",
              "    <tr>\n",
              "      <th>10</th>\n",
              "      <td>ADULTOS</td>\n",
              "      <td>2012</td>\n",
              "      <td>30114</td>\n",
              "    </tr>\n",
              "    <tr>\n",
              "      <th>31</th>\n",
              "      <td>ADOLESCENTES</td>\n",
              "      <td>2012</td>\n",
              "      <td>1503</td>\n",
              "    </tr>\n",
              "    <tr>\n",
              "      <th>46</th>\n",
              "      <td>NO REPORTA</td>\n",
              "      <td>2012</td>\n",
              "      <td>22</td>\n",
              "    </tr>\n",
              "    <tr>\n",
              "      <th>37</th>\n",
              "      <td>MENORES</td>\n",
              "      <td>2013</td>\n",
              "      <td>665</td>\n",
              "    </tr>\n",
              "    <tr>\n",
              "      <th>45</th>\n",
              "      <td>NO REPORTA</td>\n",
              "      <td>2013</td>\n",
              "      <td>27</td>\n",
              "    </tr>\n",
              "    <tr>\n",
              "      <th>32</th>\n",
              "      <td>ADOLESCENTES</td>\n",
              "      <td>2013</td>\n",
              "      <td>1390</td>\n",
              "    </tr>\n",
              "    <tr>\n",
              "      <th>9</th>\n",
              "      <td>ADULTOS</td>\n",
              "      <td>2013</td>\n",
              "      <td>30994</td>\n",
              "    </tr>\n",
              "    <tr>\n",
              "      <th>29</th>\n",
              "      <td>ADOLESCENTES</td>\n",
              "      <td>2014</td>\n",
              "      <td>1869</td>\n",
              "    </tr>\n",
              "    <tr>\n",
              "      <th>7</th>\n",
              "      <td>ADULTOS</td>\n",
              "      <td>2014</td>\n",
              "      <td>45439</td>\n",
              "    </tr>\n",
              "    <tr>\n",
              "      <th>34</th>\n",
              "      <td>MENORES</td>\n",
              "      <td>2014</td>\n",
              "      <td>1132</td>\n",
              "    </tr>\n",
              "    <tr>\n",
              "      <th>28</th>\n",
              "      <td>MENORES</td>\n",
              "      <td>2015</td>\n",
              "      <td>1969</td>\n",
              "    </tr>\n",
              "    <tr>\n",
              "      <th>24</th>\n",
              "      <td>ADOLESCENTES</td>\n",
              "      <td>2015</td>\n",
              "      <td>2970</td>\n",
              "    </tr>\n",
              "    <tr>\n",
              "      <th>6</th>\n",
              "      <td>ADULTOS</td>\n",
              "      <td>2015</td>\n",
              "      <td>70749</td>\n",
              "    </tr>\n",
              "    <tr>\n",
              "      <th>49</th>\n",
              "      <td>NO REPORTA</td>\n",
              "      <td>2015</td>\n",
              "      <td>11</td>\n",
              "    </tr>\n",
              "    <tr>\n",
              "      <th>25</th>\n",
              "      <td>MENORES</td>\n",
              "      <td>2016</td>\n",
              "      <td>2821</td>\n",
              "    </tr>\n",
              "    <tr>\n",
              "      <th>50</th>\n",
              "      <td>NO REPORTA</td>\n",
              "      <td>2016</td>\n",
              "      <td>3</td>\n",
              "    </tr>\n",
              "    <tr>\n",
              "      <th>4</th>\n",
              "      <td>ADULTOS</td>\n",
              "      <td>2016</td>\n",
              "      <td>90937</td>\n",
              "    </tr>\n",
              "    <tr>\n",
              "      <th>23</th>\n",
              "      <td>ADOLESCENTES</td>\n",
              "      <td>2016</td>\n",
              "      <td>3378</td>\n",
              "    </tr>\n",
              "    <tr>\n",
              "      <th>21</th>\n",
              "      <td>ADOLESCENTES</td>\n",
              "      <td>2017</td>\n",
              "      <td>3917</td>\n",
              "    </tr>\n",
              "    <tr>\n",
              "      <th>3</th>\n",
              "      <td>ADULTOS</td>\n",
              "      <td>2017</td>\n",
              "      <td>91654</td>\n",
              "    </tr>\n",
              "    <tr>\n",
              "      <th>19</th>\n",
              "      <td>MENORES</td>\n",
              "      <td>2017</td>\n",
              "      <td>4908</td>\n",
              "    </tr>\n",
              "    <tr>\n",
              "      <th>43</th>\n",
              "      <td>NO REPORTA</td>\n",
              "      <td>2017</td>\n",
              "      <td>48</td>\n",
              "    </tr>\n",
              "    <tr>\n",
              "      <th>18</th>\n",
              "      <td>ADOLESCENTES</td>\n",
              "      <td>2018</td>\n",
              "      <td>5084</td>\n",
              "    </tr>\n",
              "    <tr>\n",
              "      <th>15</th>\n",
              "      <td>MENORES</td>\n",
              "      <td>2018</td>\n",
              "      <td>6539</td>\n",
              "    </tr>\n",
              "    <tr>\n",
              "      <th>40</th>\n",
              "      <td>NO REPORTA</td>\n",
              "      <td>2018</td>\n",
              "      <td>95</td>\n",
              "    </tr>\n",
              "    <tr>\n",
              "      <th>5</th>\n",
              "      <td>ADULTOS</td>\n",
              "      <td>2018</td>\n",
              "      <td>88188</td>\n",
              "    </tr>\n",
              "    <tr>\n",
              "      <th>13</th>\n",
              "      <td>MENORES</td>\n",
              "      <td>2019</td>\n",
              "      <td>9130</td>\n",
              "    </tr>\n",
              "    <tr>\n",
              "      <th>1</th>\n",
              "      <td>ADULTOS</td>\n",
              "      <td>2019</td>\n",
              "      <td>101097</td>\n",
              "    </tr>\n",
              "    <tr>\n",
              "      <th>16</th>\n",
              "      <td>ADOLESCENTES</td>\n",
              "      <td>2019</td>\n",
              "      <td>6224</td>\n",
              "    </tr>\n",
              "    <tr>\n",
              "      <th>42</th>\n",
              "      <td>NO REPORTA</td>\n",
              "      <td>2019</td>\n",
              "      <td>54</td>\n",
              "    </tr>\n",
              "    <tr>\n",
              "      <th>2</th>\n",
              "      <td>ADULTOS</td>\n",
              "      <td>2020</td>\n",
              "      <td>100469</td>\n",
              "    </tr>\n",
              "    <tr>\n",
              "      <th>22</th>\n",
              "      <td>ADOLESCENTES</td>\n",
              "      <td>2020</td>\n",
              "      <td>3729</td>\n",
              "    </tr>\n",
              "    <tr>\n",
              "      <th>14</th>\n",
              "      <td>MENORES</td>\n",
              "      <td>2020</td>\n",
              "      <td>6846</td>\n",
              "    </tr>\n",
              "    <tr>\n",
              "      <th>26</th>\n",
              "      <td>NO REPORTA</td>\n",
              "      <td>2020</td>\n",
              "      <td>2523</td>\n",
              "    </tr>\n",
              "    <tr>\n",
              "      <th>17</th>\n",
              "      <td>MENORES</td>\n",
              "      <td>2021</td>\n",
              "      <td>5575</td>\n",
              "    </tr>\n",
              "    <tr>\n",
              "      <th>44</th>\n",
              "      <td>NO REPORTA</td>\n",
              "      <td>2021</td>\n",
              "      <td>34</td>\n",
              "    </tr>\n",
              "    <tr>\n",
              "      <th>20</th>\n",
              "      <td>ADOLESCENTES</td>\n",
              "      <td>2021</td>\n",
              "      <td>4202</td>\n",
              "    </tr>\n",
              "    <tr>\n",
              "      <th>0</th>\n",
              "      <td>ADULTOS</td>\n",
              "      <td>2021</td>\n",
              "      <td>107321</td>\n",
              "    </tr>\n",
              "    <tr>\n",
              "      <th>41</th>\n",
              "      <td>NO REPORTA</td>\n",
              "      <td>2022</td>\n",
              "      <td>69</td>\n",
              "    </tr>\n",
              "    <tr>\n",
              "      <th>30</th>\n",
              "      <td>ADOLESCENTES</td>\n",
              "      <td>2022</td>\n",
              "      <td>1626</td>\n",
              "    </tr>\n",
              "    <tr>\n",
              "      <th>27</th>\n",
              "      <td>MENORES</td>\n",
              "      <td>2022</td>\n",
              "      <td>2262</td>\n",
              "    </tr>\n",
              "    <tr>\n",
              "      <th>8</th>\n",
              "      <td>ADULTOS</td>\n",
              "      <td>2022</td>\n",
              "      <td>35787</td>\n",
              "    </tr>\n",
              "  </tbody>\n",
              "</table>\n",
              "</div>\n",
              "      <button class=\"colab-df-convert\" onclick=\"convertToInteractive('df-9d7e4493-1089-4069-b5f6-a3b596cdc407')\"\n",
              "              title=\"Convert this dataframe to an interactive table.\"\n",
              "              style=\"display:none;\">\n",
              "        \n",
              "  <svg xmlns=\"http://www.w3.org/2000/svg\" height=\"24px\"viewBox=\"0 0 24 24\"\n",
              "       width=\"24px\">\n",
              "    <path d=\"M0 0h24v24H0V0z\" fill=\"none\"/>\n",
              "    <path d=\"M18.56 5.44l.94 2.06.94-2.06 2.06-.94-2.06-.94-.94-2.06-.94 2.06-2.06.94zm-11 1L8.5 8.5l.94-2.06 2.06-.94-2.06-.94L8.5 2.5l-.94 2.06-2.06.94zm10 10l.94 2.06.94-2.06 2.06-.94-2.06-.94-.94-2.06-.94 2.06-2.06.94z\"/><path d=\"M17.41 7.96l-1.37-1.37c-.4-.4-.92-.59-1.43-.59-.52 0-1.04.2-1.43.59L10.3 9.45l-7.72 7.72c-.78.78-.78 2.05 0 2.83L4 21.41c.39.39.9.59 1.41.59.51 0 1.02-.2 1.41-.59l7.78-7.78 2.81-2.81c.8-.78.8-2.07 0-2.86zM5.41 20L4 18.59l7.72-7.72 1.47 1.35L5.41 20z\"/>\n",
              "  </svg>\n",
              "      </button>\n",
              "      \n",
              "  <style>\n",
              "    .colab-df-container {\n",
              "      display:flex;\n",
              "      flex-wrap:wrap;\n",
              "      gap: 12px;\n",
              "    }\n",
              "\n",
              "    .colab-df-convert {\n",
              "      background-color: #E8F0FE;\n",
              "      border: none;\n",
              "      border-radius: 50%;\n",
              "      cursor: pointer;\n",
              "      display: none;\n",
              "      fill: #1967D2;\n",
              "      height: 32px;\n",
              "      padding: 0 0 0 0;\n",
              "      width: 32px;\n",
              "    }\n",
              "\n",
              "    .colab-df-convert:hover {\n",
              "      background-color: #E2EBFA;\n",
              "      box-shadow: 0px 1px 2px rgba(60, 64, 67, 0.3), 0px 1px 3px 1px rgba(60, 64, 67, 0.15);\n",
              "      fill: #174EA6;\n",
              "    }\n",
              "\n",
              "    [theme=dark] .colab-df-convert {\n",
              "      background-color: #3B4455;\n",
              "      fill: #D2E3FC;\n",
              "    }\n",
              "\n",
              "    [theme=dark] .colab-df-convert:hover {\n",
              "      background-color: #434B5C;\n",
              "      box-shadow: 0px 1px 3px 1px rgba(0, 0, 0, 0.15);\n",
              "      filter: drop-shadow(0px 1px 2px rgba(0, 0, 0, 0.3));\n",
              "      fill: #FFFFFF;\n",
              "    }\n",
              "  </style>\n",
              "\n",
              "      <script>\n",
              "        const buttonEl =\n",
              "          document.querySelector('#df-9d7e4493-1089-4069-b5f6-a3b596cdc407 button.colab-df-convert');\n",
              "        buttonEl.style.display =\n",
              "          google.colab.kernel.accessAllowed ? 'block' : 'none';\n",
              "\n",
              "        async function convertToInteractive(key) {\n",
              "          const element = document.querySelector('#df-9d7e4493-1089-4069-b5f6-a3b596cdc407');\n",
              "          const dataTable =\n",
              "            await google.colab.kernel.invokeFunction('convertToInteractive',\n",
              "                                                     [key], {});\n",
              "          if (!dataTable) return;\n",
              "\n",
              "          const docLinkHtml = 'Like what you see? Visit the ' +\n",
              "            '<a target=\"_blank\" href=https://colab.research.google.com/notebooks/data_table.ipynb>data table notebook</a>'\n",
              "            + ' to learn more about interactive tables.';\n",
              "          element.innerHTML = '';\n",
              "          dataTable['output_type'] = 'display_data';\n",
              "          await google.colab.output.renderOutput(dataTable, element);\n",
              "          const docLink = document.createElement('div');\n",
              "          docLink.innerHTML = docLinkHtml;\n",
              "          element.appendChild(docLink);\n",
              "        }\n",
              "      </script>\n",
              "    </div>\n",
              "  </div>\n",
              "  "
            ]
          },
          "metadata": {},
          "execution_count": 123
        }
      ]
    },
    {
      "cell_type": "code",
      "source": [
        "fig, ax = plt.subplots(figsize=(20, 9))\n",
        "sns.barplot(ax = ax, data = vi_grupoetario, x='year', y='CANTIDAD', hue ='GRUPO ETARIO')"
      ],
      "metadata": {
        "colab": {
          "base_uri": "https://localhost:8080/",
          "height": 0
        },
        "id": "zRbWB3WyMSQx",
        "outputId": "b0e0ea7a-1e17-4385-bb9b-e0ab3e91e66a"
      },
      "execution_count": 124,
      "outputs": [
        {
          "output_type": "execute_result",
          "data": {
            "text/plain": [
              "<matplotlib.axes._subplots.AxesSubplot at 0x7fe5427612d0>"
            ]
          },
          "metadata": {},
          "execution_count": 124
        },
        {
          "output_type": "display_data",
          "data": {
            "text/plain": [
              "<Figure size 1440x648 with 1 Axes>"
            ],
            "image/png": "[encoded data removed]"
          },
          "metadata": {
            "needs_background": "light"
          }
        }
      ]
    },
    {
      "cell_type": "markdown",
      "source": [
        "Data Frame Delitos Sexuales"
      ],
      "metadata": {
        "id": "yycr6L2b5HaL"
      }
    },
    {
      "cell_type": "code",
      "source": [
        "#Creacion de nueva variable conteniendo genero, año y creacion de grafica\n",
        "ds_genero = ds_df.groupby(['GENERO', 'year']).sum().sort_values(by = 'CANTIDAD', ascending = False)['CANTIDAD']\n",
        "ds_genero = ds_genero.reset_index()\n",
        "ds_genero.sort_values(by = 'year')"
      ],
      "metadata": {
        "colab": {
          "base_uri": "https://localhost:8080/",
          "height": 0
        },
        "id": "sZtUFD4N5GGi",
        "outputId": "fba5cc0b-6809-4bd7-fe24-8a29885f57b3"
      },
      "execution_count": 125,
      "outputs": [
        {
          "output_type": "execute_result",
          "data": {
            "text/plain": [
              "        GENERO  year  CANTIDAD\n",
              "34  NO REPORTA  2010        24\n",
              "25   MASCULINO  2010       930\n",
              "12    FEMENINO  2010      5928\n",
              "24   MASCULINO  2011      1192\n",
              "33  NO REPORTA  2011        31\n",
              "11    FEMENINO  2011      7020\n",
              "21   MASCULINO  2012      1683\n",
              "30  NO REPORTA  2012        54\n",
              "9     FEMENINO  2012      9745\n",
              "32  NO REPORTA  2013        36\n",
              "22   MASCULINO  2013      1658\n",
              "8     FEMENINO  2013     10030\n",
              "20   MASCULINO  2014      1716\n",
              "26  NO REPORTA  2014       569\n",
              "7     FEMENINO  2014     10502\n",
              "6     FEMENINO  2015     18851\n",
              "19   MASCULINO  2015      3057\n",
              "35  NO REPORTA  2015        18\n",
              "5     FEMENINO  2016     20811\n",
              "18   MASCULINO  2016      3141\n",
              "17   MASCULINO  2017      3666\n",
              "36  NO REPORTA  2017         2\n",
              "4     FEMENINO  2017     24698\n",
              "14   MASCULINO  2018      4925\n",
              "27  NO REPORTA  2018       164\n",
              "1     FEMENINO  2018     31725\n",
              "28  NO REPORTA  2019        76\n",
              "0     FEMENINO  2019     32792\n",
              "13   MASCULINO  2019      5308\n",
              "15   MASCULINO  2020      4800\n",
              "2     FEMENINO  2020     25204\n",
              "37  NO REPORTA  2020         2\n",
              "16   MASCULINO  2021      4368\n",
              "31  NO REPORTA  2021        43\n",
              "3     FEMENINO  2021     25159\n",
              "29  NO REPORTA  2022        74\n",
              "10    FEMENINO  2022      7633\n",
              "23   MASCULINO  2022      1548"
            ],
            "text/html": [
              "\n",
              "  <div id=\"df-de70f44c-a1cf-42d5-8575-c42dfb7a0253\">\n",
              "    <div class=\"colab-df-container\">\n",
              "      <div>\n",
              "<style scoped>\n",
              "    .dataframe tbody tr th:only-of-type {\n",
              "        vertical-align: middle;\n",
              "    }\n",
              "\n",
              "    .dataframe tbody tr th {\n",
              "        vertical-align: top;\n",
              "    }\n",
              "\n",
              "    .dataframe thead th {\n",
              "        text-align: right;\n",
              "    }\n",
              "</style>\n",
              "<table border=\"1\" class=\"dataframe\">\n",
              "  <thead>\n",
              "    <tr style=\"text-align: right;\">\n",
              "      <th></th>\n",
              "      <th>GENERO</th>\n",
              "      <th>year</th>\n",
              "      <th>CANTIDAD</th>\n",
              "    </tr>\n",
              "  </thead>\n",
              "  <tbody>\n",
              "    <tr>\n",
              "      <th>34</th>\n",
              "      <td>NO REPORTA</td>\n",
              "      <td>2010</td>\n",
              "      <td>24</td>\n",
              "    </tr>\n",
              "    <tr>\n",
              "      <th>25</th>\n",
              "      <td>MASCULINO</td>\n",
              "      <td>2010</td>\n",
              "      <td>930</td>\n",
              "    </tr>\n",
              "    <tr>\n",
              "      <th>12</th>\n",
              "      <td>FEMENINO</td>\n",
              "      <td>2010</td>\n",
              "      <td>5928</td>\n",
              "    </tr>\n",
              "    <tr>\n",
              "      <th>24</th>\n",
              "      <td>MASCULINO</td>\n",
              "      <td>2011</td>\n",
              "      <td>1192</td>\n",
              "    </tr>\n",
              "    <tr>\n",
              "      <th>33</th>\n",
              "      <td>NO REPORTA</td>\n",
              "      <td>2011</td>\n",
              "      <td>31</td>\n",
              "    </tr>\n",
              "    <tr>\n",
              "      <th>11</th>\n",
              "      <td>FEMENINO</td>\n",
              "      <td>2011</td>\n",
              "      <td>7020</td>\n",
              "    </tr>\n",
              "    <tr>\n",
              "      <th>21</th>\n",
              "      <td>MASCULINO</td>\n",
              "      <td>2012</td>\n",
              "      <td>1683</td>\n",
              "    </tr>\n",
              "    <tr>\n",
              "      <th>30</th>\n",
              "      <td>NO REPORTA</td>\n",
              "      <td>2012</td>\n",
              "      <td>54</td>\n",
              "    </tr>\n",
              "    <tr>\n",
              "      <th>9</th>\n",
              "      <td>FEMENINO</td>\n",
              "      <td>2012</td>\n",
              "      <td>9745</td>\n",
              "    </tr>\n",
              "    <tr>\n",
              "      <th>32</th>\n",
              "      <td>NO REPORTA</td>\n",
              "      <td>2013</td>\n",
              "      <td>36</td>\n",
              "    </tr>\n",
              "    <tr>\n",
              "      <th>22</th>\n",
              "      <td>MASCULINO</td>\n",
              "      <td>2013</td>\n",
              "      <td>1658</td>\n",
              "    </tr>\n",
              "    <tr>\n",
              "      <th>8</th>\n",
              "      <td>FEMENINO</td>\n",
              "      <td>2013</td>\n",
              "      <td>10030</td>\n",
              "    </tr>\n",
              "    <tr>\n",
              "      <th>20</th>\n",
              "      <td>MASCULINO</td>\n",
              "      <td>2014</td>\n",
              "      <td>1716</td>\n",
              "    </tr>\n",
              "    <tr>\n",
              "      <th>26</th>\n",
              "      <td>NO REPORTA</td>\n",
              "      <td>2014</td>\n",
              "      <td>569</td>\n",
              "    </tr>\n",
              "    <tr>\n",
              "      <th>7</th>\n",
              "      <td>FEMENINO</td>\n",
              "      <td>2014</td>\n",
              "      <td>10502</td>\n",
              "    </tr>\n",
              "    <tr>\n",
              "      <th>6</th>\n",
              "      <td>FEMENINO</td>\n",
              "      <td>2015</td>\n",
              "      <td>18851</td>\n",
              "    </tr>\n",
              "    <tr>\n",
              "      <th>19</th>\n",
              "      <td>MASCULINO</td>\n",
              "      <td>2015</td>\n",
              "      <td>3057</td>\n",
              "    </tr>\n",
              "    <tr>\n",
              "      <th>35</th>\n",
              "      <td>NO REPORTA</td>\n",
              "      <td>2015</td>\n",
              "      <td>18</td>\n",
              "    </tr>\n",
              "    <tr>\n",
              "      <th>5</th>\n",
              "      <td>FEMENINO</td>\n",
              "      <td>2016</td>\n",
              "      <td>20811</td>\n",
              "    </tr>\n",
              "    <tr>\n",
              "      <th>18</th>\n",
              "      <td>MASCULINO</td>\n",
              "      <td>2016</td>\n",
              "      <td>3141</td>\n",
              "    </tr>\n",
              "    <tr>\n",
              "      <th>17</th>\n",
              "      <td>MASCULINO</td>\n",
              "      <td>2017</td>\n",
              "      <td>3666</td>\n",
              "    </tr>\n",
              "    <tr>\n",
              "      <th>36</th>\n",
              "      <td>NO REPORTA</td>\n",
              "      <td>2017</td>\n",
              "      <td>2</td>\n",
              "    </tr>\n",
              "    <tr>\n",
              "      <th>4</th>\n",
              "      <td>FEMENINO</td>\n",
              "      <td>2017</td>\n",
              "      <td>24698</td>\n",
              "    </tr>\n",
              "    <tr>\n",
              "      <th>14</th>\n",
              "      <td>MASCULINO</td>\n",
              "      <td>2018</td>\n",
              "      <td>4925</td>\n",
              "    </tr>\n",
              "    <tr>\n",
              "      <th>27</th>\n",
              "      <td>NO REPORTA</td>\n",
              "      <td>2018</td>\n",
              "      <td>164</td>\n",
              "    </tr>\n",
              "    <tr>\n",
              "      <th>1</th>\n",
              "      <td>FEMENINO</td>\n",
              "      <td>2018</td>\n",
              "      <td>31725</td>\n",
              "    </tr>\n",
              "    <tr>\n",
              "      <th>28</th>\n",
              "      <td>NO REPORTA</td>\n",
              "      <td>2019</td>\n",
              "      <td>76</td>\n",
              "    </tr>\n",
              "    <tr>\n",
              "      <th>0</th>\n",
              "      <td>FEMENINO</td>\n",
              "      <td>2019</td>\n",
              "      <td>32792</td>\n",
              "    </tr>\n",
              "    <tr>\n",
              "      <th>13</th>\n",
              "      <td>MASCULINO</td>\n",
              "      <td>2019</td>\n",
              "      <td>5308</td>\n",
              "    </tr>\n",
              "    <tr>\n",
              "      <th>15</th>\n",
              "      <td>MASCULINO</td>\n",
              "      <td>2020</td>\n",
              "      <td>4800</td>\n",
              "    </tr>\n",
              "    <tr>\n",
              "      <th>2</th>\n",
              "      <td>FEMENINO</td>\n",
              "      <td>2020</td>\n",
              "      <td>25204</td>\n",
              "    </tr>\n",
              "    <tr>\n",
              "      <th>37</th>\n",
              "      <td>NO REPORTA</td>\n",
              "      <td>2020</td>\n",
              "      <td>2</td>\n",
              "    </tr>\n",
              "    <tr>\n",
              "      <th>16</th>\n",
              "      <td>MASCULINO</td>\n",
              "      <td>2021</td>\n",
              "      <td>4368</td>\n",
              "    </tr>\n",
              "    <tr>\n",
              "      <th>31</th>\n",
              "      <td>NO REPORTA</td>\n",
              "      <td>2021</td>\n",
              "      <td>43</td>\n",
              "    </tr>\n",
              "    <tr>\n",
              "      <th>3</th>\n",
              "      <td>FEMENINO</td>\n",
              "      <td>2021</td>\n",
              "      <td>25159</td>\n",
              "    </tr>\n",
              "    <tr>\n",
              "      <th>29</th>\n",
              "      <td>NO REPORTA</td>\n",
              "      <td>2022</td>\n",
              "      <td>74</td>\n",
              "    </tr>\n",
              "    <tr>\n",
              "      <th>10</th>\n",
              "      <td>FEMENINO</td>\n",
              "      <td>2022</td>\n",
              "      <td>7633</td>\n",
              "    </tr>\n",
              "    <tr>\n",
              "      <th>23</th>\n",
              "      <td>MASCULINO</td>\n",
              "      <td>2022</td>\n",
              "      <td>1548</td>\n",
              "    </tr>\n",
              "  </tbody>\n",
              "</table>\n",
              "</div>\n",
              "      <button class=\"colab-df-convert\" onclick=\"convertToInteractive('df-de70f44c-a1cf-42d5-8575-c42dfb7a0253')\"\n",
              "              title=\"Convert this dataframe to an interactive table.\"\n",
              "              style=\"display:none;\">\n",
              "        \n",
              "  <svg xmlns=\"http://www.w3.org/2000/svg\" height=\"24px\"viewBox=\"0 0 24 24\"\n",
              "       width=\"24px\">\n",
              "    <path d=\"M0 0h24v24H0V0z\" fill=\"none\"/>\n",
              "    <path d=\"M18.56 5.44l.94 2.06.94-2.06 2.06-.94-2.06-.94-.94-2.06-.94 2.06-2.06.94zm-11 1L8.5 8.5l.94-2.06 2.06-.94-2.06-.94L8.5 2.5l-.94 2.06-2.06.94zm10 10l.94 2.06.94-2.06 2.06-.94-2.06-.94-.94-2.06-.94 2.06-2.06.94z\"/><path d=\"M17.41 7.96l-1.37-1.37c-.4-.4-.92-.59-1.43-.59-.52 0-1.04.2-1.43.59L10.3 9.45l-7.72 7.72c-.78.78-.78 2.05 0 2.83L4 21.41c.39.39.9.59 1.41.59.51 0 1.02-.2 1.41-.59l7.78-7.78 2.81-2.81c.8-.78.8-2.07 0-2.86zM5.41 20L4 18.59l7.72-7.72 1.47 1.35L5.41 20z\"/>\n",
              "  </svg>\n",
              "      </button>\n",
              "      \n",
              "  <style>\n",
              "    .colab-df-container {\n",
              "      display:flex;\n",
              "      flex-wrap:wrap;\n",
              "      gap: 12px;\n",
              "    }\n",
              "\n",
              "    .colab-df-convert {\n",
              "      background-color: #E8F0FE;\n",
              "      border: none;\n",
              "      border-radius: 50%;\n",
              "      cursor: pointer;\n",
              "      display: none;\n",
              "      fill: #1967D2;\n",
              "      height: 32px;\n",
              "      padding: 0 0 0 0;\n",
              "      width: 32px;\n",
              "    }\n",
              "\n",
              "    .colab-df-convert:hover {\n",
              "      background-color: #E2EBFA;\n",
              "      box-shadow: 0px 1px 2px rgba(60, 64, 67, 0.3), 0px 1px 3px 1px rgba(60, 64, 67, 0.15);\n",
              "      fill: #174EA6;\n",
              "    }\n",
              "\n",
              "    [theme=dark] .colab-df-convert {\n",
              "      background-color: #3B4455;\n",
              "      fill: #D2E3FC;\n",
              "    }\n",
              "\n",
              "    [theme=dark] .colab-df-convert:hover {\n",
              "      background-color: #434B5C;\n",
              "      box-shadow: 0px 1px 3px 1px rgba(0, 0, 0, 0.15);\n",
              "      filter: drop-shadow(0px 1px 2px rgba(0, 0, 0, 0.3));\n",
              "      fill: #FFFFFF;\n",
              "    }\n",
              "  </style>\n",
              "\n",
              "      <script>\n",
              "        const buttonEl =\n",
              "          document.querySelector('#df-de70f44c-a1cf-42d5-8575-c42dfb7a0253 button.colab-df-convert');\n",
              "        buttonEl.style.display =\n",
              "          google.colab.kernel.accessAllowed ? 'block' : 'none';\n",
              "\n",
              "        async function convertToInteractive(key) {\n",
              "          const element = document.querySelector('#df-de70f44c-a1cf-42d5-8575-c42dfb7a0253');\n",
              "          const dataTable =\n",
              "            await google.colab.kernel.invokeFunction('convertToInteractive',\n",
              "                                                     [key], {});\n",
              "          if (!dataTable) return;\n",
              "\n",
              "          const docLinkHtml = 'Like what you see? Visit the ' +\n",
              "            '<a target=\"_blank\" href=https://colab.research.google.com/notebooks/data_table.ipynb>data table notebook</a>'\n",
              "            + ' to learn more about interactive tables.';\n",
              "          element.innerHTML = '';\n",
              "          dataTable['output_type'] = 'display_data';\n",
              "          await google.colab.output.renderOutput(dataTable, element);\n",
              "          const docLink = document.createElement('div');\n",
              "          docLink.innerHTML = docLinkHtml;\n",
              "          element.appendChild(docLink);\n",
              "        }\n",
              "      </script>\n",
              "    </div>\n",
              "  </div>\n",
              "  "
            ]
          },
          "metadata": {},
          "execution_count": 125
        }
      ]
    },
    {
      "cell_type": "code",
      "source": [
        "fig, ax = plt.subplots(figsize=(20, 9))\n",
        "sns.barplot(ax = ax, data = ds_genero, x='year', y='CANTIDAD', hue ='GENERO')"
      ],
      "metadata": {
        "colab": {
          "base_uri": "https://localhost:8080/",
          "height": 0
        },
        "id": "zVUG_PSiHOLr",
        "outputId": "7c72da64-617b-4698-c45c-d120326582cb"
      },
      "execution_count": 126,
      "outputs": [
        {
          "output_type": "execute_result",
          "data": {
            "text/plain": [
              "<matplotlib.axes._subplots.AxesSubplot at 0x7fe54213a150>"
            ]
          },
          "metadata": {},
          "execution_count": 126
        },
        {
          "output_type": "display_data",
          "data": {
            "text/plain": [
              "<Figure size 1440x648 with 1 Axes>"
            ],
            "image/png": "[encoded data removed]"
          },
          "metadata": {
            "needs_background": "light"
          }
        }
      ]
    },
    {
      "cell_type": "code",
      "source": [
        "#Creacion de nueva variable conteniendo genero, año y creacion de grafica\n",
        "ds_grupoetario = ds_df.groupby(['GRUPO ETARIO', 'year']).sum().sort_values(by = 'CANTIDAD', ascending = False)['CANTIDAD']\n",
        "ds_grupoetario = ds_grupoetario.reset_index()\n",
        "ds_grupoetario.sort_values(by = 'year')"
      ],
      "metadata": {
        "colab": {
          "base_uri": "https://localhost:8080/",
          "height": 0
        },
        "id": "qwuCy1GjL0d5",
        "outputId": "44798a6c-b61c-4833-d31b-33d28d1ac944"
      },
      "execution_count": 127,
      "outputs": [
        {
          "output_type": "execute_result",
          "data": {
            "text/plain": [
              "    GRUPO ETARIO  year  CANTIDAD\n",
              "38  ADOLESCENTES  2010      1227\n",
              "36       ADULTOS  2010      2029\n",
              "25       MENORES  2010      3626\n",
              "21       MENORES  2011      4482\n",
              "34       ADULTOS  2011      2234\n",
              "37  ADOLESCENTES  2011      1527\n",
              "28       ADULTOS  2012      3293\n",
              "18       MENORES  2012      5960\n",
              "35  ADOLESCENTES  2012      2229\n",
              "33  ADOLESCENTES  2013      2312\n",
              "16       MENORES  2013      6269\n",
              "29       ADULTOS  2013      3143\n",
              "24       ADULTOS  2014      3962\n",
              "17       MENORES  2014      6203\n",
              "32  ADOLESCENTES  2014      2622\n",
              "7        MENORES  2015     10540\n",
              "27  ADOLESCENTES  2015      3392\n",
              "13       ADULTOS  2015      7994\n",
              "4        MENORES  2016     12807\n",
              "23  ADOLESCENTES  2016      4035\n",
              "14       ADULTOS  2016      7110\n",
              "12       ADULTOS  2017      8007\n",
              "2        MENORES  2017     15966\n",
              "22  ADOLESCENTES  2017      4393\n",
              "5        ADULTOS  2018     12118\n",
              "19  ADOLESCENTES  2018      5823\n",
              "1        MENORES  2018     18873\n",
              "0        MENORES  2019     20517\n",
              "6        ADULTOS  2019     11013\n",
              "15  ADOLESCENTES  2019      6646\n",
              "39    NO REPORTA  2020       583\n",
              "20  ADOLESCENTES  2020      4968\n",
              "10       ADULTOS  2020      9679\n",
              "3        MENORES  2020     14776\n",
              "11  ADOLESCENTES  2021      8730\n",
              "9        MENORES  2021     10352\n",
              "8        ADULTOS  2021     10445\n",
              "41    NO REPORTA  2021        43\n",
              "30       MENORES  2022      2968\n",
              "26       ADULTOS  2022      3426\n",
              "40    NO REPORTA  2022        74\n",
              "31  ADOLESCENTES  2022      2787"
            ],
            "text/html": [
              "\n",
              "  <div id=\"df-ce4010ac-b6d6-4f0f-95fe-b66eb106d35c\">\n",
              "    <div class=\"colab-df-container\">\n",
              "      <div>\n",
              "<style scoped>\n",
              "    .dataframe tbody tr th:only-of-type {\n",
              "        vertical-align: middle;\n",
              "    }\n",
              "\n",
              "    .dataframe tbody tr th {\n",
              "        vertical-align: top;\n",
              "    }\n",
              "\n",
              "    .dataframe thead th {\n",
              "        text-align: right;\n",
              "    }\n",
              "</style>\n",
              "<table border=\"1\" class=\"dataframe\">\n",
              "  <thead>\n",
              "    <tr style=\"text-align: right;\">\n",
              "      <th></th>\n",
              "      <th>GRUPO ETARIO</th>\n",
              "      <th>year</th>\n",
              "      <th>CANTIDAD</th>\n",
              "    </tr>\n",
              "  </thead>\n",
              "  <tbody>\n",
              "    <tr>\n",
              "      <th>38</th>\n",
              "      <td>ADOLESCENTES</td>\n",
              "      <td>2010</td>\n",
              "      <td>1227</td>\n",
              "    </tr>\n",
              "    <tr>\n",
              "      <th>36</th>\n",
              "      <td>ADULTOS</td>\n",
              "      <td>2010</td>\n",
              "      <td>2029</td>\n",
              "    </tr>\n",
              "    <tr>\n",
              "      <th>25</th>\n",
              "      <td>MENORES</td>\n",
              "      <td>2010</td>\n",
              "      <td>3626</td>\n",
              "    </tr>\n",
              "    <tr>\n",
              "      <th>21</th>\n",
              "      <td>MENORES</td>\n",
              "      <td>2011</td>\n",
              "      <td>4482</td>\n",
              "    </tr>\n",
              "    <tr>\n",
              "      <th>34</th>\n",
              "      <td>ADULTOS</td>\n",
              "      <td>2011</td>\n",
              "      <td>2234</td>\n",
              "    </tr>\n",
              "    <tr>\n",
              "      <th>37</th>\n",
              "      <td>ADOLESCENTES</td>\n",
              "      <td>2011</td>\n",
              "      <td>1527</td>\n",
              "    </tr>\n",
              "    <tr>\n",
              "      <th>28</th>\n",
              "      <td>ADULTOS</td>\n",
              "      <td>2012</td>\n",
              "      <td>3293</td>\n",
              "    </tr>\n",
              "    <tr>\n",
              "      <th>18</th>\n",
              "      <td>MENORES</td>\n",
              "      <td>2012</td>\n",
              "      <td>5960</td>\n",
              "    </tr>\n",
              "    <tr>\n",
              "      <th>35</th>\n",
              "      <td>ADOLESCENTES</td>\n",
              "      <td>2012</td>\n",
              "      <td>2229</td>\n",
              "    </tr>\n",
              "    <tr>\n",
              "      <th>33</th>\n",
              "      <td>ADOLESCENTES</td>\n",
              "      <td>2013</td>\n",
              "      <td>2312</td>\n",
              "    </tr>\n",
              "    <tr>\n",
              "      <th>16</th>\n",
              "      <td>MENORES</td>\n",
              "      <td>2013</td>\n",
              "      <td>6269</td>\n",
              "    </tr>\n",
              "    <tr>\n",
              "      <th>29</th>\n",
              "      <td>ADULTOS</td>\n",
              "      <td>2013</td>\n",
              "      <td>3143</td>\n",
              "    </tr>\n",
              "    <tr>\n",
              "      <th>24</th>\n",
              "      <td>ADULTOS</td>\n",
              "      <td>2014</td>\n",
              "      <td>3962</td>\n",
              "    </tr>\n",
              "    <tr>\n",
              "      <th>17</th>\n",
              "      <td>MENORES</td>\n",
              "      <td>2014</td>\n",
              "      <td>6203</td>\n",
              "    </tr>\n",
              "    <tr>\n",
              "      <th>32</th>\n",
              "      <td>ADOLESCENTES</td>\n",
              "      <td>2014</td>\n",
              "      <td>2622</td>\n",
              "    </tr>\n",
              "    <tr>\n",
              "      <th>7</th>\n",
              "      <td>MENORES</td>\n",
              "      <td>2015</td>\n",
              "      <td>10540</td>\n",
              "    </tr>\n",
              "    <tr>\n",
              "      <th>27</th>\n",
              "      <td>ADOLESCENTES</td>\n",
              "      <td>2015</td>\n",
              "      <td>3392</td>\n",
              "    </tr>\n",
              "    <tr>\n",
              "      <th>13</th>\n",
              "      <td>ADULTOS</td>\n",
              "      <td>2015</td>\n",
              "      <td>7994</td>\n",
              "    </tr>\n",
              "    <tr>\n",
              "      <th>4</th>\n",
              "      <td>MENORES</td>\n",
              "      <td>2016</td>\n",
              "      <td>12807</td>\n",
              "    </tr>\n",
              "    <tr>\n",
              "      <th>23</th>\n",
              "      <td>ADOLESCENTES</td>\n",
              "      <td>2016</td>\n",
              "      <td>4035</td>\n",
              "    </tr>\n",
              "    <tr>\n",
              "      <th>14</th>\n",
              "      <td>ADULTOS</td>\n",
              "      <td>2016</td>\n",
              "      <td>7110</td>\n",
              "    </tr>\n",
              "    <tr>\n",
              "      <th>12</th>\n",
              "      <td>ADULTOS</td>\n",
              "      <td>2017</td>\n",
              "      <td>8007</td>\n",
              "    </tr>\n",
              "    <tr>\n",
              "      <th>2</th>\n",
              "      <td>MENORES</td>\n",
              "      <td>2017</td>\n",
              "      <td>15966</td>\n",
              "    </tr>\n",
              "    <tr>\n",
              "      <th>22</th>\n",
              "      <td>ADOLESCENTES</td>\n",
              "      <td>2017</td>\n",
              "      <td>4393</td>\n",
              "    </tr>\n",
              "    <tr>\n",
              "      <th>5</th>\n",
              "      <td>ADULTOS</td>\n",
              "      <td>2018</td>\n",
              "      <td>12118</td>\n",
              "    </tr>\n",
              "    <tr>\n",
              "      <th>19</th>\n",
              "      <td>ADOLESCENTES</td>\n",
              "      <td>2018</td>\n",
              "      <td>5823</td>\n",
              "    </tr>\n",
              "    <tr>\n",
              "      <th>1</th>\n",
              "      <td>MENORES</td>\n",
              "      <td>2018</td>\n",
              "      <td>18873</td>\n",
              "    </tr>\n",
              "    <tr>\n",
              "      <th>0</th>\n",
              "      <td>MENORES</td>\n",
              "      <td>2019</td>\n",
              "      <td>20517</td>\n",
              "    </tr>\n",
              "    <tr>\n",
              "      <th>6</th>\n",
              "      <td>ADULTOS</td>\n",
              "      <td>2019</td>\n",
              "      <td>11013</td>\n",
              "    </tr>\n",
              "    <tr>\n",
              "      <th>15</th>\n",
              "      <td>ADOLESCENTES</td>\n",
              "      <td>2019</td>\n",
              "      <td>6646</td>\n",
              "    </tr>\n",
              "    <tr>\n",
              "      <th>39</th>\n",
              "      <td>NO REPORTA</td>\n",
              "      <td>2020</td>\n",
              "      <td>583</td>\n",
              "    </tr>\n",
              "    <tr>\n",
              "      <th>20</th>\n",
              "      <td>ADOLESCENTES</td>\n",
              "      <td>2020</td>\n",
              "      <td>4968</td>\n",
              "    </tr>\n",
              "    <tr>\n",
              "      <th>10</th>\n",
              "      <td>ADULTOS</td>\n",
              "      <td>2020</td>\n",
              "      <td>9679</td>\n",
              "    </tr>\n",
              "    <tr>\n",
              "      <th>3</th>\n",
              "      <td>MENORES</td>\n",
              "      <td>2020</td>\n",
              "      <td>14776</td>\n",
              "    </tr>\n",
              "    <tr>\n",
              "      <th>11</th>\n",
              "      <td>ADOLESCENTES</td>\n",
              "      <td>2021</td>\n",
              "      <td>8730</td>\n",
              "    </tr>\n",
              "    <tr>\n",
              "      <th>9</th>\n",
              "      <td>MENORES</td>\n",
              "      <td>2021</td>\n",
              "      <td>10352</td>\n",
              "    </tr>\n",
              "    <tr>\n",
              "      <th>8</th>\n",
              "      <td>ADULTOS</td>\n",
              "      <td>2021</td>\n",
              "      <td>10445</td>\n",
              "    </tr>\n",
              "    <tr>\n",
              "      <th>41</th>\n",
              "      <td>NO REPORTA</td>\n",
              "      <td>2021</td>\n",
              "      <td>43</td>\n",
              "    </tr>\n",
              "    <tr>\n",
              "      <th>30</th>\n",
              "      <td>MENORES</td>\n",
              "      <td>2022</td>\n",
              "      <td>2968</td>\n",
              "    </tr>\n",
              "    <tr>\n",
              "      <th>26</th>\n",
              "      <td>ADULTOS</td>\n",
              "      <td>2022</td>\n",
              "      <td>3426</td>\n",
              "    </tr>\n",
              "    <tr>\n",
              "      <th>40</th>\n",
              "      <td>NO REPORTA</td>\n",
              "      <td>2022</td>\n",
              "      <td>74</td>\n",
              "    </tr>\n",
              "    <tr>\n",
              "      <th>31</th>\n",
              "      <td>ADOLESCENTES</td>\n",
              "      <td>2022</td>\n",
              "      <td>2787</td>\n",
              "    </tr>\n",
              "  </tbody>\n",
              "</table>\n",
              "</div>\n",
              "      <button class=\"colab-df-convert\" onclick=\"convertToInteractive('df-ce4010ac-b6d6-4f0f-95fe-b66eb106d35c')\"\n",
              "              title=\"Convert this dataframe to an interactive table.\"\n",
              "              style=\"display:none;\">\n",
              "        \n",
              "  <svg xmlns=\"http://www.w3.org/2000/svg\" height=\"24px\"viewBox=\"0 0 24 24\"\n",
              "       width=\"24px\">\n",
              "    <path d=\"M0 0h24v24H0V0z\" fill=\"none\"/>\n",
              "    <path d=\"M18.56 5.44l.94 2.06.94-2.06 2.06-.94-2.06-.94-.94-2.06-.94 2.06-2.06.94zm-11 1L8.5 8.5l.94-2.06 2.06-.94-2.06-.94L8.5 2.5l-.94 2.06-2.06.94zm10 10l.94 2.06.94-2.06 2.06-.94-2.06-.94-.94-2.06-.94 2.06-2.06.94z\"/><path d=\"M17.41 7.96l-1.37-1.37c-.4-.4-.92-.59-1.43-.59-.52 0-1.04.2-1.43.59L10.3 9.45l-7.72 7.72c-.78.78-.78 2.05 0 2.83L4 21.41c.39.39.9.59 1.41.59.51 0 1.02-.2 1.41-.59l7.78-7.78 2.81-2.81c.8-.78.8-2.07 0-2.86zM5.41 20L4 18.59l7.72-7.72 1.47 1.35L5.41 20z\"/>\n",
              "  </svg>\n",
              "      </button>\n",
              "      \n",
              "  <style>\n",
              "    .colab-df-container {\n",
              "      display:flex;\n",
              "      flex-wrap:wrap;\n",
              "      gap: 12px;\n",
              "    }\n",
              "\n",
              "    .colab-df-convert {\n",
              "      background-color: #E8F0FE;\n",
              "      border: none;\n",
              "      border-radius: 50%;\n",
              "      cursor: pointer;\n",
              "      display: none;\n",
              "      fill: #1967D2;\n",
              "      height: 32px;\n",
              "      padding: 0 0 0 0;\n",
              "      width: 32px;\n",
              "    }\n",
              "\n",
              "    .colab-df-convert:hover {\n",
              "      background-color: #E2EBFA;\n",
              "      box-shadow: 0px 1px 2px rgba(60, 64, 67, 0.3), 0px 1px 3px 1px rgba(60, 64, 67, 0.15);\n",
              "      fill: #174EA6;\n",
              "    }\n",
              "\n",
              "    [theme=dark] .colab-df-convert {\n",
              "      background-color: #3B4455;\n",
              "      fill: #D2E3FC;\n",
              "    }\n",
              "\n",
              "    [theme=dark] .colab-df-convert:hover {\n",
              "      background-color: #434B5C;\n",
              "      box-shadow: 0px 1px 3px 1px rgba(0, 0, 0, 0.15);\n",
              "      filter: drop-shadow(0px 1px 2px rgba(0, 0, 0, 0.3));\n",
              "      fill: #FFFFFF;\n",
              "    }\n",
              "  </style>\n",
              "\n",
              "      <script>\n",
              "        const buttonEl =\n",
              "          document.querySelector('#df-ce4010ac-b6d6-4f0f-95fe-b66eb106d35c button.colab-df-convert');\n",
              "        buttonEl.style.display =\n",
              "          google.colab.kernel.accessAllowed ? 'block' : 'none';\n",
              "\n",
              "        async function convertToInteractive(key) {\n",
              "          const element = document.querySelector('#df-ce4010ac-b6d6-4f0f-95fe-b66eb106d35c');\n",
              "          const dataTable =\n",
              "            await google.colab.kernel.invokeFunction('convertToInteractive',\n",
              "                                                     [key], {});\n",
              "          if (!dataTable) return;\n",
              "\n",
              "          const docLinkHtml = 'Like what you see? Visit the ' +\n",
              "            '<a target=\"_blank\" href=https://colab.research.google.com/notebooks/data_table.ipynb>data table notebook</a>'\n",
              "            + ' to learn more about interactive tables.';\n",
              "          element.innerHTML = '';\n",
              "          dataTable['output_type'] = 'display_data';\n",
              "          await google.colab.output.renderOutput(dataTable, element);\n",
              "          const docLink = document.createElement('div');\n",
              "          docLink.innerHTML = docLinkHtml;\n",
              "          element.appendChild(docLink);\n",
              "        }\n",
              "      </script>\n",
              "    </div>\n",
              "  </div>\n",
              "  "
            ]
          },
          "metadata": {},
          "execution_count": 127
        }
      ]
    },
    {
      "cell_type": "code",
      "source": [
        "fig, ax = plt.subplots(figsize=(20, 9))\n",
        "sns.barplot(ax = ax, data = ds_grupoetario, x='year', y='CANTIDAD', hue ='GRUPO ETARIO')"
      ],
      "metadata": {
        "colab": {
          "base_uri": "https://localhost:8080/",
          "height": 0
        },
        "id": "ZMJPRqFkMTkU",
        "outputId": "9ab11ec5-0f51-4693-ba28-172cde846a71"
      },
      "execution_count": 128,
      "outputs": [
        {
          "output_type": "execute_result",
          "data": {
            "text/plain": [
              "<matplotlib.axes._subplots.AxesSubplot at 0x7fe541fb5b10>"
            ]
          },
          "metadata": {},
          "execution_count": 128
        },
        {
          "output_type": "display_data",
          "data": {
            "text/plain": [
              "<Figure size 1440x648 with 1 Axes>"
            ],
            "image/png": "[encoded data removed]"
          },
          "metadata": {
            "needs_background": "light"
          }
        }
      ]
    },
    {
      "cell_type": "markdown",
      "source": [
        "Data Frame Homicidios Accidente Transito"
      ],
      "metadata": {
        "id": "VgU1TavV5Xh5"
      }
    },
    {
      "cell_type": "code",
      "source": [
        "#Creacion de nueva variable conteniendo genero, año y creacion de grafica\n",
        "hat_genero = hat_df.groupby(['GENERO', 'year']).sum().sort_values(by = 'CANTIDAD', ascending = False)['CANTIDAD']\n",
        "hat_genero = hat_genero.reset_index()\n",
        "hat_genero.sort_values(by = 'year')"
      ],
      "metadata": {
        "colab": {
          "base_uri": "https://localhost:8080/",
          "height": 0
        },
        "id": "d7SJneUG5eEc",
        "outputId": "a151aa2e-c728-4829-cbab-52dea32287ec"
      },
      "execution_count": 129,
      "outputs": [
        {
          "output_type": "execute_result",
          "data": {
            "text/plain": [
              "        GENERO  year  CANTIDAD\n",
              "31  NO REPORTA  2010         4\n",
              "10   MASCULINO  2010      3570\n",
              "21    FEMENINO  2010       926\n",
              "29  NO REPORTA  2011         5\n",
              "11   MASCULINO  2011      3387\n",
              "23    FEMENINO  2011       903\n",
              "9    MASCULINO  2012      3647\n",
              "24    FEMENINO  2012       902\n",
              "20    FEMENINO  2013       983\n",
              "28  NO REPORTA  2013         7\n",
              "7    MASCULINO  2013      3932\n",
              "19    FEMENINO  2014      1019\n",
              "8    MASCULINO  2014      3814\n",
              "34  NO REPORTA  2014         2\n",
              "18    FEMENINO  2015      1052\n",
              "4    MASCULINO  2015      4292\n",
              "3    MASCULINO  2016      4430\n",
              "16    FEMENINO  2016      1179\n",
              "17    FEMENINO  2017      1073\n",
              "35  NO REPORTA  2017         1\n",
              "5    MASCULINO  2017      4187\n",
              "13    FEMENINO  2018      1271\n",
              "26  NO REPORTA  2018        16\n",
              "2    MASCULINO  2018      4730\n",
              "27  NO REPORTA  2019        14\n",
              "1    MASCULINO  2019      4836\n",
              "15    FEMENINO  2019      1203\n",
              "22    FEMENINO  2020       907\n",
              "6    MASCULINO  2020      4157\n",
              "32  NO REPORTA  2020         4\n",
              "14    FEMENINO  2021      1267\n",
              "30  NO REPORTA  2021         5\n",
              "0    MASCULINO  2021      5642\n",
              "12   MASCULINO  2022      1844\n",
              "25    FEMENINO  2022       464\n",
              "33  NO REPORTA  2022         3"
            ],
            "text/html": [
              "\n",
              "  <div id=\"df-37b57aa4-1923-45ac-b0cf-8a0e6dbb6c0c\">\n",
              "    <div class=\"colab-df-container\">\n",
              "      <div>\n",
              "<style scoped>\n",
              "    .dataframe tbody tr th:only-of-type {\n",
              "        vertical-align: middle;\n",
              "    }\n",
              "\n",
              "    .dataframe tbody tr th {\n",
              "        vertical-align: top;\n",
              "    }\n",
              "\n",
              "    .dataframe thead th {\n",
              "        text-align: right;\n",
              "    }\n",
              "</style>\n",
              "<table border=\"1\" class=\"dataframe\">\n",
              "  <thead>\n",
              "    <tr style=\"text-align: right;\">\n",
              "      <th></th>\n",
              "      <th>GENERO</th>\n",
              "      <th>year</th>\n",
              "      <th>CANTIDAD</th>\n",
              "    </tr>\n",
              "  </thead>\n",
              "  <tbody>\n",
              "    <tr>\n",
              "      <th>31</th>\n",
              "      <td>NO REPORTA</td>\n",
              "      <td>2010</td>\n",
              "      <td>4</td>\n",
              "    </tr>\n",
              "    <tr>\n",
              "      <th>10</th>\n",
              "      <td>MASCULINO</td>\n",
              "      <td>2010</td>\n",
              "      <td>3570</td>\n",
              "    </tr>\n",
              "    <tr>\n",
              "      <th>21</th>\n",
              "      <td>FEMENINO</td>\n",
              "      <td>2010</td>\n",
              "      <td>926</td>\n",
              "    </tr>\n",
              "    <tr>\n",
              "      <th>29</th>\n",
              "      <td>NO REPORTA</td>\n",
              "      <td>2011</td>\n",
              "      <td>5</td>\n",
              "    </tr>\n",
              "    <tr>\n",
              "      <th>11</th>\n",
              "      <td>MASCULINO</td>\n",
              "      <td>2011</td>\n",
              "      <td>3387</td>\n",
              "    </tr>\n",
              "    <tr>\n",
              "      <th>23</th>\n",
              "      <td>FEMENINO</td>\n",
              "      <td>2011</td>\n",
              "      <td>903</td>\n",
              "    </tr>\n",
              "    <tr>\n",
              "      <th>9</th>\n",
              "      <td>MASCULINO</td>\n",
              "      <td>2012</td>\n",
              "      <td>3647</td>\n",
              "    </tr>\n",
              "    <tr>\n",
              "      <th>24</th>\n",
              "      <td>FEMENINO</td>\n",
              "      <td>2012</td>\n",
              "      <td>902</td>\n",
              "    </tr>\n",
              "    <tr>\n",
              "      <th>20</th>\n",
              "      <td>FEMENINO</td>\n",
              "      <td>2013</td>\n",
              "      <td>983</td>\n",
              "    </tr>\n",
              "    <tr>\n",
              "      <th>28</th>\n",
              "      <td>NO REPORTA</td>\n",
              "      <td>2013</td>\n",
              "      <td>7</td>\n",
              "    </tr>\n",
              "    <tr>\n",
              "      <th>7</th>\n",
              "      <td>MASCULINO</td>\n",
              "      <td>2013</td>\n",
              "      <td>3932</td>\n",
              "    </tr>\n",
              "    <tr>\n",
              "      <th>19</th>\n",
              "      <td>FEMENINO</td>\n",
              "      <td>2014</td>\n",
              "      <td>1019</td>\n",
              "    </tr>\n",
              "    <tr>\n",
              "      <th>8</th>\n",
              "      <td>MASCULINO</td>\n",
              "      <td>2014</td>\n",
              "      <td>3814</td>\n",
              "    </tr>\n",
              "    <tr>\n",
              "      <th>34</th>\n",
              "      <td>NO REPORTA</td>\n",
              "      <td>2014</td>\n",
              "      <td>2</td>\n",
              "    </tr>\n",
              "    <tr>\n",
              "      <th>18</th>\n",
              "      <td>FEMENINO</td>\n",
              "      <td>2015</td>\n",
              "      <td>1052</td>\n",
              "    </tr>\n",
              "    <tr>\n",
              "      <th>4</th>\n",
              "      <td>MASCULINO</td>\n",
              "      <td>2015</td>\n",
              "      <td>4292</td>\n",
              "    </tr>\n",
              "    <tr>\n",
              "      <th>3</th>\n",
              "      <td>MASCULINO</td>\n",
              "      <td>2016</td>\n",
              "      <td>4430</td>\n",
              "    </tr>\n",
              "    <tr>\n",
              "      <th>16</th>\n",
              "      <td>FEMENINO</td>\n",
              "      <td>2016</td>\n",
              "      <td>1179</td>\n",
              "    </tr>\n",
              "    <tr>\n",
              "      <th>17</th>\n",
              "      <td>FEMENINO</td>\n",
              "      <td>2017</td>\n",
              "      <td>1073</td>\n",
              "    </tr>\n",
              "    <tr>\n",
              "      <th>35</th>\n",
              "      <td>NO REPORTA</td>\n",
              "      <td>2017</td>\n",
              "      <td>1</td>\n",
              "    </tr>\n",
              "    <tr>\n",
              "      <th>5</th>\n",
              "      <td>MASCULINO</td>\n",
              "      <td>2017</td>\n",
              "      <td>4187</td>\n",
              "    </tr>\n",
              "    <tr>\n",
              "      <th>13</th>\n",
              "      <td>FEMENINO</td>\n",
              "      <td>2018</td>\n",
              "      <td>1271</td>\n",
              "    </tr>\n",
              "    <tr>\n",
              "      <th>26</th>\n",
              "      <td>NO REPORTA</td>\n",
              "      <td>2018</td>\n",
              "      <td>16</td>\n",
              "    </tr>\n",
              "    <tr>\n",
              "      <th>2</th>\n",
              "      <td>MASCULINO</td>\n",
              "      <td>2018</td>\n",
              "      <td>4730</td>\n",
              "    </tr>\n",
              "    <tr>\n",
              "      <th>27</th>\n",
              "      <td>NO REPORTA</td>\n",
              "      <td>2019</td>\n",
              "      <td>14</td>\n",
              "    </tr>\n",
              "    <tr>\n",
              "      <th>1</th>\n",
              "      <td>MASCULINO</td>\n",
              "      <td>2019</td>\n",
              "      <td>4836</td>\n",
              "    </tr>\n",
              "    <tr>\n",
              "      <th>15</th>\n",
              "      <td>FEMENINO</td>\n",
              "      <td>2019</td>\n",
              "      <td>1203</td>\n",
              "    </tr>\n",
              "    <tr>\n",
              "      <th>22</th>\n",
              "      <td>FEMENINO</td>\n",
              "      <td>2020</td>\n",
              "      <td>907</td>\n",
              "    </tr>\n",
              "    <tr>\n",
              "      <th>6</th>\n",
              "      <td>MASCULINO</td>\n",
              "      <td>2020</td>\n",
              "      <td>4157</td>\n",
              "    </tr>\n",
              "    <tr>\n",
              "      <th>32</th>\n",
              "      <td>NO REPORTA</td>\n",
              "      <td>2020</td>\n",
              "      <td>4</td>\n",
              "    </tr>\n",
              "    <tr>\n",
              "      <th>14</th>\n",
              "      <td>FEMENINO</td>\n",
              "      <td>2021</td>\n",
              "      <td>1267</td>\n",
              "    </tr>\n",
              "    <tr>\n",
              "      <th>30</th>\n",
              "      <td>NO REPORTA</td>\n",
              "      <td>2021</td>\n",
              "      <td>5</td>\n",
              "    </tr>\n",
              "    <tr>\n",
              "      <th>0</th>\n",
              "      <td>MASCULINO</td>\n",
              "      <td>2021</td>\n",
              "      <td>5642</td>\n",
              "    </tr>\n",
              "    <tr>\n",
              "      <th>12</th>\n",
              "      <td>MASCULINO</td>\n",
              "      <td>2022</td>\n",
              "      <td>1844</td>\n",
              "    </tr>\n",
              "    <tr>\n",
              "      <th>25</th>\n",
              "      <td>FEMENINO</td>\n",
              "      <td>2022</td>\n",
              "      <td>464</td>\n",
              "    </tr>\n",
              "    <tr>\n",
              "      <th>33</th>\n",
              "      <td>NO REPORTA</td>\n",
              "      <td>2022</td>\n",
              "      <td>3</td>\n",
              "    </tr>\n",
              "  </tbody>\n",
              "</table>\n",
              "</div>\n",
              "      <button class=\"colab-df-convert\" onclick=\"convertToInteractive('df-37b57aa4-1923-45ac-b0cf-8a0e6dbb6c0c')\"\n",
              "              title=\"Convert this dataframe to an interactive table.\"\n",
              "              style=\"display:none;\">\n",
              "        \n",
              "  <svg xmlns=\"http://www.w3.org/2000/svg\" height=\"24px\"viewBox=\"0 0 24 24\"\n",
              "       width=\"24px\">\n",
              "    <path d=\"M0 0h24v24H0V0z\" fill=\"none\"/>\n",
              "    <path d=\"M18.56 5.44l.94 2.06.94-2.06 2.06-.94-2.06-.94-.94-2.06-.94 2.06-2.06.94zm-11 1L8.5 8.5l.94-2.06 2.06-.94-2.06-.94L8.5 2.5l-.94 2.06-2.06.94zm10 10l.94 2.06.94-2.06 2.06-.94-2.06-.94-.94-2.06-.94 2.06-2.06.94z\"/><path d=\"M17.41 7.96l-1.37-1.37c-.4-.4-.92-.59-1.43-.59-.52 0-1.04.2-1.43.59L10.3 9.45l-7.72 7.72c-.78.78-.78 2.05 0 2.83L4 21.41c.39.39.9.59 1.41.59.51 0 1.02-.2 1.41-.59l7.78-7.78 2.81-2.81c.8-.78.8-2.07 0-2.86zM5.41 20L4 18.59l7.72-7.72 1.47 1.35L5.41 20z\"/>\n",
              "  </svg>\n",
              "      </button>\n",
              "      \n",
              "  <style>\n",
              "    .colab-df-container {\n",
              "      display:flex;\n",
              "      flex-wrap:wrap;\n",
              "      gap: 12px;\n",
              "    }\n",
              "\n",
              "    .colab-df-convert {\n",
              "      background-color: #E8F0FE;\n",
              "      border: none;\n",
              "      border-radius: 50%;\n",
              "      cursor: pointer;\n",
              "      display: none;\n",
              "      fill: #1967D2;\n",
              "      height: 32px;\n",
              "      padding: 0 0 0 0;\n",
              "      width: 32px;\n",
              "    }\n",
              "\n",
              "    .colab-df-convert:hover {\n",
              "      background-color: #E2EBFA;\n",
              "      box-shadow: 0px 1px 2px rgba(60, 64, 67, 0.3), 0px 1px 3px 1px rgba(60, 64, 67, 0.15);\n",
              "      fill: #174EA6;\n",
              "    }\n",
              "\n",
              "    [theme=dark] .colab-df-convert {\n",
              "      background-color: #3B4455;\n",
              "      fill: #D2E3FC;\n",
              "    }\n",
              "\n",
              "    [theme=dark] .colab-df-convert:hover {\n",
              "      background-color: #434B5C;\n",
              "      box-shadow: 0px 1px 3px 1px rgba(0, 0, 0, 0.15);\n",
              "      filter: drop-shadow(0px 1px 2px rgba(0, 0, 0, 0.3));\n",
              "      fill: #FFFFFF;\n",
              "    }\n",
              "  </style>\n",
              "\n",
              "      <script>\n",
              "        const buttonEl =\n",
              "          document.querySelector('#df-37b57aa4-1923-45ac-b0cf-8a0e6dbb6c0c button.colab-df-convert');\n",
              "        buttonEl.style.display =\n",
              "          google.colab.kernel.accessAllowed ? 'block' : 'none';\n",
              "\n",
              "        async function convertToInteractive(key) {\n",
              "          const element = document.querySelector('#df-37b57aa4-1923-45ac-b0cf-8a0e6dbb6c0c');\n",
              "          const dataTable =\n",
              "            await google.colab.kernel.invokeFunction('convertToInteractive',\n",
              "                                                     [key], {});\n",
              "          if (!dataTable) return;\n",
              "\n",
              "          const docLinkHtml = 'Like what you see? Visit the ' +\n",
              "            '<a target=\"_blank\" href=https://colab.research.google.com/notebooks/data_table.ipynb>data table notebook</a>'\n",
              "            + ' to learn more about interactive tables.';\n",
              "          element.innerHTML = '';\n",
              "          dataTable['output_type'] = 'display_data';\n",
              "          await google.colab.output.renderOutput(dataTable, element);\n",
              "          const docLink = document.createElement('div');\n",
              "          docLink.innerHTML = docLinkHtml;\n",
              "          element.appendChild(docLink);\n",
              "        }\n",
              "      </script>\n",
              "    </div>\n",
              "  </div>\n",
              "  "
            ]
          },
          "metadata": {},
          "execution_count": 129
        }
      ]
    },
    {
      "cell_type": "code",
      "source": [
        "fig, ax = plt.subplots(figsize=(20, 9))\n",
        "sns.barplot(ax = ax, data = hat_genero, x='year', y='CANTIDAD', hue ='GENERO')"
      ],
      "metadata": {
        "colab": {
          "base_uri": "https://localhost:8080/",
          "height": 0
        },
        "id": "AChxrjtyHQjL",
        "outputId": "88b490a5-9b98-44d9-d93b-93a767ea631a"
      },
      "execution_count": 130,
      "outputs": [
        {
          "output_type": "execute_result",
          "data": {
            "text/plain": [
              "<matplotlib.axes._subplots.AxesSubplot at 0x7fe541dfe2d0>"
            ]
          },
          "metadata": {},
          "execution_count": 130
        },
        {
          "output_type": "display_data",
          "data": {
            "text/plain": [
              "<Figure size 1440x648 with 1 Axes>"
            ],
            "image/png": "[encoded data removed]"
          },
          "metadata": {
            "needs_background": "light"
          }
        }
      ]
    },
    {
      "cell_type": "code",
      "source": [
        "#Creacion de nueva variable conteniendo genero, año y creacion de grafica\n",
        "hat_grupoetario = hat_df.groupby(['GRUPO ETARIO', 'year']).sum().sort_values(by = 'CANTIDAD', ascending = False)['CANTIDAD']\n",
        "hat_grupoetario = hat_grupoetario.reset_index()\n",
        "hat_grupoetario.sort_values(by = 'year')"
      ],
      "metadata": {
        "colab": {
          "base_uri": "https://localhost:8080/",
          "height": 0
        },
        "id": "gNZddQ1yL1oM",
        "outputId": "f854201b-f0ae-422e-a32a-dc83e2f5926a"
      },
      "execution_count": 131,
      "outputs": [
        {
          "output_type": "execute_result",
          "data": {
            "text/plain": [
              "    GRUPO ETARIO  year  CANTIDAD\n",
              "28  ADOLESCENTES  2010       190\n",
              "22       MENORES  2010       216\n",
              "10       ADULTOS  2010      4094\n",
              "23       MENORES  2011       216\n",
              "26  ADOLESCENTES  2011       210\n",
              "11       ADULTOS  2011      3869\n",
              "30       MENORES  2012       185\n",
              "9        ADULTOS  2012      4150\n",
              "25  ADOLESCENTES  2012       214\n",
              "24       MENORES  2013       215\n",
              "18  ADOLESCENTES  2013       253\n",
              "45    NO REPORTA  2013         1\n",
              "7        ADULTOS  2013      4453\n",
              "44    NO REPORTA  2014         2\n",
              "8        ADULTOS  2014      4397\n",
              "19  ADOLESCENTES  2014       241\n",
              "27       MENORES  2014       195\n",
              "29       MENORES  2015       188\n",
              "4        ADULTOS  2015      4933\n",
              "21  ADOLESCENTES  2015       223\n",
              "31       MENORES  2016       185\n",
              "15  ADOLESCENTES  2016       271\n",
              "3        ADULTOS  2016      5153\n",
              "33       MENORES  2017       173\n",
              "46    NO REPORTA  2017         1\n",
              "16  ADOLESCENTES  2017       270\n",
              "5        ADULTOS  2017      4817\n",
              "14  ADOLESCENTES  2018       286\n",
              "32       MENORES  2018       177\n",
              "2        ADULTOS  2018      5538\n",
              "39    NO REPORTA  2018        16\n",
              "17  ADOLESCENTES  2019       253\n",
              "1        ADULTOS  2019      5624\n",
              "34       MENORES  2019       162\n",
              "40    NO REPORTA  2019        14\n",
              "42    NO REPORTA  2020         4\n",
              "6        ADULTOS  2020      4731\n",
              "20  ADOLESCENTES  2020       235\n",
              "36       MENORES  2020        98\n",
              "41    NO REPORTA  2021         5\n",
              "35       MENORES  2021       157\n",
              "13  ADOLESCENTES  2021       286\n",
              "0        ADULTOS  2021      6466\n",
              "37  ADOLESCENTES  2022        85\n",
              "12       ADULTOS  2022      2161\n",
              "43    NO REPORTA  2022         3\n",
              "38       MENORES  2022        62"
            ],
            "text/html": [
              "\n",
              "  <div id=\"df-5489bab1-f55a-4105-a8ed-6c79ba555a18\">\n",
              "    <div class=\"colab-df-container\">\n",
              "      <div>\n",
              "<style scoped>\n",
              "    .dataframe tbody tr th:only-of-type {\n",
              "        vertical-align: middle;\n",
              "    }\n",
              "\n",
              "    .dataframe tbody tr th {\n",
              "        vertical-align: top;\n",
              "    }\n",
              "\n",
              "    .dataframe thead th {\n",
              "        text-align: right;\n",
              "    }\n",
              "</style>\n",
              "<table border=\"1\" class=\"dataframe\">\n",
              "  <thead>\n",
              "    <tr style=\"text-align: right;\">\n",
              "      <th></th>\n",
              "      <th>GRUPO ETARIO</th>\n",
              "      <th>year</th>\n",
              "      <th>CANTIDAD</th>\n",
              "    </tr>\n",
              "  </thead>\n",
              "  <tbody>\n",
              "    <tr>\n",
              "      <th>28</th>\n",
              "      <td>ADOLESCENTES</td>\n",
              "      <td>2010</td>\n",
              "      <td>190</td>\n",
              "    </tr>\n",
              "    <tr>\n",
              "      <th>22</th>\n",
              "      <td>MENORES</td>\n",
              "      <td>2010</td>\n",
              "      <td>216</td>\n",
              "    </tr>\n",
              "    <tr>\n",
              "      <th>10</th>\n",
              "      <td>ADULTOS</td>\n",
              "      <td>2010</td>\n",
              "      <td>4094</td>\n",
              "    </tr>\n",
              "    <tr>\n",
              "      <th>23</th>\n",
              "      <td>MENORES</td>\n",
              "      <td>2011</td>\n",
              "      <td>216</td>\n",
              "    </tr>\n",
              "    <tr>\n",
              "      <th>26</th>\n",
              "      <td>ADOLESCENTES</td>\n",
              "      <td>2011</td>\n",
              "      <td>210</td>\n",
              "    </tr>\n",
              "    <tr>\n",
              "      <th>11</th>\n",
              "      <td>ADULTOS</td>\n",
              "      <td>2011</td>\n",
              "      <td>3869</td>\n",
              "    </tr>\n",
              "    <tr>\n",
              "      <th>30</th>\n",
              "      <td>MENORES</td>\n",
              "      <td>2012</td>\n",
              "      <td>185</td>\n",
              "    </tr>\n",
              "    <tr>\n",
              "      <th>9</th>\n",
              "      <td>ADULTOS</td>\n",
              "      <td>2012</td>\n",
              "      <td>4150</td>\n",
              "    </tr>\n",
              "    <tr>\n",
              "      <th>25</th>\n",
              "      <td>ADOLESCENTES</td>\n",
              "      <td>2012</td>\n",
              "      <td>214</td>\n",
              "    </tr>\n",
              "    <tr>\n",
              "      <th>24</th>\n",
              "      <td>MENORES</td>\n",
              "      <td>2013</td>\n",
              "      <td>215</td>\n",
              "    </tr>\n",
              "    <tr>\n",
              "      <th>18</th>\n",
              "      <td>ADOLESCENTES</td>\n",
              "      <td>2013</td>\n",
              "      <td>253</td>\n",
              "    </tr>\n",
              "    <tr>\n",
              "      <th>45</th>\n",
              "      <td>NO REPORTA</td>\n",
              "      <td>2013</td>\n",
              "      <td>1</td>\n",
              "    </tr>\n",
              "    <tr>\n",
              "      <th>7</th>\n",
              "      <td>ADULTOS</td>\n",
              "      <td>2013</td>\n",
              "      <td>4453</td>\n",
              "    </tr>\n",
              "    <tr>\n",
              "      <th>44</th>\n",
              "      <td>NO REPORTA</td>\n",
              "      <td>2014</td>\n",
              "      <td>2</td>\n",
              "    </tr>\n",
              "    <tr>\n",
              "      <th>8</th>\n",
              "      <td>ADULTOS</td>\n",
              "      <td>2014</td>\n",
              "      <td>4397</td>\n",
              "    </tr>\n",
              "    <tr>\n",
              "      <th>19</th>\n",
              "      <td>ADOLESCENTES</td>\n",
              "      <td>2014</td>\n",
              "      <td>241</td>\n",
              "    </tr>\n",
              "    <tr>\n",
              "      <th>27</th>\n",
              "      <td>MENORES</td>\n",
              "      <td>2014</td>\n",
              "      <td>195</td>\n",
              "    </tr>\n",
              "    <tr>\n",
              "      <th>29</th>\n",
              "      <td>MENORES</td>\n",
              "      <td>2015</td>\n",
              "      <td>188</td>\n",
              "    </tr>\n",
              "    <tr>\n",
              "      <th>4</th>\n",
              "      <td>ADULTOS</td>\n",
              "      <td>2015</td>\n",
              "      <td>4933</td>\n",
              "    </tr>\n",
              "    <tr>\n",
              "      <th>21</th>\n",
              "      <td>ADOLESCENTES</td>\n",
              "      <td>2015</td>\n",
              "      <td>223</td>\n",
              "    </tr>\n",
              "    <tr>\n",
              "      <th>31</th>\n",
              "      <td>MENORES</td>\n",
              "      <td>2016</td>\n",
              "      <td>185</td>\n",
              "    </tr>\n",
              "    <tr>\n",
              "      <th>15</th>\n",
              "      <td>ADOLESCENTES</td>\n",
              "      <td>2016</td>\n",
              "      <td>271</td>\n",
              "    </tr>\n",
              "    <tr>\n",
              "      <th>3</th>\n",
              "      <td>ADULTOS</td>\n",
              "      <td>2016</td>\n",
              "      <td>5153</td>\n",
              "    </tr>\n",
              "    <tr>\n",
              "      <th>33</th>\n",
              "      <td>MENORES</td>\n",
              "      <td>2017</td>\n",
              "      <td>173</td>\n",
              "    </tr>\n",
              "    <tr>\n",
              "      <th>46</th>\n",
              "      <td>NO REPORTA</td>\n",
              "      <td>2017</td>\n",
              "      <td>1</td>\n",
              "    </tr>\n",
              "    <tr>\n",
              "      <th>16</th>\n",
              "      <td>ADOLESCENTES</td>\n",
              "      <td>2017</td>\n",
              "      <td>270</td>\n",
              "    </tr>\n",
              "    <tr>\n",
              "      <th>5</th>\n",
              "      <td>ADULTOS</td>\n",
              "      <td>2017</td>\n",
              "      <td>4817</td>\n",
              "    </tr>\n",
              "    <tr>\n",
              "      <th>14</th>\n",
              "      <td>ADOLESCENTES</td>\n",
              "      <td>2018</td>\n",
              "      <td>286</td>\n",
              "    </tr>\n",
              "    <tr>\n",
              "      <th>32</th>\n",
              "      <td>MENORES</td>\n",
              "      <td>2018</td>\n",
              "      <td>177</td>\n",
              "    </tr>\n",
              "    <tr>\n",
              "      <th>2</th>\n",
              "      <td>ADULTOS</td>\n",
              "      <td>2018</td>\n",
              "      <td>5538</td>\n",
              "    </tr>\n",
              "    <tr>\n",
              "      <th>39</th>\n",
              "      <td>NO REPORTA</td>\n",
              "      <td>2018</td>\n",
              "      <td>16</td>\n",
              "    </tr>\n",
              "    <tr>\n",
              "      <th>17</th>\n",
              "      <td>ADOLESCENTES</td>\n",
              "      <td>2019</td>\n",
              "      <td>253</td>\n",
              "    </tr>\n",
              "    <tr>\n",
              "      <th>1</th>\n",
              "      <td>ADULTOS</td>\n",
              "      <td>2019</td>\n",
              "      <td>5624</td>\n",
              "    </tr>\n",
              "    <tr>\n",
              "      <th>34</th>\n",
              "      <td>MENORES</td>\n",
              "      <td>2019</td>\n",
              "      <td>162</td>\n",
              "    </tr>\n",
              "    <tr>\n",
              "      <th>40</th>\n",
              "      <td>NO REPORTA</td>\n",
              "      <td>2019</td>\n",
              "      <td>14</td>\n",
              "    </tr>\n",
              "    <tr>\n",
              "      <th>42</th>\n",
              "      <td>NO REPORTA</td>\n",
              "      <td>2020</td>\n",
              "      <td>4</td>\n",
              "    </tr>\n",
              "    <tr>\n",
              "      <th>6</th>\n",
              "      <td>ADULTOS</td>\n",
              "      <td>2020</td>\n",
              "      <td>4731</td>\n",
              "    </tr>\n",
              "    <tr>\n",
              "      <th>20</th>\n",
              "      <td>ADOLESCENTES</td>\n",
              "      <td>2020</td>\n",
              "      <td>235</td>\n",
              "    </tr>\n",
              "    <tr>\n",
              "      <th>36</th>\n",
              "      <td>MENORES</td>\n",
              "      <td>2020</td>\n",
              "      <td>98</td>\n",
              "    </tr>\n",
              "    <tr>\n",
              "      <th>41</th>\n",
              "      <td>NO REPORTA</td>\n",
              "      <td>2021</td>\n",
              "      <td>5</td>\n",
              "    </tr>\n",
              "    <tr>\n",
              "      <th>35</th>\n",
              "      <td>MENORES</td>\n",
              "      <td>2021</td>\n",
              "      <td>157</td>\n",
              "    </tr>\n",
              "    <tr>\n",
              "      <th>13</th>\n",
              "      <td>ADOLESCENTES</td>\n",
              "      <td>2021</td>\n",
              "      <td>286</td>\n",
              "    </tr>\n",
              "    <tr>\n",
              "      <th>0</th>\n",
              "      <td>ADULTOS</td>\n",
              "      <td>2021</td>\n",
              "      <td>6466</td>\n",
              "    </tr>\n",
              "    <tr>\n",
              "      <th>37</th>\n",
              "      <td>ADOLESCENTES</td>\n",
              "      <td>2022</td>\n",
              "      <td>85</td>\n",
              "    </tr>\n",
              "    <tr>\n",
              "      <th>12</th>\n",
              "      <td>ADULTOS</td>\n",
              "      <td>2022</td>\n",
              "      <td>2161</td>\n",
              "    </tr>\n",
              "    <tr>\n",
              "      <th>43</th>\n",
              "      <td>NO REPORTA</td>\n",
              "      <td>2022</td>\n",
              "      <td>3</td>\n",
              "    </tr>\n",
              "    <tr>\n",
              "      <th>38</th>\n",
              "      <td>MENORES</td>\n",
              "      <td>2022</td>\n",
              "      <td>62</td>\n",
              "    </tr>\n",
              "  </tbody>\n",
              "</table>\n",
              "</div>\n",
              "      <button class=\"colab-df-convert\" onclick=\"convertToInteractive('df-5489bab1-f55a-4105-a8ed-6c79ba555a18')\"\n",
              "              title=\"Convert this dataframe to an interactive table.\"\n",
              "              style=\"display:none;\">\n",
              "        \n",
              "  <svg xmlns=\"http://www.w3.org/2000/svg\" height=\"24px\"viewBox=\"0 0 24 24\"\n",
              "       width=\"24px\">\n",
              "    <path d=\"M0 0h24v24H0V0z\" fill=\"none\"/>\n",
              "    <path d=\"M18.56 5.44l.94 2.06.94-2.06 2.06-.94-2.06-.94-.94-2.06-.94 2.06-2.06.94zm-11 1L8.5 8.5l.94-2.06 2.06-.94-2.06-.94L8.5 2.5l-.94 2.06-2.06.94zm10 10l.94 2.06.94-2.06 2.06-.94-2.06-.94-.94-2.06-.94 2.06-2.06.94z\"/><path d=\"M17.41 7.96l-1.37-1.37c-.4-.4-.92-.59-1.43-.59-.52 0-1.04.2-1.43.59L10.3 9.45l-7.72 7.72c-.78.78-.78 2.05 0 2.83L4 21.41c.39.39.9.59 1.41.59.51 0 1.02-.2 1.41-.59l7.78-7.78 2.81-2.81c.8-.78.8-2.07 0-2.86zM5.41 20L4 18.59l7.72-7.72 1.47 1.35L5.41 20z\"/>\n",
              "  </svg>\n",
              "      </button>\n",
              "      \n",
              "  <style>\n",
              "    .colab-df-container {\n",
              "      display:flex;\n",
              "      flex-wrap:wrap;\n",
              "      gap: 12px;\n",
              "    }\n",
              "\n",
              "    .colab-df-convert {\n",
              "      background-color: #E8F0FE;\n",
              "      border: none;\n",
              "      border-radius: 50%;\n",
              "      cursor: pointer;\n",
              "      display: none;\n",
              "      fill: #1967D2;\n",
              "      height: 32px;\n",
              "      padding: 0 0 0 0;\n",
              "      width: 32px;\n",
              "    }\n",
              "\n",
              "    .colab-df-convert:hover {\n",
              "      background-color: #E2EBFA;\n",
              "      box-shadow: 0px 1px 2px rgba(60, 64, 67, 0.3), 0px 1px 3px 1px rgba(60, 64, 67, 0.15);\n",
              "      fill: #174EA6;\n",
              "    }\n",
              "\n",
              "    [theme=dark] .colab-df-convert {\n",
              "      background-color: #3B4455;\n",
              "      fill: #D2E3FC;\n",
              "    }\n",
              "\n",
              "    [theme=dark] .colab-df-convert:hover {\n",
              "      background-color: #434B5C;\n",
              "      box-shadow: 0px 1px 3px 1px rgba(0, 0, 0, 0.15);\n",
              "      filter: drop-shadow(0px 1px 2px rgba(0, 0, 0, 0.3));\n",
              "      fill: #FFFFFF;\n",
              "    }\n",
              "  </style>\n",
              "\n",
              "      <script>\n",
              "        const buttonEl =\n",
              "          document.querySelector('#df-5489bab1-f55a-4105-a8ed-6c79ba555a18 button.colab-df-convert');\n",
              "        buttonEl.style.display =\n",
              "          google.colab.kernel.accessAllowed ? 'block' : 'none';\n",
              "\n",
              "        async function convertToInteractive(key) {\n",
              "          const element = document.querySelector('#df-5489bab1-f55a-4105-a8ed-6c79ba555a18');\n",
              "          const dataTable =\n",
              "            await google.colab.kernel.invokeFunction('convertToInteractive',\n",
              "                                                     [key], {});\n",
              "          if (!dataTable) return;\n",
              "\n",
              "          const docLinkHtml = 'Like what you see? Visit the ' +\n",
              "            '<a target=\"_blank\" href=https://colab.research.google.com/notebooks/data_table.ipynb>data table notebook</a>'\n",
              "            + ' to learn more about interactive tables.';\n",
              "          element.innerHTML = '';\n",
              "          dataTable['output_type'] = 'display_data';\n",
              "          await google.colab.output.renderOutput(dataTable, element);\n",
              "          const docLink = document.createElement('div');\n",
              "          docLink.innerHTML = docLinkHtml;\n",
              "          element.appendChild(docLink);\n",
              "        }\n",
              "      </script>\n",
              "    </div>\n",
              "  </div>\n",
              "  "
            ]
          },
          "metadata": {},
          "execution_count": 131
        }
      ]
    },
    {
      "cell_type": "code",
      "source": [
        "fig, ax = plt.subplots(figsize=(20, 9))\n",
        "sns.barplot(ax = ax, data = hat_grupoetario, x='year', y='CANTIDAD', hue ='GRUPO ETARIO')"
      ],
      "metadata": {
        "colab": {
          "base_uri": "https://localhost:8080/",
          "height": 0
        },
        "id": "v5M16k3MMVMN",
        "outputId": "9d204ebf-7f16-4c56-b1bc-58291c8efd14"
      },
      "execution_count": 132,
      "outputs": [
        {
          "output_type": "execute_result",
          "data": {
            "text/plain": [
              "<matplotlib.axes._subplots.AxesSubplot at 0x7fe541c23f50>"
            ]
          },
          "metadata": {},
          "execution_count": 132
        },
        {
          "output_type": "display_data",
          "data": {
            "text/plain": [
              "<Figure size 1440x648 with 1 Axes>"
            ],
            "image/png": "[encoded data removed]"
          },
          "metadata": {
            "needs_background": "light"
          }
        }
      ]
    },
    {
      "cell_type": "markdown",
      "source": [
        "##2.4 ¿Se evidencia alguna tendencia para cometer dicho delito en algún mes particular del año?"
      ],
      "metadata": {
        "id": "9clyruB9bOS9"
      }
    },
    {
      "cell_type": "markdown",
      "source": [
        "R/ Parece haber una tendencia en que estos tipos de delitos tienen su pico en el primer trimestre del año, aunque no es una diferencia muy grande comparado con los demas meses. \n",
        "\n",
        "Otro tema particular identificado es relacionado con los Homicidios por Accidente Transito, los cuales aparte de tener una mayor incidencia en la primera parte del año presentan un incremento en el mes de Diciembre siendo uno de sus meses mas altos. (Puede que este incremento se este dando por las fiestas de fin de año."
      ],
      "metadata": {
        "id": "iUV-7PLldZd1"
      }
    },
    {
      "cell_type": "code",
      "source": [
        "#Creacion de nueva variable especificando cantidad de delitos por mes\n",
        "ls_mes = ls_df.groupby(['month']).sum().sort_values(by = 'CANTIDAD', ascending = False)['CANTIDAD']\n",
        "ls_mes = ls_mes.reset_index()\n",
        "ls_mes.sort_values(by = 'month')"
      ],
      "metadata": {
        "colab": {
          "base_uri": "https://localhost:8080/",
          "height": 0
        },
        "id": "c6rbRwKlbTbW",
        "outputId": "00e78062-da4b-4cc8-bccd-85bb116b6151"
      },
      "execution_count": 133,
      "outputs": [
        {
          "output_type": "execute_result",
          "data": {
            "text/plain": [
              "    month  CANTIDAD\n",
              "1       1    155170\n",
              "2       2    148191\n",
              "0       3    157503\n",
              "3       4    139299\n",
              "4       5    137348\n",
              "8       6    133569\n",
              "5       7    136806\n",
              "6       8    136601\n",
              "7       9    135553\n",
              "9      10    132287\n",
              "11     11    125219\n",
              "10     12    131002"
            ],
            "text/html": [
              "\n",
              "  <div id=\"df-06eaa3e7-35e9-4da3-a148-9337f6b66f9b\">\n",
              "    <div class=\"colab-df-container\">\n",
              "      <div>\n",
              "<style scoped>\n",
              "    .dataframe tbody tr th:only-of-type {\n",
              "        vertical-align: middle;\n",
              "    }\n",
              "\n",
              "    .dataframe tbody tr th {\n",
              "        vertical-align: top;\n",
              "    }\n",
              "\n",
              "    .dataframe thead th {\n",
              "        text-align: right;\n",
              "    }\n",
              "</style>\n",
              "<table border=\"1\" class=\"dataframe\">\n",
              "  <thead>\n",
              "    <tr style=\"text-align: right;\">\n",
              "      <th></th>\n",
              "      <th>month</th>\n",
              "      <th>CANTIDAD</th>\n",
              "    </tr>\n",
              "  </thead>\n",
              "  <tbody>\n",
              "    <tr>\n",
              "      <th>1</th>\n",
              "      <td>1</td>\n",
              "      <td>155170</td>\n",
              "    </tr>\n",
              "    <tr>\n",
              "      <th>2</th>\n",
              "      <td>2</td>\n",
              "      <td>148191</td>\n",
              "    </tr>\n",
              "    <tr>\n",
              "      <th>0</th>\n",
              "      <td>3</td>\n",
              "      <td>157503</td>\n",
              "    </tr>\n",
              "    <tr>\n",
              "      <th>3</th>\n",
              "      <td>4</td>\n",
              "      <td>139299</td>\n",
              "    </tr>\n",
              "    <tr>\n",
              "      <th>4</th>\n",
              "      <td>5</td>\n",
              "      <td>137348</td>\n",
              "    </tr>\n",
              "    <tr>\n",
              "      <th>8</th>\n",
              "      <td>6</td>\n",
              "      <td>133569</td>\n",
              "    </tr>\n",
              "    <tr>\n",
              "      <th>5</th>\n",
              "      <td>7</td>\n",
              "      <td>136806</td>\n",
              "    </tr>\n",
              "    <tr>\n",
              "      <th>6</th>\n",
              "      <td>8</td>\n",
              "      <td>136601</td>\n",
              "    </tr>\n",
              "    <tr>\n",
              "      <th>7</th>\n",
              "      <td>9</td>\n",
              "      <td>135553</td>\n",
              "    </tr>\n",
              "    <tr>\n",
              "      <th>9</th>\n",
              "      <td>10</td>\n",
              "      <td>132287</td>\n",
              "    </tr>\n",
              "    <tr>\n",
              "      <th>11</th>\n",
              "      <td>11</td>\n",
              "      <td>125219</td>\n",
              "    </tr>\n",
              "    <tr>\n",
              "      <th>10</th>\n",
              "      <td>12</td>\n",
              "      <td>131002</td>\n",
              "    </tr>\n",
              "  </tbody>\n",
              "</table>\n",
              "</div>\n",
              "      <button class=\"colab-df-convert\" onclick=\"convertToInteractive('df-06eaa3e7-35e9-4da3-a148-9337f6b66f9b')\"\n",
              "              title=\"Convert this dataframe to an interactive table.\"\n",
              "              style=\"display:none;\">\n",
              "        \n",
              "  <svg xmlns=\"http://www.w3.org/2000/svg\" height=\"24px\"viewBox=\"0 0 24 24\"\n",
              "       width=\"24px\">\n",
              "    <path d=\"M0 0h24v24H0V0z\" fill=\"none\"/>\n",
              "    <path d=\"M18.56 5.44l.94 2.06.94-2.06 2.06-.94-2.06-.94-.94-2.06-.94 2.06-2.06.94zm-11 1L8.5 8.5l.94-2.06 2.06-.94-2.06-.94L8.5 2.5l-.94 2.06-2.06.94zm10 10l.94 2.06.94-2.06 2.06-.94-2.06-.94-.94-2.06-.94 2.06-2.06.94z\"/><path d=\"M17.41 7.96l-1.37-1.37c-.4-.4-.92-.59-1.43-.59-.52 0-1.04.2-1.43.59L10.3 9.45l-7.72 7.72c-.78.78-.78 2.05 0 2.83L4 21.41c.39.39.9.59 1.41.59.51 0 1.02-.2 1.41-.59l7.78-7.78 2.81-2.81c.8-.78.8-2.07 0-2.86zM5.41 20L4 18.59l7.72-7.72 1.47 1.35L5.41 20z\"/>\n",
              "  </svg>\n",
              "      </button>\n",
              "      \n",
              "  <style>\n",
              "    .colab-df-container {\n",
              "      display:flex;\n",
              "      flex-wrap:wrap;\n",
              "      gap: 12px;\n",
              "    }\n",
              "\n",
              "    .colab-df-convert {\n",
              "      background-color: #E8F0FE;\n",
              "      border: none;\n",
              "      border-radius: 50%;\n",
              "      cursor: pointer;\n",
              "      display: none;\n",
              "      fill: #1967D2;\n",
              "      height: 32px;\n",
              "      padding: 0 0 0 0;\n",
              "      width: 32px;\n",
              "    }\n",
              "\n",
              "    .colab-df-convert:hover {\n",
              "      background-color: #E2EBFA;\n",
              "      box-shadow: 0px 1px 2px rgba(60, 64, 67, 0.3), 0px 1px 3px 1px rgba(60, 64, 67, 0.15);\n",
              "      fill: #174EA6;\n",
              "    }\n",
              "\n",
              "    [theme=dark] .colab-df-convert {\n",
              "      background-color: #3B4455;\n",
              "      fill: #D2E3FC;\n",
              "    }\n",
              "\n",
              "    [theme=dark] .colab-df-convert:hover {\n",
              "      background-color: #434B5C;\n",
              "      box-shadow: 0px 1px 3px 1px rgba(0, 0, 0, 0.15);\n",
              "      filter: drop-shadow(0px 1px 2px rgba(0, 0, 0, 0.3));\n",
              "      fill: #FFFFFF;\n",
              "    }\n",
              "  </style>\n",
              "\n",
              "      <script>\n",
              "        const buttonEl =\n",
              "          document.querySelector('#df-06eaa3e7-35e9-4da3-a148-9337f6b66f9b button.colab-df-convert');\n",
              "        buttonEl.style.display =\n",
              "          google.colab.kernel.accessAllowed ? 'block' : 'none';\n",
              "\n",
              "        async function convertToInteractive(key) {\n",
              "          const element = document.querySelector('#df-06eaa3e7-35e9-4da3-a148-9337f6b66f9b');\n",
              "          const dataTable =\n",
              "            await google.colab.kernel.invokeFunction('convertToInteractive',\n",
              "                                                     [key], {});\n",
              "          if (!dataTable) return;\n",
              "\n",
              "          const docLinkHtml = 'Like what you see? Visit the ' +\n",
              "            '<a target=\"_blank\" href=https://colab.research.google.com/notebooks/data_table.ipynb>data table notebook</a>'\n",
              "            + ' to learn more about interactive tables.';\n",
              "          element.innerHTML = '';\n",
              "          dataTable['output_type'] = 'display_data';\n",
              "          await google.colab.output.renderOutput(dataTable, element);\n",
              "          const docLink = document.createElement('div');\n",
              "          docLink.innerHTML = docLinkHtml;\n",
              "          element.appendChild(docLink);\n",
              "        }\n",
              "      </script>\n",
              "    </div>\n",
              "  </div>\n",
              "  "
            ]
          },
          "metadata": {},
          "execution_count": 133
        }
      ]
    },
    {
      "cell_type": "code",
      "source": [
        "fig, ax = plt.subplots(figsize=(15, 8))\n",
        "sns.barplot(ax = ax, data = ls_mes, x='month', y='CANTIDAD', color = 'black')"
      ],
      "metadata": {
        "colab": {
          "base_uri": "https://localhost:8080/",
          "height": 0
        },
        "id": "0MjYVAKzc4LP",
        "outputId": "eb24a104-b07a-45da-81ad-3b8a27f38b69"
      },
      "execution_count": 134,
      "outputs": [
        {
          "output_type": "execute_result",
          "data": {
            "text/plain": [
              "<matplotlib.axes._subplots.AxesSubplot at 0x7fe541a76450>"
            ]
          },
          "metadata": {},
          "execution_count": 134
        },
        {
          "output_type": "display_data",
          "data": {
            "text/plain": [
              "<Figure size 1080x576 with 1 Axes>"
            ],
            "image/png": "[encoded data removed]"
          },
          "metadata": {
            "needs_background": "light"
          }
        }
      ]
    },
    {
      "cell_type": "code",
      "source": [
        "vi_mes = vi_df.groupby(['month']).sum().sort_values(by = 'CANTIDAD', ascending = False)['CANTIDAD']\n",
        "vi_mes = vi_mes.reset_index()\n",
        "vi_mes.sort_values(by = 'month')"
      ],
      "metadata": {
        "colab": {
          "base_uri": "https://localhost:8080/",
          "height": 0
        },
        "id": "8PEMxb-RbaEN",
        "outputId": "e933bdba-5f2c-4430-eb3b-80534d4096e5"
      },
      "execution_count": 135,
      "outputs": [
        {
          "output_type": "execute_result",
          "data": {
            "text/plain": [
              "    month  CANTIDAD\n",
              "2       1     84452\n",
              "1       2     89093\n",
              "0       3     89276\n",
              "5       4     79449\n",
              "3       5     80296\n",
              "9       6     72073\n",
              "7       7     74143\n",
              "6       8     76808\n",
              "4       9     80138\n",
              "8      10     73047\n",
              "10     11     67251\n",
              "11     12     58491"
            ],
            "text/html": [
              "\n",
              "  <div id=\"df-d567455c-0bac-4355-b0f8-b01094876d90\">\n",
              "    <div class=\"colab-df-container\">\n",
              "      <div>\n",
              "<style scoped>\n",
              "    .dataframe tbody tr th:only-of-type {\n",
              "        vertical-align: middle;\n",
              "    }\n",
              "\n",
              "    .dataframe tbody tr th {\n",
              "        vertical-align: top;\n",
              "    }\n",
              "\n",
              "    .dataframe thead th {\n",
              "        text-align: right;\n",
              "    }\n",
              "</style>\n",
              "<table border=\"1\" class=\"dataframe\">\n",
              "  <thead>\n",
              "    <tr style=\"text-align: right;\">\n",
              "      <th></th>\n",
              "      <th>month</th>\n",
              "      <th>CANTIDAD</th>\n",
              "    </tr>\n",
              "  </thead>\n",
              "  <tbody>\n",
              "    <tr>\n",
              "      <th>2</th>\n",
              "      <td>1</td>\n",
              "      <td>84452</td>\n",
              "    </tr>\n",
              "    <tr>\n",
              "      <th>1</th>\n",
              "      <td>2</td>\n",
              "      <td>89093</td>\n",
              "    </tr>\n",
              "    <tr>\n",
              "      <th>0</th>\n",
              "      <td>3</td>\n",
              "      <td>89276</td>\n",
              "    </tr>\n",
              "    <tr>\n",
              "      <th>5</th>\n",
              "      <td>4</td>\n",
              "      <td>79449</td>\n",
              "    </tr>\n",
              "    <tr>\n",
              "      <th>3</th>\n",
              "      <td>5</td>\n",
              "      <td>80296</td>\n",
              "    </tr>\n",
              "    <tr>\n",
              "      <th>9</th>\n",
              "      <td>6</td>\n",
              "      <td>72073</td>\n",
              "    </tr>\n",
              "    <tr>\n",
              "      <th>7</th>\n",
              "      <td>7</td>\n",
              "      <td>74143</td>\n",
              "    </tr>\n",
              "    <tr>\n",
              "      <th>6</th>\n",
              "      <td>8</td>\n",
              "      <td>76808</td>\n",
              "    </tr>\n",
              "    <tr>\n",
              "      <th>4</th>\n",
              "      <td>9</td>\n",
              "      <td>80138</td>\n",
              "    </tr>\n",
              "    <tr>\n",
              "      <th>8</th>\n",
              "      <td>10</td>\n",
              "      <td>73047</td>\n",
              "    </tr>\n",
              "    <tr>\n",
              "      <th>10</th>\n",
              "      <td>11</td>\n",
              "      <td>67251</td>\n",
              "    </tr>\n",
              "    <tr>\n",
              "      <th>11</th>\n",
              "      <td>12</td>\n",
              "      <td>58491</td>\n",
              "    </tr>\n",
              "  </tbody>\n",
              "</table>\n",
              "</div>\n",
              "      <button class=\"colab-df-convert\" onclick=\"convertToInteractive('df-d567455c-0bac-4355-b0f8-b01094876d90')\"\n",
              "              title=\"Convert this dataframe to an interactive table.\"\n",
              "              style=\"display:none;\">\n",
              "        \n",
              "  <svg xmlns=\"http://www.w3.org/2000/svg\" height=\"24px\"viewBox=\"0 0 24 24\"\n",
              "       width=\"24px\">\n",
              "    <path d=\"M0 0h24v24H0V0z\" fill=\"none\"/>\n",
              "    <path d=\"M18.56 5.44l.94 2.06.94-2.06 2.06-.94-2.06-.94-.94-2.06-.94 2.06-2.06.94zm-11 1L8.5 8.5l.94-2.06 2.06-.94-2.06-.94L8.5 2.5l-.94 2.06-2.06.94zm10 10l.94 2.06.94-2.06 2.06-.94-2.06-.94-.94-2.06-.94 2.06-2.06.94z\"/><path d=\"M17.41 7.96l-1.37-1.37c-.4-.4-.92-.59-1.43-.59-.52 0-1.04.2-1.43.59L10.3 9.45l-7.72 7.72c-.78.78-.78 2.05 0 2.83L4 21.41c.39.39.9.59 1.41.59.51 0 1.02-.2 1.41-.59l7.78-7.78 2.81-2.81c.8-.78.8-2.07 0-2.86zM5.41 20L4 18.59l7.72-7.72 1.47 1.35L5.41 20z\"/>\n",
              "  </svg>\n",
              "      </button>\n",
              "      \n",
              "  <style>\n",
              "    .colab-df-container {\n",
              "      display:flex;\n",
              "      flex-wrap:wrap;\n",
              "      gap: 12px;\n",
              "    }\n",
              "\n",
              "    .colab-df-convert {\n",
              "      background-color: #E8F0FE;\n",
              "      border: none;\n",
              "      border-radius: 50%;\n",
              "      cursor: pointer;\n",
              "      display: none;\n",
              "      fill: #1967D2;\n",
              "      height: 32px;\n",
              "      padding: 0 0 0 0;\n",
              "      width: 32px;\n",
              "    }\n",
              "\n",
              "    .colab-df-convert:hover {\n",
              "      background-color: #E2EBFA;\n",
              "      box-shadow: 0px 1px 2px rgba(60, 64, 67, 0.3), 0px 1px 3px 1px rgba(60, 64, 67, 0.15);\n",
              "      fill: #174EA6;\n",
              "    }\n",
              "\n",
              "    [theme=dark] .colab-df-convert {\n",
              "      background-color: #3B4455;\n",
              "      fill: #D2E3FC;\n",
              "    }\n",
              "\n",
              "    [theme=dark] .colab-df-convert:hover {\n",
              "      background-color: #434B5C;\n",
              "      box-shadow: 0px 1px 3px 1px rgba(0, 0, 0, 0.15);\n",
              "      filter: drop-shadow(0px 1px 2px rgba(0, 0, 0, 0.3));\n",
              "      fill: #FFFFFF;\n",
              "    }\n",
              "  </style>\n",
              "\n",
              "      <script>\n",
              "        const buttonEl =\n",
              "          document.querySelector('#df-d567455c-0bac-4355-b0f8-b01094876d90 button.colab-df-convert');\n",
              "        buttonEl.style.display =\n",
              "          google.colab.kernel.accessAllowed ? 'block' : 'none';\n",
              "\n",
              "        async function convertToInteractive(key) {\n",
              "          const element = document.querySelector('#df-d567455c-0bac-4355-b0f8-b01094876d90');\n",
              "          const dataTable =\n",
              "            await google.colab.kernel.invokeFunction('convertToInteractive',\n",
              "                                                     [key], {});\n",
              "          if (!dataTable) return;\n",
              "\n",
              "          const docLinkHtml = 'Like what you see? Visit the ' +\n",
              "            '<a target=\"_blank\" href=https://colab.research.google.com/notebooks/data_table.ipynb>data table notebook</a>'\n",
              "            + ' to learn more about interactive tables.';\n",
              "          element.innerHTML = '';\n",
              "          dataTable['output_type'] = 'display_data';\n",
              "          await google.colab.output.renderOutput(dataTable, element);\n",
              "          const docLink = document.createElement('div');\n",
              "          docLink.innerHTML = docLinkHtml;\n",
              "          element.appendChild(docLink);\n",
              "        }\n",
              "      </script>\n",
              "    </div>\n",
              "  </div>\n",
              "  "
            ]
          },
          "metadata": {},
          "execution_count": 135
        }
      ]
    },
    {
      "cell_type": "code",
      "source": [
        "fig, ax = plt.subplots(figsize=(15, 8))\n",
        "sns.barplot(ax = ax, data = vi_mes, x='month', y='CANTIDAD', color = 'black')"
      ],
      "metadata": {
        "colab": {
          "base_uri": "https://localhost:8080/",
          "height": 0
        },
        "id": "lIm92TlOc95Z",
        "outputId": "164e25d0-4163-403b-de6a-f5bd0d3567a9"
      },
      "execution_count": 136,
      "outputs": [
        {
          "output_type": "execute_result",
          "data": {
            "text/plain": [
              "<matplotlib.axes._subplots.AxesSubplot at 0x7fe54271ff90>"
            ]
          },
          "metadata": {},
          "execution_count": 136
        },
        {
          "output_type": "display_data",
          "data": {
            "text/plain": [
              "<Figure size 1080x576 with 1 Axes>"
            ],
            "image/png": "[encoded data removed]"
          },
          "metadata": {
            "needs_background": "light"
          }
        }
      ]
    },
    {
      "cell_type": "code",
      "source": [
        "ds_mes = ds_df.groupby(['month']).sum().sort_values(by = 'CANTIDAD', ascending = False)['CANTIDAD']\n",
        "ds_mes = ds_mes.reset_index()\n",
        "ds_mes.sort_values(by = 'month')"
      ],
      "metadata": {
        "colab": {
          "base_uri": "https://localhost:8080/",
          "height": 0
        },
        "id": "hLi8ddd2bbOn",
        "outputId": "a9135ee6-3799-42ea-c8e3-65b7570a06aa"
      },
      "execution_count": 137,
      "outputs": [
        {
          "output_type": "execute_result",
          "data": {
            "text/plain": [
              "    month  CANTIDAD\n",
              "1       1     24510\n",
              "2       2     24344\n",
              "0       3     25708\n",
              "6       4     23032\n",
              "4       5     23317\n",
              "9       6     21186\n",
              "7       7     22270\n",
              "3       8     23553\n",
              "5       9     23200\n",
              "8      10     22243\n",
              "10     11     19710\n",
              "11     12     16110"
            ],
            "text/html": [
              "\n",
              "  <div id=\"df-d6a3c5d6-6cea-423a-8859-b78cb31b5d71\">\n",
              "    <div class=\"colab-df-container\">\n",
              "      <div>\n",
              "<style scoped>\n",
              "    .dataframe tbody tr th:only-of-type {\n",
              "        vertical-align: middle;\n",
              "    }\n",
              "\n",
              "    .dataframe tbody tr th {\n",
              "        vertical-align: top;\n",
              "    }\n",
              "\n",
              "    .dataframe thead th {\n",
              "        text-align: right;\n",
              "    }\n",
              "</style>\n",
              "<table border=\"1\" class=\"dataframe\">\n",
              "  <thead>\n",
              "    <tr style=\"text-align: right;\">\n",
              "      <th></th>\n",
              "      <th>month</th>\n",
              "      <th>CANTIDAD</th>\n",
              "    </tr>\n",
              "  </thead>\n",
              "  <tbody>\n",
              "    <tr>\n",
              "      <th>1</th>\n",
              "      <td>1</td>\n",
              "      <td>24510</td>\n",
              "    </tr>\n",
              "    <tr>\n",
              "      <th>2</th>\n",
              "      <td>2</td>\n",
              "      <td>24344</td>\n",
              "    </tr>\n",
              "    <tr>\n",
              "      <th>0</th>\n",
              "      <td>3</td>\n",
              "      <td>25708</td>\n",
              "    </tr>\n",
              "    <tr>\n",
              "      <th>6</th>\n",
              "      <td>4</td>\n",
              "      <td>23032</td>\n",
              "    </tr>\n",
              "    <tr>\n",
              "      <th>4</th>\n",
              "      <td>5</td>\n",
              "      <td>23317</td>\n",
              "    </tr>\n",
              "    <tr>\n",
              "      <th>9</th>\n",
              "      <td>6</td>\n",
              "      <td>21186</td>\n",
              "    </tr>\n",
              "    <tr>\n",
              "      <th>7</th>\n",
              "      <td>7</td>\n",
              "      <td>22270</td>\n",
              "    </tr>\n",
              "    <tr>\n",
              "      <th>3</th>\n",
              "      <td>8</td>\n",
              "      <td>23553</td>\n",
              "    </tr>\n",
              "    <tr>\n",
              "      <th>5</th>\n",
              "      <td>9</td>\n",
              "      <td>23200</td>\n",
              "    </tr>\n",
              "    <tr>\n",
              "      <th>8</th>\n",
              "      <td>10</td>\n",
              "      <td>22243</td>\n",
              "    </tr>\n",
              "    <tr>\n",
              "      <th>10</th>\n",
              "      <td>11</td>\n",
              "      <td>19710</td>\n",
              "    </tr>\n",
              "    <tr>\n",
              "      <th>11</th>\n",
              "      <td>12</td>\n",
              "      <td>16110</td>\n",
              "    </tr>\n",
              "  </tbody>\n",
              "</table>\n",
              "</div>\n",
              "      <button class=\"colab-df-convert\" onclick=\"convertToInteractive('df-d6a3c5d6-6cea-423a-8859-b78cb31b5d71')\"\n",
              "              title=\"Convert this dataframe to an interactive table.\"\n",
              "              style=\"display:none;\">\n",
              "        \n",
              "  <svg xmlns=\"http://www.w3.org/2000/svg\" height=\"24px\"viewBox=\"0 0 24 24\"\n",
              "       width=\"24px\">\n",
              "    <path d=\"M0 0h24v24H0V0z\" fill=\"none\"/>\n",
              "    <path d=\"M18.56 5.44l.94 2.06.94-2.06 2.06-.94-2.06-.94-.94-2.06-.94 2.06-2.06.94zm-11 1L8.5 8.5l.94-2.06 2.06-.94-2.06-.94L8.5 2.5l-.94 2.06-2.06.94zm10 10l.94 2.06.94-2.06 2.06-.94-2.06-.94-.94-2.06-.94 2.06-2.06.94z\"/><path d=\"M17.41 7.96l-1.37-1.37c-.4-.4-.92-.59-1.43-.59-.52 0-1.04.2-1.43.59L10.3 9.45l-7.72 7.72c-.78.78-.78 2.05 0 2.83L4 21.41c.39.39.9.59 1.41.59.51 0 1.02-.2 1.41-.59l7.78-7.78 2.81-2.81c.8-.78.8-2.07 0-2.86zM5.41 20L4 18.59l7.72-7.72 1.47 1.35L5.41 20z\"/>\n",
              "  </svg>\n",
              "      </button>\n",
              "      \n",
              "  <style>\n",
              "    .colab-df-container {\n",
              "      display:flex;\n",
              "      flex-wrap:wrap;\n",
              "      gap: 12px;\n",
              "    }\n",
              "\n",
              "    .colab-df-convert {\n",
              "      background-color: #E8F0FE;\n",
              "      border: none;\n",
              "      border-radius: 50%;\n",
              "      cursor: pointer;\n",
              "      display: none;\n",
              "      fill: #1967D2;\n",
              "      height: 32px;\n",
              "      padding: 0 0 0 0;\n",
              "      width: 32px;\n",
              "    }\n",
              "\n",
              "    .colab-df-convert:hover {\n",
              "      background-color: #E2EBFA;\n",
              "      box-shadow: 0px 1px 2px rgba(60, 64, 67, 0.3), 0px 1px 3px 1px rgba(60, 64, 67, 0.15);\n",
              "      fill: #174EA6;\n",
              "    }\n",
              "\n",
              "    [theme=dark] .colab-df-convert {\n",
              "      background-color: #3B4455;\n",
              "      fill: #D2E3FC;\n",
              "    }\n",
              "\n",
              "    [theme=dark] .colab-df-convert:hover {\n",
              "      background-color: #434B5C;\n",
              "      box-shadow: 0px 1px 3px 1px rgba(0, 0, 0, 0.15);\n",
              "      filter: drop-shadow(0px 1px 2px rgba(0, 0, 0, 0.3));\n",
              "      fill: #FFFFFF;\n",
              "    }\n",
              "  </style>\n",
              "\n",
              "      <script>\n",
              "        const buttonEl =\n",
              "          document.querySelector('#df-d6a3c5d6-6cea-423a-8859-b78cb31b5d71 button.colab-df-convert');\n",
              "        buttonEl.style.display =\n",
              "          google.colab.kernel.accessAllowed ? 'block' : 'none';\n",
              "\n",
              "        async function convertToInteractive(key) {\n",
              "          const element = document.querySelector('#df-d6a3c5d6-6cea-423a-8859-b78cb31b5d71');\n",
              "          const dataTable =\n",
              "            await google.colab.kernel.invokeFunction('convertToInteractive',\n",
              "                                                     [key], {});\n",
              "          if (!dataTable) return;\n",
              "\n",
              "          const docLinkHtml = 'Like what you see? Visit the ' +\n",
              "            '<a target=\"_blank\" href=https://colab.research.google.com/notebooks/data_table.ipynb>data table notebook</a>'\n",
              "            + ' to learn more about interactive tables.';\n",
              "          element.innerHTML = '';\n",
              "          dataTable['output_type'] = 'display_data';\n",
              "          await google.colab.output.renderOutput(dataTable, element);\n",
              "          const docLink = document.createElement('div');\n",
              "          docLink.innerHTML = docLinkHtml;\n",
              "          element.appendChild(docLink);\n",
              "        }\n",
              "      </script>\n",
              "    </div>\n",
              "  </div>\n",
              "  "
            ]
          },
          "metadata": {},
          "execution_count": 137
        }
      ]
    },
    {
      "cell_type": "code",
      "source": [
        "fig, ax = plt.subplots(figsize=(15, 8))\n",
        "sns.barplot(ax = ax, data = ds_mes, x='month', y='CANTIDAD', color = 'black')"
      ],
      "metadata": {
        "colab": {
          "base_uri": "https://localhost:8080/",
          "height": 0
        },
        "id": "PhWhTgKQdBYw",
        "outputId": "1a6af8c6-db26-4eed-954a-942e1de837f9"
      },
      "execution_count": 138,
      "outputs": [
        {
          "output_type": "execute_result",
          "data": {
            "text/plain": [
              "<matplotlib.axes._subplots.AxesSubplot at 0x7fe54191d190>"
            ]
          },
          "metadata": {},
          "execution_count": 138
        },
        {
          "output_type": "display_data",
          "data": {
            "text/plain": [
              "<Figure size 1080x576 with 1 Axes>"
            ],
            "image/png": "[encoded data removed]"
          },
          "metadata": {
            "needs_background": "light"
          }
        }
      ]
    },
    {
      "cell_type": "code",
      "source": [
        "hat_mes = hat_df.groupby(['month']).sum().sort_values(by = 'CANTIDAD', ascending = False)['CANTIDAD']\n",
        "hat_mes = hat_mes.reset_index()\n",
        "hat_mes.sort_values(by = 'month')"
      ],
      "metadata": {
        "colab": {
          "base_uri": "https://localhost:8080/",
          "height": 0
        },
        "id": "Zd8N3zRKbb3v",
        "outputId": "0cd7eaaa-f49f-43ac-f754-2951a2d74823"
      },
      "execution_count": 139,
      "outputs": [
        {
          "output_type": "execute_result",
          "data": {
            "text/plain": [
              "    month  CANTIDAD\n",
              "1       1      6068\n",
              "4       2      5506\n",
              "2       3      5908\n",
              "7       4      5251\n",
              "11      5      4996\n",
              "9       6      5207\n",
              "5       7      5335\n",
              "10      8      5193\n",
              "8       9      5235\n",
              "3      10      5582\n",
              "6      11      5318\n",
              "0      12      6079"
            ],
            "text/html": [
              "\n",
              "  <div id=\"df-00f89338-6eb1-435b-8c0c-239df805dc00\">\n",
              "    <div class=\"colab-df-container\">\n",
              "      <div>\n",
              "<style scoped>\n",
              "    .dataframe tbody tr th:only-of-type {\n",
              "        vertical-align: middle;\n",
              "    }\n",
              "\n",
              "    .dataframe tbody tr th {\n",
              "        vertical-align: top;\n",
              "    }\n",
              "\n",
              "    .dataframe thead th {\n",
              "        text-align: right;\n",
              "    }\n",
              "</style>\n",
              "<table border=\"1\" class=\"dataframe\">\n",
              "  <thead>\n",
              "    <tr style=\"text-align: right;\">\n",
              "      <th></th>\n",
              "      <th>month</th>\n",
              "      <th>CANTIDAD</th>\n",
              "    </tr>\n",
              "  </thead>\n",
              "  <tbody>\n",
              "    <tr>\n",
              "      <th>1</th>\n",
              "      <td>1</td>\n",
              "      <td>6068</td>\n",
              "    </tr>\n",
              "    <tr>\n",
              "      <th>4</th>\n",
              "      <td>2</td>\n",
              "      <td>5506</td>\n",
              "    </tr>\n",
              "    <tr>\n",
              "      <th>2</th>\n",
              "      <td>3</td>\n",
              "      <td>5908</td>\n",
              "    </tr>\n",
              "    <tr>\n",
              "      <th>7</th>\n",
              "      <td>4</td>\n",
              "      <td>5251</td>\n",
              "    </tr>\n",
              "    <tr>\n",
              "      <th>11</th>\n",
              "      <td>5</td>\n",
              "      <td>4996</td>\n",
              "    </tr>\n",
              "    <tr>\n",
              "      <th>9</th>\n",
              "      <td>6</td>\n",
              "      <td>5207</td>\n",
              "    </tr>\n",
              "    <tr>\n",
              "      <th>5</th>\n",
              "      <td>7</td>\n",
              "      <td>5335</td>\n",
              "    </tr>\n",
              "    <tr>\n",
              "      <th>10</th>\n",
              "      <td>8</td>\n",
              "      <td>5193</td>\n",
              "    </tr>\n",
              "    <tr>\n",
              "      <th>8</th>\n",
              "      <td>9</td>\n",
              "      <td>5235</td>\n",
              "    </tr>\n",
              "    <tr>\n",
              "      <th>3</th>\n",
              "      <td>10</td>\n",
              "      <td>5582</td>\n",
              "    </tr>\n",
              "    <tr>\n",
              "      <th>6</th>\n",
              "      <td>11</td>\n",
              "      <td>5318</td>\n",
              "    </tr>\n",
              "    <tr>\n",
              "      <th>0</th>\n",
              "      <td>12</td>\n",
              "      <td>6079</td>\n",
              "    </tr>\n",
              "  </tbody>\n",
              "</table>\n",
              "</div>\n",
              "      <button class=\"colab-df-convert\" onclick=\"convertToInteractive('df-00f89338-6eb1-435b-8c0c-239df805dc00')\"\n",
              "              title=\"Convert this dataframe to an interactive table.\"\n",
              "              style=\"display:none;\">\n",
              "        \n",
              "  <svg xmlns=\"http://www.w3.org/2000/svg\" height=\"24px\"viewBox=\"0 0 24 24\"\n",
              "       width=\"24px\">\n",
              "    <path d=\"M0 0h24v24H0V0z\" fill=\"none\"/>\n",
              "    <path d=\"M18.56 5.44l.94 2.06.94-2.06 2.06-.94-2.06-.94-.94-2.06-.94 2.06-2.06.94zm-11 1L8.5 8.5l.94-2.06 2.06-.94-2.06-.94L8.5 2.5l-.94 2.06-2.06.94zm10 10l.94 2.06.94-2.06 2.06-.94-2.06-.94-.94-2.06-.94 2.06-2.06.94z\"/><path d=\"M17.41 7.96l-1.37-1.37c-.4-.4-.92-.59-1.43-.59-.52 0-1.04.2-1.43.59L10.3 9.45l-7.72 7.72c-.78.78-.78 2.05 0 2.83L4 21.41c.39.39.9.59 1.41.59.51 0 1.02-.2 1.41-.59l7.78-7.78 2.81-2.81c.8-.78.8-2.07 0-2.86zM5.41 20L4 18.59l7.72-7.72 1.47 1.35L5.41 20z\"/>\n",
              "  </svg>\n",
              "      </button>\n",
              "      \n",
              "  <style>\n",
              "    .colab-df-container {\n",
              "      display:flex;\n",
              "      flex-wrap:wrap;\n",
              "      gap: 12px;\n",
              "    }\n",
              "\n",
              "    .colab-df-convert {\n",
              "      background-color: #E8F0FE;\n",
              "      border: none;\n",
              "      border-radius: 50%;\n",
              "      cursor: pointer;\n",
              "      display: none;\n",
              "      fill: #1967D2;\n",
              "      height: 32px;\n",
              "      padding: 0 0 0 0;\n",
              "      width: 32px;\n",
              "    }\n",
              "\n",
              "    .colab-df-convert:hover {\n",
              "      background-color: #E2EBFA;\n",
              "      box-shadow: 0px 1px 2px rgba(60, 64, 67, 0.3), 0px 1px 3px 1px rgba(60, 64, 67, 0.15);\n",
              "      fill: #174EA6;\n",
              "    }\n",
              "\n",
              "    [theme=dark] .colab-df-convert {\n",
              "      background-color: #3B4455;\n",
              "      fill: #D2E3FC;\n",
              "    }\n",
              "\n",
              "    [theme=dark] .colab-df-convert:hover {\n",
              "      background-color: #434B5C;\n",
              "      box-shadow: 0px 1px 3px 1px rgba(0, 0, 0, 0.15);\n",
              "      filter: drop-shadow(0px 1px 2px rgba(0, 0, 0, 0.3));\n",
              "      fill: #FFFFFF;\n",
              "    }\n",
              "  </style>\n",
              "\n",
              "      <script>\n",
              "        const buttonEl =\n",
              "          document.querySelector('#df-00f89338-6eb1-435b-8c0c-239df805dc00 button.colab-df-convert');\n",
              "        buttonEl.style.display =\n",
              "          google.colab.kernel.accessAllowed ? 'block' : 'none';\n",
              "\n",
              "        async function convertToInteractive(key) {\n",
              "          const element = document.querySelector('#df-00f89338-6eb1-435b-8c0c-239df805dc00');\n",
              "          const dataTable =\n",
              "            await google.colab.kernel.invokeFunction('convertToInteractive',\n",
              "                                                     [key], {});\n",
              "          if (!dataTable) return;\n",
              "\n",
              "          const docLinkHtml = 'Like what you see? Visit the ' +\n",
              "            '<a target=\"_blank\" href=https://colab.research.google.com/notebooks/data_table.ipynb>data table notebook</a>'\n",
              "            + ' to learn more about interactive tables.';\n",
              "          element.innerHTML = '';\n",
              "          dataTable['output_type'] = 'display_data';\n",
              "          await google.colab.output.renderOutput(dataTable, element);\n",
              "          const docLink = document.createElement('div');\n",
              "          docLink.innerHTML = docLinkHtml;\n",
              "          element.appendChild(docLink);\n",
              "        }\n",
              "      </script>\n",
              "    </div>\n",
              "  </div>\n",
              "  "
            ]
          },
          "metadata": {},
          "execution_count": 139
        }
      ]
    },
    {
      "cell_type": "code",
      "source": [
        "fig, ax = plt.subplots(figsize=(15, 8))\n",
        "sns.barplot(ax = ax, data = hat_mes, x='month', y='CANTIDAD', color = 'black')"
      ],
      "metadata": {
        "colab": {
          "base_uri": "https://localhost:8080/",
          "height": 0
        },
        "id": "0u4JBmFZdEC3",
        "outputId": "14d0c60f-e717-4b56-921b-ceac328348ad"
      },
      "execution_count": 140,
      "outputs": [
        {
          "output_type": "execute_result",
          "data": {
            "text/plain": [
              "<matplotlib.axes._subplots.AxesSubplot at 0x7fe5418626d0>"
            ]
          },
          "metadata": {},
          "execution_count": 140
        },
        {
          "output_type": "display_data",
          "data": {
            "text/plain": [
              "<Figure size 1080x576 with 1 Axes>"
            ],
            "image/png": "[encoded data removed]"
          },
          "metadata": {
            "needs_background": "light"
          }
        }
      ]
    },
    {
      "cell_type": "markdown",
      "source": [
        "##2.5 Para los casos en los que se disponga del detalle del delito o de una descripción, como por ejemplo en delitos sexuales y secuestro, ¿cuáles son las descripciones o modalidades más comunes?"
      ],
      "metadata": {
        "id": "84RdmmuEePJg"
      }
    },
    {
      "cell_type": "markdown",
      "source": [
        "R/ ependiendo de los delitos se tienen las siguientes descripciones principales:\n",
        "* Lesiones Personales\n",
        "* Actos Sexuales con menores de 14 años\n",
        "* Homicidio Culposo en accidente de transito"
      ],
      "metadata": {
        "id": "zW123dgrhvqr"
      }
    },
    {
      "cell_type": "code",
      "source": [
        "ls_df.groupby('DESCRIPCIÓN CONDUCTA').sum().sort_values(by = 'CANTIDAD', ascending = False)['CANTIDAD']\n",
        "#['DESCRIPCIÓN CONDUCTA'].unique()"
      ],
      "metadata": {
        "colab": {
          "base_uri": "https://localhost:8080/"
        },
        "id": "I2E-KgDVeYZI",
        "outputId": "a89c5f2c-32a5-4848-efbc-b0162db50903"
      },
      "execution_count": 141,
      "outputs": [
        {
          "output_type": "execute_result",
          "data": {
            "text/plain": [
              "DESCRIPCIÓN CONDUCTA\n",
              "LESIONES PERSONALES                               1185916\n",
              "LESIONES CULPOSAS ( EN ACCIDENTE DE TRANSITO )     482632\n",
              "Name: CANTIDAD, dtype: int64"
            ]
          },
          "metadata": {},
          "execution_count": 141
        }
      ]
    },
    {
      "cell_type": "code",
      "source": [
        "ds_df.groupby('delito').sum().sort_values(by = 'CANTIDAD', ascending = False)['CANTIDAD']\n",
        "#ds_df['delito'].unique()"
      ],
      "metadata": {
        "colab": {
          "base_uri": "https://localhost:8080/"
        },
        "id": "6H_FX-Cnf5Su",
        "outputId": "c850c84e-358f-4738-a007-a6312c1f454f"
      },
      "execution_count": 142,
      "outputs": [
        {
          "output_type": "execute_result",
          "data": {
            "text/plain": [
              "delito\n",
              "ARTÍCULO 209. ACTOS SEXUALES CON MENOR DE 14 AÑOS                                                                  92952\n",
              "ARTÍCULO 208. ACCESO CARNAL ABUSIVO CON MENOR DE 14 AÑOS                                                           60172\n",
              "ARTÍCULO 205. ACCESO CARNAL VIOLENTO                                                                               40564\n",
              "ARTÍCULO 206. ACTO SEXUAL VIOLENTO                                                                                 27976\n",
              "ARTÍCULO 210 A. ACOSO SEXUAL                                                                                       17109\n",
              "ARTÍCULO 210. ACCESO CARNAL O ACTO SEXUAL ABUSIVO CON INCAPAZ DE RESISTIR                                           9966\n",
              "ARTÍCULO 218. PORNOGRAFÍA CON MENORES                                                                               6905\n",
              "ARTÍCULO 207. ACCESO CARNAL O ACTO SEXUAL EN PERSONA PUESTA EN INCAPACIDAD DE RESISTIR                              4540\n",
              "ARTÍCULO 219 A. UTILIZACIÓN O FACILITACIÓN DE MEDIOS DE COMUNICACIÓN PARA OFRECER SERVICIOS SEXUALES DE MENORES     1867\n",
              "ARTÍCULO 213. INDUCCIÓN A LA PROSTITUCIÓN                                                                           1812\n",
              "ARTÍCULO 217 A. DEMANDA DE EXPLOTACION SEXUAL COMERCIAL DE PERSONA MENOR DE 18 AÑOS DE EDAD                         1319\n",
              "ARTÍCULO 211. ACTOS SEXUALES CON MENOR DE 14 AÑOS (CIRCUNSTANCIAS DE AGRAVACIÓN)                                     800\n",
              "ARTÍCULO 211. ACCESO CARNAL ABUSIVO CON MENOR DE 14 AÑOS (CIRCUNSTANCIAS AGRAVACIÓN)                                 796\n",
              "ARTÍCULO 211. ACCESO CARNAL O ACTO SEXUAL EN PERSONA PUESTA EN INCAPACIDAD DE RESISTIR  (CIRCUNSTANC                 635\n",
              "ARTÍCULO 213 A. PROXENETISMO CON MENOR DE EDAD                                                                       503\n",
              "ARTÍCULO 211. ACCESO CARNAL VIOLENTO (CIRCUNSTANCIAS AGRAVACIÓN)                                                     305\n",
              "ARTÍCULO 211. ACCESO CARNAL O ACTO SEXUAL ABUSIVO CON INCAPAZ DE RESISTIR (CIRCUNSTANCIAS AGRAVACIÓN                 284\n",
              "ARTÍCULO 211. ACTO SEXUAL VIOLENTO (CIRCUNSTANCIAS DE AGRAVACIÓN)                                                    276\n",
              "ARTÍCULO 214. CONSTREÑIMIENTO A LA PROSTITUCIÓN                                                                      204\n",
              "ARTÍCULO 217. ESTÍMULO A LA PROSTITUCIÓN DE MENORES                                                                  161\n",
              "ARTÍCULO 216. INDUCCIÓN A LA PROSTITUCIÓN (CIRCUNSTANCIAS AGRAVACIÓN)                                                 25\n",
              "ARTÍCULO 219 B. OMISIÓN DE DENUNCIA                                                                                    8\n",
              "ARTÍCULO 216. CONSTREÑIMIENTO A LA PROSTITUCIÓN (CIRCUNSTANCIAS AGRAVACIÓN)                                            4\n",
              "Name: CANTIDAD, dtype: int64"
            ]
          },
          "metadata": {},
          "execution_count": 142
        }
      ]
    },
    {
      "cell_type": "code",
      "source": [
        "hat_df.groupby('DESCRIPCIÓN CONDUCTA').sum().sort_values(by = 'CANTIDAD', ascending = False)['CANTIDAD']\n",
        "#hat_df['DESCRIPCIÓN CONDUCTA'].unique()"
      ],
      "metadata": {
        "colab": {
          "base_uri": "https://localhost:8080/"
        },
        "id": "9-8g4lCwf596",
        "outputId": "5f7f1e8a-f5ba-4c6a-fde1-a2949e5ebbf3"
      },
      "execution_count": 143,
      "outputs": [
        {
          "output_type": "execute_result",
          "data": {
            "text/plain": [
              "DESCRIPCIÓN CONDUCTA\n",
              "ARTÍCULO 109. HOMICIDIO CULPOSO ( EN ACCIDENTE DE TRÁNSITO)        65667\n",
              "ARTÍCULO 110. HOMICIDIO CULPOSO ( CIRCUNSTANCIAS DE AGRAVACIÓN)       11\n",
              "Name: CANTIDAD, dtype: int64"
            ]
          },
          "metadata": {},
          "execution_count": 143
        }
      ]
    },
    {
      "cell_type": "markdown",
      "source": [
        "#Punto 3"
      ],
      "metadata": {
        "id": "PjAGmrIJu_LT"
      }
    },
    {
      "cell_type": "markdown",
      "source": [
        "A partir de los conjuntos de datos seleccionados, construya un único\n",
        "dataset que integre la totalidad de los delitos ocurridos por departamento y\n",
        "municipio. Muestre los valores normalizados por cantidad de habitantes\n",
        "realizando un proceso similar al del punto anterior. En este archivo puede\n",
        "encontrar proyecciones anuales de las poblaciones por departamento. Utilice la\n",
        "proyección para el año en curso. Considere solamente los municipios con más\n",
        "de 1 millón de habitantes."
      ],
      "metadata": {
        "id": "tQalCnNN0PRq"
      }
    },
    {
      "cell_type": "code",
      "source": [
        "poblacion_df.head()"
      ],
      "metadata": {
        "colab": {
          "base_uri": "https://localhost:8080/",
          "height": 206
        },
        "id": "EWu_I0p4u-ZA",
        "outputId": "381d2b99-f5a0-40ef-b75d-fabd8922308c"
      },
      "execution_count": 167,
      "outputs": [
        {
          "output_type": "execute_result",
          "data": {
            "text/plain": [
              "  departamento  población\n",
              "0     Amazonas     48.144\n",
              "1    Antioquia  2.427.129\n",
              "2       Arauca     85.585\n",
              "3    Atlántico  1.206.319\n",
              "4      Bolívar    973.045"
            ],
            "text/html": [
              "\n",
              "  <div id=\"df-0c059166-2f3d-4b29-96da-ccaa00c51d22\">\n",
              "    <div class=\"colab-df-container\">\n",
              "      <div>\n",
              "<style scoped>\n",
              "    .dataframe tbody tr th:only-of-type {\n",
              "        vertical-align: middle;\n",
              "    }\n",
              "\n",
              "    .dataframe tbody tr th {\n",
              "        vertical-align: top;\n",
              "    }\n",
              "\n",
              "    .dataframe thead th {\n",
              "        text-align: right;\n",
              "    }\n",
              "</style>\n",
              "<table border=\"1\" class=\"dataframe\">\n",
              "  <thead>\n",
              "    <tr style=\"text-align: right;\">\n",
              "      <th></th>\n",
              "      <th>departamento</th>\n",
              "      <th>población</th>\n",
              "    </tr>\n",
              "  </thead>\n",
              "  <tbody>\n",
              "    <tr>\n",
              "      <th>0</th>\n",
              "      <td>Amazonas</td>\n",
              "      <td>48.144</td>\n",
              "    </tr>\n",
              "    <tr>\n",
              "      <th>1</th>\n",
              "      <td>Antioquia</td>\n",
              "      <td>2.427.129</td>\n",
              "    </tr>\n",
              "    <tr>\n",
              "      <th>2</th>\n",
              "      <td>Arauca</td>\n",
              "      <td>85.585</td>\n",
              "    </tr>\n",
              "    <tr>\n",
              "      <th>3</th>\n",
              "      <td>Atlántico</td>\n",
              "      <td>1.206.319</td>\n",
              "    </tr>\n",
              "    <tr>\n",
              "      <th>4</th>\n",
              "      <td>Bolívar</td>\n",
              "      <td>973.045</td>\n",
              "    </tr>\n",
              "  </tbody>\n",
              "</table>\n",
              "</div>\n",
              "      <button class=\"colab-df-convert\" onclick=\"convertToInteractive('df-0c059166-2f3d-4b29-96da-ccaa00c51d22')\"\n",
              "              title=\"Convert this dataframe to an interactive table.\"\n",
              "              style=\"display:none;\">\n",
              "        \n",
              "  <svg xmlns=\"http://www.w3.org/2000/svg\" height=\"24px\"viewBox=\"0 0 24 24\"\n",
              "       width=\"24px\">\n",
              "    <path d=\"M0 0h24v24H0V0z\" fill=\"none\"/>\n",
              "    <path d=\"M18.56 5.44l.94 2.06.94-2.06 2.06-.94-2.06-.94-.94-2.06-.94 2.06-2.06.94zm-11 1L8.5 8.5l.94-2.06 2.06-.94-2.06-.94L8.5 2.5l-.94 2.06-2.06.94zm10 10l.94 2.06.94-2.06 2.06-.94-2.06-.94-.94-2.06-.94 2.06-2.06.94z\"/><path d=\"M17.41 7.96l-1.37-1.37c-.4-.4-.92-.59-1.43-.59-.52 0-1.04.2-1.43.59L10.3 9.45l-7.72 7.72c-.78.78-.78 2.05 0 2.83L4 21.41c.39.39.9.59 1.41.59.51 0 1.02-.2 1.41-.59l7.78-7.78 2.81-2.81c.8-.78.8-2.07 0-2.86zM5.41 20L4 18.59l7.72-7.72 1.47 1.35L5.41 20z\"/>\n",
              "  </svg>\n",
              "      </button>\n",
              "      \n",
              "  <style>\n",
              "    .colab-df-container {\n",
              "      display:flex;\n",
              "      flex-wrap:wrap;\n",
              "      gap: 12px;\n",
              "    }\n",
              "\n",
              "    .colab-df-convert {\n",
              "      background-color: #E8F0FE;\n",
              "      border: none;\n",
              "      border-radius: 50%;\n",
              "      cursor: pointer;\n",
              "      display: none;\n",
              "      fill: #1967D2;\n",
              "      height: 32px;\n",
              "      padding: 0 0 0 0;\n",
              "      width: 32px;\n",
              "    }\n",
              "\n",
              "    .colab-df-convert:hover {\n",
              "      background-color: #E2EBFA;\n",
              "      box-shadow: 0px 1px 2px rgba(60, 64, 67, 0.3), 0px 1px 3px 1px rgba(60, 64, 67, 0.15);\n",
              "      fill: #174EA6;\n",
              "    }\n",
              "\n",
              "    [theme=dark] .colab-df-convert {\n",
              "      background-color: #3B4455;\n",
              "      fill: #D2E3FC;\n",
              "    }\n",
              "\n",
              "    [theme=dark] .colab-df-convert:hover {\n",
              "      background-color: #434B5C;\n",
              "      box-shadow: 0px 1px 3px 1px rgba(0, 0, 0, 0.15);\n",
              "      filter: drop-shadow(0px 1px 2px rgba(0, 0, 0, 0.3));\n",
              "      fill: #FFFFFF;\n",
              "    }\n",
              "  </style>\n",
              "\n",
              "      <script>\n",
              "        const buttonEl =\n",
              "          document.querySelector('#df-0c059166-2f3d-4b29-96da-ccaa00c51d22 button.colab-df-convert');\n",
              "        buttonEl.style.display =\n",
              "          google.colab.kernel.accessAllowed ? 'block' : 'none';\n",
              "\n",
              "        async function convertToInteractive(key) {\n",
              "          const element = document.querySelector('#df-0c059166-2f3d-4b29-96da-ccaa00c51d22');\n",
              "          const dataTable =\n",
              "            await google.colab.kernel.invokeFunction('convertToInteractive',\n",
              "                                                     [key], {});\n",
              "          if (!dataTable) return;\n",
              "\n",
              "          const docLinkHtml = 'Like what you see? Visit the ' +\n",
              "            '<a target=\"_blank\" href=https://colab.research.google.com/notebooks/data_table.ipynb>data table notebook</a>'\n",
              "            + ' to learn more about interactive tables.';\n",
              "          element.innerHTML = '';\n",
              "          dataTable['output_type'] = 'display_data';\n",
              "          await google.colab.output.renderOutput(dataTable, element);\n",
              "          const docLink = document.createElement('div');\n",
              "          docLink.innerHTML = docLinkHtml;\n",
              "          element.appendChild(docLink);\n",
              "        }\n",
              "      </script>\n",
              "    </div>\n",
              "  </div>\n",
              "  "
            ]
          },
          "metadata": {},
          "execution_count": 167
        }
      ]
    },
    {
      "cell_type": "code",
      "source": [
        "poblacion_df[\"departamento\"] = poblacion_df[\"departamento\"].replace(\"VALLE DEL CAUCA\",\"VALLE\")"
      ],
      "metadata": {
        "id": "6GUPILKXOPap"
      },
      "execution_count": 171,
      "outputs": []
    },
    {
      "cell_type": "code",
      "source": [
        "#Validar y transformar datos población\n",
        "poblacion_df['departamento'].unique()\n",
        "poblacion_df['departamento'] = poblacion_df['departamento'].str.upper()\n",
        "poblacion_df.loc[~poblacion_df[\"departamento\"].isin(departments_list), \"departamento\"].unique()\n",
        "poblacion_df[\"departamento\"] = poblacion_df[\"departamento\"].replace(\"VALLE DEL CAUCA\",\"VALLE\")\n",
        "poblacion_df.replace({\"departamento\":estandarizar_dep}, inplace = True)\n",
        "poblacion_df.loc[~poblacion_df[\"departamento\"].isin(departments_list), \"departamento\"].unique()"
      ],
      "metadata": {
        "colab": {
          "base_uri": "https://localhost:8080/"
        },
        "id": "t39g-ny7PCbQ",
        "outputId": "fc8d43b2-70a4-406d-8fb2-777a79f9dad5"
      },
      "execution_count": 172,
      "outputs": [
        {
          "output_type": "execute_result",
          "data": {
            "text/plain": [
              "array([], dtype=object)"
            ]
          },
          "metadata": {},
          "execution_count": 172
        }
      ]
    },
    {
      "cell_type": "code",
      "source": [
        "#Cantidad de delitos agrupado por departamento, año y mes \n",
        "\n",
        "ds_df.groupby(['year','month','DEPARTAMENTO'], as_index=True).sum().sort_values('CANTIDAD',ascending = False)\n",
        "delitosex_df21 = ds_df[[\"DEPARTAMENTO\",\"year\",\"month\",\"CANTIDAD\"]].groupby(['DEPARTAMENTO','year','month'], as_index=False).sum().sort_values(by=['year','month'],ascending = False)\n",
        "delitosex_df21.loc[delitosex_df21['year'] > 2017]"
      ],
      "metadata": {
        "colab": {
          "base_uri": "https://localhost:8080/",
          "height": 423
        },
        "id": "LZ9JT5vaPFY4",
        "outputId": "820b3474-9776-4ba1-c8d8-5592c0937de8"
      },
      "execution_count": 174,
      "outputs": [
        {
          "output_type": "execute_result",
          "data": {
            "text/plain": [
              "     DEPARTAMENTO  year  month  CANTIDAD\n",
              "147      AMAZONAS  2022      4         3\n",
              "295     ANTIOQUIA  2022      4       207\n",
              "443        ARAUCA  2022      4         9\n",
              "591     ATLÁNTICO  2022      4        58\n",
              "739       BOLÍVAR  2022      4        61\n",
              "...           ...   ...    ...       ...\n",
              "3998        SUCRE  2018      1        51\n",
              "4146       TOLIMA  2018      1       140\n",
              "4294        VALLE  2018      1       257\n",
              "4379       VAUPÉS  2018      1         4\n",
              "4495      VICHADA  2018      1         1\n",
              "\n",
              "[1658 rows x 4 columns]"
            ],
            "text/html": [
              "\n",
              "  <div id=\"df-30d8f619-433e-4c26-a2fb-127ec2d7aeaa\">\n",
              "    <div class=\"colab-df-container\">\n",
              "      <div>\n",
              "<style scoped>\n",
              "    .dataframe tbody tr th:only-of-type {\n",
              "        vertical-align: middle;\n",
              "    }\n",
              "\n",
              "    .dataframe tbody tr th {\n",
              "        vertical-align: top;\n",
              "    }\n",
              "\n",
              "    .dataframe thead th {\n",
              "        text-align: right;\n",
              "    }\n",
              "</style>\n",
              "<table border=\"1\" class=\"dataframe\">\n",
              "  <thead>\n",
              "    <tr style=\"text-align: right;\">\n",
              "      <th></th>\n",
              "      <th>DEPARTAMENTO</th>\n",
              "      <th>year</th>\n",
              "      <th>month</th>\n",
              "      <th>CANTIDAD</th>\n",
              "    </tr>\n",
              "  </thead>\n",
              "  <tbody>\n",
              "    <tr>\n",
              "      <th>147</th>\n",
              "      <td>AMAZONAS</td>\n",
              "      <td>2022</td>\n",
              "      <td>4</td>\n",
              "      <td>3</td>\n",
              "    </tr>\n",
              "    <tr>\n",
              "      <th>295</th>\n",
              "      <td>ANTIOQUIA</td>\n",
              "      <td>2022</td>\n",
              "      <td>4</td>\n",
              "      <td>207</td>\n",
              "    </tr>\n",
              "    <tr>\n",
              "      <th>443</th>\n",
              "      <td>ARAUCA</td>\n",
              "      <td>2022</td>\n",
              "      <td>4</td>\n",
              "      <td>9</td>\n",
              "    </tr>\n",
              "    <tr>\n",
              "      <th>591</th>\n",
              "      <td>ATLÁNTICO</td>\n",
              "      <td>2022</td>\n",
              "      <td>4</td>\n",
              "      <td>58</td>\n",
              "    </tr>\n",
              "    <tr>\n",
              "      <th>739</th>\n",
              "      <td>BOLÍVAR</td>\n",
              "      <td>2022</td>\n",
              "      <td>4</td>\n",
              "      <td>61</td>\n",
              "    </tr>\n",
              "    <tr>\n",
              "      <th>...</th>\n",
              "      <td>...</td>\n",
              "      <td>...</td>\n",
              "      <td>...</td>\n",
              "      <td>...</td>\n",
              "    </tr>\n",
              "    <tr>\n",
              "      <th>3998</th>\n",
              "      <td>SUCRE</td>\n",
              "      <td>2018</td>\n",
              "      <td>1</td>\n",
              "      <td>51</td>\n",
              "    </tr>\n",
              "    <tr>\n",
              "      <th>4146</th>\n",
              "      <td>TOLIMA</td>\n",
              "      <td>2018</td>\n",
              "      <td>1</td>\n",
              "      <td>140</td>\n",
              "    </tr>\n",
              "    <tr>\n",
              "      <th>4294</th>\n",
              "      <td>VALLE</td>\n",
              "      <td>2018</td>\n",
              "      <td>1</td>\n",
              "      <td>257</td>\n",
              "    </tr>\n",
              "    <tr>\n",
              "      <th>4379</th>\n",
              "      <td>VAUPÉS</td>\n",
              "      <td>2018</td>\n",
              "      <td>1</td>\n",
              "      <td>4</td>\n",
              "    </tr>\n",
              "    <tr>\n",
              "      <th>4495</th>\n",
              "      <td>VICHADA</td>\n",
              "      <td>2018</td>\n",
              "      <td>1</td>\n",
              "      <td>1</td>\n",
              "    </tr>\n",
              "  </tbody>\n",
              "</table>\n",
              "<p>1658 rows × 4 columns</p>\n",
              "</div>\n",
              "      <button class=\"colab-df-convert\" onclick=\"convertToInteractive('df-30d8f619-433e-4c26-a2fb-127ec2d7aeaa')\"\n",
              "              title=\"Convert this dataframe to an interactive table.\"\n",
              "              style=\"display:none;\">\n",
              "        \n",
              "  <svg xmlns=\"http://www.w3.org/2000/svg\" height=\"24px\"viewBox=\"0 0 24 24\"\n",
              "       width=\"24px\">\n",
              "    <path d=\"M0 0h24v24H0V0z\" fill=\"none\"/>\n",
              "    <path d=\"M18.56 5.44l.94 2.06.94-2.06 2.06-.94-2.06-.94-.94-2.06-.94 2.06-2.06.94zm-11 1L8.5 8.5l.94-2.06 2.06-.94-2.06-.94L8.5 2.5l-.94 2.06-2.06.94zm10 10l.94 2.06.94-2.06 2.06-.94-2.06-.94-.94-2.06-.94 2.06-2.06.94z\"/><path d=\"M17.41 7.96l-1.37-1.37c-.4-.4-.92-.59-1.43-.59-.52 0-1.04.2-1.43.59L10.3 9.45l-7.72 7.72c-.78.78-.78 2.05 0 2.83L4 21.41c.39.39.9.59 1.41.59.51 0 1.02-.2 1.41-.59l7.78-7.78 2.81-2.81c.8-.78.8-2.07 0-2.86zM5.41 20L4 18.59l7.72-7.72 1.47 1.35L5.41 20z\"/>\n",
              "  </svg>\n",
              "      </button>\n",
              "      \n",
              "  <style>\n",
              "    .colab-df-container {\n",
              "      display:flex;\n",
              "      flex-wrap:wrap;\n",
              "      gap: 12px;\n",
              "    }\n",
              "\n",
              "    .colab-df-convert {\n",
              "      background-color: #E8F0FE;\n",
              "      border: none;\n",
              "      border-radius: 50%;\n",
              "      cursor: pointer;\n",
              "      display: none;\n",
              "      fill: #1967D2;\n",
              "      height: 32px;\n",
              "      padding: 0 0 0 0;\n",
              "      width: 32px;\n",
              "    }\n",
              "\n",
              "    .colab-df-convert:hover {\n",
              "      background-color: #E2EBFA;\n",
              "      box-shadow: 0px 1px 2px rgba(60, 64, 67, 0.3), 0px 1px 3px 1px rgba(60, 64, 67, 0.15);\n",
              "      fill: #174EA6;\n",
              "    }\n",
              "\n",
              "    [theme=dark] .colab-df-convert {\n",
              "      background-color: #3B4455;\n",
              "      fill: #D2E3FC;\n",
              "    }\n",
              "\n",
              "    [theme=dark] .colab-df-convert:hover {\n",
              "      background-color: #434B5C;\n",
              "      box-shadow: 0px 1px 3px 1px rgba(0, 0, 0, 0.15);\n",
              "      filter: drop-shadow(0px 1px 2px rgba(0, 0, 0, 0.3));\n",
              "      fill: #FFFFFF;\n",
              "    }\n",
              "  </style>\n",
              "\n",
              "      <script>\n",
              "        const buttonEl =\n",
              "          document.querySelector('#df-30d8f619-433e-4c26-a2fb-127ec2d7aeaa button.colab-df-convert');\n",
              "        buttonEl.style.display =\n",
              "          google.colab.kernel.accessAllowed ? 'block' : 'none';\n",
              "\n",
              "        async function convertToInteractive(key) {\n",
              "          const element = document.querySelector('#df-30d8f619-433e-4c26-a2fb-127ec2d7aeaa');\n",
              "          const dataTable =\n",
              "            await google.colab.kernel.invokeFunction('convertToInteractive',\n",
              "                                                     [key], {});\n",
              "          if (!dataTable) return;\n",
              "\n",
              "          const docLinkHtml = 'Like what you see? Visit the ' +\n",
              "            '<a target=\"_blank\" href=https://colab.research.google.com/notebooks/data_table.ipynb>data table notebook</a>'\n",
              "            + ' to learn more about interactive tables.';\n",
              "          element.innerHTML = '';\n",
              "          dataTable['output_type'] = 'display_data';\n",
              "          await google.colab.output.renderOutput(dataTable, element);\n",
              "          const docLink = document.createElement('div');\n",
              "          docLink.innerHTML = docLinkHtml;\n",
              "          element.appendChild(docLink);\n",
              "        }\n",
              "      </script>\n",
              "    </div>\n",
              "  </div>\n",
              "  "
            ]
          },
          "metadata": {},
          "execution_count": 174
        }
      ]
    },
    {
      "cell_type": "code",
      "source": [
        "#cantidad de delitos por departamento\n",
        "#departamentos con mayor ocurrencia durante los últimos 5 años: Cundinamarca, Antioquia, Valle\n",
        "delitosex_dpto_df = delitosex_df21.loc[delitosex_df21['year'] > 2017]\n",
        "delitosex_dpto_df\n",
        "\n",
        "#merge con población de los departamentos del dataset de delitos sexuales y población\n",
        "delito_per_capita_df = pd.merge(delitosex_dpto_df, poblacion_df, left_on = \"DEPARTAMENTO\", right_on = \"departamento\")\n",
        "delito_per_capita_df['población'] = delito_per_capita_df['población'].str.replace('.', '').astype(int)\n",
        "delito_per_capita_df\n",
        "\n",
        "#Homicidios per capita \n",
        "delito_per_capita_df['per capita'] = delito_per_capita_df['CANTIDAD'] / delito_per_capita_df['población'] * 100000\n",
        "delito_per_capita_df.head(10)"
      ],
      "metadata": {
        "colab": {
          "base_uri": "https://localhost:8080/",
          "height": 419
        },
        "id": "ol6YvGyxPOA8",
        "outputId": "6db819f7-fdd7-4f07-ab30-8a61f902b1b4"
      },
      "execution_count": 175,
      "outputs": [
        {
          "output_type": "stream",
          "name": "stderr",
          "text": [
            "/usr/local/lib/python3.7/dist-packages/ipykernel_launcher.py:8: FutureWarning: The default value of regex will change from True to False in a future version. In addition, single character regular expressions will *not* be treated as literal strings when regex=True.\n",
            "  \n"
          ]
        },
        {
          "output_type": "execute_result",
          "data": {
            "text/plain": [
              "  DEPARTAMENTO  year  month  CANTIDAD departamento  población  per capita\n",
              "0     AMAZONAS  2022      4         3     AMAZONAS      48144    6.231306\n",
              "1     AMAZONAS  2022      3         2     AMAZONAS      48144    4.154204\n",
              "2     AMAZONAS  2022      2         4     AMAZONAS      48144    8.308408\n",
              "3     AMAZONAS  2022      1         5     AMAZONAS      48144   10.385510\n",
              "4     AMAZONAS  2021     12         3     AMAZONAS      48144    6.231306\n",
              "5     AMAZONAS  2021     11         3     AMAZONAS      48144    6.231306\n",
              "6     AMAZONAS  2021     10         6     AMAZONAS      48144   12.462612\n",
              "7     AMAZONAS  2021      9         4     AMAZONAS      48144    8.308408\n",
              "8     AMAZONAS  2021      8         6     AMAZONAS      48144   12.462612\n",
              "9     AMAZONAS  2021      7         2     AMAZONAS      48144    4.154204"
            ],
            "text/html": [
              "\n",
              "  <div id=\"df-746f40f6-852d-4bbe-9101-a31f4b2d4ddf\">\n",
              "    <div class=\"colab-df-container\">\n",
              "      <div>\n",
              "<style scoped>\n",
              "    .dataframe tbody tr th:only-of-type {\n",
              "        vertical-align: middle;\n",
              "    }\n",
              "\n",
              "    .dataframe tbody tr th {\n",
              "        vertical-align: top;\n",
              "    }\n",
              "\n",
              "    .dataframe thead th {\n",
              "        text-align: right;\n",
              "    }\n",
              "</style>\n",
              "<table border=\"1\" class=\"dataframe\">\n",
              "  <thead>\n",
              "    <tr style=\"text-align: right;\">\n",
              "      <th></th>\n",
              "      <th>DEPARTAMENTO</th>\n",
              "      <th>year</th>\n",
              "      <th>month</th>\n",
              "      <th>CANTIDAD</th>\n",
              "      <th>departamento</th>\n",
              "      <th>población</th>\n",
              "      <th>per capita</th>\n",
              "    </tr>\n",
              "  </thead>\n",
              "  <tbody>\n",
              "    <tr>\n",
              "      <th>0</th>\n",
              "      <td>AMAZONAS</td>\n",
              "      <td>2022</td>\n",
              "      <td>4</td>\n",
              "      <td>3</td>\n",
              "      <td>AMAZONAS</td>\n",
              "      <td>48144</td>\n",
              "      <td>6.231306</td>\n",
              "    </tr>\n",
              "    <tr>\n",
              "      <th>1</th>\n",
              "      <td>AMAZONAS</td>\n",
              "      <td>2022</td>\n",
              "      <td>3</td>\n",
              "      <td>2</td>\n",
              "      <td>AMAZONAS</td>\n",
              "      <td>48144</td>\n",
              "      <td>4.154204</td>\n",
              "    </tr>\n",
              "    <tr>\n",
              "      <th>2</th>\n",
              "      <td>AMAZONAS</td>\n",
              "      <td>2022</td>\n",
              "      <td>2</td>\n",
              "      <td>4</td>\n",
              "      <td>AMAZONAS</td>\n",
              "      <td>48144</td>\n",
              "      <td>8.308408</td>\n",
              "    </tr>\n",
              "    <tr>\n",
              "      <th>3</th>\n",
              "      <td>AMAZONAS</td>\n",
              "      <td>2022</td>\n",
              "      <td>1</td>\n",
              "      <td>5</td>\n",
              "      <td>AMAZONAS</td>\n",
              "      <td>48144</td>\n",
              "      <td>10.385510</td>\n",
              "    </tr>\n",
              "    <tr>\n",
              "      <th>4</th>\n",
              "      <td>AMAZONAS</td>\n",
              "      <td>2021</td>\n",
              "      <td>12</td>\n",
              "      <td>3</td>\n",
              "      <td>AMAZONAS</td>\n",
              "      <td>48144</td>\n",
              "      <td>6.231306</td>\n",
              "    </tr>\n",
              "    <tr>\n",
              "      <th>5</th>\n",
              "      <td>AMAZONAS</td>\n",
              "      <td>2021</td>\n",
              "      <td>11</td>\n",
              "      <td>3</td>\n",
              "      <td>AMAZONAS</td>\n",
              "      <td>48144</td>\n",
              "      <td>6.231306</td>\n",
              "    </tr>\n",
              "    <tr>\n",
              "      <th>6</th>\n",
              "      <td>AMAZONAS</td>\n",
              "      <td>2021</td>\n",
              "      <td>10</td>\n",
              "      <td>6</td>\n",
              "      <td>AMAZONAS</td>\n",
              "      <td>48144</td>\n",
              "      <td>12.462612</td>\n",
              "    </tr>\n",
              "    <tr>\n",
              "      <th>7</th>\n",
              "      <td>AMAZONAS</td>\n",
              "      <td>2021</td>\n",
              "      <td>9</td>\n",
              "      <td>4</td>\n",
              "      <td>AMAZONAS</td>\n",
              "      <td>48144</td>\n",
              "      <td>8.308408</td>\n",
              "    </tr>\n",
              "    <tr>\n",
              "      <th>8</th>\n",
              "      <td>AMAZONAS</td>\n",
              "      <td>2021</td>\n",
              "      <td>8</td>\n",
              "      <td>6</td>\n",
              "      <td>AMAZONAS</td>\n",
              "      <td>48144</td>\n",
              "      <td>12.462612</td>\n",
              "    </tr>\n",
              "    <tr>\n",
              "      <th>9</th>\n",
              "      <td>AMAZONAS</td>\n",
              "      <td>2021</td>\n",
              "      <td>7</td>\n",
              "      <td>2</td>\n",
              "      <td>AMAZONAS</td>\n",
              "      <td>48144</td>\n",
              "      <td>4.154204</td>\n",
              "    </tr>\n",
              "  </tbody>\n",
              "</table>\n",
              "</div>\n",
              "      <button class=\"colab-df-convert\" onclick=\"convertToInteractive('df-746f40f6-852d-4bbe-9101-a31f4b2d4ddf')\"\n",
              "              title=\"Convert this dataframe to an interactive table.\"\n",
              "              style=\"display:none;\">\n",
              "        \n",
              "  <svg xmlns=\"http://www.w3.org/2000/svg\" height=\"24px\"viewBox=\"0 0 24 24\"\n",
              "       width=\"24px\">\n",
              "    <path d=\"M0 0h24v24H0V0z\" fill=\"none\"/>\n",
              "    <path d=\"M18.56 5.44l.94 2.06.94-2.06 2.06-.94-2.06-.94-.94-2.06-.94 2.06-2.06.94zm-11 1L8.5 8.5l.94-2.06 2.06-.94-2.06-.94L8.5 2.5l-.94 2.06-2.06.94zm10 10l.94 2.06.94-2.06 2.06-.94-2.06-.94-.94-2.06-.94 2.06-2.06.94z\"/><path d=\"M17.41 7.96l-1.37-1.37c-.4-.4-.92-.59-1.43-.59-.52 0-1.04.2-1.43.59L10.3 9.45l-7.72 7.72c-.78.78-.78 2.05 0 2.83L4 21.41c.39.39.9.59 1.41.59.51 0 1.02-.2 1.41-.59l7.78-7.78 2.81-2.81c.8-.78.8-2.07 0-2.86zM5.41 20L4 18.59l7.72-7.72 1.47 1.35L5.41 20z\"/>\n",
              "  </svg>\n",
              "      </button>\n",
              "      \n",
              "  <style>\n",
              "    .colab-df-container {\n",
              "      display:flex;\n",
              "      flex-wrap:wrap;\n",
              "      gap: 12px;\n",
              "    }\n",
              "\n",
              "    .colab-df-convert {\n",
              "      background-color: #E8F0FE;\n",
              "      border: none;\n",
              "      border-radius: 50%;\n",
              "      cursor: pointer;\n",
              "      display: none;\n",
              "      fill: #1967D2;\n",
              "      height: 32px;\n",
              "      padding: 0 0 0 0;\n",
              "      width: 32px;\n",
              "    }\n",
              "\n",
              "    .colab-df-convert:hover {\n",
              "      background-color: #E2EBFA;\n",
              "      box-shadow: 0px 1px 2px rgba(60, 64, 67, 0.3), 0px 1px 3px 1px rgba(60, 64, 67, 0.15);\n",
              "      fill: #174EA6;\n",
              "    }\n",
              "\n",
              "    [theme=dark] .colab-df-convert {\n",
              "      background-color: #3B4455;\n",
              "      fill: #D2E3FC;\n",
              "    }\n",
              "\n",
              "    [theme=dark] .colab-df-convert:hover {\n",
              "      background-color: #434B5C;\n",
              "      box-shadow: 0px 1px 3px 1px rgba(0, 0, 0, 0.15);\n",
              "      filter: drop-shadow(0px 1px 2px rgba(0, 0, 0, 0.3));\n",
              "      fill: #FFFFFF;\n",
              "    }\n",
              "  </style>\n",
              "\n",
              "      <script>\n",
              "        const buttonEl =\n",
              "          document.querySelector('#df-746f40f6-852d-4bbe-9101-a31f4b2d4ddf button.colab-df-convert');\n",
              "        buttonEl.style.display =\n",
              "          google.colab.kernel.accessAllowed ? 'block' : 'none';\n",
              "\n",
              "        async function convertToInteractive(key) {\n",
              "          const element = document.querySelector('#df-746f40f6-852d-4bbe-9101-a31f4b2d4ddf');\n",
              "          const dataTable =\n",
              "            await google.colab.kernel.invokeFunction('convertToInteractive',\n",
              "                                                     [key], {});\n",
              "          if (!dataTable) return;\n",
              "\n",
              "          const docLinkHtml = 'Like what you see? Visit the ' +\n",
              "            '<a target=\"_blank\" href=https://colab.research.google.com/notebooks/data_table.ipynb>data table notebook</a>'\n",
              "            + ' to learn more about interactive tables.';\n",
              "          element.innerHTML = '';\n",
              "          dataTable['output_type'] = 'display_data';\n",
              "          await google.colab.output.renderOutput(dataTable, element);\n",
              "          const docLink = document.createElement('div');\n",
              "          docLink.innerHTML = docLinkHtml;\n",
              "          element.appendChild(docLink);\n",
              "        }\n",
              "      </script>\n",
              "    </div>\n",
              "  </div>\n",
              "  "
            ]
          },
          "metadata": {},
          "execution_count": 175
        }
      ]
    },
    {
      "cell_type": "code",
      "source": [
        "#Visualización de los delitos por departamento con mayor ocurrencia durante los últimos 5 años: Cundinamarca, Antioquia, Valle\n",
        "delito_per_capita_filtro_df = delito_per_capita_df.loc[(delito_per_capita_df['DEPARTAMENTO'] == 'CUNDINAMARCA') | (delito_per_capita_df['DEPARTAMENTO'] == 'ANTIOQUIA') | (delito_per_capita_df['DEPARTAMENTO'] == 'VALLE')]\n",
        "\n",
        "\n",
        "delito_per_capita_filtro_df.set_index(['year', 'month'])\n",
        "pivoted = delito_per_capita_filtro_df.pivot(index=['year', 'month'], columns=\"DEPARTAMENTO\", values=\"per capita\")\n",
        "pivoted.plot(figsize=(20, 8))"
      ],
      "metadata": {
        "colab": {
          "base_uri": "https://localhost:8080/",
          "height": 515
        },
        "id": "VrdVnEgzPTWj",
        "outputId": "92daffa9-0d2a-477a-f8f4-54c9ec6c1532"
      },
      "execution_count": 176,
      "outputs": [
        {
          "output_type": "execute_result",
          "data": {
            "text/plain": [
              "<matplotlib.axes._subplots.AxesSubplot at 0x7fe53f2ada50>"
            ]
          },
          "metadata": {},
          "execution_count": 176
        },
        {
          "output_type": "display_data",
          "data": {
            "text/plain": [
              "<Figure size 1440x576 with 1 Axes>"
            ],
            "image/png": "[encoded data removed]"
          },
          "metadata": {
            "needs_background": "light"
          }
        }
      ]
    },
    {
      "cell_type": "markdown",
      "source": [
        "#Punto 4"
      ],
      "metadata": {
        "id": "fXaXUPq6vDAa"
      }
    },
    {
      "cell_type": "markdown",
      "source": [
        "A partir de los conjuntos de datos seleccionados, construya un único dataset que integre la totalidad de los delitos ocurridos por departamento y municipio. Muestre los valores normalizados por cantidad de habitantes realizando un proceso similar al del punto anterior. En este archivo puede encontrar proyecciones anuales de las poblaciones por departamento. Utilice la proyección para el año en curso. Considere solamente los municipios con más de 1 millón de habitantes."
      ],
      "metadata": {
        "id": "k3_TB5wHvjE3"
      }
    },
    {
      "cell_type": "code",
      "source": [
        "#Identifying which is the original DataFrame:\n",
        "#1 - lesiones_personales 2 - violencia intrafamiliar 3 - delitos sexuales 4 - homicidios\n",
        "ls_df['df_original']  = '1'\n",
        "vi_df['df_original']  = '2'\n",
        "ds_df['df_original']  = '3'\n",
        "hat_df['df_original'] = '4'"
      ],
      "metadata": {
        "id": "WD92gNBqvrud"
      },
      "execution_count": 144,
      "outputs": []
    },
    {
      "cell_type": "code",
      "source": [
        "#Creating a new df in order to not pass the description column present in some original df\n",
        "ls_df_2  = ls_df.iloc[:,[0,1,2,3,4,5,6,8,9,10,11]]\n",
        "vi_df_2  = vi_df.iloc[:,:]\n",
        "vi_df_2  = vi_df_2.reset_index(drop=True)\n",
        "ds_df_2  = ds_df.iloc[:,[0,1,2,3,4,5,6,7,9,10,11]]\n",
        "ds_df_2  = ds_df_2.reset_index(drop=True)\n",
        "hat_df_2 = hat_df.iloc[:,[0,1,2,3,4,5,6,8,9,10,11]]\n",
        "hat_df_2 = hat_df_2.reset_index(drop=True)"
      ],
      "metadata": {
        "id": "7Dw_wconvxTl"
      },
      "execution_count": 145,
      "outputs": []
    },
    {
      "cell_type": "code",
      "source": [
        "#Creating the new df with all the original dfs\n",
        "del_df = pd.concat([ls_df_2, vi_df_2,ds_df_2,hat_df_2], axis=0)"
      ],
      "metadata": {
        "id": "y83mku_av305"
      },
      "execution_count": 146,
      "outputs": []
    },
    {
      "cell_type": "code",
      "source": [
        "del_df.count()"
      ],
      "metadata": {
        "colab": {
          "base_uri": "https://localhost:8080/"
        },
        "id": "nMqOyTAlv57c",
        "outputId": "5c56aa02-69bc-4d0d-c97e-f592840abea8"
      },
      "execution_count": 147,
      "outputs": [
        {
          "output_type": "execute_result",
          "data": {
            "text/plain": [
              "DEPARTAMENTO    1881894\n",
              "MUNICIPIO       1881894\n",
              "CODIGO DANE     1881894\n",
              "ARMAS MEDIOS    1881894\n",
              "FECHA HECHO     1881894\n",
              "GENERO          1881894\n",
              "GRUPO ETARIO    1881894\n",
              "CANTIDAD        1881894\n",
              "year            1881894\n",
              "month           1881894\n",
              "df_original     1881894\n",
              "dtype: int64"
            ]
          },
          "metadata": {},
          "execution_count": 147
        }
      ]
    },
    {
      "cell_type": "code",
      "source": [
        "del_df.info()"
      ],
      "metadata": {
        "colab": {
          "base_uri": "https://localhost:8080/"
        },
        "id": "WEWz1M45v_BD",
        "outputId": "fa804e5a-947e-46a7-e0c8-e253fa941d78"
      },
      "execution_count": 149,
      "outputs": [
        {
          "output_type": "stream",
          "name": "stdout",
          "text": [
            "<class 'pandas.core.frame.DataFrame'>\n",
            "Int64Index: 1881894 entries, 0 to 59809\n",
            "Data columns (total 11 columns):\n",
            " #   Column        Dtype         \n",
            "---  ------        -----         \n",
            " 0   DEPARTAMENTO  object        \n",
            " 1   MUNICIPIO     object        \n",
            " 2   CODIGO DANE   object        \n",
            " 3   ARMAS MEDIOS  object        \n",
            " 4   FECHA HECHO   datetime64[ns]\n",
            " 5   GENERO        object        \n",
            " 6   GRUPO ETARIO  object        \n",
            " 7   CANTIDAD      int64         \n",
            " 8   year          int64         \n",
            " 9   month         int64         \n",
            " 10  df_original   object        \n",
            "dtypes: datetime64[ns](1), int64(3), object(7)\n",
            "memory usage: 172.3+ MB\n"
          ]
        }
      ]
    },
    {
      "cell_type": "code",
      "source": [
        "del_df.isnull().any()"
      ],
      "metadata": {
        "colab": {
          "base_uri": "https://localhost:8080/"
        },
        "id": "bwP09xAsv8K0",
        "outputId": "d17c78fd-f904-4e36-b695-1381d83c850f"
      },
      "execution_count": 148,
      "outputs": [
        {
          "output_type": "execute_result",
          "data": {
            "text/plain": [
              "DEPARTAMENTO    False\n",
              "MUNICIPIO       False\n",
              "CODIGO DANE     False\n",
              "ARMAS MEDIOS    False\n",
              "FECHA HECHO     False\n",
              "GENERO          False\n",
              "GRUPO ETARIO    False\n",
              "CANTIDAD        False\n",
              "year            False\n",
              "month           False\n",
              "df_original     False\n",
              "dtype: bool"
            ]
          },
          "metadata": {},
          "execution_count": 148
        }
      ]
    },
    {
      "cell_type": "code",
      "source": [
        "#Filtering del_22_df by year = 2022\n",
        "del_22_df = del_df[(del_df['year'] == 2022)]\n",
        "del_22_df.count()"
      ],
      "metadata": {
        "colab": {
          "base_uri": "https://localhost:8080/"
        },
        "id": "AP3T9sHCwFlU",
        "outputId": "761815db-93a7-4463-f9e4-d17624d7f70b"
      },
      "execution_count": 150,
      "outputs": [
        {
          "output_type": "execute_result",
          "data": {
            "text/plain": [
              "DEPARTAMENTO    58066\n",
              "MUNICIPIO       58066\n",
              "CODIGO DANE     58066\n",
              "ARMAS MEDIOS    58066\n",
              "FECHA HECHO     58066\n",
              "GENERO          58066\n",
              "GRUPO ETARIO    58066\n",
              "CANTIDAD        58066\n",
              "year            58066\n",
              "month           58066\n",
              "df_original     58066\n",
              "dtype: int64"
            ]
          },
          "metadata": {},
          "execution_count": 150
        }
      ]
    },
    {
      "cell_type": "code",
      "source": [
        "#Grouping by DEPARTAMENTO Y MUNICIPIO\n",
        "del_dp_mn_df = del_22_df.groupby(['DEPARTAMENTO','MUNICIPIO'], as_index=False).CANTIDAD.sum().sort_values('DEPARTAMENTO')\n",
        "del_dp_mn_df"
      ],
      "metadata": {
        "colab": {
          "base_uri": "https://localhost:8080/",
          "height": 423
        },
        "id": "3_rcYFiRwO28",
        "outputId": "c9304842-e977-4492-db6e-8df9ae341be6"
      },
      "execution_count": 151,
      "outputs": [
        {
          "output_type": "execute_result",
          "data": {
            "text/plain": [
              "     DEPARTAMENTO            MUNICIPIO  CANTIDAD\n",
              "0        AMAZONAS         LETICIA (CT)        86\n",
              "1        AMAZONAS        PUERTO NARIÑO         3\n",
              "91      ANTIOQUIA         SAN JERÓNIMO        22\n",
              "90      ANTIOQUIA        SAN FRANCISCO         1\n",
              "89      ANTIOQUIA           SAN CARLOS        13\n",
              "...           ...                  ...       ...\n",
              "1054       VAUPÉS              TARAIRA         1\n",
              "1057      VICHADA  PUERTO CARREÑO (CT)        25\n",
              "1055      VICHADA             CUMARIBO         6\n",
              "1056      VICHADA         LA PRIMAVERA        25\n",
              "1058      VICHADA        SANTA ROSALÍA         8\n",
              "\n",
              "[1059 rows x 3 columns]"
            ],
            "text/html": [
              "\n",
              "  <div id=\"df-d0f713c1-e181-4b09-9d6f-108cac5aeacb\">\n",
              "    <div class=\"colab-df-container\">\n",
              "      <div>\n",
              "<style scoped>\n",
              "    .dataframe tbody tr th:only-of-type {\n",
              "        vertical-align: middle;\n",
              "    }\n",
              "\n",
              "    .dataframe tbody tr th {\n",
              "        vertical-align: top;\n",
              "    }\n",
              "\n",
              "    .dataframe thead th {\n",
              "        text-align: right;\n",
              "    }\n",
              "</style>\n",
              "<table border=\"1\" class=\"dataframe\">\n",
              "  <thead>\n",
              "    <tr style=\"text-align: right;\">\n",
              "      <th></th>\n",
              "      <th>DEPARTAMENTO</th>\n",
              "      <th>MUNICIPIO</th>\n",
              "      <th>CANTIDAD</th>\n",
              "    </tr>\n",
              "  </thead>\n",
              "  <tbody>\n",
              "    <tr>\n",
              "      <th>0</th>\n",
              "      <td>AMAZONAS</td>\n",
              "      <td>LETICIA (CT)</td>\n",
              "      <td>86</td>\n",
              "    </tr>\n",
              "    <tr>\n",
              "      <th>1</th>\n",
              "      <td>AMAZONAS</td>\n",
              "      <td>PUERTO NARIÑO</td>\n",
              "      <td>3</td>\n",
              "    </tr>\n",
              "    <tr>\n",
              "      <th>91</th>\n",
              "      <td>ANTIOQUIA</td>\n",
              "      <td>SAN JERÓNIMO</td>\n",
              "      <td>22</td>\n",
              "    </tr>\n",
              "    <tr>\n",
              "      <th>90</th>\n",
              "      <td>ANTIOQUIA</td>\n",
              "      <td>SAN FRANCISCO</td>\n",
              "      <td>1</td>\n",
              "    </tr>\n",
              "    <tr>\n",
              "      <th>89</th>\n",
              "      <td>ANTIOQUIA</td>\n",
              "      <td>SAN CARLOS</td>\n",
              "      <td>13</td>\n",
              "    </tr>\n",
              "    <tr>\n",
              "      <th>...</th>\n",
              "      <td>...</td>\n",
              "      <td>...</td>\n",
              "      <td>...</td>\n",
              "    </tr>\n",
              "    <tr>\n",
              "      <th>1054</th>\n",
              "      <td>VAUPÉS</td>\n",
              "      <td>TARAIRA</td>\n",
              "      <td>1</td>\n",
              "    </tr>\n",
              "    <tr>\n",
              "      <th>1057</th>\n",
              "      <td>VICHADA</td>\n",
              "      <td>PUERTO CARREÑO (CT)</td>\n",
              "      <td>25</td>\n",
              "    </tr>\n",
              "    <tr>\n",
              "      <th>1055</th>\n",
              "      <td>VICHADA</td>\n",
              "      <td>CUMARIBO</td>\n",
              "      <td>6</td>\n",
              "    </tr>\n",
              "    <tr>\n",
              "      <th>1056</th>\n",
              "      <td>VICHADA</td>\n",
              "      <td>LA PRIMAVERA</td>\n",
              "      <td>25</td>\n",
              "    </tr>\n",
              "    <tr>\n",
              "      <th>1058</th>\n",
              "      <td>VICHADA</td>\n",
              "      <td>SANTA ROSALÍA</td>\n",
              "      <td>8</td>\n",
              "    </tr>\n",
              "  </tbody>\n",
              "</table>\n",
              "<p>1059 rows × 3 columns</p>\n",
              "</div>\n",
              "      <button class=\"colab-df-convert\" onclick=\"convertToInteractive('df-d0f713c1-e181-4b09-9d6f-108cac5aeacb')\"\n",
              "              title=\"Convert this dataframe to an interactive table.\"\n",
              "              style=\"display:none;\">\n",
              "        \n",
              "  <svg xmlns=\"http://www.w3.org/2000/svg\" height=\"24px\"viewBox=\"0 0 24 24\"\n",
              "       width=\"24px\">\n",
              "    <path d=\"M0 0h24v24H0V0z\" fill=\"none\"/>\n",
              "    <path d=\"M18.56 5.44l.94 2.06.94-2.06 2.06-.94-2.06-.94-.94-2.06-.94 2.06-2.06.94zm-11 1L8.5 8.5l.94-2.06 2.06-.94-2.06-.94L8.5 2.5l-.94 2.06-2.06.94zm10 10l.94 2.06.94-2.06 2.06-.94-2.06-.94-.94-2.06-.94 2.06-2.06.94z\"/><path d=\"M17.41 7.96l-1.37-1.37c-.4-.4-.92-.59-1.43-.59-.52 0-1.04.2-1.43.59L10.3 9.45l-7.72 7.72c-.78.78-.78 2.05 0 2.83L4 21.41c.39.39.9.59 1.41.59.51 0 1.02-.2 1.41-.59l7.78-7.78 2.81-2.81c.8-.78.8-2.07 0-2.86zM5.41 20L4 18.59l7.72-7.72 1.47 1.35L5.41 20z\"/>\n",
              "  </svg>\n",
              "      </button>\n",
              "      \n",
              "  <style>\n",
              "    .colab-df-container {\n",
              "      display:flex;\n",
              "      flex-wrap:wrap;\n",
              "      gap: 12px;\n",
              "    }\n",
              "\n",
              "    .colab-df-convert {\n",
              "      background-color: #E8F0FE;\n",
              "      border: none;\n",
              "      border-radius: 50%;\n",
              "      cursor: pointer;\n",
              "      display: none;\n",
              "      fill: #1967D2;\n",
              "      height: 32px;\n",
              "      padding: 0 0 0 0;\n",
              "      width: 32px;\n",
              "    }\n",
              "\n",
              "    .colab-df-convert:hover {\n",
              "      background-color: #E2EBFA;\n",
              "      box-shadow: 0px 1px 2px rgba(60, 64, 67, 0.3), 0px 1px 3px 1px rgba(60, 64, 67, 0.15);\n",
              "      fill: #174EA6;\n",
              "    }\n",
              "\n",
              "    [theme=dark] .colab-df-convert {\n",
              "      background-color: #3B4455;\n",
              "      fill: #D2E3FC;\n",
              "    }\n",
              "\n",
              "    [theme=dark] .colab-df-convert:hover {\n",
              "      background-color: #434B5C;\n",
              "      box-shadow: 0px 1px 3px 1px rgba(0, 0, 0, 0.15);\n",
              "      filter: drop-shadow(0px 1px 2px rgba(0, 0, 0, 0.3));\n",
              "      fill: #FFFFFF;\n",
              "    }\n",
              "  </style>\n",
              "\n",
              "      <script>\n",
              "        const buttonEl =\n",
              "          document.querySelector('#df-d0f713c1-e181-4b09-9d6f-108cac5aeacb button.colab-df-convert');\n",
              "        buttonEl.style.display =\n",
              "          google.colab.kernel.accessAllowed ? 'block' : 'none';\n",
              "\n",
              "        async function convertToInteractive(key) {\n",
              "          const element = document.querySelector('#df-d0f713c1-e181-4b09-9d6f-108cac5aeacb');\n",
              "          const dataTable =\n",
              "            await google.colab.kernel.invokeFunction('convertToInteractive',\n",
              "                                                     [key], {});\n",
              "          if (!dataTable) return;\n",
              "\n",
              "          const docLinkHtml = 'Like what you see? Visit the ' +\n",
              "            '<a target=\"_blank\" href=https://colab.research.google.com/notebooks/data_table.ipynb>data table notebook</a>'\n",
              "            + ' to learn more about interactive tables.';\n",
              "          element.innerHTML = '';\n",
              "          dataTable['output_type'] = 'display_data';\n",
              "          await google.colab.output.renderOutput(dataTable, element);\n",
              "          const docLink = document.createElement('div');\n",
              "          docLink.innerHTML = docLinkHtml;\n",
              "          element.appendChild(docLink);\n",
              "        }\n",
              "      </script>\n",
              "    </div>\n",
              "  </div>\n",
              "  "
            ]
          },
          "metadata": {},
          "execution_count": 151
        }
      ]
    },
    {
      "cell_type": "code",
      "source": [
        "#Cargue de la base de datos de lesiones personales\n",
        "proy_pob_all_df.head()"
      ],
      "metadata": {
        "colab": {
          "base_uri": "https://localhost:8080/",
          "height": 206
        },
        "id": "RESySngdx9se",
        "outputId": "b5bb9041-391d-4f4e-be7d-fb8a8a65046b"
      },
      "execution_count": 152,
      "outputs": [
        {
          "output_type": "execute_result",
          "data": {
            "text/plain": [
              "   DP      DPNOM  DPMP      MPIO   AÑO                    ÁREA GEOGRÁFICA  \\\n",
              "0   5  Antioquia  5001  Medellín  2018                 Cabecera Municipal   \n",
              "1   5  Antioquia  5001  Medellín  2018  Centros Poblados y Rural Disperso   \n",
              "2   5  Antioquia  5001  Medellín  2018                              Total   \n",
              "3   5  Antioquia  5001  Medellín  2019                 Cabecera Municipal   \n",
              "4   5  Antioquia  5001  Medellín  2019  Centros Poblados y Rural Disperso   \n",
              "\n",
              "     Total  \n",
              "0  2382399  \n",
              "1    44730  \n",
              "2  2427129  \n",
              "3  2439470  \n",
              "4    44075  "
            ],
            "text/html": [
              "\n",
              "  <div id=\"df-0cb9b3be-85f5-4b9c-b98a-7daab2188d4e\">\n",
              "    <div class=\"colab-df-container\">\n",
              "      <div>\n",
              "<style scoped>\n",
              "    .dataframe tbody tr th:only-of-type {\n",
              "        vertical-align: middle;\n",
              "    }\n",
              "\n",
              "    .dataframe tbody tr th {\n",
              "        vertical-align: top;\n",
              "    }\n",
              "\n",
              "    .dataframe thead th {\n",
              "        text-align: right;\n",
              "    }\n",
              "</style>\n",
              "<table border=\"1\" class=\"dataframe\">\n",
              "  <thead>\n",
              "    <tr style=\"text-align: right;\">\n",
              "      <th></th>\n",
              "      <th>DP</th>\n",
              "      <th>DPNOM</th>\n",
              "      <th>DPMP</th>\n",
              "      <th>MPIO</th>\n",
              "      <th>AÑO</th>\n",
              "      <th>ÁREA GEOGRÁFICA</th>\n",
              "      <th>Total</th>\n",
              "    </tr>\n",
              "  </thead>\n",
              "  <tbody>\n",
              "    <tr>\n",
              "      <th>0</th>\n",
              "      <td>5</td>\n",
              "      <td>Antioquia</td>\n",
              "      <td>5001</td>\n",
              "      <td>Medellín</td>\n",
              "      <td>2018</td>\n",
              "      <td>Cabecera Municipal</td>\n",
              "      <td>2382399</td>\n",
              "    </tr>\n",
              "    <tr>\n",
              "      <th>1</th>\n",
              "      <td>5</td>\n",
              "      <td>Antioquia</td>\n",
              "      <td>5001</td>\n",
              "      <td>Medellín</td>\n",
              "      <td>2018</td>\n",
              "      <td>Centros Poblados y Rural Disperso</td>\n",
              "      <td>44730</td>\n",
              "    </tr>\n",
              "    <tr>\n",
              "      <th>2</th>\n",
              "      <td>5</td>\n",
              "      <td>Antioquia</td>\n",
              "      <td>5001</td>\n",
              "      <td>Medellín</td>\n",
              "      <td>2018</td>\n",
              "      <td>Total</td>\n",
              "      <td>2427129</td>\n",
              "    </tr>\n",
              "    <tr>\n",
              "      <th>3</th>\n",
              "      <td>5</td>\n",
              "      <td>Antioquia</td>\n",
              "      <td>5001</td>\n",
              "      <td>Medellín</td>\n",
              "      <td>2019</td>\n",
              "      <td>Cabecera Municipal</td>\n",
              "      <td>2439470</td>\n",
              "    </tr>\n",
              "    <tr>\n",
              "      <th>4</th>\n",
              "      <td>5</td>\n",
              "      <td>Antioquia</td>\n",
              "      <td>5001</td>\n",
              "      <td>Medellín</td>\n",
              "      <td>2019</td>\n",
              "      <td>Centros Poblados y Rural Disperso</td>\n",
              "      <td>44075</td>\n",
              "    </tr>\n",
              "  </tbody>\n",
              "</table>\n",
              "</div>\n",
              "      <button class=\"colab-df-convert\" onclick=\"convertToInteractive('df-0cb9b3be-85f5-4b9c-b98a-7daab2188d4e')\"\n",
              "              title=\"Convert this dataframe to an interactive table.\"\n",
              "              style=\"display:none;\">\n",
              "        \n",
              "  <svg xmlns=\"http://www.w3.org/2000/svg\" height=\"24px\"viewBox=\"0 0 24 24\"\n",
              "       width=\"24px\">\n",
              "    <path d=\"M0 0h24v24H0V0z\" fill=\"none\"/>\n",
              "    <path d=\"M18.56 5.44l.94 2.06.94-2.06 2.06-.94-2.06-.94-.94-2.06-.94 2.06-2.06.94zm-11 1L8.5 8.5l.94-2.06 2.06-.94-2.06-.94L8.5 2.5l-.94 2.06-2.06.94zm10 10l.94 2.06.94-2.06 2.06-.94-2.06-.94-.94-2.06-.94 2.06-2.06.94z\"/><path d=\"M17.41 7.96l-1.37-1.37c-.4-.4-.92-.59-1.43-.59-.52 0-1.04.2-1.43.59L10.3 9.45l-7.72 7.72c-.78.78-.78 2.05 0 2.83L4 21.41c.39.39.9.59 1.41.59.51 0 1.02-.2 1.41-.59l7.78-7.78 2.81-2.81c.8-.78.8-2.07 0-2.86zM5.41 20L4 18.59l7.72-7.72 1.47 1.35L5.41 20z\"/>\n",
              "  </svg>\n",
              "      </button>\n",
              "      \n",
              "  <style>\n",
              "    .colab-df-container {\n",
              "      display:flex;\n",
              "      flex-wrap:wrap;\n",
              "      gap: 12px;\n",
              "    }\n",
              "\n",
              "    .colab-df-convert {\n",
              "      background-color: #E8F0FE;\n",
              "      border: none;\n",
              "      border-radius: 50%;\n",
              "      cursor: pointer;\n",
              "      display: none;\n",
              "      fill: #1967D2;\n",
              "      height: 32px;\n",
              "      padding: 0 0 0 0;\n",
              "      width: 32px;\n",
              "    }\n",
              "\n",
              "    .colab-df-convert:hover {\n",
              "      background-color: #E2EBFA;\n",
              "      box-shadow: 0px 1px 2px rgba(60, 64, 67, 0.3), 0px 1px 3px 1px rgba(60, 64, 67, 0.15);\n",
              "      fill: #174EA6;\n",
              "    }\n",
              "\n",
              "    [theme=dark] .colab-df-convert {\n",
              "      background-color: #3B4455;\n",
              "      fill: #D2E3FC;\n",
              "    }\n",
              "\n",
              "    [theme=dark] .colab-df-convert:hover {\n",
              "      background-color: #434B5C;\n",
              "      box-shadow: 0px 1px 3px 1px rgba(0, 0, 0, 0.15);\n",
              "      filter: drop-shadow(0px 1px 2px rgba(0, 0, 0, 0.3));\n",
              "      fill: #FFFFFF;\n",
              "    }\n",
              "  </style>\n",
              "\n",
              "      <script>\n",
              "        const buttonEl =\n",
              "          document.querySelector('#df-0cb9b3be-85f5-4b9c-b98a-7daab2188d4e button.colab-df-convert');\n",
              "        buttonEl.style.display =\n",
              "          google.colab.kernel.accessAllowed ? 'block' : 'none';\n",
              "\n",
              "        async function convertToInteractive(key) {\n",
              "          const element = document.querySelector('#df-0cb9b3be-85f5-4b9c-b98a-7daab2188d4e');\n",
              "          const dataTable =\n",
              "            await google.colab.kernel.invokeFunction('convertToInteractive',\n",
              "                                                     [key], {});\n",
              "          if (!dataTable) return;\n",
              "\n",
              "          const docLinkHtml = 'Like what you see? Visit the ' +\n",
              "            '<a target=\"_blank\" href=https://colab.research.google.com/notebooks/data_table.ipynb>data table notebook</a>'\n",
              "            + ' to learn more about interactive tables.';\n",
              "          element.innerHTML = '';\n",
              "          dataTable['output_type'] = 'display_data';\n",
              "          await google.colab.output.renderOutput(dataTable, element);\n",
              "          const docLink = document.createElement('div');\n",
              "          docLink.innerHTML = docLinkHtml;\n",
              "          element.appendChild(docLink);\n",
              "        }\n",
              "      </script>\n",
              "    </div>\n",
              "  </div>\n",
              "  "
            ]
          },
          "metadata": {},
          "execution_count": 152
        }
      ]
    },
    {
      "cell_type": "code",
      "source": [
        "# Changing the column name AÑO Y ÁREA GEOGRÁFICA\n",
        "proy_pob_all_df.rename(columns={'AÑO':'ANIO','ÁREA GEOGRÁFICA':'AREA GEOGRAFICA'}, inplace=True)\n",
        "proy_pob_all_df"
      ],
      "metadata": {
        "colab": {
          "base_uri": "https://localhost:8080/",
          "height": 423
        },
        "id": "bHYP3ZtcyY-K",
        "outputId": "1126c2ff-3f02-447a-bd42-c3b490b7f401"
      },
      "execution_count": 153,
      "outputs": [
        {
          "output_type": "execute_result",
          "data": {
            "text/plain": [
              "       DP      DPNOM   DPMP      MPIO  ANIO  \\\n",
              "0       5  Antioquia   5001  Medellín  2018   \n",
              "1       5  Antioquia   5001  Medellín  2018   \n",
              "2       5  Antioquia   5001  Medellín  2018   \n",
              "3       5  Antioquia   5001  Medellín  2019   \n",
              "4       5  Antioquia   5001  Medellín  2019   \n",
              "...    ..        ...    ...       ...   ...   \n",
              "60583  99    Vichada  99773  Cumaribo  2034   \n",
              "60584  99    Vichada  99773  Cumaribo  2034   \n",
              "60585  99    Vichada  99773  Cumaribo  2035   \n",
              "60586  99    Vichada  99773  Cumaribo  2035   \n",
              "60587  99    Vichada  99773  Cumaribo  2035   \n",
              "\n",
              "                         AREA GEOGRAFICA    Total  \n",
              "0                     Cabecera Municipal  2382399  \n",
              "1      Centros Poblados y Rural Disperso    44730  \n",
              "2                                  Total  2427129  \n",
              "3                     Cabecera Municipal  2439470  \n",
              "4      Centros Poblados y Rural Disperso    44075  \n",
              "...                                  ...      ...  \n",
              "60583  Centros Poblados y Rural Disperso    93327  \n",
              "60584                              Total    96319  \n",
              "60585                 Cabecera Municipal     3001  \n",
              "60586  Centros Poblados y Rural Disperso    94793  \n",
              "60587                              Total    97794  \n",
              "\n",
              "[60588 rows x 7 columns]"
            ],
            "text/html": [
              "\n",
              "  <div id=\"df-5b0139e1-ff8b-4251-bc36-9ae9d05f6650\">\n",
              "    <div class=\"colab-df-container\">\n",
              "      <div>\n",
              "<style scoped>\n",
              "    .dataframe tbody tr th:only-of-type {\n",
              "        vertical-align: middle;\n",
              "    }\n",
              "\n",
              "    .dataframe tbody tr th {\n",
              "        vertical-align: top;\n",
              "    }\n",
              "\n",
              "    .dataframe thead th {\n",
              "        text-align: right;\n",
              "    }\n",
              "</style>\n",
              "<table border=\"1\" class=\"dataframe\">\n",
              "  <thead>\n",
              "    <tr style=\"text-align: right;\">\n",
              "      <th></th>\n",
              "      <th>DP</th>\n",
              "      <th>DPNOM</th>\n",
              "      <th>DPMP</th>\n",
              "      <th>MPIO</th>\n",
              "      <th>ANIO</th>\n",
              "      <th>AREA GEOGRAFICA</th>\n",
              "      <th>Total</th>\n",
              "    </tr>\n",
              "  </thead>\n",
              "  <tbody>\n",
              "    <tr>\n",
              "      <th>0</th>\n",
              "      <td>5</td>\n",
              "      <td>Antioquia</td>\n",
              "      <td>5001</td>\n",
              "      <td>Medellín</td>\n",
              "      <td>2018</td>\n",
              "      <td>Cabecera Municipal</td>\n",
              "      <td>2382399</td>\n",
              "    </tr>\n",
              "    <tr>\n",
              "      <th>1</th>\n",
              "      <td>5</td>\n",
              "      <td>Antioquia</td>\n",
              "      <td>5001</td>\n",
              "      <td>Medellín</td>\n",
              "      <td>2018</td>\n",
              "      <td>Centros Poblados y Rural Disperso</td>\n",
              "      <td>44730</td>\n",
              "    </tr>\n",
              "    <tr>\n",
              "      <th>2</th>\n",
              "      <td>5</td>\n",
              "      <td>Antioquia</td>\n",
              "      <td>5001</td>\n",
              "      <td>Medellín</td>\n",
              "      <td>2018</td>\n",
              "      <td>Total</td>\n",
              "      <td>2427129</td>\n",
              "    </tr>\n",
              "    <tr>\n",
              "      <th>3</th>\n",
              "      <td>5</td>\n",
              "      <td>Antioquia</td>\n",
              "      <td>5001</td>\n",
              "      <td>Medellín</td>\n",
              "      <td>2019</td>\n",
              "      <td>Cabecera Municipal</td>\n",
              "      <td>2439470</td>\n",
              "    </tr>\n",
              "    <tr>\n",
              "      <th>4</th>\n",
              "      <td>5</td>\n",
              "      <td>Antioquia</td>\n",
              "      <td>5001</td>\n",
              "      <td>Medellín</td>\n",
              "      <td>2019</td>\n",
              "      <td>Centros Poblados y Rural Disperso</td>\n",
              "      <td>44075</td>\n",
              "    </tr>\n",
              "    <tr>\n",
              "      <th>...</th>\n",
              "      <td>...</td>\n",
              "      <td>...</td>\n",
              "      <td>...</td>\n",
              "      <td>...</td>\n",
              "      <td>...</td>\n",
              "      <td>...</td>\n",
              "      <td>...</td>\n",
              "    </tr>\n",
              "    <tr>\n",
              "      <th>60583</th>\n",
              "      <td>99</td>\n",
              "      <td>Vichada</td>\n",
              "      <td>99773</td>\n",
              "      <td>Cumaribo</td>\n",
              "      <td>2034</td>\n",
              "      <td>Centros Poblados y Rural Disperso</td>\n",
              "      <td>93327</td>\n",
              "    </tr>\n",
              "    <tr>\n",
              "      <th>60584</th>\n",
              "      <td>99</td>\n",
              "      <td>Vichada</td>\n",
              "      <td>99773</td>\n",
              "      <td>Cumaribo</td>\n",
              "      <td>2034</td>\n",
              "      <td>Total</td>\n",
              "      <td>96319</td>\n",
              "    </tr>\n",
              "    <tr>\n",
              "      <th>60585</th>\n",
              "      <td>99</td>\n",
              "      <td>Vichada</td>\n",
              "      <td>99773</td>\n",
              "      <td>Cumaribo</td>\n",
              "      <td>2035</td>\n",
              "      <td>Cabecera Municipal</td>\n",
              "      <td>3001</td>\n",
              "    </tr>\n",
              "    <tr>\n",
              "      <th>60586</th>\n",
              "      <td>99</td>\n",
              "      <td>Vichada</td>\n",
              "      <td>99773</td>\n",
              "      <td>Cumaribo</td>\n",
              "      <td>2035</td>\n",
              "      <td>Centros Poblados y Rural Disperso</td>\n",
              "      <td>94793</td>\n",
              "    </tr>\n",
              "    <tr>\n",
              "      <th>60587</th>\n",
              "      <td>99</td>\n",
              "      <td>Vichada</td>\n",
              "      <td>99773</td>\n",
              "      <td>Cumaribo</td>\n",
              "      <td>2035</td>\n",
              "      <td>Total</td>\n",
              "      <td>97794</td>\n",
              "    </tr>\n",
              "  </tbody>\n",
              "</table>\n",
              "<p>60588 rows × 7 columns</p>\n",
              "</div>\n",
              "      <button class=\"colab-df-convert\" onclick=\"convertToInteractive('df-5b0139e1-ff8b-4251-bc36-9ae9d05f6650')\"\n",
              "              title=\"Convert this dataframe to an interactive table.\"\n",
              "              style=\"display:none;\">\n",
              "        \n",
              "  <svg xmlns=\"http://www.w3.org/2000/svg\" height=\"24px\"viewBox=\"0 0 24 24\"\n",
              "       width=\"24px\">\n",
              "    <path d=\"M0 0h24v24H0V0z\" fill=\"none\"/>\n",
              "    <path d=\"M18.56 5.44l.94 2.06.94-2.06 2.06-.94-2.06-.94-.94-2.06-.94 2.06-2.06.94zm-11 1L8.5 8.5l.94-2.06 2.06-.94-2.06-.94L8.5 2.5l-.94 2.06-2.06.94zm10 10l.94 2.06.94-2.06 2.06-.94-2.06-.94-.94-2.06-.94 2.06-2.06.94z\"/><path d=\"M17.41 7.96l-1.37-1.37c-.4-.4-.92-.59-1.43-.59-.52 0-1.04.2-1.43.59L10.3 9.45l-7.72 7.72c-.78.78-.78 2.05 0 2.83L4 21.41c.39.39.9.59 1.41.59.51 0 1.02-.2 1.41-.59l7.78-7.78 2.81-2.81c.8-.78.8-2.07 0-2.86zM5.41 20L4 18.59l7.72-7.72 1.47 1.35L5.41 20z\"/>\n",
              "  </svg>\n",
              "      </button>\n",
              "      \n",
              "  <style>\n",
              "    .colab-df-container {\n",
              "      display:flex;\n",
              "      flex-wrap:wrap;\n",
              "      gap: 12px;\n",
              "    }\n",
              "\n",
              "    .colab-df-convert {\n",
              "      background-color: #E8F0FE;\n",
              "      border: none;\n",
              "      border-radius: 50%;\n",
              "      cursor: pointer;\n",
              "      display: none;\n",
              "      fill: #1967D2;\n",
              "      height: 32px;\n",
              "      padding: 0 0 0 0;\n",
              "      width: 32px;\n",
              "    }\n",
              "\n",
              "    .colab-df-convert:hover {\n",
              "      background-color: #E2EBFA;\n",
              "      box-shadow: 0px 1px 2px rgba(60, 64, 67, 0.3), 0px 1px 3px 1px rgba(60, 64, 67, 0.15);\n",
              "      fill: #174EA6;\n",
              "    }\n",
              "\n",
              "    [theme=dark] .colab-df-convert {\n",
              "      background-color: #3B4455;\n",
              "      fill: #D2E3FC;\n",
              "    }\n",
              "\n",
              "    [theme=dark] .colab-df-convert:hover {\n",
              "      background-color: #434B5C;\n",
              "      box-shadow: 0px 1px 3px 1px rgba(0, 0, 0, 0.15);\n",
              "      filter: drop-shadow(0px 1px 2px rgba(0, 0, 0, 0.3));\n",
              "      fill: #FFFFFF;\n",
              "    }\n",
              "  </style>\n",
              "\n",
              "      <script>\n",
              "        const buttonEl =\n",
              "          document.querySelector('#df-5b0139e1-ff8b-4251-bc36-9ae9d05f6650 button.colab-df-convert');\n",
              "        buttonEl.style.display =\n",
              "          google.colab.kernel.accessAllowed ? 'block' : 'none';\n",
              "\n",
              "        async function convertToInteractive(key) {\n",
              "          const element = document.querySelector('#df-5b0139e1-ff8b-4251-bc36-9ae9d05f6650');\n",
              "          const dataTable =\n",
              "            await google.colab.kernel.invokeFunction('convertToInteractive',\n",
              "                                                     [key], {});\n",
              "          if (!dataTable) return;\n",
              "\n",
              "          const docLinkHtml = 'Like what you see? Visit the ' +\n",
              "            '<a target=\"_blank\" href=https://colab.research.google.com/notebooks/data_table.ipynb>data table notebook</a>'\n",
              "            + ' to learn more about interactive tables.';\n",
              "          element.innerHTML = '';\n",
              "          dataTable['output_type'] = 'display_data';\n",
              "          await google.colab.output.renderOutput(dataTable, element);\n",
              "          const docLink = document.createElement('div');\n",
              "          docLink.innerHTML = docLinkHtml;\n",
              "          element.appendChild(docLink);\n",
              "        }\n",
              "      </script>\n",
              "    </div>\n",
              "  </div>\n",
              "  "
            ]
          },
          "metadata": {},
          "execution_count": 153
        }
      ]
    },
    {
      "cell_type": "code",
      "source": [
        "#Filtering proy_pob_df by ANIO = 2022, AREA GEOGRAFICA = Total and Total >= 1.000.000\n",
        "proy_pob_all_df = proy_pob_all_df[(proy_pob_all_df['ANIO'] == 2022) & (proy_pob_all_df['AREA GEOGRAFICA'] == 'Total') & (proy_pob_all_df['Total'] >= 1000000)]"
      ],
      "metadata": {
        "id": "hmxm8thLyjLM"
      },
      "execution_count": 154,
      "outputs": []
    },
    {
      "cell_type": "code",
      "source": [
        "#Filtering proy_pob_df by ANIO = 2022, AREA GEOGRAFICA = Total and Total >= 1.000.000\n",
        "proy_pob_df = proy_pob_all_df[(proy_pob_all_df['ANIO'] == 2022) & (proy_pob_all_df['AREA GEOGRAFICA'] == 'Total') & (proy_pob_all_df['Total'] >= 1000000)]\n",
        "proy_pob_df"
      ],
      "metadata": {
        "colab": {
          "base_uri": "https://localhost:8080/",
          "height": 206
        },
        "id": "DZyXERicysBU",
        "outputId": "f9530199-ace9-4bb6-adca-2dee515d6c89"
      },
      "execution_count": 155,
      "outputs": [
        {
          "output_type": "execute_result",
          "data": {
            "text/plain": [
              "       DP            DPNOM   DPMP                 MPIO  ANIO AREA GEOGRAFICA  \\\n",
              "14      5        Antioquia   5001             Medellín  2022           Total   \n",
              "6764    8        Atlántico   8001         Barranquilla  2022           Total   \n",
              "8006   11     Bogotá, D.C.  11001         Bogotá, D.C.  2022           Total   \n",
              "8060   13          Bolívar  13001  Cartagena de Indias  2022           Total   \n",
              "54284  76  Valle del Cauca  76001                 Cali  2022           Total   \n",
              "\n",
              "         Total  \n",
              "14     2612958  \n",
              "6764   1312473  \n",
              "8006   7901653  \n",
              "8060   1055035  \n",
              "54284  2280907  "
            ],
            "text/html": [
              "\n",
              "  <div id=\"df-bfc0b907-70c2-42ff-9682-5aecf22a4922\">\n",
              "    <div class=\"colab-df-container\">\n",
              "      <div>\n",
              "<style scoped>\n",
              "    .dataframe tbody tr th:only-of-type {\n",
              "        vertical-align: middle;\n",
              "    }\n",
              "\n",
              "    .dataframe tbody tr th {\n",
              "        vertical-align: top;\n",
              "    }\n",
              "\n",
              "    .dataframe thead th {\n",
              "        text-align: right;\n",
              "    }\n",
              "</style>\n",
              "<table border=\"1\" class=\"dataframe\">\n",
              "  <thead>\n",
              "    <tr style=\"text-align: right;\">\n",
              "      <th></th>\n",
              "      <th>DP</th>\n",
              "      <th>DPNOM</th>\n",
              "      <th>DPMP</th>\n",
              "      <th>MPIO</th>\n",
              "      <th>ANIO</th>\n",
              "      <th>AREA GEOGRAFICA</th>\n",
              "      <th>Total</th>\n",
              "    </tr>\n",
              "  </thead>\n",
              "  <tbody>\n",
              "    <tr>\n",
              "      <th>14</th>\n",
              "      <td>5</td>\n",
              "      <td>Antioquia</td>\n",
              "      <td>5001</td>\n",
              "      <td>Medellín</td>\n",
              "      <td>2022</td>\n",
              "      <td>Total</td>\n",
              "      <td>2612958</td>\n",
              "    </tr>\n",
              "    <tr>\n",
              "      <th>6764</th>\n",
              "      <td>8</td>\n",
              "      <td>Atlántico</td>\n",
              "      <td>8001</td>\n",
              "      <td>Barranquilla</td>\n",
              "      <td>2022</td>\n",
              "      <td>Total</td>\n",
              "      <td>1312473</td>\n",
              "    </tr>\n",
              "    <tr>\n",
              "      <th>8006</th>\n",
              "      <td>11</td>\n",
              "      <td>Bogotá, D.C.</td>\n",
              "      <td>11001</td>\n",
              "      <td>Bogotá, D.C.</td>\n",
              "      <td>2022</td>\n",
              "      <td>Total</td>\n",
              "      <td>7901653</td>\n",
              "    </tr>\n",
              "    <tr>\n",
              "      <th>8060</th>\n",
              "      <td>13</td>\n",
              "      <td>Bolívar</td>\n",
              "      <td>13001</td>\n",
              "      <td>Cartagena de Indias</td>\n",
              "      <td>2022</td>\n",
              "      <td>Total</td>\n",
              "      <td>1055035</td>\n",
              "    </tr>\n",
              "    <tr>\n",
              "      <th>54284</th>\n",
              "      <td>76</td>\n",
              "      <td>Valle del Cauca</td>\n",
              "      <td>76001</td>\n",
              "      <td>Cali</td>\n",
              "      <td>2022</td>\n",
              "      <td>Total</td>\n",
              "      <td>2280907</td>\n",
              "    </tr>\n",
              "  </tbody>\n",
              "</table>\n",
              "</div>\n",
              "      <button class=\"colab-df-convert\" onclick=\"convertToInteractive('df-bfc0b907-70c2-42ff-9682-5aecf22a4922')\"\n",
              "              title=\"Convert this dataframe to an interactive table.\"\n",
              "              style=\"display:none;\">\n",
              "        \n",
              "  <svg xmlns=\"http://www.w3.org/2000/svg\" height=\"24px\"viewBox=\"0 0 24 24\"\n",
              "       width=\"24px\">\n",
              "    <path d=\"M0 0h24v24H0V0z\" fill=\"none\"/>\n",
              "    <path d=\"M18.56 5.44l.94 2.06.94-2.06 2.06-.94-2.06-.94-.94-2.06-.94 2.06-2.06.94zm-11 1L8.5 8.5l.94-2.06 2.06-.94-2.06-.94L8.5 2.5l-.94 2.06-2.06.94zm10 10l.94 2.06.94-2.06 2.06-.94-2.06-.94-.94-2.06-.94 2.06-2.06.94z\"/><path d=\"M17.41 7.96l-1.37-1.37c-.4-.4-.92-.59-1.43-.59-.52 0-1.04.2-1.43.59L10.3 9.45l-7.72 7.72c-.78.78-.78 2.05 0 2.83L4 21.41c.39.39.9.59 1.41.59.51 0 1.02-.2 1.41-.59l7.78-7.78 2.81-2.81c.8-.78.8-2.07 0-2.86zM5.41 20L4 18.59l7.72-7.72 1.47 1.35L5.41 20z\"/>\n",
              "  </svg>\n",
              "      </button>\n",
              "      \n",
              "  <style>\n",
              "    .colab-df-container {\n",
              "      display:flex;\n",
              "      flex-wrap:wrap;\n",
              "      gap: 12px;\n",
              "    }\n",
              "\n",
              "    .colab-df-convert {\n",
              "      background-color: #E8F0FE;\n",
              "      border: none;\n",
              "      border-radius: 50%;\n",
              "      cursor: pointer;\n",
              "      display: none;\n",
              "      fill: #1967D2;\n",
              "      height: 32px;\n",
              "      padding: 0 0 0 0;\n",
              "      width: 32px;\n",
              "    }\n",
              "\n",
              "    .colab-df-convert:hover {\n",
              "      background-color: #E2EBFA;\n",
              "      box-shadow: 0px 1px 2px rgba(60, 64, 67, 0.3), 0px 1px 3px 1px rgba(60, 64, 67, 0.15);\n",
              "      fill: #174EA6;\n",
              "    }\n",
              "\n",
              "    [theme=dark] .colab-df-convert {\n",
              "      background-color: #3B4455;\n",
              "      fill: #D2E3FC;\n",
              "    }\n",
              "\n",
              "    [theme=dark] .colab-df-convert:hover {\n",
              "      background-color: #434B5C;\n",
              "      box-shadow: 0px 1px 3px 1px rgba(0, 0, 0, 0.15);\n",
              "      filter: drop-shadow(0px 1px 2px rgba(0, 0, 0, 0.3));\n",
              "      fill: #FFFFFF;\n",
              "    }\n",
              "  </style>\n",
              "\n",
              "      <script>\n",
              "        const buttonEl =\n",
              "          document.querySelector('#df-bfc0b907-70c2-42ff-9682-5aecf22a4922 button.colab-df-convert');\n",
              "        buttonEl.style.display =\n",
              "          google.colab.kernel.accessAllowed ? 'block' : 'none';\n",
              "\n",
              "        async function convertToInteractive(key) {\n",
              "          const element = document.querySelector('#df-bfc0b907-70c2-42ff-9682-5aecf22a4922');\n",
              "          const dataTable =\n",
              "            await google.colab.kernel.invokeFunction('convertToInteractive',\n",
              "                                                     [key], {});\n",
              "          if (!dataTable) return;\n",
              "\n",
              "          const docLinkHtml = 'Like what you see? Visit the ' +\n",
              "            '<a target=\"_blank\" href=https://colab.research.google.com/notebooks/data_table.ipynb>data table notebook</a>'\n",
              "            + ' to learn more about interactive tables.';\n",
              "          element.innerHTML = '';\n",
              "          dataTable['output_type'] = 'display_data';\n",
              "          await google.colab.output.renderOutput(dataTable, element);\n",
              "          const docLink = document.createElement('div');\n",
              "          docLink.innerHTML = docLinkHtml;\n",
              "          element.appendChild(docLink);\n",
              "        }\n",
              "      </script>\n",
              "    </div>\n",
              "  </div>\n",
              "  "
            ]
          },
          "metadata": {},
          "execution_count": 155
        }
      ]
    },
    {
      "cell_type": "code",
      "source": [
        "#Replacing departamentos wrong writed.\n",
        "proy_pob_df.replace({\"DPNOM\":estandarizar_dep}, inplace = True)"
      ],
      "metadata": {
        "id": "A-jezL6zy3ii"
      },
      "execution_count": 160,
      "outputs": []
    },
    {
      "cell_type": "code",
      "source": [
        "#Replacing municipios wrong writed.\n",
        "proy_pob_df.replace({\"MPIO\":estandarizar_mun}, inplace = True)"
      ],
      "metadata": {
        "id": "mdomQnLCy87G"
      },
      "execution_count": 161,
      "outputs": []
    },
    {
      "cell_type": "code",
      "source": [
        "proy_pob_df.info()"
      ],
      "metadata": {
        "colab": {
          "base_uri": "https://localhost:8080/"
        },
        "id": "KZ_dHWJ2zTxy",
        "outputId": "02553512-1ae5-4c5a-bfb1-7725b3c8752a"
      },
      "execution_count": 162,
      "outputs": [
        {
          "output_type": "stream",
          "name": "stdout",
          "text": [
            "<class 'pandas.core.frame.DataFrame'>\n",
            "Int64Index: 5 entries, 14 to 54284\n",
            "Data columns (total 7 columns):\n",
            " #   Column           Non-Null Count  Dtype \n",
            "---  ------           --------------  ----- \n",
            " 0   DP               5 non-null      int64 \n",
            " 1   DPNOM            5 non-null      object\n",
            " 2   DPMP             5 non-null      int64 \n",
            " 3   MPIO             5 non-null      object\n",
            " 4   ANIO             5 non-null      int64 \n",
            " 5   AREA GEOGRAFICA  5 non-null      object\n",
            " 6   Total            5 non-null      int64 \n",
            "dtypes: int64(4), object(3)\n",
            "memory usage: 320.0+ bytes\n"
          ]
        }
      ]
    },
    {
      "cell_type": "code",
      "source": [
        "#Merging del_dp_mn_df delitos por Departamento y Municipio con su población \n",
        "del_pry_df = pd.merge(del_dp_mn_df, proy_pob_df, left_on = ['DEPARTAMENTO','MUNICIPIO'], right_on = ['DPNOM','MPIO'])\n",
        "del_pry_df"
      ],
      "metadata": {
        "colab": {
          "base_uri": "https://localhost:8080/",
          "height": 175
        },
        "id": "ziv95apkzXE8",
        "outputId": "996cd2d9-4342-4b3e-e9c3-f3fdc0b19a89"
      },
      "execution_count": 163,
      "outputs": [
        {
          "output_type": "execute_result",
          "data": {
            "text/plain": [
              "   DEPARTAMENTO          MUNICIPIO  CANTIDAD  DP         DPNOM   DPMP  \\\n",
              "0     ANTIOQUIA      MEDELLÍN (CT)      5656   5     ANTIOQUIA   5001   \n",
              "1     ATLÁNTICO  BARRANQUILLA (CT)      2193   8     ATLÁNTICO   8001   \n",
              "2       BOLÍVAR     CARTAGENA (CT)      2718  13       BOLÍVAR  13001   \n",
              "3  CUNDINAMARCA   BOGOTÁ D.C. (CT)     22563  11  CUNDINAMARCA  11001   \n",
              "\n",
              "                MPIO  ANIO AREA GEOGRAFICA    Total  \n",
              "0      MEDELLÍN (CT)  2022           Total  2612958  \n",
              "1  BARRANQUILLA (CT)  2022           Total  1312473  \n",
              "2     CARTAGENA (CT)  2022           Total  1055035  \n",
              "3   BOGOTÁ D.C. (CT)  2022           Total  7901653  "
            ],
            "text/html": [
              "\n",
              "  <div id=\"df-bc55504e-f8f9-4b73-ad96-8baba5ee9e26\">\n",
              "    <div class=\"colab-df-container\">\n",
              "      <div>\n",
              "<style scoped>\n",
              "    .dataframe tbody tr th:only-of-type {\n",
              "        vertical-align: middle;\n",
              "    }\n",
              "\n",
              "    .dataframe tbody tr th {\n",
              "        vertical-align: top;\n",
              "    }\n",
              "\n",
              "    .dataframe thead th {\n",
              "        text-align: right;\n",
              "    }\n",
              "</style>\n",
              "<table border=\"1\" class=\"dataframe\">\n",
              "  <thead>\n",
              "    <tr style=\"text-align: right;\">\n",
              "      <th></th>\n",
              "      <th>DEPARTAMENTO</th>\n",
              "      <th>MUNICIPIO</th>\n",
              "      <th>CANTIDAD</th>\n",
              "      <th>DP</th>\n",
              "      <th>DPNOM</th>\n",
              "      <th>DPMP</th>\n",
              "      <th>MPIO</th>\n",
              "      <th>ANIO</th>\n",
              "      <th>AREA GEOGRAFICA</th>\n",
              "      <th>Total</th>\n",
              "    </tr>\n",
              "  </thead>\n",
              "  <tbody>\n",
              "    <tr>\n",
              "      <th>0</th>\n",
              "      <td>ANTIOQUIA</td>\n",
              "      <td>MEDELLÍN (CT)</td>\n",
              "      <td>5656</td>\n",
              "      <td>5</td>\n",
              "      <td>ANTIOQUIA</td>\n",
              "      <td>5001</td>\n",
              "      <td>MEDELLÍN (CT)</td>\n",
              "      <td>2022</td>\n",
              "      <td>Total</td>\n",
              "      <td>2612958</td>\n",
              "    </tr>\n",
              "    <tr>\n",
              "      <th>1</th>\n",
              "      <td>ATLÁNTICO</td>\n",
              "      <td>BARRANQUILLA (CT)</td>\n",
              "      <td>2193</td>\n",
              "      <td>8</td>\n",
              "      <td>ATLÁNTICO</td>\n",
              "      <td>8001</td>\n",
              "      <td>BARRANQUILLA (CT)</td>\n",
              "      <td>2022</td>\n",
              "      <td>Total</td>\n",
              "      <td>1312473</td>\n",
              "    </tr>\n",
              "    <tr>\n",
              "      <th>2</th>\n",
              "      <td>BOLÍVAR</td>\n",
              "      <td>CARTAGENA (CT)</td>\n",
              "      <td>2718</td>\n",
              "      <td>13</td>\n",
              "      <td>BOLÍVAR</td>\n",
              "      <td>13001</td>\n",
              "      <td>CARTAGENA (CT)</td>\n",
              "      <td>2022</td>\n",
              "      <td>Total</td>\n",
              "      <td>1055035</td>\n",
              "    </tr>\n",
              "    <tr>\n",
              "      <th>3</th>\n",
              "      <td>CUNDINAMARCA</td>\n",
              "      <td>BOGOTÁ D.C. (CT)</td>\n",
              "      <td>22563</td>\n",
              "      <td>11</td>\n",
              "      <td>CUNDINAMARCA</td>\n",
              "      <td>11001</td>\n",
              "      <td>BOGOTÁ D.C. (CT)</td>\n",
              "      <td>2022</td>\n",
              "      <td>Total</td>\n",
              "      <td>7901653</td>\n",
              "    </tr>\n",
              "  </tbody>\n",
              "</table>\n",
              "</div>\n",
              "      <button class=\"colab-df-convert\" onclick=\"convertToInteractive('df-bc55504e-f8f9-4b73-ad96-8baba5ee9e26')\"\n",
              "              title=\"Convert this dataframe to an interactive table.\"\n",
              "              style=\"display:none;\">\n",
              "        \n",
              "  <svg xmlns=\"http://www.w3.org/2000/svg\" height=\"24px\"viewBox=\"0 0 24 24\"\n",
              "       width=\"24px\">\n",
              "    <path d=\"M0 0h24v24H0V0z\" fill=\"none\"/>\n",
              "    <path d=\"M18.56 5.44l.94 2.06.94-2.06 2.06-.94-2.06-.94-.94-2.06-.94 2.06-2.06.94zm-11 1L8.5 8.5l.94-2.06 2.06-.94-2.06-.94L8.5 2.5l-.94 2.06-2.06.94zm10 10l.94 2.06.94-2.06 2.06-.94-2.06-.94-.94-2.06-.94 2.06-2.06.94z\"/><path d=\"M17.41 7.96l-1.37-1.37c-.4-.4-.92-.59-1.43-.59-.52 0-1.04.2-1.43.59L10.3 9.45l-7.72 7.72c-.78.78-.78 2.05 0 2.83L4 21.41c.39.39.9.59 1.41.59.51 0 1.02-.2 1.41-.59l7.78-7.78 2.81-2.81c.8-.78.8-2.07 0-2.86zM5.41 20L4 18.59l7.72-7.72 1.47 1.35L5.41 20z\"/>\n",
              "  </svg>\n",
              "      </button>\n",
              "      \n",
              "  <style>\n",
              "    .colab-df-container {\n",
              "      display:flex;\n",
              "      flex-wrap:wrap;\n",
              "      gap: 12px;\n",
              "    }\n",
              "\n",
              "    .colab-df-convert {\n",
              "      background-color: #E8F0FE;\n",
              "      border: none;\n",
              "      border-radius: 50%;\n",
              "      cursor: pointer;\n",
              "      display: none;\n",
              "      fill: #1967D2;\n",
              "      height: 32px;\n",
              "      padding: 0 0 0 0;\n",
              "      width: 32px;\n",
              "    }\n",
              "\n",
              "    .colab-df-convert:hover {\n",
              "      background-color: #E2EBFA;\n",
              "      box-shadow: 0px 1px 2px rgba(60, 64, 67, 0.3), 0px 1px 3px 1px rgba(60, 64, 67, 0.15);\n",
              "      fill: #174EA6;\n",
              "    }\n",
              "\n",
              "    [theme=dark] .colab-df-convert {\n",
              "      background-color: #3B4455;\n",
              "      fill: #D2E3FC;\n",
              "    }\n",
              "\n",
              "    [theme=dark] .colab-df-convert:hover {\n",
              "      background-color: #434B5C;\n",
              "      box-shadow: 0px 1px 3px 1px rgba(0, 0, 0, 0.15);\n",
              "      filter: drop-shadow(0px 1px 2px rgba(0, 0, 0, 0.3));\n",
              "      fill: #FFFFFF;\n",
              "    }\n",
              "  </style>\n",
              "\n",
              "      <script>\n",
              "        const buttonEl =\n",
              "          document.querySelector('#df-bc55504e-f8f9-4b73-ad96-8baba5ee9e26 button.colab-df-convert');\n",
              "        buttonEl.style.display =\n",
              "          google.colab.kernel.accessAllowed ? 'block' : 'none';\n",
              "\n",
              "        async function convertToInteractive(key) {\n",
              "          const element = document.querySelector('#df-bc55504e-f8f9-4b73-ad96-8baba5ee9e26');\n",
              "          const dataTable =\n",
              "            await google.colab.kernel.invokeFunction('convertToInteractive',\n",
              "                                                     [key], {});\n",
              "          if (!dataTable) return;\n",
              "\n",
              "          const docLinkHtml = 'Like what you see? Visit the ' +\n",
              "            '<a target=\"_blank\" href=https://colab.research.google.com/notebooks/data_table.ipynb>data table notebook</a>'\n",
              "            + ' to learn more about interactive tables.';\n",
              "          element.innerHTML = '';\n",
              "          dataTable['output_type'] = 'display_data';\n",
              "          await google.colab.output.renderOutput(dataTable, element);\n",
              "          const docLink = document.createElement('div');\n",
              "          docLink.innerHTML = docLinkHtml;\n",
              "          element.appendChild(docLink);\n",
              "        }\n",
              "      </script>\n",
              "    </div>\n",
              "  </div>\n",
              "  "
            ]
          },
          "metadata": {},
          "execution_count": 163
        }
      ]
    },
    {
      "cell_type": "code",
      "source": [
        "del_pry_df.info()"
      ],
      "metadata": {
        "colab": {
          "base_uri": "https://localhost:8080/"
        },
        "id": "srFPEZI8zd3S",
        "outputId": "d6055c61-156f-429c-b7b1-3f0a5f1b3bba"
      },
      "execution_count": 164,
      "outputs": [
        {
          "output_type": "stream",
          "name": "stdout",
          "text": [
            "<class 'pandas.core.frame.DataFrame'>\n",
            "Int64Index: 4 entries, 0 to 3\n",
            "Data columns (total 10 columns):\n",
            " #   Column           Non-Null Count  Dtype \n",
            "---  ------           --------------  ----- \n",
            " 0   DEPARTAMENTO     4 non-null      object\n",
            " 1   MUNICIPIO        4 non-null      object\n",
            " 2   CANTIDAD         4 non-null      int64 \n",
            " 3   DP               4 non-null      int64 \n",
            " 4   DPNOM            4 non-null      object\n",
            " 5   DPMP             4 non-null      int64 \n",
            " 6   MPIO             4 non-null      object\n",
            " 7   ANIO             4 non-null      int64 \n",
            " 8   AREA GEOGRAFICA  4 non-null      object\n",
            " 9   Total            4 non-null      int64 \n",
            "dtypes: int64(5), object(5)\n",
            "memory usage: 352.0+ bytes\n"
          ]
        }
      ]
    },
    {
      "cell_type": "code",
      "source": [
        "#Calculating delitos per capita\n",
        "del_pry_df['per_cap'] = del_pry_df['CANTIDAD']/del_pry_df['Total'] \n",
        "del_pry_df['per_cap_mult'] = del_pry_df['per_cap']*100000\n",
        "del_pry_df.iloc[:,[7,0,1,2,9,10,11]]"
      ],
      "metadata": {
        "colab": {
          "base_uri": "https://localhost:8080/",
          "height": 175
        },
        "id": "zWYYVpv-zhNC",
        "outputId": "c56f8953-4650-47bc-eda5-0a905a11946a"
      },
      "execution_count": 165,
      "outputs": [
        {
          "output_type": "execute_result",
          "data": {
            "text/plain": [
              "   ANIO  DEPARTAMENTO          MUNICIPIO  CANTIDAD    Total   per_cap  \\\n",
              "0  2022     ANTIOQUIA      MEDELLÍN (CT)      5656  2612958  0.002165   \n",
              "1  2022     ATLÁNTICO  BARRANQUILLA (CT)      2193  1312473  0.001671   \n",
              "2  2022       BOLÍVAR     CARTAGENA (CT)      2718  1055035  0.002576   \n",
              "3  2022  CUNDINAMARCA   BOGOTÁ D.C. (CT)     22563  7901653  0.002855   \n",
              "\n",
              "   per_cap_mult  \n",
              "0    216.459660  \n",
              "1    167.089152  \n",
              "2    257.621785  \n",
              "3    285.547847  "
            ],
            "text/html": [
              "\n",
              "  <div id=\"df-0db4fb9d-b671-4e42-ac54-cdeb2c547ff9\">\n",
              "    <div class=\"colab-df-container\">\n",
              "      <div>\n",
              "<style scoped>\n",
              "    .dataframe tbody tr th:only-of-type {\n",
              "        vertical-align: middle;\n",
              "    }\n",
              "\n",
              "    .dataframe tbody tr th {\n",
              "        vertical-align: top;\n",
              "    }\n",
              "\n",
              "    .dataframe thead th {\n",
              "        text-align: right;\n",
              "    }\n",
              "</style>\n",
              "<table border=\"1\" class=\"dataframe\">\n",
              "  <thead>\n",
              "    <tr style=\"text-align: right;\">\n",
              "      <th></th>\n",
              "      <th>ANIO</th>\n",
              "      <th>DEPARTAMENTO</th>\n",
              "      <th>MUNICIPIO</th>\n",
              "      <th>CANTIDAD</th>\n",
              "      <th>Total</th>\n",
              "      <th>per_cap</th>\n",
              "      <th>per_cap_mult</th>\n",
              "    </tr>\n",
              "  </thead>\n",
              "  <tbody>\n",
              "    <tr>\n",
              "      <th>0</th>\n",
              "      <td>2022</td>\n",
              "      <td>ANTIOQUIA</td>\n",
              "      <td>MEDELLÍN (CT)</td>\n",
              "      <td>5656</td>\n",
              "      <td>2612958</td>\n",
              "      <td>0.002165</td>\n",
              "      <td>216.459660</td>\n",
              "    </tr>\n",
              "    <tr>\n",
              "      <th>1</th>\n",
              "      <td>2022</td>\n",
              "      <td>ATLÁNTICO</td>\n",
              "      <td>BARRANQUILLA (CT)</td>\n",
              "      <td>2193</td>\n",
              "      <td>1312473</td>\n",
              "      <td>0.001671</td>\n",
              "      <td>167.089152</td>\n",
              "    </tr>\n",
              "    <tr>\n",
              "      <th>2</th>\n",
              "      <td>2022</td>\n",
              "      <td>BOLÍVAR</td>\n",
              "      <td>CARTAGENA (CT)</td>\n",
              "      <td>2718</td>\n",
              "      <td>1055035</td>\n",
              "      <td>0.002576</td>\n",
              "      <td>257.621785</td>\n",
              "    </tr>\n",
              "    <tr>\n",
              "      <th>3</th>\n",
              "      <td>2022</td>\n",
              "      <td>CUNDINAMARCA</td>\n",
              "      <td>BOGOTÁ D.C. (CT)</td>\n",
              "      <td>22563</td>\n",
              "      <td>7901653</td>\n",
              "      <td>0.002855</td>\n",
              "      <td>285.547847</td>\n",
              "    </tr>\n",
              "  </tbody>\n",
              "</table>\n",
              "</div>\n",
              "      <button class=\"colab-df-convert\" onclick=\"convertToInteractive('df-0db4fb9d-b671-4e42-ac54-cdeb2c547ff9')\"\n",
              "              title=\"Convert this dataframe to an interactive table.\"\n",
              "              style=\"display:none;\">\n",
              "        \n",
              "  <svg xmlns=\"http://www.w3.org/2000/svg\" height=\"24px\"viewBox=\"0 0 24 24\"\n",
              "       width=\"24px\">\n",
              "    <path d=\"M0 0h24v24H0V0z\" fill=\"none\"/>\n",
              "    <path d=\"M18.56 5.44l.94 2.06.94-2.06 2.06-.94-2.06-.94-.94-2.06-.94 2.06-2.06.94zm-11 1L8.5 8.5l.94-2.06 2.06-.94-2.06-.94L8.5 2.5l-.94 2.06-2.06.94zm10 10l.94 2.06.94-2.06 2.06-.94-2.06-.94-.94-2.06-.94 2.06-2.06.94z\"/><path d=\"M17.41 7.96l-1.37-1.37c-.4-.4-.92-.59-1.43-.59-.52 0-1.04.2-1.43.59L10.3 9.45l-7.72 7.72c-.78.78-.78 2.05 0 2.83L4 21.41c.39.39.9.59 1.41.59.51 0 1.02-.2 1.41-.59l7.78-7.78 2.81-2.81c.8-.78.8-2.07 0-2.86zM5.41 20L4 18.59l7.72-7.72 1.47 1.35L5.41 20z\"/>\n",
              "  </svg>\n",
              "      </button>\n",
              "      \n",
              "  <style>\n",
              "    .colab-df-container {\n",
              "      display:flex;\n",
              "      flex-wrap:wrap;\n",
              "      gap: 12px;\n",
              "    }\n",
              "\n",
              "    .colab-df-convert {\n",
              "      background-color: #E8F0FE;\n",
              "      border: none;\n",
              "      border-radius: 50%;\n",
              "      cursor: pointer;\n",
              "      display: none;\n",
              "      fill: #1967D2;\n",
              "      height: 32px;\n",
              "      padding: 0 0 0 0;\n",
              "      width: 32px;\n",
              "    }\n",
              "\n",
              "    .colab-df-convert:hover {\n",
              "      background-color: #E2EBFA;\n",
              "      box-shadow: 0px 1px 2px rgba(60, 64, 67, 0.3), 0px 1px 3px 1px rgba(60, 64, 67, 0.15);\n",
              "      fill: #174EA6;\n",
              "    }\n",
              "\n",
              "    [theme=dark] .colab-df-convert {\n",
              "      background-color: #3B4455;\n",
              "      fill: #D2E3FC;\n",
              "    }\n",
              "\n",
              "    [theme=dark] .colab-df-convert:hover {\n",
              "      background-color: #434B5C;\n",
              "      box-shadow: 0px 1px 3px 1px rgba(0, 0, 0, 0.15);\n",
              "      filter: drop-shadow(0px 1px 2px rgba(0, 0, 0, 0.3));\n",
              "      fill: #FFFFFF;\n",
              "    }\n",
              "  </style>\n",
              "\n",
              "      <script>\n",
              "        const buttonEl =\n",
              "          document.querySelector('#df-0db4fb9d-b671-4e42-ac54-cdeb2c547ff9 button.colab-df-convert');\n",
              "        buttonEl.style.display =\n",
              "          google.colab.kernel.accessAllowed ? 'block' : 'none';\n",
              "\n",
              "        async function convertToInteractive(key) {\n",
              "          const element = document.querySelector('#df-0db4fb9d-b671-4e42-ac54-cdeb2c547ff9');\n",
              "          const dataTable =\n",
              "            await google.colab.kernel.invokeFunction('convertToInteractive',\n",
              "                                                     [key], {});\n",
              "          if (!dataTable) return;\n",
              "\n",
              "          const docLinkHtml = 'Like what you see? Visit the ' +\n",
              "            '<a target=\"_blank\" href=https://colab.research.google.com/notebooks/data_table.ipynb>data table notebook</a>'\n",
              "            + ' to learn more about interactive tables.';\n",
              "          element.innerHTML = '';\n",
              "          dataTable['output_type'] = 'display_data';\n",
              "          await google.colab.output.renderOutput(dataTable, element);\n",
              "          const docLink = document.createElement('div');\n",
              "          docLink.innerHTML = docLinkHtml;\n",
              "          element.appendChild(docLink);\n",
              "        }\n",
              "      </script>\n",
              "    </div>\n",
              "  </div>\n",
              "  "
            ]
          },
          "metadata": {},
          "execution_count": 165
        }
      ]
    },
    {
      "cell_type": "markdown",
      "source": [
        "R/ En seguida los valores percapita de delitos en los municipios con población mayor o igual a 1'000.000 de habitantes para los delitos registrados en lo corrido del año 2022: \n",
        "* En el municipio de MEDELLÍN (CT), por cada 216 habitantes se presenta un delito.\n",
        "* En el municipio de BARRANQUILLA (CT), por cada 167 habitantes se presenta un delito.\n",
        "* En el municipio de CARTAGENA (CT), por cada 257 habitantes se presenta un delito.\n",
        "* En el municipio de BARRANQUILLA (CT), por cada 285 habitantes se presenta un delito."
      ],
      "metadata": {
        "id": "fDUvQdyEzsPW"
      }
    },
    {
      "cell_type": "code",
      "source": [
        "fig, ax = plt.subplots(figsize=(20, 9))\n",
        "sns.barplot(ax = ax, data = del_pry_df, x='ANIO', y='CANTIDAD', hue ='DEPARTAMENTO')"
      ],
      "metadata": {
        "colab": {
          "base_uri": "https://localhost:8080/",
          "height": 569
        },
        "id": "6X76vkwZzkSg",
        "outputId": "8bde03e4-f692-46b4-af0b-f01d876d5a1e"
      },
      "execution_count": 166,
      "outputs": [
        {
          "output_type": "execute_result",
          "data": {
            "text/plain": [
              "<matplotlib.axes._subplots.AxesSubplot at 0x7fe54050b590>"
            ]
          },
          "metadata": {},
          "execution_count": 166
        },
        {
          "output_type": "display_data",
          "data": {
            "text/plain": [
              "<Figure size 1440x648 with 1 Axes>"
            ],
            "image/png": "[encoded data removed]"
          },
          "metadata": {
            "needs_background": "light"
          }
        }
      ]
    }
  ]
}