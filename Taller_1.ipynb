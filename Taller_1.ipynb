{
 "cells": [
  {
   "cell_type": "markdown",
   "metadata": {
    "id": "9LNLhKHEjCKX"
   },
   "source": [
    "# Gestión de Datos\n",
    "\n",
    "Taller 1 \n",
    "Univerisdad Javeriana  \n",
    "August, 2022  \n",
    "  \n",
    "Datasets:   \n",
    "\n",
    "1. Lesiones Personales\n",
    "2. Violencia Intrafamiliar\n",
    "3. Delitos Sexuales\n",
    "4. Homicidios"
   ]
  },
  {
   "cell_type": "code",
   "execution_count": 1,
   "metadata": {
    "id": "1PvKjkpRJNLn"
   },
   "outputs": [],
   "source": [
    "import pandas as pd \n",
    "import numpy as np\n",
    "from datetime import datetime\n",
    "import re\n",
    "import matplotlib.pyplot as plt\n",
    "import seaborn as sns\n",
    "\n",
    "%matplotlib inline"
   ]
  },
  {
   "cell_type": "markdown",
   "metadata": {
    "id": "rLj-8MooKgJP"
   },
   "source": [
    "# Desarrollo de Taller"
   ]
  },
  {
   "cell_type": "markdown",
   "metadata": {
    "id": "2ltQS08ahigG"
   },
   "source": [
    "#Punto 1"
   ]
  },
  {
   "cell_type": "markdown",
   "metadata": {
    "id": "A4F6Ym_ZiPAu"
   },
   "source": [
    "R/ Para el desarrollo de este taller se escogen los siguientes dataframes: Lesiones Personales, Violencia Intrafamiliar, Delitos Sexuales y Homicidios Accidente de Transito. \n",
    "\n",
    "Para cada uno de estos data frames se tienen en su gran mayoría variables categoricas nominales y ordinales con la unica excepción de la 'CANTIDAD' la cual es la cantidad de delitos realizados (Variable escalar)\n",
    "\n",
    "De igual manera se revisan cada uno de los campos tratando de identificar datos anomalos. Para estos se crean diccionarios especificos con el objetivo de reemplzar dichos valores. Para los datos nulos se reportan como \"NO REPORTADO\". \n",
    "\n",
    "Por ultimo, se estandariza el formato de la fecha. "
   ]
  },
  {
   "cell_type": "markdown",
   "metadata": {
    "id": "S7QB1GWNVpsn"
   },
   "source": [
    "##Diccionarios"
   ]
  },
  {
   "cell_type": "code",
   "execution_count": 6,
   "metadata": {
    "colab": {
     "base_uri": "https://localhost:8080/"
    },
    "id": "fJurThixSwdu",
    "outputId": "805b0868-c67a-4d13-9ead-64a0dfd01e53"
   },
   "outputs": [
    {
     "data": {
      "text/plain": [
       "{'NO REPORTA': 'NO REPORTA',\n",
       " '-': 'NO REPORTA',\n",
       " 'NO REPORTADO': 'NO REPORTA',\n",
       " 'ADOLECENTES': 'ADOLESCENTES'}"
      ]
     },
     "execution_count": 6,
     "metadata": {},
     "output_type": "execute_result"
    }
   ],
   "source": [
    "#Diccionario para poder modificar lo que sea no responde o sinonimos. \n",
    "estandarizar_dic = {\n",
    "    \"NO REPORTA\": \"NO REPORTA\", \n",
    "    \"-\": \"NO REPORTA\",\n",
    "    \"NO REPORTADO\":\"NO REPORTA\",\n",
    "    \"ADOLECENTES\":\"ADOLESCENTES\"\n",
    "}\n",
    "\n",
    "estandarizar_dic"
   ]
  },
  {
   "cell_type": "code",
   "execution_count": 3,
   "metadata": {
    "colab": {
     "base_uri": "https://localhost:8080/"
    },
    "id": "xF5eNHly6nfC",
    "outputId": "430960e6-0d66-4595-ed2e-f722d50e15d7"
   },
   "outputs": [
    {
     "data": {
      "text/plain": [
       "{'SAN ANDRÉS': 'SAN ANDRÉS Y PROVIDENCIA',\n",
       " 'Antioquia': 'ANTIOQUIA',\n",
       " 'Atlántico': 'ATLÁNTICO',\n",
       " 'Bogotá, D.C.': 'CUNDINAMARCA',\n",
       " 'Bolívar': 'BOLÍVAR',\n",
       " 'Valle del Cauca': 'VALLE DEL CAUCA',\n",
       " 'ARCHIPIÉLAGO DE SAN ANDRÉS, PROVIDENCIA Y SANTA CATALINA': 'SAN ANDRÉS Y PROVIDENCIA',\n",
       " 'LA GUAJIRA': 'GUAJIRA'}"
      ]
     },
     "execution_count": 3,
     "metadata": {},
     "output_type": "execute_result"
    }
   ],
   "source": [
    "#Diccionario para poder modificar departamenteos erroneos. \n",
    "estandarizar_dep = {\n",
    "    \"SAN ANDRÉS\": \"SAN ANDRÉS Y PROVIDENCIA\",\n",
    "    \"Antioquia\": \"ANTIOQUIA\",\n",
    "    \"Atlántico\": \"ATLÁNTICO\", \n",
    "    \"Bogotá, D.C.\": \"CUNDINAMARCA\", \n",
    "    \"Bolívar\": \"BOLÍVAR\", \n",
    "    \"Valle del Cauca\": \"VALLE DEL CAUCA\",\n",
    "    \"ARCHIPIÉLAGO DE SAN ANDRÉS, PROVIDENCIA Y SANTA CATALINA\": \"SAN ANDRÉS Y PROVIDENCIA\",\n",
    "    \"LA GUAJIRA\": \"GUAJIRA\"\n",
    "}\n",
    "\n",
    "estandarizar_dep"
   ]
  },
  {
   "cell_type": "code",
   "execution_count": 7,
   "metadata": {
    "colab": {
     "base_uri": "https://localhost:8080/"
    },
    "id": "BgS38m8yzI7k",
    "outputId": "5692437d-aebb-4b21-ec0e-4f9bd595f6b7"
   },
   "outputs": [
    {
     "data": {
      "text/plain": [
       "{'Medellín': 'MEDELLÍN (CT)',\n",
       " 'Barranquilla': 'BARRANQUILLA (CT)',\n",
       " 'Bogotá, D.C.': 'BOGOTÁ D.C. (CT)',\n",
       " 'Cartagena de Indias': 'CARTAGENA (CT)',\n",
       " 'Cali': 'CALI (CT)'}"
      ]
     },
     "execution_count": 7,
     "metadata": {},
     "output_type": "execute_result"
    }
   ],
   "source": [
    "#Diccionario para poder modificar municipios erroneos. \n",
    "estandarizar_mun = {\n",
    "    \"Medellín\": \"MEDELLÍN (CT)\",\n",
    "    \"Barranquilla\": \"BARRANQUILLA (CT)\",\n",
    "    \"Bogotá, D.C.\": \"BOGOTÁ D.C. (CT)\", \n",
    "    \"Cartagena de Indias\": \"CARTAGENA (CT)\", \n",
    "    \"Cali\": \"CALI (CT)\"\n",
    "}\n",
    "\n",
    "estandarizar_mun"
   ]
  },
  {
   "cell_type": "markdown",
   "metadata": {
    "id": "oMyot2yXSss2"
   },
   "source": [
    "## Carga de Base de Datos"
   ]
  },
  {
   "cell_type": "code",
   "execution_count": 8,
   "metadata": {
    "id": "9bA4hmgUSsI4"
   },
   "outputs": [],
   "source": [
    "#Cargue de la base de datos de lesiones personales\n",
    "ls_df = pd.read_csv('data/lesiones_personales.csv', sep = \",\")\n",
    "ls_df = ls_df.drop_duplicates()"
   ]
  },
  {
   "cell_type": "code",
   "execution_count": 9,
   "metadata": {
    "id": "S7edAxm8S5Xx"
   },
   "outputs": [],
   "source": [
    "#Cargue de la base de datos de lesiones personales\n",
    "vi_df = pd.read_csv('data/Violencia_intrafamiliar.csv', sep = \",\")\n",
    "vi_df = vi_df.drop_duplicates()"
   ]
  },
  {
   "cell_type": "code",
   "execution_count": 10,
   "metadata": {
    "id": "6PoKkCW0S89H"
   },
   "outputs": [],
   "source": [
    "#Cargue de la base de datos de lesiones personales\n",
    "ds_df = pd.read_csv('data/Delitos_sexuales.csv', sep = \",\", dtype = {\"CODIGO DANE\" : \"object\"})\n",
    "ds_df = ds_df.drop_duplicates()"
   ]
  },
  {
   "cell_type": "code",
   "execution_count": 11,
   "metadata": {
    "id": "qBoQnUNOTArM"
   },
   "outputs": [],
   "source": [
    "#Cargue de la base de datos de lesiones personales\n",
    "hat_df = pd.read_csv('data/Homicidios.csv', sep = \",\", dtype = {\"CODIGO DANE\" : \"object\"})\n",
    "hat_df = hat_df.drop_duplicates()"
   ]
  },
  {
   "cell_type": "code",
   "execution_count": 12,
   "metadata": {
    "id": "8vGGxLalTGKk"
   },
   "outputs": [],
   "source": [
    "#Carga de Base de Datos poblacional para el punto 3\n",
    "poblacion_df = pd.read_csv('data/poblacion_colombia_2018.csv',sep=\";\",header= 0)"
   ]
  },
  {
   "cell_type": "code",
   "execution_count": 13,
   "metadata": {
    "id": "5WutCOlrTbss"
   },
   "outputs": [],
   "source": [
    "#Cargue de la base de datos de proyección de poblaciones\n",
    "proy_pob_all_df = pd.read_excel('data/proyecciones-poblacion-Municipal.xlsx')"
   ]
  },
  {
   "cell_type": "markdown",
   "metadata": {
    "id": "7_Ja5Pv_KlgI"
   },
   "source": [
    "## DB Lesiones personales"
   ]
  },
  {
   "cell_type": "markdown",
   "metadata": {
    "id": "byYPq1nkZ6SL"
   },
   "source": [
    "###General"
   ]
  },
  {
   "cell_type": "code",
   "execution_count": 14,
   "metadata": {
    "colab": {
     "base_uri": "https://localhost:8080/",
     "height": 354
    },
    "id": "G5d6Z1I7K4hH",
    "outputId": "9012cbef-6ddc-4d28-b0ff-6223fac5ba40"
   },
   "outputs": [
    {
     "data": {
      "text/html": [
       "<div>\n",
       "<style scoped>\n",
       "    .dataframe tbody tr th:only-of-type {\n",
       "        vertical-align: middle;\n",
       "    }\n",
       "\n",
       "    .dataframe tbody tr th {\n",
       "        vertical-align: top;\n",
       "    }\n",
       "\n",
       "    .dataframe thead th {\n",
       "        text-align: right;\n",
       "    }\n",
       "</style>\n",
       "<table border=\"1\" class=\"dataframe\">\n",
       "  <thead>\n",
       "    <tr style=\"text-align: right;\">\n",
       "      <th></th>\n",
       "      <th>DEPARTAMENTO</th>\n",
       "      <th>MUNICIPIO</th>\n",
       "      <th>CODIGO DANE</th>\n",
       "      <th>ARMAS MEDIOS</th>\n",
       "      <th>FECHA HECHO</th>\n",
       "      <th>GENERO</th>\n",
       "      <th>GRUPO ETARIO</th>\n",
       "      <th>DESCRIPCIÓN CONDUCTA</th>\n",
       "      <th>CANTIDAD</th>\n",
       "    </tr>\n",
       "  </thead>\n",
       "  <tbody>\n",
       "    <tr>\n",
       "      <th>0</th>\n",
       "      <td>ANTIOQUIA</td>\n",
       "      <td>GIRARDOTA</td>\n",
       "      <td>5308000</td>\n",
       "      <td>ARMA BLANCA / CORTOPUNZANTE</td>\n",
       "      <td>1/01/2010</td>\n",
       "      <td>FEMENINO</td>\n",
       "      <td>ADULTOS</td>\n",
       "      <td>LESIONES PERSONALES</td>\n",
       "      <td>2</td>\n",
       "    </tr>\n",
       "    <tr>\n",
       "      <th>1</th>\n",
       "      <td>ANTIOQUIA</td>\n",
       "      <td>GIRARDOTA</td>\n",
       "      <td>5308000</td>\n",
       "      <td>ARMA BLANCA / CORTOPUNZANTE</td>\n",
       "      <td>1/01/2010</td>\n",
       "      <td>MASCULINO</td>\n",
       "      <td>ADULTOS</td>\n",
       "      <td>LESIONES PERSONALES</td>\n",
       "      <td>1</td>\n",
       "    </tr>\n",
       "    <tr>\n",
       "      <th>2</th>\n",
       "      <td>ANTIOQUIA</td>\n",
       "      <td>MUTATÁ</td>\n",
       "      <td>5480000</td>\n",
       "      <td>ARMA BLANCA / CORTOPUNZANTE</td>\n",
       "      <td>1/01/2010</td>\n",
       "      <td>MASCULINO</td>\n",
       "      <td>ADULTOS</td>\n",
       "      <td>LESIONES PERSONALES</td>\n",
       "      <td>1</td>\n",
       "    </tr>\n",
       "    <tr>\n",
       "      <th>3</th>\n",
       "      <td>ANTIOQUIA</td>\n",
       "      <td>NECOCLÍ</td>\n",
       "      <td>5490000</td>\n",
       "      <td>ARMA BLANCA / CORTOPUNZANTE</td>\n",
       "      <td>1/01/2010</td>\n",
       "      <td>FEMENINO</td>\n",
       "      <td>ADULTOS</td>\n",
       "      <td>LESIONES PERSONALES</td>\n",
       "      <td>1</td>\n",
       "    </tr>\n",
       "    <tr>\n",
       "      <th>4</th>\n",
       "      <td>ATLÁNTICO</td>\n",
       "      <td>BARRANQUILLA (CT)</td>\n",
       "      <td>8001000</td>\n",
       "      <td>ARMA BLANCA / CORTOPUNZANTE</td>\n",
       "      <td>1/01/2010</td>\n",
       "      <td>FEMENINO</td>\n",
       "      <td>ADULTOS</td>\n",
       "      <td>LESIONES PERSONALES</td>\n",
       "      <td>2</td>\n",
       "    </tr>\n",
       "  </tbody>\n",
       "</table>\n",
       "</div>"
      ],
      "text/plain": [
       "  DEPARTAMENTO          MUNICIPIO CODIGO DANE                 ARMAS MEDIOS  \\\n",
       "0    ANTIOQUIA          GIRARDOTA     5308000  ARMA BLANCA / CORTOPUNZANTE   \n",
       "1    ANTIOQUIA          GIRARDOTA     5308000  ARMA BLANCA / CORTOPUNZANTE   \n",
       "2    ANTIOQUIA             MUTATÁ     5480000  ARMA BLANCA / CORTOPUNZANTE   \n",
       "3    ANTIOQUIA            NECOCLÍ     5490000  ARMA BLANCA / CORTOPUNZANTE   \n",
       "4    ATLÁNTICO  BARRANQUILLA (CT)     8001000  ARMA BLANCA / CORTOPUNZANTE   \n",
       "\n",
       "  FECHA HECHO     GENERO GRUPO ETARIO DESCRIPCIÓN CONDUCTA  CANTIDAD  \n",
       "0   1/01/2010   FEMENINO      ADULTOS  LESIONES PERSONALES         2  \n",
       "1   1/01/2010  MASCULINO      ADULTOS  LESIONES PERSONALES         1  \n",
       "2   1/01/2010  MASCULINO      ADULTOS  LESIONES PERSONALES         1  \n",
       "3   1/01/2010   FEMENINO      ADULTOS  LESIONES PERSONALES         1  \n",
       "4   1/01/2010   FEMENINO      ADULTOS  LESIONES PERSONALES         2  "
      ]
     },
     "execution_count": 14,
     "metadata": {},
     "output_type": "execute_result"
    }
   ],
   "source": [
    "#Primeras5 filas del df\n",
    "ls_df.head()"
   ]
  },
  {
   "cell_type": "code",
   "execution_count": 15,
   "metadata": {
    "colab": {
     "base_uri": "https://localhost:8080/"
    },
    "id": "2tnN8sHiRCTk",
    "outputId": "b52a4cd2-5908-4663-b85a-8a4a75a2d862"
   },
   "outputs": [
    {
     "data": {
      "text/plain": [
       "(996310, 9)"
      ]
     },
     "execution_count": 15,
     "metadata": {},
     "output_type": "execute_result"
    }
   ],
   "source": [
    "#Dimension del df\n",
    "ls_df.shape"
   ]
  },
  {
   "cell_type": "code",
   "execution_count": 16,
   "metadata": {
    "colab": {
     "base_uri": "https://localhost:8080/"
    },
    "id": "lTaYJnauKQP0",
    "outputId": "06fb6f29-687b-42a0-ffcc-0070f18ae716"
   },
   "outputs": [
    {
     "name": "stdout",
     "output_type": "stream",
     "text": [
      "<class 'pandas.core.frame.DataFrame'>\n",
      "Int64Index: 996310 entries, 0 to 1032880\n",
      "Data columns (total 9 columns):\n",
      " #   Column                Non-Null Count   Dtype \n",
      "---  ------                --------------   ----- \n",
      " 0   DEPARTAMENTO          996310 non-null  object\n",
      " 1   MUNICIPIO             996310 non-null  object\n",
      " 2   CODIGO DANE           996310 non-null  object\n",
      " 3   ARMAS MEDIOS          996310 non-null  object\n",
      " 4   FECHA HECHO           996310 non-null  object\n",
      " 5   GENERO                996310 non-null  object\n",
      " 6   GRUPO ETARIO          995524 non-null  object\n",
      " 7   DESCRIPCIÓN CONDUCTA  996310 non-null  object\n",
      " 8   CANTIDAD              996310 non-null  int64 \n",
      "dtypes: int64(1), object(8)\n",
      "memory usage: 76.0+ MB\n"
     ]
    }
   ],
   "source": [
    "#Información General del df\n",
    "ls_df.info()"
   ]
  },
  {
   "cell_type": "code",
   "execution_count": 17,
   "metadata": {
    "colab": {
     "base_uri": "https://localhost:8080/"
    },
    "id": "mUQ1aubYUpLA",
    "outputId": "bbe66681-d32a-48fc-af7e-a6623eb9de44"
   },
   "outputs": [
    {
     "data": {
      "text/plain": [
       "DEPARTAMENTO            False\n",
       "MUNICIPIO               False\n",
       "CODIGO DANE             False\n",
       "ARMAS MEDIOS            False\n",
       "FECHA HECHO             False\n",
       "GENERO                  False\n",
       "GRUPO ETARIO             True\n",
       "DESCRIPCIÓN CONDUCTA    False\n",
       "CANTIDAD                False\n",
       "dtype: bool"
      ]
     },
     "execution_count": 17,
     "metadata": {},
     "output_type": "execute_result"
    }
   ],
   "source": [
    "ls_df.isnull().any()"
   ]
  },
  {
   "cell_type": "markdown",
   "metadata": {
    "id": "N6Z80BRRcHM3"
   },
   "source": [
    "###Analyzing Data Quality"
   ]
  },
  {
   "cell_type": "code",
   "execution_count": 18,
   "metadata": {
    "colab": {
     "base_uri": "https://localhost:8080/"
    },
    "id": "_c1gHp0nRa2g",
    "outputId": "69f22db4-0f39-4030-dcb9-60336b208e5e"
   },
   "outputs": [
    {
     "data": {
      "text/plain": [
       "array(['ANTIOQUIA', 'ATLÁNTICO', 'BOLÍVAR', 'BOYACÁ', 'CALDAS', 'CAQUETÁ',\n",
       "       'CAUCA', 'CESAR', 'CHOCÓ', 'CÓRDOBA', 'CUNDINAMARCA', 'GUAJIRA',\n",
       "       'GUAVIARE', 'HUILA', 'MAGDALENA', 'META', 'NARIÑO', 'PUTUMAYO',\n",
       "       'QUINDÍO', 'RISARALDA', 'SAN ANDRÉS', 'SANTANDER', 'SUCRE',\n",
       "       'TOLIMA', 'VALLE', 'AMAZONAS', 'ARAUCA', 'CASANARE',\n",
       "       'NORTE DE SANTANDER', 'VAUPÉS', 'GUAINÍA', 'VICHADA'], dtype=object)"
      ]
     },
     "execution_count": 18,
     "metadata": {},
     "output_type": "execute_result"
    }
   ],
   "source": [
    "# Analyzing unique values for column DEPARTAMENTO\n",
    "ls_df['DEPARTAMENTO'].unique()"
   ]
  },
  {
   "cell_type": "code",
   "execution_count": 19,
   "metadata": {
    "id": "S5sJ-nY538Z3"
   },
   "outputs": [
    {
     "data": {
      "text/plain": [
       "['ANTIOQUIA',\n",
       " 'ATLÁNTICO',\n",
       " 'BOLÍVAR',\n",
       " 'BOYACÁ',\n",
       " 'CALDAS',\n",
       " 'CAQUETÁ',\n",
       " 'CASANARE',\n",
       " 'CAUCA',\n",
       " 'CESAR',\n",
       " 'CHOCÓ',\n",
       " 'CÓRDOBA',\n",
       " 'META',\n",
       " 'CUNDINAMARCA',\n",
       " 'HUILA',\n",
       " 'MAGDALENA',\n",
       " 'NARIÑO',\n",
       " 'PUTUMAYO',\n",
       " 'RISARALDA',\n",
       " 'SANTANDER',\n",
       " 'SUCRE',\n",
       " 'TOLIMA',\n",
       " 'VALLE',\n",
       " 'NORTE DE SANTANDER',\n",
       " 'GUAJIRA',\n",
       " 'QUINDÍO',\n",
       " 'SAN ANDRÉS Y PROVIDENCIA',\n",
       " 'ARAUCA',\n",
       " 'GUAINÍA',\n",
       " 'VICHADA',\n",
       " 'VAUPÉS',\n",
       " 'GUAVIARE',\n",
       " 'AMAZONAS']"
      ]
     },
     "execution_count": 19,
     "metadata": {},
     "output_type": "execute_result"
    }
   ],
   "source": [
    "# Creating a dictionary representing the valid departments for Colombia\n",
    "departments_list = ['ANTIOQUIA', 'ATLÁNTICO', 'BOLÍVAR', 'BOYACÁ', 'CALDAS', 'CAQUETÁ',\n",
    "       'CASANARE', 'CAUCA', 'CESAR', 'CHOCÓ', 'CÓRDOBA', 'META',\n",
    "       'CUNDINAMARCA', 'HUILA', 'MAGDALENA', 'NARIÑO', 'PUTUMAYO',\n",
    "       'RISARALDA', 'SANTANDER', 'SUCRE', 'TOLIMA', 'VALLE',\n",
    "       'NORTE DE SANTANDER', 'GUAJIRA', 'QUINDÍO', 'SAN ANDRÉS Y PROVIDENCIA', 'ARAUCA',\n",
    "       'GUAINÍA', 'VICHADA', 'VAUPÉS', 'GUAVIARE', 'AMAZONAS']\n",
    "departments_list"
   ]
  },
  {
   "cell_type": "code",
   "execution_count": 20,
   "metadata": {
    "colab": {
     "base_uri": "https://localhost:8080/"
    },
    "id": "qvlzsIYA4BUg",
    "outputId": "7d92c1dd-822a-428d-a3e8-652565232a87"
   },
   "outputs": [
    {
     "data": {
      "text/plain": [
       "array(['SAN ANDRÉS'], dtype=object)"
      ]
     },
     "execution_count": 20,
     "metadata": {},
     "output_type": "execute_result"
    }
   ],
   "source": [
    "#Checkeo de palabras que no se encuentren correctamente escritas\n",
    "ls_df.loc[~ls_df[\"DEPARTAMENTO\"].isin(departments_list), \"DEPARTAMENTO\"].unique()"
   ]
  },
  {
   "cell_type": "code",
   "execution_count": 21,
   "metadata": {
    "id": "o7ZyoHQ67Mg3"
   },
   "outputs": [],
   "source": [
    "#Reemplazar departamentos mal escritos. (Checkear primero si hay alguno adicioanl en los otros df y añadirlo a los diccionarios arriba.)\n",
    "ls_df.replace({\"DEPARTAMENTO\":estandarizar_dep}, inplace = True)"
   ]
  },
  {
   "cell_type": "code",
   "execution_count": 22,
   "metadata": {
    "colab": {
     "base_uri": "https://localhost:8080/"
    },
    "id": "UNVKFgCD0OxZ",
    "outputId": "52032754-cd13-4a8a-bf67-821441db7c6a"
   },
   "outputs": [
    {
     "data": {
      "text/plain": [
       "array(['GIRARDOTA', 'MUTATÁ', 'NECOCLÍ', ..., 'ALTO BAUDÓ', 'NO REPORTA',\n",
       "       'MURINDÓ'], dtype=object)"
      ]
     },
     "execution_count": 22,
     "metadata": {},
     "output_type": "execute_result"
    }
   ],
   "source": [
    "# Analyzing unique values for column MUNICIPIO\n",
    "ls_df.replace({\"MUNICIPIO\":estandarizar_dic}, inplace = True)\n",
    "ls_df['MUNICIPIO'].unique()"
   ]
  },
  {
   "cell_type": "code",
   "execution_count": 23,
   "metadata": {
    "colab": {
     "base_uri": "https://localhost:8080/"
    },
    "id": "izqmQqUERfyr",
    "outputId": "4c004dec-c911-4262-bda9-992fff0d9fb4"
   },
   "outputs": [
    {
     "data": {
      "text/plain": [
       "array([5308000, 5480000, 5490000, ..., '27425000', '27430000', '27580000'],\n",
       "      dtype=object)"
      ]
     },
     "execution_count": 23,
     "metadata": {},
     "output_type": "execute_result"
    }
   ],
   "source": [
    "# Analyzing unique values for column CODIGO DANE\n",
    "ls_df['CODIGO DANE'].unique()"
   ]
  },
  {
   "cell_type": "code",
   "execution_count": 24,
   "metadata": {
    "id": "EJ3uYRiNRgOz"
   },
   "outputs": [
    {
     "data": {
      "text/plain": [
       "array(['ARMA BLANCA / CORTOPUNZANTE', 'ARMA DE FUEGO', 'CONTUNDENTES',\n",
       "       'MOTO', 'NO REPORTA', 'POLVORA(FUEGOS PIROTECNICOS)', 'PUNZANTES',\n",
       "       'VEHICULO', 'COMBUSTIBLE', 'JERINGA', 'PERRO', 'BICICLETA',\n",
       "       'ARTEFACTO EXPLOSIVO/CARGA DINAMITA', 'MINA ANTIPERSONA',\n",
       "       'SUSTANCIAS TOXICAS', 'SIN EMPLEO DE ARMAS', 'AGUA CALIENTE',\n",
       "       'ESCOPOLAMINA', 'OLLA BOMBA', 'GRANADA DE MANO', 'PAQUETE BOMBA',\n",
       "       'MEDICAMENTOS', 'VENENO', 'QUIMICOS', 'CARRO BOMBA', 'GASES',\n",
       "       'CINTAS/CINTURON', 'ARTEFACTO INCENDIARIO', 'PAPA EXPLOSIVA',\n",
       "       'ALIMENTOS VENCIDOS', 'LICOR ADULTERADO', 'ACIDO', 'ALUCINOGENOS',\n",
       "       'ALMOHADA', 'BOLSA PLASTICA', 'CORTANTES', 'CUCHILLA', 'DIRECTA',\n",
       "       'ARMAS BLANCAS', 'PRENDAS DE VESTIR', 'CILINDRO BOMBA',\n",
       "       'CINTURON BOMBA', 'ARMA TRAUMATICA'], dtype=object)"
      ]
     },
     "execution_count": 24,
     "metadata": {},
     "output_type": "execute_result"
    }
   ],
   "source": [
    "# Analyzing unique values for column ARMAS MEDIOS\n",
    "ls_df.replace({\"ARMAS MEDIOS\":estandarizar_dic}, inplace = True)\n",
    "ls_df['ARMAS MEDIOS'].unique()\n",
    "\n",
    "#Se podria llegar a homologar los valores para queden en categorias mas grandes"
   ]
  },
  {
   "cell_type": "code",
   "execution_count": 25,
   "metadata": {
    "id": "mlY8oAa-TJLD"
   },
   "outputs": [],
   "source": [
    "# Creating a lambda expression for datetime parsing\n",
    "dateparse = lambda x: datetime.strptime(x, \"%d/%m/%Y\")"
   ]
  },
  {
   "cell_type": "code",
   "execution_count": 26,
   "metadata": {
    "id": "eeKN18coRgf0"
   },
   "outputs": [],
   "source": [
    "# Analyzing unique values for column FECHA HECHO\n",
    "ls_df['FECHA HECHO']=ls_df['FECHA HECHO'].apply(dateparse)"
   ]
  },
  {
   "cell_type": "code",
   "execution_count": 27,
   "metadata": {
    "colab": {
     "base_uri": "https://localhost:8080/"
    },
    "id": "y0W_Z4l1Rg7G",
    "outputId": "c430e65f-ccfb-4869-effc-b6614b69b969"
   },
   "outputs": [
    {
     "data": {
      "text/plain": [
       "array(['FEMENINO', 'MASCULINO', 'NO REPORTA'], dtype=object)"
      ]
     },
     "execution_count": 27,
     "metadata": {},
     "output_type": "execute_result"
    }
   ],
   "source": [
    "# Analyzing unique values for column GENERO\n",
    "ls_df.replace({\"GENERO\":estandarizar_dic}, inplace = True)\n",
    "\n",
    "ls_df['GENERO'].unique()"
   ]
  },
  {
   "cell_type": "code",
   "execution_count": 28,
   "metadata": {
    "colab": {
     "base_uri": "https://localhost:8080/"
    },
    "id": "UM0o9zfURhLJ",
    "outputId": "28109ef6-1470-4045-e689-5bba202daa18"
   },
   "outputs": [
    {
     "data": {
      "text/plain": [
       "array(['ADULTOS', 'ADOLESCENTES', 'MENORES', 'NO REPORTA'], dtype=object)"
      ]
     },
     "execution_count": 28,
     "metadata": {},
     "output_type": "execute_result"
    }
   ],
   "source": [
    "# Analyzing unique values for column GRUPO ETARIO\n",
    "ls_df.replace({\"GRUPO ETARIO\":estandarizar_dic}, inplace = True)\n",
    "\n",
    "#Reemplazar valores nulos con NO REPORTA\n",
    "ls_df['GRUPO ETARIO'].fillna('NO REPORTA',inplace = True)\n",
    "\n",
    "ls_df['GRUPO ETARIO'].unique()\n"
   ]
  },
  {
   "cell_type": "code",
   "execution_count": 29,
   "metadata": {
    "colab": {
     "base_uri": "https://localhost:8080/"
    },
    "id": "VmSuhB1WRizs",
    "outputId": "e1359616-4207-4607-d17b-2e8564899311"
   },
   "outputs": [
    {
     "data": {
      "text/plain": [
       "array(['LESIONES PERSONALES',\n",
       "       'LESIONES CULPOSAS ( EN ACCIDENTE DE TRANSITO )'], dtype=object)"
      ]
     },
     "execution_count": 29,
     "metadata": {},
     "output_type": "execute_result"
    }
   ],
   "source": [
    "# Analyzing unique values for column DESCRIPCION CONDUCTA\n",
    "ls_df[\"DESCRIPCIÓN CONDUCTA\"].unique()"
   ]
  },
  {
   "cell_type": "code",
   "execution_count": 30,
   "metadata": {
    "colab": {
     "base_uri": "https://localhost:8080/"
    },
    "id": "t051MNdWRjGV",
    "outputId": "a2d87577-ec41-41c4-de91-6b7d0aabc68b"
   },
   "outputs": [
    {
     "data": {
      "text/plain": [
       "array([  2,   1,   5,   3,   4,   7,  29,  12,   6,   9,  22,  25,   8,\n",
       "        30,  15,  13,  10,  18,  11,  16,  24,  28,  17,  14,  27,  20,\n",
       "        19,  23,  26,  35,  21,  42,  65,  76,  38,  52,  31,  32,  39,\n",
       "        36,  49,  41,  51,  66,  34,  71,  62,  46,  37,  53,  61,  33,\n",
       "        40,  54,  63,  44,  70,  45,  86,  47,  43,  48,  67,  55,  69,\n",
       "        80,  50,  60,  73,  64,  79,  56,  99,  78,  88,  59,  77,  57,\n",
       "        72,  58,  82,  84, 114,  97,  75,  92], dtype=int64)"
      ]
     },
     "execution_count": 30,
     "metadata": {},
     "output_type": "execute_result"
    }
   ],
   "source": [
    "# Analyzing unique values for column CANTIDAD\n",
    "ls_df['CANTIDAD'].unique()"
   ]
  },
  {
   "cell_type": "code",
   "execution_count": 31,
   "metadata": {
    "id": "ORzlLQtdjHR2"
   },
   "outputs": [],
   "source": [
    "#Crear columnas año y mes\n",
    "ls_df['year'] = pd.DatetimeIndex(ls_df['FECHA HECHO']).year \n",
    "ls_df['month'] = pd.DatetimeIndex(ls_df['FECHA HECHO']).month"
   ]
  },
  {
   "cell_type": "markdown",
   "metadata": {
    "id": "pLaYxVNvaKqP"
   },
   "source": [
    "## DB Violencia Intrafamiliar"
   ]
  },
  {
   "cell_type": "markdown",
   "metadata": {
    "id": "iqbhQJ59aKqQ"
   },
   "source": [
    "###General"
   ]
  },
  {
   "cell_type": "code",
   "execution_count": 32,
   "metadata": {
    "colab": {
     "base_uri": "https://localhost:8080/",
     "height": 250
    },
    "id": "kw2PckIJaKqS",
    "outputId": "a473da9b-3d18-4a32-ce2b-4176a7b6591c"
   },
   "outputs": [
    {
     "data": {
      "text/html": [
       "<div>\n",
       "<style scoped>\n",
       "    .dataframe tbody tr th:only-of-type {\n",
       "        vertical-align: middle;\n",
       "    }\n",
       "\n",
       "    .dataframe tbody tr th {\n",
       "        vertical-align: top;\n",
       "    }\n",
       "\n",
       "    .dataframe thead th {\n",
       "        text-align: right;\n",
       "    }\n",
       "</style>\n",
       "<table border=\"1\" class=\"dataframe\">\n",
       "  <thead>\n",
       "    <tr style=\"text-align: right;\">\n",
       "      <th></th>\n",
       "      <th>DEPARTAMENTO</th>\n",
       "      <th>MUNICIPIO</th>\n",
       "      <th>CODIGO DANE</th>\n",
       "      <th>ARMAS MEDIOS</th>\n",
       "      <th>FECHA HECHO</th>\n",
       "      <th>GENERO</th>\n",
       "      <th>GRUPO ETARIO</th>\n",
       "      <th>CANTIDAD</th>\n",
       "    </tr>\n",
       "  </thead>\n",
       "  <tbody>\n",
       "    <tr>\n",
       "      <th>0</th>\n",
       "      <td>ATLÁNTICO</td>\n",
       "      <td>BARRANQUILLA (CT)</td>\n",
       "      <td>8001000</td>\n",
       "      <td>ARMA BLANCA / CORTOPUNZANTE</td>\n",
       "      <td>1/01/2010</td>\n",
       "      <td>MASCULINO</td>\n",
       "      <td>ADULTOS</td>\n",
       "      <td>1</td>\n",
       "    </tr>\n",
       "    <tr>\n",
       "      <th>1</th>\n",
       "      <td>BOYACÁ</td>\n",
       "      <td>DUITAMA</td>\n",
       "      <td>15238000</td>\n",
       "      <td>ARMA BLANCA / CORTOPUNZANTE</td>\n",
       "      <td>1/01/2010</td>\n",
       "      <td>FEMENINO</td>\n",
       "      <td>ADULTOS</td>\n",
       "      <td>1</td>\n",
       "    </tr>\n",
       "    <tr>\n",
       "      <th>2</th>\n",
       "      <td>CAQUETÁ</td>\n",
       "      <td>PUERTO RICO</td>\n",
       "      <td>18592000</td>\n",
       "      <td>ARMA BLANCA / CORTOPUNZANTE</td>\n",
       "      <td>1/01/2010</td>\n",
       "      <td>MASCULINO</td>\n",
       "      <td>ADULTOS</td>\n",
       "      <td>1</td>\n",
       "    </tr>\n",
       "    <tr>\n",
       "      <th>3</th>\n",
       "      <td>CASANARE</td>\n",
       "      <td>MANÍ</td>\n",
       "      <td>85139000</td>\n",
       "      <td>ARMA BLANCA / CORTOPUNZANTE</td>\n",
       "      <td>1/01/2010</td>\n",
       "      <td>FEMENINO</td>\n",
       "      <td>ADULTOS</td>\n",
       "      <td>1</td>\n",
       "    </tr>\n",
       "    <tr>\n",
       "      <th>4</th>\n",
       "      <td>CUNDINAMARCA</td>\n",
       "      <td>BOGOTÁ D.C. (CT)</td>\n",
       "      <td>11001000</td>\n",
       "      <td>ARMA BLANCA / CORTOPUNZANTE</td>\n",
       "      <td>1/01/2010</td>\n",
       "      <td>FEMENINO</td>\n",
       "      <td>ADULTOS</td>\n",
       "      <td>1</td>\n",
       "    </tr>\n",
       "  </tbody>\n",
       "</table>\n",
       "</div>"
      ],
      "text/plain": [
       "   DEPARTAMENTO          MUNICIPIO CODIGO DANE                 ARMAS MEDIOS  \\\n",
       "0     ATLÁNTICO  BARRANQUILLA (CT)     8001000  ARMA BLANCA / CORTOPUNZANTE   \n",
       "1        BOYACÁ            DUITAMA    15238000  ARMA BLANCA / CORTOPUNZANTE   \n",
       "2       CAQUETÁ        PUERTO RICO    18592000  ARMA BLANCA / CORTOPUNZANTE   \n",
       "3      CASANARE               MANÍ    85139000  ARMA BLANCA / CORTOPUNZANTE   \n",
       "4  CUNDINAMARCA   BOGOTÁ D.C. (CT)    11001000  ARMA BLANCA / CORTOPUNZANTE   \n",
       "\n",
       "  FECHA HECHO     GENERO GRUPO ETARIO  CANTIDAD  \n",
       "0   1/01/2010  MASCULINO      ADULTOS         1  \n",
       "1   1/01/2010   FEMENINO      ADULTOS         1  \n",
       "2   1/01/2010  MASCULINO      ADULTOS         1  \n",
       "3   1/01/2010   FEMENINO      ADULTOS         1  \n",
       "4   1/01/2010   FEMENINO      ADULTOS         1  "
      ]
     },
     "execution_count": 32,
     "metadata": {},
     "output_type": "execute_result"
    }
   ],
   "source": [
    "#Primeras5 filas del df\n",
    "vi_df.head()"
   ]
  },
  {
   "cell_type": "code",
   "execution_count": 33,
   "metadata": {
    "colab": {
     "base_uri": "https://localhost:8080/"
    },
    "id": "EbBjsLxOaKqT",
    "outputId": "eb90fca3-458c-4d11-9079-43bdd98d1a1c"
   },
   "outputs": [
    {
     "data": {
      "text/plain": [
       "(482004, 8)"
      ]
     },
     "execution_count": 33,
     "metadata": {},
     "output_type": "execute_result"
    }
   ],
   "source": [
    "#Dimension del df\n",
    "vi_df.shape"
   ]
  },
  {
   "cell_type": "code",
   "execution_count": 34,
   "metadata": {
    "colab": {
     "base_uri": "https://localhost:8080/"
    },
    "id": "CQmxCsUYaKqU",
    "outputId": "e2d1b544-7ddc-446f-a425-6caff1799789"
   },
   "outputs": [
    {
     "name": "stdout",
     "output_type": "stream",
     "text": [
      "<class 'pandas.core.frame.DataFrame'>\n",
      "Int64Index: 482004 entries, 0 to 528879\n",
      "Data columns (total 8 columns):\n",
      " #   Column        Non-Null Count   Dtype \n",
      "---  ------        --------------   ----- \n",
      " 0   DEPARTAMENTO  482004 non-null  object\n",
      " 1   MUNICIPIO     482004 non-null  object\n",
      " 2   CODIGO DANE   482004 non-null  object\n",
      " 3   ARMAS MEDIOS  482004 non-null  object\n",
      " 4   FECHA HECHO   482004 non-null  object\n",
      " 5   GENERO        482004 non-null  object\n",
      " 6   GRUPO ETARIO  480669 non-null  object\n",
      " 7   CANTIDAD      482004 non-null  int64 \n",
      "dtypes: int64(1), object(7)\n",
      "memory usage: 33.1+ MB\n"
     ]
    }
   ],
   "source": [
    "#Información General del df\n",
    "vi_df.info()"
   ]
  },
  {
   "cell_type": "code",
   "execution_count": 35,
   "metadata": {
    "colab": {
     "base_uri": "https://localhost:8080/"
    },
    "id": "Z82lejVzaKqV",
    "outputId": "274680fa-f85c-4550-8df8-76fd0f8faf0c"
   },
   "outputs": [
    {
     "data": {
      "text/plain": [
       "DEPARTAMENTO    False\n",
       "MUNICIPIO       False\n",
       "CODIGO DANE     False\n",
       "ARMAS MEDIOS    False\n",
       "FECHA HECHO     False\n",
       "GENERO          False\n",
       "GRUPO ETARIO     True\n",
       "CANTIDAD        False\n",
       "dtype: bool"
      ]
     },
     "execution_count": 35,
     "metadata": {},
     "output_type": "execute_result"
    }
   ],
   "source": [
    "#Checkeo que columnas tienen nulos\n",
    "vi_df.isnull().any()"
   ]
  },
  {
   "cell_type": "markdown",
   "metadata": {
    "id": "OP-63T1eaKqW"
   },
   "source": [
    "###Analyzing Data Quality"
   ]
  },
  {
   "cell_type": "code",
   "execution_count": 36,
   "metadata": {
    "colab": {
     "base_uri": "https://localhost:8080/"
    },
    "id": "tlImWP5_aKqW",
    "outputId": "b472d90e-d55b-4b79-e81c-3556e1378836"
   },
   "outputs": [
    {
     "data": {
      "text/plain": [
       "array(['ATLÁNTICO', 'BOYACÁ', 'CAQUETÁ', 'CASANARE', 'CUNDINAMARCA',\n",
       "       'SUCRE', 'VALLE', 'HUILA', 'ANTIOQUIA', 'ARAUCA', 'BOLÍVAR',\n",
       "       'CALDAS', 'CAUCA', 'CESAR', 'CHOCÓ', 'CÓRDOBA', 'MAGDALENA',\n",
       "       'META', 'NARIÑO', 'NORTE DE SANTANDER', 'PUTUMAYO', 'RISARALDA',\n",
       "       'SANTANDER', 'TOLIMA', 'VAUPÉS', 'GUAVIARE', 'GUAJIRA', 'QUINDÍO',\n",
       "       'AMAZONAS', 'VICHADA', 'GUAINÍA', 'SAN ANDRÉS', 'NO REPORTA'],\n",
       "      dtype=object)"
      ]
     },
     "execution_count": 36,
     "metadata": {},
     "output_type": "execute_result"
    }
   ],
   "source": [
    "# Analyzing unique values for column DEPARTAMENTO\n",
    "vi_df['DEPARTAMENTO'].unique()"
   ]
  },
  {
   "cell_type": "code",
   "execution_count": 37,
   "metadata": {
    "id": "JfSYiM5YaKqX"
   },
   "outputs": [
    {
     "data": {
      "text/plain": [
       "['ANTIOQUIA',\n",
       " 'ATLÁNTICO',\n",
       " 'BOLÍVAR',\n",
       " 'BOYACÁ',\n",
       " 'CALDAS',\n",
       " 'CAQUETÁ',\n",
       " 'CASANARE',\n",
       " 'CAUCA',\n",
       " 'CESAR',\n",
       " 'CHOCÓ',\n",
       " 'CÓRDOBA',\n",
       " 'META',\n",
       " 'CUNDINAMARCA',\n",
       " 'HUILA',\n",
       " 'MAGDALENA',\n",
       " 'NARIÑO',\n",
       " 'PUTUMAYO',\n",
       " 'RISARALDA',\n",
       " 'SANTANDER',\n",
       " 'SUCRE',\n",
       " 'TOLIMA',\n",
       " 'VALLE',\n",
       " 'NORTE DE SANTANDER',\n",
       " 'GUAJIRA',\n",
       " 'QUINDÍO',\n",
       " 'SAN ANDRÉS Y PROVIDENCIA',\n",
       " 'ARAUCA',\n",
       " 'GUAINÍA',\n",
       " 'VICHADA',\n",
       " 'VAUPÉS',\n",
       " 'GUAVIARE',\n",
       " 'AMAZONAS']"
      ]
     },
     "execution_count": 37,
     "metadata": {},
     "output_type": "execute_result"
    }
   ],
   "source": [
    "# Creating a dictionary representing the valid departments for Colombia\n",
    "departments_list = ['ANTIOQUIA', 'ATLÁNTICO', 'BOLÍVAR', 'BOYACÁ', 'CALDAS', 'CAQUETÁ',\n",
    "       'CASANARE', 'CAUCA', 'CESAR', 'CHOCÓ', 'CÓRDOBA', 'META',\n",
    "       'CUNDINAMARCA', 'HUILA', 'MAGDALENA', 'NARIÑO', 'PUTUMAYO',\n",
    "       'RISARALDA', 'SANTANDER', 'SUCRE', 'TOLIMA', 'VALLE',\n",
    "       'NORTE DE SANTANDER', 'GUAJIRA', 'QUINDÍO', 'SAN ANDRÉS Y PROVIDENCIA', 'ARAUCA',\n",
    "       'GUAINÍA', 'VICHADA', 'VAUPÉS', 'GUAVIARE', 'AMAZONAS']\n",
    "departments_list"
   ]
  },
  {
   "cell_type": "code",
   "execution_count": 38,
   "metadata": {
    "colab": {
     "base_uri": "https://localhost:8080/"
    },
    "id": "q3DpOOIoaKqY",
    "outputId": "12854517-8921-473c-dba9-5f98ad31b9d0"
   },
   "outputs": [
    {
     "data": {
      "text/plain": [
       "array(['SAN ANDRÉS', 'NO REPORTA'], dtype=object)"
      ]
     },
     "execution_count": 38,
     "metadata": {},
     "output_type": "execute_result"
    }
   ],
   "source": [
    "#Checkeo de palabras que no se encuentren correctamente escritas\n",
    "vi_df.loc[~vi_df[\"DEPARTAMENTO\"].isin(departments_list), \"DEPARTAMENTO\"].unique()"
   ]
  },
  {
   "cell_type": "code",
   "execution_count": 39,
   "metadata": {
    "id": "iA6R48wAaKqZ"
   },
   "outputs": [],
   "source": [
    "#Reemplazar departamentos mal escritos. (Checkear primero si hay alguno adicioanl en los otros df y añadirlo a los diccionarios arriba.)\n",
    "vi_df.replace({\"DEPARTAMENTO\":estandarizar_dep}, inplace = True)"
   ]
  },
  {
   "cell_type": "code",
   "execution_count": 40,
   "metadata": {
    "colab": {
     "base_uri": "https://localhost:8080/"
    },
    "id": "h7guaREHaKqZ",
    "outputId": "6ee5051a-2ac7-4b59-9293-3d312a3bc521"
   },
   "outputs": [
    {
     "data": {
      "text/plain": [
       "array(['BARRANQUILLA (CT)', 'DUITAMA', 'PUERTO RICO', ..., 'CEPITÁ',\n",
       "       'RÍO QUITO', 'NOROSÍ'], dtype=object)"
      ]
     },
     "execution_count": 40,
     "metadata": {},
     "output_type": "execute_result"
    }
   ],
   "source": [
    "# Analyzing unique values for column MUNICIPIO\n",
    "vi_df.replace({\"MUNICIPIO\":estandarizar_dic}, inplace = True)\n",
    "vi_df['MUNICIPIO'].unique()"
   ]
  },
  {
   "cell_type": "code",
   "execution_count": 41,
   "metadata": {
    "colab": {
     "base_uri": "https://localhost:8080/"
    },
    "id": "Vl05EeGRaKqb",
    "outputId": "c4fff38e-3a7c-421c-dde4-acc08e7d7121"
   },
   "outputs": [
    {
     "data": {
      "text/plain": [
       "array([5308000, 5480000, 5490000, ..., '27425000', '27430000', '27580000'],\n",
       "      dtype=object)"
      ]
     },
     "execution_count": 41,
     "metadata": {},
     "output_type": "execute_result"
    }
   ],
   "source": [
    "# Analyzing unique values for column CODIGO DANE\n",
    "ls_df['CODIGO DANE'].unique()"
   ]
  },
  {
   "cell_type": "code",
   "execution_count": 42,
   "metadata": {
    "colab": {
     "base_uri": "https://localhost:8080/"
    },
    "id": "8_VxsP2saKqb",
    "outputId": "4b668e69-f401-4684-c225-f20a093b5630"
   },
   "outputs": [
    {
     "data": {
      "text/plain": [
       "array(['ARMA BLANCA / CORTOPUNZANTE', 'ARMA DE FUEGO', 'CONTUNDENTES',\n",
       "       'CORTANTES', 'CORTOPUNZANTES', 'NO REPORTA', 'PUNZANTES',\n",
       "       'SIN EMPLEO DE ARMAS', 'ESCOPOLAMINA'], dtype=object)"
      ]
     },
     "execution_count": 42,
     "metadata": {},
     "output_type": "execute_result"
    }
   ],
   "source": [
    "# Analyzing unique values for column ARMAS MEDIOS\n",
    "vi_df.replace({\"ARMAS MEDIOS\":estandarizar_dic}, inplace = True)\n",
    "vi_df['ARMAS MEDIOS'].unique()\n",
    "\n",
    "#Se podria llegar a homologar los valores para queden en categorias mas grandes"
   ]
  },
  {
   "cell_type": "code",
   "execution_count": 43,
   "metadata": {
    "id": "bdVKtK31aKqc"
   },
   "outputs": [],
   "source": [
    "# Creating a lambda expression for datetime parsing\n",
    "dateparse = lambda x: datetime.strptime(x, \"%d/%m/%Y\")"
   ]
  },
  {
   "cell_type": "code",
   "execution_count": 44,
   "metadata": {
    "id": "L9GMmmvzaKqe"
   },
   "outputs": [],
   "source": [
    "# Analyzing unique values for column FECHA HECHO\n",
    "vi_df['FECHA HECHO']=vi_df['FECHA HECHO'].apply(dateparse)"
   ]
  },
  {
   "cell_type": "code",
   "execution_count": 45,
   "metadata": {
    "colab": {
     "base_uri": "https://localhost:8080/"
    },
    "id": "OWpb8h7WaKqf",
    "outputId": "f6bc19cf-2d79-469d-b9ea-798cf5829902"
   },
   "outputs": [
    {
     "data": {
      "text/plain": [
       "array(['MASCULINO', 'FEMENINO', 'NO REPORTA'], dtype=object)"
      ]
     },
     "execution_count": 45,
     "metadata": {},
     "output_type": "execute_result"
    }
   ],
   "source": [
    "# Analyzing unique values for column GENERO\n",
    "vi_df.replace({\"GENERO\":estandarizar_dic}, inplace = True)\n",
    "\n",
    "vi_df['GENERO'].unique()"
   ]
  },
  {
   "cell_type": "code",
   "execution_count": 46,
   "metadata": {
    "colab": {
     "base_uri": "https://localhost:8080/"
    },
    "id": "ptqK-9gZaKqg",
    "outputId": "b974f20f-4b4d-4f05-8f50-ccd67cb65a27"
   },
   "outputs": [
    {
     "data": {
      "text/plain": [
       "array(['ADULTOS', 'ADOLESCENTES', 'MENORES', 'NO REPORTA'], dtype=object)"
      ]
     },
     "execution_count": 46,
     "metadata": {},
     "output_type": "execute_result"
    }
   ],
   "source": [
    "# Analyzing unique values for column GRUPO ETARIO\n",
    "vi_df.replace({\"GRUPO ETARIO\":estandarizar_dic}, inplace = True)\n",
    "\n",
    "#Reemplazar valores nulos con NO REPORTA\n",
    "vi_df['GRUPO ETARIO'].fillna('NO REPORTA',inplace = True)\n",
    "\n",
    "vi_df['GRUPO ETARIO'].unique()\n"
   ]
  },
  {
   "cell_type": "code",
   "execution_count": 47,
   "metadata": {
    "colab": {
     "base_uri": "https://localhost:8080/"
    },
    "id": "d8M8FWmzaKqj",
    "outputId": "abc7b66e-b1d0-410a-bf2f-44e84293c31d"
   },
   "outputs": [
    {
     "data": {
      "text/plain": [
       "array([  1,   2,   3,   4,  22,   6,   8,   5,  27,  10,   7,  11,  12,\n",
       "        16,   9,  15,  14,  13,  17,  20,  19,  21,  18,  23,  24,  25,\n",
       "        35,  26,  31,  29,  36,  28,  30,  32,  33,  39,  42,  34,  37,\n",
       "        38,  41,  46,  56,  59,  53,  50,  40,  58,  47,  45,  85,  72,\n",
       "        48,  49,  44,  54,  68,  65,  51,  71,  55,  43,  52,  61,  60,\n",
       "        76,  57,  77,  78,  67,  62,  91,  69,  64,  82,  86,  66,  63,\n",
       "        75,  74,  87,  79, 105,  83, 118,  90,  70,  73, 102, 100,  88,\n",
       "        89, 130,  98, 109, 101,  81,  80, 106, 107, 110,  93,  92,  84,\n",
       "       113,  94,  96], dtype=int64)"
      ]
     },
     "execution_count": 47,
     "metadata": {},
     "output_type": "execute_result"
    }
   ],
   "source": [
    "# Analyzing unique values for column CANTIDAD\n",
    "vi_df['CANTIDAD'].unique()"
   ]
  },
  {
   "cell_type": "code",
   "execution_count": 48,
   "metadata": {
    "id": "Lz3WeyUDjQJG"
   },
   "outputs": [],
   "source": [
    "#Crear columnas año y mes\n",
    "vi_df['year'] = pd.DatetimeIndex(vi_df['FECHA HECHO']).year \n",
    "vi_df['month'] = pd.DatetimeIndex(vi_df['FECHA HECHO']).month"
   ]
  },
  {
   "cell_type": "markdown",
   "metadata": {
    "id": "PJCZpJKOaOQw"
   },
   "source": [
    "## DB Delitos Sexuales"
   ]
  },
  {
   "cell_type": "markdown",
   "metadata": {
    "id": "jZ6kXTWPaOQx"
   },
   "source": [
    "###General"
   ]
  },
  {
   "cell_type": "code",
   "execution_count": 49,
   "metadata": {
    "colab": {
     "base_uri": "https://localhost:8080/",
     "height": 0
    },
    "id": "Yvd1rtxjaOQz",
    "outputId": "43327f00-6cb5-43c7-a88c-3099355c8a6e"
   },
   "outputs": [
    {
     "data": {
      "text/html": [
       "<div>\n",
       "<style scoped>\n",
       "    .dataframe tbody tr th:only-of-type {\n",
       "        vertical-align: middle;\n",
       "    }\n",
       "\n",
       "    .dataframe tbody tr th {\n",
       "        vertical-align: top;\n",
       "    }\n",
       "\n",
       "    .dataframe thead th {\n",
       "        text-align: right;\n",
       "    }\n",
       "</style>\n",
       "<table border=\"1\" class=\"dataframe\">\n",
       "  <thead>\n",
       "    <tr style=\"text-align: right;\">\n",
       "      <th></th>\n",
       "      <th>DEPARTAMENTO</th>\n",
       "      <th>MUNICIPIO</th>\n",
       "      <th>CODIGO DANE</th>\n",
       "      <th>ARMAS MEDIOS</th>\n",
       "      <th>FECHA HECHO</th>\n",
       "      <th>GENERO</th>\n",
       "      <th>GRUPO ETARIO</th>\n",
       "      <th>CANTIDAD</th>\n",
       "      <th>delito</th>\n",
       "    </tr>\n",
       "  </thead>\n",
       "  <tbody>\n",
       "    <tr>\n",
       "      <th>0</th>\n",
       "      <td>CAQUETÁ</td>\n",
       "      <td>SOLANO</td>\n",
       "      <td>18756000</td>\n",
       "      <td>ARMA BLANCA / CORTOPUNZANTE</td>\n",
       "      <td>1/01/2010</td>\n",
       "      <td>FEMENINO</td>\n",
       "      <td>MENORES</td>\n",
       "      <td>1</td>\n",
       "      <td>ARTÍCULO 209. ACTOS SEXUALES CON MENOR DE 14 AÑOS</td>\n",
       "    </tr>\n",
       "    <tr>\n",
       "      <th>1</th>\n",
       "      <td>BOLÍVAR</td>\n",
       "      <td>CARTAGENA (CT)</td>\n",
       "      <td>13001000</td>\n",
       "      <td>ARMA BLANCA / CORTOPUNZANTE</td>\n",
       "      <td>1/01/2010</td>\n",
       "      <td>FEMENINO</td>\n",
       "      <td>ADOLECENTES</td>\n",
       "      <td>1</td>\n",
       "      <td>ARTÍCULO 205. ACCESO CARNAL VIOLENTO</td>\n",
       "    </tr>\n",
       "    <tr>\n",
       "      <th>2</th>\n",
       "      <td>HUILA</td>\n",
       "      <td>LA PLATA</td>\n",
       "      <td>41396000</td>\n",
       "      <td>ARMA BLANCA / CORTOPUNZANTE</td>\n",
       "      <td>1/01/2010</td>\n",
       "      <td>FEMENINO</td>\n",
       "      <td>ADULTOS</td>\n",
       "      <td>1</td>\n",
       "      <td>ARTÍCULO 205. ACCESO CARNAL VIOLENTO</td>\n",
       "    </tr>\n",
       "    <tr>\n",
       "      <th>3</th>\n",
       "      <td>SANTANDER</td>\n",
       "      <td>PIEDECUESTA</td>\n",
       "      <td>68547000</td>\n",
       "      <td>CONTUNDENTES</td>\n",
       "      <td>1/01/2010</td>\n",
       "      <td>FEMENINO</td>\n",
       "      <td>ADULTOS</td>\n",
       "      <td>1</td>\n",
       "      <td>ARTÍCULO 205. ACCESO CARNAL VIOLENTO</td>\n",
       "    </tr>\n",
       "    <tr>\n",
       "      <th>4</th>\n",
       "      <td>META</td>\n",
       "      <td>VILLAVICENCIO (CT)</td>\n",
       "      <td>50001000</td>\n",
       "      <td>CONTUNDENTES</td>\n",
       "      <td>1/01/2010</td>\n",
       "      <td>FEMENINO</td>\n",
       "      <td>ADULTOS</td>\n",
       "      <td>1</td>\n",
       "      <td>ARTÍCULO 205. ACCESO CARNAL VIOLENTO</td>\n",
       "    </tr>\n",
       "  </tbody>\n",
       "</table>\n",
       "</div>"
      ],
      "text/plain": [
       "  DEPARTAMENTO           MUNICIPIO CODIGO DANE                 ARMAS MEDIOS  \\\n",
       "0      CAQUETÁ              SOLANO    18756000  ARMA BLANCA / CORTOPUNZANTE   \n",
       "1      BOLÍVAR      CARTAGENA (CT)    13001000  ARMA BLANCA / CORTOPUNZANTE   \n",
       "2        HUILA            LA PLATA    41396000  ARMA BLANCA / CORTOPUNZANTE   \n",
       "3    SANTANDER         PIEDECUESTA    68547000                 CONTUNDENTES   \n",
       "4         META  VILLAVICENCIO (CT)    50001000                 CONTUNDENTES   \n",
       "\n",
       "  FECHA HECHO    GENERO GRUPO ETARIO  CANTIDAD  \\\n",
       "0   1/01/2010  FEMENINO      MENORES         1   \n",
       "1   1/01/2010  FEMENINO  ADOLECENTES         1   \n",
       "2   1/01/2010  FEMENINO      ADULTOS         1   \n",
       "3   1/01/2010  FEMENINO      ADULTOS         1   \n",
       "4   1/01/2010  FEMENINO      ADULTOS         1   \n",
       "\n",
       "                                              delito  \n",
       "0  ARTÍCULO 209. ACTOS SEXUALES CON MENOR DE 14 AÑOS  \n",
       "1               ARTÍCULO 205. ACCESO CARNAL VIOLENTO  \n",
       "2               ARTÍCULO 205. ACCESO CARNAL VIOLENTO  \n",
       "3               ARTÍCULO 205. ACCESO CARNAL VIOLENTO  \n",
       "4               ARTÍCULO 205. ACCESO CARNAL VIOLENTO  "
      ]
     },
     "execution_count": 49,
     "metadata": {},
     "output_type": "execute_result"
    }
   ],
   "source": [
    "#Primeras5 filas del df\n",
    "ds_df.head()"
   ]
  },
  {
   "cell_type": "code",
   "execution_count": 50,
   "metadata": {
    "colab": {
     "base_uri": "https://localhost:8080/"
    },
    "id": "YhLtdTVXaOQ0",
    "outputId": "deb31362-e268-4bb4-876e-3b78b67529d0"
   },
   "outputs": [
    {
     "data": {
      "text/plain": [
       "(241740, 9)"
      ]
     },
     "execution_count": 50,
     "metadata": {},
     "output_type": "execute_result"
    }
   ],
   "source": [
    "#Dimension del df\n",
    "ds_df.shape"
   ]
  },
  {
   "cell_type": "code",
   "execution_count": 51,
   "metadata": {
    "colab": {
     "base_uri": "https://localhost:8080/"
    },
    "id": "zpo-zSHAaOQ1",
    "outputId": "e4ebf237-94be-44cd-cfed-c14b8dfcba68"
   },
   "outputs": [
    {
     "name": "stdout",
     "output_type": "stream",
     "text": [
      "<class 'pandas.core.frame.DataFrame'>\n",
      "Int64Index: 241740 entries, 0 to 260322\n",
      "Data columns (total 9 columns):\n",
      " #   Column        Non-Null Count   Dtype \n",
      "---  ------        --------------   ----- \n",
      " 0   DEPARTAMENTO  241740 non-null  object\n",
      " 1   MUNICIPIO     241739 non-null  object\n",
      " 2   CODIGO DANE   241739 non-null  object\n",
      " 3   ARMAS MEDIOS  241740 non-null  object\n",
      " 4   FECHA HECHO   241740 non-null  object\n",
      " 5   GENERO        241442 non-null  object\n",
      " 6   GRUPO ETARIO  241220 non-null  object\n",
      " 7   CANTIDAD      241740 non-null  int64 \n",
      " 8   delito        241740 non-null  object\n",
      "dtypes: int64(1), object(8)\n",
      "memory usage: 18.4+ MB\n"
     ]
    }
   ],
   "source": [
    "#Información General del df\n",
    "ds_df.info()"
   ]
  },
  {
   "cell_type": "code",
   "execution_count": 52,
   "metadata": {
    "colab": {
     "base_uri": "https://localhost:8080/"
    },
    "id": "wcbjJa53aOQ1",
    "outputId": "3beff14b-f926-4204-f018-0eaf65242d0c"
   },
   "outputs": [
    {
     "data": {
      "text/plain": [
       "DEPARTAMENTO      0\n",
       "MUNICIPIO         1\n",
       "CODIGO DANE       1\n",
       "ARMAS MEDIOS      0\n",
       "FECHA HECHO       0\n",
       "GENERO          298\n",
       "GRUPO ETARIO    520\n",
       "CANTIDAD          0\n",
       "delito            0\n",
       "dtype: int64"
      ]
     },
     "execution_count": 52,
     "metadata": {},
     "output_type": "execute_result"
    }
   ],
   "source": [
    "ds_df.isnull().sum()"
   ]
  },
  {
   "cell_type": "markdown",
   "metadata": {
    "id": "ektDUHSjaOQ2"
   },
   "source": [
    "###Analyzing Data Quality"
   ]
  },
  {
   "cell_type": "code",
   "execution_count": 53,
   "metadata": {
    "colab": {
     "base_uri": "https://localhost:8080/"
    },
    "id": "Va5PSevkaOQ2",
    "outputId": "7cb32ac9-8d89-4ff8-99e8-ee5994811038"
   },
   "outputs": [
    {
     "data": {
      "text/plain": [
       "array(['CAQUETÁ', 'BOLÍVAR', 'HUILA', 'SANTANDER', 'META', 'CUNDINAMARCA',\n",
       "       'BOYACÁ', 'VALLE', 'GUAJIRA', 'SUCRE', 'CASANARE', 'RISARALDA',\n",
       "       'ARAUCA', 'CÓRDOBA', 'CHOCÓ', 'VICHADA', 'TOLIMA', 'CALDAS',\n",
       "       'PUTUMAYO', 'ATLÁNTICO', 'ANTIOQUIA', 'CAUCA', 'QUINDÍO',\n",
       "       'NORTE DE SANTANDER', 'AMAZONAS', 'MAGDALENA', 'CESAR', 'NARIÑO',\n",
       "       'GUAVIARE', 'SAN ANDRÉS', 'VAUPÉS', 'GUAINÍA'], dtype=object)"
      ]
     },
     "execution_count": 53,
     "metadata": {},
     "output_type": "execute_result"
    }
   ],
   "source": [
    "# Analyzing unique values for column DEPARTAMENTO\n",
    "ds_df['DEPARTAMENTO'].unique()"
   ]
  },
  {
   "cell_type": "code",
   "execution_count": 54,
   "metadata": {
    "id": "sq-tCAi3aOQ3"
   },
   "outputs": [
    {
     "data": {
      "text/plain": [
       "['ANTIOQUIA',\n",
       " 'ATLÁNTICO',\n",
       " 'BOLÍVAR',\n",
       " 'BOYACÁ',\n",
       " 'CALDAS',\n",
       " 'CAQUETÁ',\n",
       " 'CASANARE',\n",
       " 'CAUCA',\n",
       " 'CESAR',\n",
       " 'CHOCÓ',\n",
       " 'CÓRDOBA',\n",
       " 'META',\n",
       " 'CUNDINAMARCA',\n",
       " 'HUILA',\n",
       " 'MAGDALENA',\n",
       " 'NARIÑO',\n",
       " 'PUTUMAYO',\n",
       " 'RISARALDA',\n",
       " 'SANTANDER',\n",
       " 'SUCRE',\n",
       " 'TOLIMA',\n",
       " 'VALLE',\n",
       " 'NORTE DE SANTANDER',\n",
       " 'GUAJIRA',\n",
       " 'QUINDÍO',\n",
       " 'SAN ANDRÉS Y PROVIDENCIA',\n",
       " 'ARAUCA',\n",
       " 'GUAINÍA',\n",
       " 'VICHADA',\n",
       " 'VAUPÉS',\n",
       " 'GUAVIARE',\n",
       " 'AMAZONAS']"
      ]
     },
     "execution_count": 54,
     "metadata": {},
     "output_type": "execute_result"
    }
   ],
   "source": [
    "# Creating a dictionary representing the valid departments for Colombia\n",
    "departments_list = ['ANTIOQUIA', 'ATLÁNTICO', 'BOLÍVAR', 'BOYACÁ', 'CALDAS', 'CAQUETÁ',\n",
    "       'CASANARE', 'CAUCA', 'CESAR', 'CHOCÓ', 'CÓRDOBA', 'META',\n",
    "       'CUNDINAMARCA', 'HUILA', 'MAGDALENA', 'NARIÑO', 'PUTUMAYO',\n",
    "       'RISARALDA', 'SANTANDER', 'SUCRE', 'TOLIMA', 'VALLE',\n",
    "       'NORTE DE SANTANDER', 'GUAJIRA', 'QUINDÍO', 'SAN ANDRÉS Y PROVIDENCIA', 'ARAUCA',\n",
    "       'GUAINÍA', 'VICHADA', 'VAUPÉS', 'GUAVIARE', 'AMAZONAS']\n",
    "departments_list"
   ]
  },
  {
   "cell_type": "code",
   "execution_count": 55,
   "metadata": {
    "colab": {
     "base_uri": "https://localhost:8080/"
    },
    "id": "s6Ru-f1saOQ4",
    "outputId": "b042d7ea-799c-4a97-888d-818d35f2f1b3"
   },
   "outputs": [
    {
     "data": {
      "text/plain": [
       "array(['SAN ANDRÉS'], dtype=object)"
      ]
     },
     "execution_count": 55,
     "metadata": {},
     "output_type": "execute_result"
    }
   ],
   "source": [
    "#Checkeo de palabras que no se encuentren correctamente escritas\n",
    "ds_df.loc[~ds_df[\"DEPARTAMENTO\"].isin(departments_list), \"DEPARTAMENTO\"].unique()"
   ]
  },
  {
   "cell_type": "code",
   "execution_count": 56,
   "metadata": {
    "id": "tAaeyPWHaOQ4"
   },
   "outputs": [],
   "source": [
    "#Reemplazar departamentos mal escritos. (Checkear primero si hay alguno adicioanl en los otros df y añadirlo a los diccionarios arriba.)\n",
    "ds_df.replace({\"DEPARTAMENTO\":estandarizar_dep}, inplace = True)"
   ]
  },
  {
   "cell_type": "code",
   "execution_count": 57,
   "metadata": {
    "colab": {
     "base_uri": "https://localhost:8080/"
    },
    "id": "gfSOUr4xaOQ5",
    "outputId": "7cd18eea-5073-485a-c440-9bb4b73227b3"
   },
   "outputs": [
    {
     "data": {
      "text/plain": [
       "array(['SOLANO', 'CARTAGENA (CT)', 'LA PLATA', ..., 'NO REPORTA',\n",
       "       'GONZÁLEZ', 'JORDÁN'], dtype=object)"
      ]
     },
     "execution_count": 57,
     "metadata": {},
     "output_type": "execute_result"
    }
   ],
   "source": [
    "# Analyzing unique values for column MUNICIPIO\n",
    "ds_df.replace({\"MUNICIPIO\":estandarizar_dic}, inplace = True)\n",
    "#Reemplazar valores nulos con NO REPORTA\n",
    "ds_df['MUNICIPIO'].fillna('NO REPORTA',inplace = True)\n",
    "\n",
    "ds_df['MUNICIPIO'].unique()"
   ]
  },
  {
   "cell_type": "code",
   "execution_count": 58,
   "metadata": {
    "colab": {
     "base_uri": "https://localhost:8080/"
    },
    "id": "7U43Y15AaOQ5",
    "outputId": "34542aaa-9b81-4940-9229-4ceccfd04d01"
   },
   "outputs": [
    {
     "data": {
      "text/plain": [
       "array(['BARRANQUILLA (CT)', 'BARRANCABERMEJA', 'BARRANCA DE UPÍA',\n",
       "       'BARRANCAS', 'CUBARRAL', 'BARRANCO DE LOBA'], dtype=object)"
      ]
     },
     "execution_count": 58,
     "metadata": {},
     "output_type": "execute_result"
    }
   ],
   "source": [
    "# Analyzing unique values for column MUNICIPIO. (Checkear valores que terminen con (CT))\n",
    "ds_df['MUNICIPIO'][(ds_df['MUNICIPIO'].str.lower().str.contains('barr'))].unique()"
   ]
  },
  {
   "cell_type": "code",
   "execution_count": 59,
   "metadata": {
    "colab": {
     "base_uri": "https://localhost:8080/"
    },
    "id": "bq7tE8nMaOQ6",
    "outputId": "6597b16a-9b7d-43af-af11-608a2958db36"
   },
   "outputs": [
    {
     "data": {
      "text/plain": [
       "array(['18756000', '13001000', '41396000', ..., '08675000', '05315000',\n",
       "       '05652000'], dtype=object)"
      ]
     },
     "execution_count": 59,
     "metadata": {},
     "output_type": "execute_result"
    }
   ],
   "source": [
    "# Analyzing unique values for column CODIGO DANE. Se encuentra que Codigo Dane tiene un valor nulo, en guainia. Se identifica que\n",
    "#Guainia solamente tiene un codigo y se procede a reemplazar el valor nulo por este \n",
    "ds_df['CODIGO DANE'].fillna('94001000',inplace = True)\n",
    "ds_df['CODIGO DANE'].unique()"
   ]
  },
  {
   "cell_type": "code",
   "execution_count": 60,
   "metadata": {
    "colab": {
     "base_uri": "https://localhost:8080/",
     "height": 0
    },
    "id": "Vt-eb3cppwM7",
    "outputId": "443b5875-17c4-408c-a66c-f00a4bee2cd7"
   },
   "outputs": [
    {
     "data": {
      "text/html": [
       "<div>\n",
       "<style scoped>\n",
       "    .dataframe tbody tr th:only-of-type {\n",
       "        vertical-align: middle;\n",
       "    }\n",
       "\n",
       "    .dataframe tbody tr th {\n",
       "        vertical-align: top;\n",
       "    }\n",
       "\n",
       "    .dataframe thead th {\n",
       "        text-align: right;\n",
       "    }\n",
       "</style>\n",
       "<table border=\"1\" class=\"dataframe\">\n",
       "  <thead>\n",
       "    <tr style=\"text-align: right;\">\n",
       "      <th></th>\n",
       "      <th>DEPARTAMENTO</th>\n",
       "      <th>MUNICIPIO</th>\n",
       "      <th>CODIGO DANE</th>\n",
       "      <th>ARMAS MEDIOS</th>\n",
       "      <th>FECHA HECHO</th>\n",
       "      <th>GENERO</th>\n",
       "      <th>GRUPO ETARIO</th>\n",
       "      <th>CANTIDAD</th>\n",
       "      <th>delito</th>\n",
       "    </tr>\n",
       "  </thead>\n",
       "  <tbody>\n",
       "  </tbody>\n",
       "</table>\n",
       "</div>"
      ],
      "text/plain": [
       "Empty DataFrame\n",
       "Columns: [DEPARTAMENTO, MUNICIPIO, CODIGO DANE, ARMAS MEDIOS, FECHA HECHO, GENERO, GRUPO ETARIO, CANTIDAD, delito]\n",
       "Index: []"
      ]
     },
     "execution_count": 60,
     "metadata": {},
     "output_type": "execute_result"
    }
   ],
   "source": [
    "ds_df[ds_df['CODIGO DANE'].isnull()]"
   ]
  },
  {
   "cell_type": "code",
   "execution_count": 61,
   "metadata": {
    "colab": {
     "base_uri": "https://localhost:8080/"
    },
    "id": "DER6b1lntjai",
    "outputId": "251823e0-5a44-49d1-aeba-89cf1752f886"
   },
   "outputs": [
    {
     "data": {
      "text/plain": [
       "array(['94001000'], dtype=object)"
      ]
     },
     "execution_count": 61,
     "metadata": {},
     "output_type": "execute_result"
    }
   ],
   "source": [
    "ds_df[ds_df['DEPARTAMENTO'] == \"GUAINÍA\"]['CODIGO DANE'].unique()"
   ]
  },
  {
   "cell_type": "code",
   "execution_count": 62,
   "metadata": {
    "colab": {
     "base_uri": "https://localhost:8080/"
    },
    "id": "K16FP_8aaOQ7",
    "outputId": "455db8ea-1c6a-400a-e81c-4675c6eb7957"
   },
   "outputs": [
    {
     "data": {
      "text/plain": [
       "array(['ARMA BLANCA / CORTOPUNZANTE', 'CONTUNDENTES', 'NO REPORTA',\n",
       "       'SIN EMPLEO DE ARMAS', 'ARMA DE FUEGO', 'CORTOPUNZANTES',\n",
       "       'ESCOPOLAMINA', 'LICOR ADULTERADO', 'CINTAS/CINTURON', 'CORTANTES',\n",
       "       'ESPOSAS', 'ARMAS BLANCAS'], dtype=object)"
      ]
     },
     "execution_count": 62,
     "metadata": {},
     "output_type": "execute_result"
    }
   ],
   "source": [
    "# Analyzing unique values for column ARMAS MEDIOS\n",
    "ds_df.replace({\"ARMAS MEDIOS\":estandarizar_dic}, inplace = True)\n",
    "ds_df['ARMAS MEDIOS'].unique()\n",
    "\n",
    "#Se podria llegar a homologar los valores para queden en categorias mas grandes"
   ]
  },
  {
   "cell_type": "code",
   "execution_count": 63,
   "metadata": {
    "id": "CwkyME8GaOQ7"
   },
   "outputs": [],
   "source": [
    "# Creating a lambda expression for datetime parsing\n",
    "dateparse = lambda x: datetime.strptime(x, \"%d/%m/%Y\")"
   ]
  },
  {
   "cell_type": "code",
   "execution_count": 64,
   "metadata": {
    "id": "V5pIrcpRaOQ8"
   },
   "outputs": [],
   "source": [
    "# Analyzing unique values for column FECHA HECHO\n",
    "ds_df['FECHA HECHO']=ds_df['FECHA HECHO'].apply(dateparse)"
   ]
  },
  {
   "cell_type": "code",
   "execution_count": 65,
   "metadata": {
    "colab": {
     "base_uri": "https://localhost:8080/"
    },
    "id": "Wm-63XkMaOQ8",
    "outputId": "2e975403-ecdb-44d1-abed-6ba3bc406e3c"
   },
   "outputs": [
    {
     "data": {
      "text/plain": [
       "array(['FEMENINO', 'MASCULINO', 'NO REPORTA'], dtype=object)"
      ]
     },
     "execution_count": 65,
     "metadata": {},
     "output_type": "execute_result"
    }
   ],
   "source": [
    "# Analyzing unique values for column GENERO\n",
    "ds_df.replace({\"GENERO\":estandarizar_dic}, inplace = True)\n",
    "\n",
    "#Reemplazar valores nulos con NO REPORTA\n",
    "ds_df['GENERO'].fillna('NO REPORTA',inplace = True)\n",
    "\n",
    "\n",
    "ds_df['GENERO'].unique()"
   ]
  },
  {
   "cell_type": "code",
   "execution_count": 66,
   "metadata": {
    "colab": {
     "base_uri": "https://localhost:8080/"
    },
    "id": "ZO4DLrdGaOQ9",
    "outputId": "ceca7199-e809-4ceb-ec93-88fc3f40ffcb"
   },
   "outputs": [
    {
     "data": {
      "text/plain": [
       "array(['MENORES', 'ADOLESCENTES', 'ADULTOS', 'NO REPORTA'], dtype=object)"
      ]
     },
     "execution_count": 66,
     "metadata": {},
     "output_type": "execute_result"
    }
   ],
   "source": [
    "# Analyzing unique values for column GRUPO ETARIO\n",
    "ds_df.replace({\"GRUPO ETARIO\":estandarizar_dic}, inplace = True)\n",
    "\n",
    "#Reemplazar valores nulos con NO REPORTA\n",
    "ds_df['GRUPO ETARIO'].fillna('NO REPORTA',inplace = True)\n",
    "\n",
    "ds_df['GRUPO ETARIO'].unique()\n"
   ]
  },
  {
   "cell_type": "code",
   "execution_count": 67,
   "metadata": {
    "colab": {
     "base_uri": "https://localhost:8080/"
    },
    "id": "am8Yypu8aOQ-",
    "outputId": "3c8756e0-a080-4ec9-c8ba-b31254270562"
   },
   "outputs": [
    {
     "data": {
      "text/plain": [
       "array(['ARTÍCULO 209. ACTOS SEXUALES CON MENOR DE 14 AÑOS',\n",
       "       'ARTÍCULO 205. ACCESO CARNAL VIOLENTO',\n",
       "       'ARTÍCULO 206. ACTO SEXUAL VIOLENTO',\n",
       "       'ARTÍCULO 208. ACCESO CARNAL ABUSIVO CON MENOR DE 14 AÑOS',\n",
       "       'ARTÍCULO 210 A. ACOSO SEXUAL',\n",
       "       'ARTÍCULO 210. ACCESO CARNAL O ACTO SEXUAL ABUSIVO CON INCAPAZ DE RESISTIR',\n",
       "       'ARTÍCULO 211. ACCESO CARNAL O ACTO SEXUAL ABUSIVO CON INCAPAZ DE RESISTIR (CIRCUNSTANCIAS AGRAVACIÓN',\n",
       "       'ARTÍCULO 211. ACCESO CARNAL ABUSIVO CON MENOR DE 14 AÑOS (CIRCUNSTANCIAS AGRAVACIÓN)',\n",
       "       'ARTÍCULO 211. ACTOS SEXUALES CON MENOR DE 14 AÑOS (CIRCUNSTANCIAS DE AGRAVACIÓN)',\n",
       "       'ARTÍCULO 207. ACCESO CARNAL O ACTO SEXUAL EN PERSONA PUESTA EN INCAPACIDAD DE RESISTIR',\n",
       "       'ARTÍCULO 211. ACCESO CARNAL VIOLENTO (CIRCUNSTANCIAS AGRAVACIÓN)',\n",
       "       'ARTÍCULO 218. PORNOGRAFÍA CON MENORES',\n",
       "       'ARTÍCULO 213. INDUCCIÓN A LA PROSTITUCIÓN',\n",
       "       'ARTÍCULO 211. ACCESO CARNAL O ACTO SEXUAL EN PERSONA PUESTA EN INCAPACIDAD DE RESISTIR  (CIRCUNSTANC',\n",
       "       'ARTÍCULO 211. ACTO SEXUAL VIOLENTO (CIRCUNSTANCIAS DE AGRAVACIÓN)',\n",
       "       'ARTÍCULO 214. CONSTREÑIMIENTO A LA PROSTITUCIÓN',\n",
       "       'ARTÍCULO 219 A. UTILIZACIÓN O FACILITACIÓN DE MEDIOS DE COMUNICACIÓN PARA OFRECER SERVICIOS SEXUALES DE MENORES',\n",
       "       'ARTÍCULO 217. ESTÍMULO A LA PROSTITUCIÓN DE MENORES',\n",
       "       'ARTÍCULO 217 A. DEMANDA DE EXPLOTACION SEXUAL COMERCIAL DE PERSONA MENOR DE 18 AÑOS DE EDAD',\n",
       "       'ARTÍCULO 216. CONSTREÑIMIENTO A LA PROSTITUCIÓN (CIRCUNSTANCIAS AGRAVACIÓN)',\n",
       "       'ARTÍCULO 213 A. PROXENETISMO CON MENOR DE EDAD',\n",
       "       'ARTÍCULO 216. INDUCCIÓN A LA PROSTITUCIÓN (CIRCUNSTANCIAS AGRAVACIÓN)',\n",
       "       'ARTÍCULO 219 B. OMISIÓN DE DENUNCIA'], dtype=object)"
      ]
     },
     "execution_count": 67,
     "metadata": {},
     "output_type": "execute_result"
    }
   ],
   "source": [
    "# Analyzing unique values for column DESCRIPCION CONDUCTA\n",
    "ds_df[\"delito\"].unique()"
   ]
  },
  {
   "cell_type": "code",
   "execution_count": 68,
   "metadata": {
    "colab": {
     "base_uri": "https://localhost:8080/"
    },
    "id": "o1J6gImHaOQ-",
    "outputId": "98ab3169-271b-451c-98a7-6af83987e06f"
   },
   "outputs": [
    {
     "data": {
      "text/plain": [
       "array([ 1,  2,  3,  4,  5,  6, 16, 11,  7, 10, 86, 15,  8,  9, 48, 43],\n",
       "      dtype=int64)"
      ]
     },
     "execution_count": 68,
     "metadata": {},
     "output_type": "execute_result"
    }
   ],
   "source": [
    "# Analyzing unique values for column CANTIDAD\n",
    "ds_df['CANTIDAD'].unique()"
   ]
  },
  {
   "cell_type": "code",
   "execution_count": 69,
   "metadata": {
    "id": "H0nS6cwZjVlQ"
   },
   "outputs": [],
   "source": [
    "#Crear columnas año y mes\n",
    "ds_df['year'] = pd.DatetimeIndex(ds_df['FECHA HECHO']).year \n",
    "ds_df['month'] = pd.DatetimeIndex(ds_df['FECHA HECHO']).month"
   ]
  },
  {
   "cell_type": "markdown",
   "metadata": {
    "id": "nbi6JJikaQNI"
   },
   "source": [
    "## DB Homicidios Accidente Transito"
   ]
  },
  {
   "cell_type": "markdown",
   "metadata": {
    "id": "FTyQvrfjaQNJ"
   },
   "source": [
    "###General"
   ]
  },
  {
   "cell_type": "code",
   "execution_count": 70,
   "metadata": {
    "colab": {
     "base_uri": "https://localhost:8080/",
     "height": 0
    },
    "id": "Kc93B7tUaQNL",
    "outputId": "9ea3fbaa-3b6e-4ef3-f5b0-68e8ad5e86a1"
   },
   "outputs": [
    {
     "data": {
      "text/html": [
       "<div>\n",
       "<style scoped>\n",
       "    .dataframe tbody tr th:only-of-type {\n",
       "        vertical-align: middle;\n",
       "    }\n",
       "\n",
       "    .dataframe tbody tr th {\n",
       "        vertical-align: top;\n",
       "    }\n",
       "\n",
       "    .dataframe thead th {\n",
       "        text-align: right;\n",
       "    }\n",
       "</style>\n",
       "<table border=\"1\" class=\"dataframe\">\n",
       "  <thead>\n",
       "    <tr style=\"text-align: right;\">\n",
       "      <th></th>\n",
       "      <th>DEPARTAMENTO</th>\n",
       "      <th>MUNICIPIO</th>\n",
       "      <th>CODIGO DANE</th>\n",
       "      <th>ARMAS MEDIOS</th>\n",
       "      <th>FECHA HECHO</th>\n",
       "      <th>GENERO</th>\n",
       "      <th>GRUPO ETARÍO</th>\n",
       "      <th>DESCRIPCIÓN CONDUCTA</th>\n",
       "      <th>CANTIDAD</th>\n",
       "    </tr>\n",
       "  </thead>\n",
       "  <tbody>\n",
       "    <tr>\n",
       "      <th>0</th>\n",
       "      <td>ANTIOQUIA</td>\n",
       "      <td>LA CEJA</td>\n",
       "      <td>05376000</td>\n",
       "      <td>MOTO</td>\n",
       "      <td>1/01/2010</td>\n",
       "      <td>MASCULINO</td>\n",
       "      <td>ADULTOS</td>\n",
       "      <td>ARTÍCULO 109. HOMICIDIO CULPOSO ( EN ACCIDENTE...</td>\n",
       "      <td>1</td>\n",
       "    </tr>\n",
       "    <tr>\n",
       "      <th>1</th>\n",
       "      <td>ATLÁNTICO</td>\n",
       "      <td>BARRANQUILLA (CT)</td>\n",
       "      <td>08001000</td>\n",
       "      <td>MOTO</td>\n",
       "      <td>1/01/2010</td>\n",
       "      <td>FEMENINO</td>\n",
       "      <td>ADULTOS</td>\n",
       "      <td>ARTÍCULO 109. HOMICIDIO CULPOSO ( EN ACCIDENTE...</td>\n",
       "      <td>1</td>\n",
       "    </tr>\n",
       "    <tr>\n",
       "      <th>2</th>\n",
       "      <td>ATLÁNTICO</td>\n",
       "      <td>LURUACO</td>\n",
       "      <td>08421000</td>\n",
       "      <td>MOTO</td>\n",
       "      <td>1/01/2010</td>\n",
       "      <td>MASCULINO</td>\n",
       "      <td>ADULTOS</td>\n",
       "      <td>ARTÍCULO 109. HOMICIDIO CULPOSO ( EN ACCIDENTE...</td>\n",
       "      <td>1</td>\n",
       "    </tr>\n",
       "    <tr>\n",
       "      <th>3</th>\n",
       "      <td>CAQUETÁ</td>\n",
       "      <td>PUERTO RICO</td>\n",
       "      <td>18592000</td>\n",
       "      <td>MOTO</td>\n",
       "      <td>1/01/2010</td>\n",
       "      <td>MASCULINO</td>\n",
       "      <td>ADOLESCENTES</td>\n",
       "      <td>ARTÍCULO 109. HOMICIDIO CULPOSO ( EN ACCIDENTE...</td>\n",
       "      <td>1</td>\n",
       "    </tr>\n",
       "    <tr>\n",
       "      <th>4</th>\n",
       "      <td>CASANARE</td>\n",
       "      <td>AGUAZUL</td>\n",
       "      <td>85010000</td>\n",
       "      <td>MOTO</td>\n",
       "      <td>1/01/2010</td>\n",
       "      <td>MASCULINO</td>\n",
       "      <td>ADULTOS</td>\n",
       "      <td>ARTÍCULO 109. HOMICIDIO CULPOSO ( EN ACCIDENTE...</td>\n",
       "      <td>1</td>\n",
       "    </tr>\n",
       "  </tbody>\n",
       "</table>\n",
       "</div>"
      ],
      "text/plain": [
       "  DEPARTAMENTO          MUNICIPIO CODIGO DANE ARMAS MEDIOS FECHA HECHO  \\\n",
       "0    ANTIOQUIA            LA CEJA    05376000         MOTO   1/01/2010   \n",
       "1    ATLÁNTICO  BARRANQUILLA (CT)    08001000         MOTO   1/01/2010   \n",
       "2    ATLÁNTICO            LURUACO    08421000         MOTO   1/01/2010   \n",
       "3      CAQUETÁ        PUERTO RICO    18592000         MOTO   1/01/2010   \n",
       "4     CASANARE            AGUAZUL    85010000         MOTO   1/01/2010   \n",
       "\n",
       "      GENERO  GRUPO ETARÍO                               DESCRIPCIÓN CONDUCTA  \\\n",
       "0  MASCULINO       ADULTOS  ARTÍCULO 109. HOMICIDIO CULPOSO ( EN ACCIDENTE...   \n",
       "1   FEMENINO       ADULTOS  ARTÍCULO 109. HOMICIDIO CULPOSO ( EN ACCIDENTE...   \n",
       "2  MASCULINO       ADULTOS  ARTÍCULO 109. HOMICIDIO CULPOSO ( EN ACCIDENTE...   \n",
       "3  MASCULINO  ADOLESCENTES  ARTÍCULO 109. HOMICIDIO CULPOSO ( EN ACCIDENTE...   \n",
       "4  MASCULINO       ADULTOS  ARTÍCULO 109. HOMICIDIO CULPOSO ( EN ACCIDENTE...   \n",
       "\n",
       "   CANTIDAD  \n",
       "0         1  \n",
       "1         1  \n",
       "2         1  \n",
       "3         1  \n",
       "4         1  "
      ]
     },
     "execution_count": 70,
     "metadata": {},
     "output_type": "execute_result"
    }
   ],
   "source": [
    "#Primeras5 filas del df\n",
    "hat_df.head()"
   ]
  },
  {
   "cell_type": "code",
   "execution_count": 71,
   "metadata": {
    "colab": {
     "base_uri": "https://localhost:8080/"
    },
    "id": "SIhxthpTaQNM",
    "outputId": "d74fab8c-0280-4971-ba47-b4c3f3bc8194"
   },
   "outputs": [
    {
     "data": {
      "text/plain": [
       "(59805, 9)"
      ]
     },
     "execution_count": 71,
     "metadata": {},
     "output_type": "execute_result"
    }
   ],
   "source": [
    "#Dimension del df\n",
    "hat_df.shape"
   ]
  },
  {
   "cell_type": "code",
   "execution_count": 72,
   "metadata": {
    "id": "tfCgpr6SgZqV"
   },
   "outputs": [],
   "source": [
    "# Changing the column name GRUPO ETARÍO por GRUPO ETARIO\n",
    "hat_df.rename(columns={'GRUPO ETARÍO':'GRUPO ETARIO'},               inplace=True)"
   ]
  },
  {
   "cell_type": "code",
   "execution_count": 73,
   "metadata": {
    "colab": {
     "base_uri": "https://localhost:8080/"
    },
    "id": "gjrsScC9aQNN",
    "outputId": "baa498f1-bd52-4145-f395-9a40fda35746"
   },
   "outputs": [
    {
     "name": "stdout",
     "output_type": "stream",
     "text": [
      "<class 'pandas.core.frame.DataFrame'>\n",
      "Int64Index: 59805 entries, 0 to 59809\n",
      "Data columns (total 9 columns):\n",
      " #   Column                Non-Null Count  Dtype \n",
      "---  ------                --------------  ----- \n",
      " 0   DEPARTAMENTO          59805 non-null  object\n",
      " 1   MUNICIPIO             59805 non-null  object\n",
      " 2   CODIGO DANE           59805 non-null  object\n",
      " 3   ARMAS MEDIOS          59805 non-null  object\n",
      " 4   FECHA HECHO           59805 non-null  object\n",
      " 5   GENERO                59805 non-null  object\n",
      " 6   GRUPO ETARIO          59805 non-null  object\n",
      " 7   DESCRIPCIÓN CONDUCTA  59805 non-null  object\n",
      " 8   CANTIDAD              59805 non-null  int64 \n",
      "dtypes: int64(1), object(8)\n",
      "memory usage: 4.6+ MB\n"
     ]
    }
   ],
   "source": [
    "#Información General del df\n",
    "hat_df.info()"
   ]
  },
  {
   "cell_type": "code",
   "execution_count": 74,
   "metadata": {
    "colab": {
     "base_uri": "https://localhost:8080/"
    },
    "id": "kBupKz_6aQNN",
    "outputId": "3f8986a0-d733-45a0-ac74-f510896f82d3"
   },
   "outputs": [
    {
     "data": {
      "text/plain": [
       "DEPARTAMENTO            False\n",
       "MUNICIPIO               False\n",
       "CODIGO DANE             False\n",
       "ARMAS MEDIOS            False\n",
       "FECHA HECHO             False\n",
       "GENERO                  False\n",
       "GRUPO ETARIO            False\n",
       "DESCRIPCIÓN CONDUCTA    False\n",
       "CANTIDAD                False\n",
       "dtype: bool"
      ]
     },
     "execution_count": 74,
     "metadata": {},
     "output_type": "execute_result"
    }
   ],
   "source": [
    "hat_df.isnull().any()"
   ]
  },
  {
   "cell_type": "markdown",
   "metadata": {
    "id": "t1STOguWaQNO"
   },
   "source": [
    "###Analyzing Data Quality"
   ]
  },
  {
   "cell_type": "code",
   "execution_count": 75,
   "metadata": {
    "colab": {
     "base_uri": "https://localhost:8080/"
    },
    "id": "TE1u9dfVaQNO",
    "outputId": "34e48c27-849d-4392-dc67-fd6a4482d547"
   },
   "outputs": [
    {
     "data": {
      "text/plain": [
       "array(['ANTIOQUIA', 'ATLÁNTICO', 'CAQUETÁ', 'CASANARE', 'CESAR',\n",
       "       'GUAJIRA', 'HUILA', 'NARIÑO', 'RISARALDA', 'SANTANDER', 'CÓRDOBA',\n",
       "       'CUNDINAMARCA', 'TOLIMA', 'VALLE', 'MAGDALENA', 'BOYACÁ', 'CAUCA',\n",
       "       'NORTE DE SANTANDER', 'SUCRE', 'META', 'QUINDÍO', 'BOLÍVAR',\n",
       "       'CALDAS', 'ARAUCA', 'PUTUMAYO', 'SAN ANDRÉS', 'GUAVIARE',\n",
       "       'AMAZONAS', 'VICHADA', 'CHOCÓ', 'GUAINÍA', 'VAUPÉS'], dtype=object)"
      ]
     },
     "execution_count": 75,
     "metadata": {},
     "output_type": "execute_result"
    }
   ],
   "source": [
    "# Analyzing unique values for column DEPARTAMENTO\n",
    "hat_df['DEPARTAMENTO'].unique()"
   ]
  },
  {
   "cell_type": "code",
   "execution_count": 76,
   "metadata": {
    "id": "j2i4CW_YaQNP"
   },
   "outputs": [
    {
     "data": {
      "text/plain": [
       "['ANTIOQUIA',\n",
       " 'ATLÁNTICO',\n",
       " 'BOLÍVAR',\n",
       " 'BOYACÁ',\n",
       " 'CALDAS',\n",
       " 'CAQUETÁ',\n",
       " 'CASANARE',\n",
       " 'CAUCA',\n",
       " 'CESAR',\n",
       " 'CHOCÓ',\n",
       " 'CÓRDOBA',\n",
       " 'META',\n",
       " 'CUNDINAMARCA',\n",
       " 'HUILA',\n",
       " 'MAGDALENA',\n",
       " 'NARIÑO',\n",
       " 'PUTUMAYO',\n",
       " 'RISARALDA',\n",
       " 'SANTANDER',\n",
       " 'SUCRE',\n",
       " 'TOLIMA',\n",
       " 'VALLE',\n",
       " 'NORTE DE SANTANDER',\n",
       " 'GUAJIRA',\n",
       " 'QUINDÍO',\n",
       " 'SAN ANDRÉS Y PROVIDENCIA',\n",
       " 'ARAUCA',\n",
       " 'GUAINÍA',\n",
       " 'VICHADA',\n",
       " 'VAUPÉS',\n",
       " 'GUAVIARE',\n",
       " 'AMAZONAS']"
      ]
     },
     "execution_count": 76,
     "metadata": {},
     "output_type": "execute_result"
    }
   ],
   "source": [
    "# Creating a dictionary representing the valid departments for Colombia\n",
    "departments_list = ['ANTIOQUIA', 'ATLÁNTICO', 'BOLÍVAR', 'BOYACÁ', 'CALDAS', 'CAQUETÁ',\n",
    "       'CASANARE', 'CAUCA', 'CESAR', 'CHOCÓ', 'CÓRDOBA', 'META',\n",
    "       'CUNDINAMARCA', 'HUILA', 'MAGDALENA', 'NARIÑO', 'PUTUMAYO',\n",
    "       'RISARALDA', 'SANTANDER', 'SUCRE', 'TOLIMA', 'VALLE',\n",
    "       'NORTE DE SANTANDER', 'GUAJIRA', 'QUINDÍO', 'SAN ANDRÉS Y PROVIDENCIA', 'ARAUCA',\n",
    "       'GUAINÍA', 'VICHADA', 'VAUPÉS', 'GUAVIARE', 'AMAZONAS']\n",
    "departments_list"
   ]
  },
  {
   "cell_type": "code",
   "execution_count": 77,
   "metadata": {
    "colab": {
     "base_uri": "https://localhost:8080/"
    },
    "id": "7YyJQnuAaQNQ",
    "outputId": "f7b20784-0917-406e-8df3-b1ea3d8a9f2f"
   },
   "outputs": [
    {
     "data": {
      "text/plain": [
       "array(['SAN ANDRÉS'], dtype=object)"
      ]
     },
     "execution_count": 77,
     "metadata": {},
     "output_type": "execute_result"
    }
   ],
   "source": [
    "#Checkeo de palabras que no se encuentren correctamente escritas\n",
    "hat_df.loc[~hat_df[\"DEPARTAMENTO\"].isin(departments_list), \"DEPARTAMENTO\"].unique()"
   ]
  },
  {
   "cell_type": "code",
   "execution_count": 78,
   "metadata": {
    "id": "scXEnx8aaQNQ"
   },
   "outputs": [],
   "source": [
    "#Reemplazar departamentos mal escritos. (Checkear primero si hay alguno adicioanl en los otros df y añadirlo a los diccionarios arriba.)\n",
    "hat_df.replace({\"DEPARTAMENTO\":estandarizar_dep}, inplace = True)"
   ]
  },
  {
   "cell_type": "code",
   "execution_count": 79,
   "metadata": {
    "id": "0i-oREWRaQNR"
   },
   "outputs": [
    {
     "data": {
      "text/plain": [
       "array(['LA CEJA', 'BARRANQUILLA (CT)', 'LURUACO', 'PUERTO RICO',\n",
       "       'AGUAZUL', 'AGUSTÍN CODAZZI', 'RIOHACHA (CT)', 'ISNOS',\n",
       "       'NEIVA (CT)', 'PALERMO', 'SAN ANDRES DE TUMACO', 'LA VIRGINIA',\n",
       "       'CIMITARRA', 'EL PLAYÓN', 'MEDELLÍN (CT)', 'TURBO', 'SAHAGÚN',\n",
       "       'GIRARDOT', 'LEBRIJA', 'SAN VICENTE DE CHUCURÍ', 'ESPINAL',\n",
       "       'FLANDES', 'IBAGUÉ (CT)', 'SAN PEDRO', 'FUNDACIÓN', 'GUAITARILLA',\n",
       "       'MUZO', 'SAMACÁ', 'ROSAS', 'MONTERÍA (CT)', 'BOGOTÁ D.C. (CT)',\n",
       "       'MAICAO', 'VILLA DEL ROSARIO', 'BELÉN DE UMBRÍA', 'CHARALÁ',\n",
       "       'GUADALAJARA DE BUGA', 'PITALITO', 'BARRANCABERMEJA', 'TIBASOSA',\n",
       "       'GRANADA', 'GUADUAS', 'SANTA MARTA (CT)', 'LOS PATIOS',\n",
       "       'SANTIAGO DE TOLÚ', 'SANTANDER DE QUILICHAO', 'SAN ALBERTO',\n",
       "       'GAMARRA', 'VILLAVICENCIO (CT)', 'EL TABLÓN DE GÓMEZ', 'DAGUA',\n",
       "       'YOPAL (CT)', 'POPAYÁN (CT)', 'YOTOCO', 'YUMBO', 'CHÍA',\n",
       "       'CHOCONTÁ', 'CIRCASIA', 'DOSQUEBRADAS', 'ALVARADO', 'PASTO (CT)',\n",
       "       'CAUCASIA', 'RESTREPO', 'CÁCOTA', 'CALI (CT)', 'ITAGUI',\n",
       "       'SAN JUAN NEPOMUCENO', 'CHITARAQUE', 'SAMANÁ', 'SINCELEJO (CT)',\n",
       "       'PONEDERA', 'SOLEDAD', 'ANSERMA', 'VALLEDUPAR (CT)', 'GARZÓN',\n",
       "       'CHIQUINQUIRÁ', 'AGUACHICA', 'MOSQUERA', 'PUERTO LÓPEZ',\n",
       "       'BUCARAMANGA (CT)', 'CAMPOALEGRE', 'DISTRACCIÓN', 'OCAÑA', 'URRAO',\n",
       "       'MOTAVITA', 'BOSCONIA', 'CURUMANÍ', 'COTA', 'TOLEDO',\n",
       "       'PEREIRA (CT)', 'DOLORES', 'BUGALAGRANDE', 'BARBOSA', 'CURITÍ',\n",
       "       'PLANETA RICA', 'IPIALES', 'TURBACO', 'CÚCUTA (CT)', 'TAME',\n",
       "       'MANIZALES (CT)', 'BOLÍVAR', 'SOACHA', 'DURANIA', 'COVEÑAS',\n",
       "       'BUENAVENTURA', 'TIMBÍO', 'CANDELARIA', 'PRADERA', 'TORO',\n",
       "       'SAMPUÉS', 'SAN JUAN DE BETULIA', 'TAURAMENA', 'TOTORÓ',\n",
       "       'ARBELÁEZ', 'CHIRIGUANÁ', 'LEJANÍAS', 'PAIPA', 'CAJICÁ',\n",
       "       'EL CERRITO', 'HOBO', 'MONTENEGRO', 'SAN ONOFRE', 'DUITAMA',\n",
       "       'TUTA', 'FACATATIVÁ', 'ACACÍAS', 'PIEDECUESTA', 'NATAGAIMA',\n",
       "       'CARTAGO', 'JAMUNDÍ', 'CERETÉ', 'CHINÚ', 'ZONA BANANERA',\n",
       "       'LA TEBAIDA', 'LÉRIDA', 'ARAUCA (CT)', 'CARTAGENA (CT)',\n",
       "       'EL CARMEN DE BOLÍVAR', 'LABRANZAGRANDE', 'TOCANCIPÁ', 'TIBÚ',\n",
       "       'CORINTO', 'TELLO', 'SUAZA', 'COPACABANA', 'TESALIA', 'RIONEGRO',\n",
       "       'MARÍA LA BAJA', 'RETIRO', 'VENADILLO', 'PALMIRA', 'TULUÁ',\n",
       "       'SOTAQUIRÁ', 'VITERBO', 'ARATOCA', 'MIRANDA', 'PLANADAS',\n",
       "       'VALDIVIA', 'NOBSA', 'CÓRDOBA', 'MONIQUIRÁ', 'LA DORADA', 'GUAMAL',\n",
       "       'FUSAGASUGÁ', 'CUMARAL', 'CALARCA', 'SABANETA', 'NEIRA', 'FLORIDA',\n",
       "       'PIENDAMÓ', 'PUERTO SALGAR', 'SIBUNDOY', 'GUAMO', 'CALIMA',\n",
       "       'CHINCHINÁ', 'SAN PABLO DE BORBUR', 'MADRID', 'MACHETA',\n",
       "       'EL BANCO', 'TUNJA (CT)', 'SILVANIA', 'ARMERO', 'GUACHENÉ',\n",
       "       'MONTELÍBANO', 'PROVIDENCIA', 'SANTA ROSA DE VITERBO', 'FÚQUENE',\n",
       "       'URUMITA', 'PATÍA', 'TIERRALTA', 'SAN JOSÉ DEL GUAVIARE (CT)',\n",
       "       'FONSECA', 'ARMENIA (CT)', 'MARSELLA', 'SITIONUEVO', 'GIRARDOTA',\n",
       "       'LA PAZ', 'SAN JUAN DEL CESAR', 'TABIO', 'COLÓN', 'ROLDANILLO',\n",
       "       'LA PLATA', 'ENVIGADO', 'GARAGOA', 'COELLO', 'CIÉNAGA',\n",
       "       'SAN ANDRÉS (CT)', 'SAN MARCOS', 'REPELÓN', 'MORALES', 'EL ZULIA',\n",
       "       'FLORIDABLANCA', 'MELGAR', 'LA JAGUA DEL PILAR', 'CALOTO',\n",
       "       'GUATAQUÍ', 'GUACARÍ', 'LORICA', 'FUENTE DE ORO', 'SUPÍA',\n",
       "       'FLORENCIA (CT)', 'SAN CALIXTO', 'BARRANCO DE LOBA', 'MOMIL',\n",
       "       'ALBANIA', 'CALDAS', 'SANTA ROSA DE OSOS', 'ZARZAL', 'SAN DIEGO',\n",
       "       'GIRÓN', 'OVEJAS', 'ASTREA', 'PALMAR DE VARELA', 'IQUIRA',\n",
       "       'FORTUL', 'SOGAMOSO', 'MANZANARES', 'MARIQUITA', 'PUERTO GAITÁN',\n",
       "       'APARTADÓ', 'PUERTO BOYACÁ', 'INZÁ', 'PELAYA', 'CABRERA',\n",
       "       'VILLA DE SAN DIEGO DE UBATE', 'MALAMBO', 'TINJACÁ', 'CHIPAQUE',\n",
       "       'NEMOCÓN', 'DIBULLA', 'CUMBAL', 'LA VICTORIA', 'MONTERREY',\n",
       "       'SABANA DE TORRES', 'MARINILLA', 'VILLAMARÍA', 'BELLO', 'SILVIA',\n",
       "       'GUADALUPE', 'GUASCA', 'SARAVENA', 'SANTA ROSA DE CABAL',\n",
       "       'AGUADAS', 'CAJIBÍO', 'PUEBLOVIEJO', 'CHIVATÁ', 'GALAPA',\n",
       "       'EL ROSAL', 'PUERTO WILCHES', 'SOPETRÁN', 'PUERTO LLERAS',\n",
       "       'SANTANA', 'PEÑOL', 'SUTAMARCHÁN', 'BELÉN', 'NUNCHÍA', 'ALGECIRAS',\n",
       "       'ATACO', 'TENA', 'CAREPA', 'TEORAMA', 'LA ESPERANZA',\n",
       "       'VILLAGARZÓN', 'PUERTO TEJADA', 'VILLA RICA', 'ZIPAQUIRÁ',\n",
       "       'BALBOA', 'GUARNE', 'PARATEBUENO', 'CISNEROS', 'AIPE', 'MÁLAGA',\n",
       "       'RIOBLANCO', 'ANDALUCÍA', 'CAICEDONIA', 'VEGACHÍ', 'IMUÉS',\n",
       "       'BARANOA', 'LA GLORIA', 'CIUDAD BOLÍVAR', 'CAPITANEJO', 'GÜEPSA',\n",
       "       'YALÍ', 'PUENTE NACIONAL', 'MOÑITOS', 'JENESANO', 'CIÉNAGA DE ORO',\n",
       "       'RIVERA', 'CHIGORODÓ', 'MAJAGUAL', 'EL COLEGIO', 'SUÁREZ',\n",
       "       'ANSERMANUEVO', 'PUERTO PARRA', 'BELALCÁZAR', 'SANTUARIO', 'FUNZA',\n",
       "       'COROZAL', 'SAN GIL', 'ROVIRA', 'NARIÑO', 'VILLETA', 'HONDA',\n",
       "       'GÜICÁN', 'SIBATÉ', 'ARACATACA', 'PLATO', 'QUIMBAYA',\n",
       "       'SALADOBLANCO', 'APULO', 'ORTEGA', 'GIGANTE', 'SABANAGRANDE',\n",
       "       'SAMANIEGO', 'MOCOA (CT)', 'CHAPARRAL', 'MERCADERES',\n",
       "       'CHIMICHAGUA', 'ALGARROBO', 'PUERTO ASÍS', 'SANTO DOMINGO',\n",
       "       'CAJAMARCA', 'PAMPLONA', 'ANOLAIMA', 'RIOSUCIO', 'JUAN DE ACOSTA',\n",
       "       'ARCABUCO', 'LINARES', 'ABREGO', 'PITAL', 'PAIME', 'VALENCIA',\n",
       "       'TOLÚ VIEJO', 'RAMIRIQUÍ', 'PAZ DE ARIPORO', 'VIOTÁ', 'TASCO',\n",
       "       'SUTATENZA', 'CAQUEZA', 'RÍO DE ORO', 'EL CARMEN', 'COGUA',\n",
       "       'QUEBRADANEGRA', 'SESQUILÉ', 'SAN MARTÍN', 'VILLANUEVA', 'MOMPÓS',\n",
       "       'PUERTO CAICEDO', 'VILLAPINZÓN', 'BARBACOAS', 'CONSACA', 'TIMANÁ',\n",
       "       'ENCISO', 'UNE', 'ZIPACÓN', 'ALDANA', 'EL RETORNO', 'LOS SANTOS',\n",
       "       'PUERTO TRIUNFO', 'CONVENCIÓN', 'EL PASO', 'SAN FRANCISCO',\n",
       "       'CAMPO DE LA CRUZ', 'EL SANTUARIO', 'FIRAVITOBA', 'YOLOMBÓ',\n",
       "       'MANÍ', 'GUATEQUE', 'GACHANCIPÁ', 'NUEVA GRANADA', 'BELMIRA',\n",
       "       'URIBIA', 'SAN LUIS DE SINCÉ', 'SUESCA', 'SANTIAGO', 'ABEJORRAL',\n",
       "       'SANTA CATALINA', 'BETULIA', 'CALDONO', 'PUERTO COLOMBIA',\n",
       "       'EL COPEY', 'NILO', 'TOCAIMA', 'PUERTO BERRÍO', 'QUÍPAMA',\n",
       "       'TAMINANGO', 'CUASPUD', 'LA CALERA', 'SAN ROQUE',\n",
       "       'SANTA ROSA DEL SUR', 'MARMATO', 'LETICIA (CT)', 'GUAVATÁ',\n",
       "       'BUENAVISTA', 'BARRANCA DE UPÍA', 'TÚQUERRES', 'SOCORRO',\n",
       "       'EL TAMBO', 'CHACHAGÜÍ', 'ANZOÁTEGUI', 'SAN PELAYO', 'TARAZÁ',\n",
       "       'BARRANCAS', 'SAN JUAN DE ARAMA', 'VALPARAÍSO', 'EL PAUJIL',\n",
       "       'LA UNIÓN', 'SAN VICENTE DEL CAGUÁN', 'SAN CAYETANO',\n",
       "       'SABANALARGA', 'SARDINATA', 'CUBARRAL', 'SAN CARLOS DE GUAROA',\n",
       "       'SAN ANTONIO DEL TEQUENDAMA', 'SAN JOSÉ DE PARE', 'LA SIERRA',\n",
       "       'LA VEGA', 'VILLA DE LEYVA', 'ARIGUANÍ', 'LA JAGUA DE IBIRICO',\n",
       "       'TANGUA', 'MANAURE', 'SAN BENITO ABAD', 'CALAMAR', 'EL DONCELLO',\n",
       "       'SABOYÁ', 'PALESTINA', 'OROCUÉ', 'PUEBLO NUEVO', 'VIANÍ',\n",
       "       'SAN JUANITO', 'TOCA', 'SUAITA', 'FRESNO', 'SOLITA', 'CACHIPAY',\n",
       "       'GUACHUCAL', 'VENTAQUEMADA', 'CASTILLA LA NUEVA', 'MUTISCUA',\n",
       "       'RIOFRÍO', 'BUESACO', 'TENJO', 'MANATÍ', 'RICAURTE', 'ARANZAZU',\n",
       "       'LENGUAZAQUE', 'TAUSA', 'CUMARIBO', 'LOS CÓRDOBAS', 'CHARTA',\n",
       "       'PURACÉ', 'SAN AGUSTÍN', 'EL CASTILLO', 'NIMAIMA', 'ILES',\n",
       "       'QUIBDÓ (CT)', 'MAGANGUÉ', 'CAÑASGORDAS', 'VENECIA', 'SASAIMA',\n",
       "       'YARUMAL', 'SAN LUIS', 'SANTA BÁRBARA', 'TONA', 'LA ARGENTINA',\n",
       "       'ARJONA', 'LA MESA', 'CARMEN DE CARUPA', 'ALTAMIRA', 'LA CUMBRE',\n",
       "       'ARAUQUITA', 'PUERTO SANTANDER', 'ORITO', 'LANDÁZURI', 'GUATAVITA',\n",
       "       'GUAYABETAL', 'ALBÁN', 'SUBACHOQUE', 'SALENTO', 'PINCHOTE',\n",
       "       'SALDAÑA', 'PUERTO CARREÑO (CT)', 'LA ESTRELLA', 'GINEBRA',\n",
       "       'BECERRIL', 'TRUJILLO', 'EL CAIRO', 'SÁCHICA', 'ACEVEDO',\n",
       "       'SAN PABLO', 'SANTO TOMÁS', 'CHOACHÍ', 'PUEBLO RICO', 'ANAPOIMA',\n",
       "       'EL MOLINO', 'SAN ANDRÉS', 'SAN LUIS DE PALENQUE', 'OIBA',\n",
       "       'EL PEÑÓN', 'TURBANÁ', 'LA MERCED', 'CARAMANTA', 'MAHATES', 'SUSA',\n",
       "       'PAILITAS', 'GÓMEZ PLATA', 'PORE', 'SEVILLA', 'NECOCLÍ', 'CÓMBITA',\n",
       "       'ALMEIDA', 'CURILLO', 'LOS PALMITOS', 'VÉLEZ', 'SIACHOQUE',\n",
       "       'MOLAGAVITA', 'GUACHETÁ', 'PAJARITO', 'PAICOL', 'SEGOVIA',\n",
       "       'JARDÍN', 'SAN CARLOS', 'SOCOTÁ', 'SAN BERNARDO', 'ZAPATOCA',\n",
       "       'SURATÁ', 'SAN ANTONIO', 'COYAIMA', 'LA PINTADA', 'TUCHÍN',\n",
       "       'JAMBALÓ', 'JERICÓ', 'HATONUEVO', 'SAN JACINTO', 'PIOJÓ', 'SILOS',\n",
       "       'ZAPAYÁN', 'LA PALMA', 'CONDOTO', 'MIRAFLORES', 'ALCALÁ',\n",
       "       'SUTATAUSA', 'ZAMBRANO', 'CHITAGÁ', 'ATRATO', 'SAN ANTERO', 'TADÓ',\n",
       "       'JUNÍN', 'LA PRIMAVERA', 'MACEO', 'PÁCORA', 'PAMPLONITA',\n",
       "       'VISTAHERMOSA', 'LA PEÑA', 'EL CARMEN DE CHUCURÍ', 'MATANZA',\n",
       "       'GUÁTICA', 'HATO COROZAL', 'PIJAO', 'OBANDO',\n",
       "       'SAN JUAN DE RÍO SECO', 'BUENOS AIRES', 'CÁCERES', 'CHALÁN',\n",
       "       'SAPUYES', 'MUTATÁ', 'RÁQUIRA', 'LA PLAYA', 'SANTA MARÍA',\n",
       "       'ARBOLETES', 'CACHIRÁ', 'SOATÁ', 'PUPIALES', 'SIMIJACA', 'PALMITO',\n",
       "       'CONTADERO', 'BRICEÑO', 'MOGOTES', 'PURIFICACIÓN', 'SUAN',\n",
       "       'SALAMINA', 'COCORNÁ', 'PENSILVANIA', 'EL TARRA', 'MALLAMA',\n",
       "       'FOSCA', 'TERUEL', 'VIJES', 'COROMORO', 'TARSO', 'ANDES',\n",
       "       'CLEMENCIA', 'BOAVITA', 'SAN MATEO', 'BARAYA', 'SAN BENITO',\n",
       "       'SAN BERNARDO DEL VIENTO', 'GRAMALOTE', 'EL DOVIO', 'YAGUARÁ',\n",
       "       'URIBE', 'ISTMINA', 'QUIPILE', 'SAN EDUARDO', 'LÍBANO', 'PÁRAMO',\n",
       "       'CUCAITA', 'EL CARMEN DE ATRATO', 'AGRADO', 'EL RETÉN',\n",
       "       'LA APARTADA', 'IZA', 'BUCARASICA', 'YACUANQUER',\n",
       "       'SAN LUIS DE GACENO', 'RISARALDA', 'SATIVASUR', 'SOPÓ',\n",
       "       'SAN ESTANISLAO', 'CHITA', 'MISTRATÓ', 'AMALFI', 'LA MONTAÑITA',\n",
       "       'TUBARÁ', 'VALLE DE SAN JOSÉ', 'SAN ANDRÉS DE CUERQUÍA', 'AYAPEL',\n",
       "       'POLONUEVO', 'GUACAMAYAS', 'MORELIA', 'CAMPOHERMOSO', 'DON MATÍAS',\n",
       "       'ENTRERRIOS', 'QUETAME', 'BARICHARA', 'RÍO VIEJO', 'VILLAVIEJA',\n",
       "       'CHIBOLO', 'ARGELIA', 'CHINÁCOTA', 'TARQUI',\n",
       "       'EL CARMEN DE VIBORAL', 'PUEBLORRICO', 'PAUNA', 'CERINZA',\n",
       "       'SANTA ANA', 'GUAYATÁ', 'ENCINO', 'LA CRUZ', 'LABATECA',\n",
       "       'LIBORINA', 'SUCRE', 'TITIRIBÍ', 'PACHO', 'ARROYOHONDO', 'UMBITA',\n",
       "       'CASABIANCA', 'TIBANÁ', 'SANTA ROSA', 'SANTAFÉ DE ANTIOQUIA',\n",
       "       'PIVIJAY', 'ARBOLEDAS', 'GAMEZA', 'BOJACÁ', 'AQUITANIA', 'APÍA',\n",
       "       'PUEBLO BELLO', 'CAICEDO', 'CANALETE', 'YONDÓ', 'HACARÍ',\n",
       "       'VALLE DEL GUAMUEZ', 'HERVEO', 'CABUYARO', 'COVARACHÍA',\n",
       "       'PALMAS DEL SOCORRO', 'TURMEQUÉ', 'ARBOLEDA', 'SOCHA', 'URAMITA',\n",
       "       'OICATÁ', 'COTORRA', 'ELÍAS', 'VERSALLES', 'QUINCHÍA',\n",
       "       'SAN JERÓNIMO', 'VETAS', 'TUTAZÁ', 'GÉNOVA', 'ANGELÓPOLIS',\n",
       "       'CONCEPCIÓN', 'AMAGÁ', 'UNIÓN PANAMERICANA', 'MONGUA',\n",
       "       'CARMEN DE APICALÁ', 'ONZAGA', 'ACHÍ', 'SORA', 'SANTA LUCÍA',\n",
       "       'SANDONÁ', 'MARQUETALIA', 'VICTORIA', 'REMEDIOS', 'VIRACACHÁ',\n",
       "       'SAN PEDRO DE CARTAGO', 'SALGAR', 'TENZA', 'PIEDRAS', 'CUÍTIVA',\n",
       "       'GACHETÁ', 'EL DORADO', 'DABEIBA', 'SAN RAFAEL',\n",
       "       'SAN PEDRO DE URABÁ', 'SANTA SOFÍA', 'PURÍSIMA', 'PANQUEBA',\n",
       "       'SAN SEBASTIÁN', 'SAN JOSÉ DEL FRAGUA', 'ANZA',\n",
       "       'CARTAGENA DEL CHAIRÁ', 'PUERTO CONCORDIA', 'ANORÍ', 'TRINIDAD',\n",
       "       'SANTA ROSALÍA', 'SAN LORENZO', 'PUERTO LIBERTADOR', 'REMOLINO',\n",
       "       'MEDINA', 'SAN MIGUEL', 'MONGUÍ', 'SUSACÓN', 'SIMITÍ', 'MORROA',\n",
       "       'BELÉN DE LOS ANDAQUIES', 'BOYACÁ', 'EL BAGRE', 'CHIMÁ',\n",
       "       'AMBALEMA', 'BETANIA', 'ITUANGO', 'CHINAVITA', 'CRAVO NORTE',\n",
       "       'CÉRTEGUI', 'SAN JOSÉ DEL PALMAR', 'POTOSÍ', 'FREDONIA',\n",
       "       'TIPACOQUE', 'COLOSO', 'FILADELFIA', 'GUALMATÁN', 'FLORESTA',\n",
       "       'CONCORDIA', 'SAN VICENTE', 'OTANCHE', 'NÁTAGA', 'TÓPAGA',\n",
       "       'TALAIGUA NUEVO', 'EL ROBLE', 'ZARAGOZA', 'BURITICÁ', 'EL COCUY',\n",
       "       'SALAZAR', 'TÁMARA', 'CANTAGALLO', 'EL GUAMO', 'NORCASIA', 'TOTA',\n",
       "       'GUAYABAL DE SIQUIMA', 'CERRITO', 'VERGARA', 'USIACURÍ',\n",
       "       'CAMPAMENTO', 'COPER', 'ALEJANDRÍA', 'VALLE DE SAN JUAN',\n",
       "       'PUERRES', 'SIMACOTA', 'FRONTINO', 'SONSON', 'PIJIÑO DEL CARMEN',\n",
       "       'TIQUISIO', 'ANCUYÁ', 'CAIMITO', 'OPORAPA', 'PAEZ', 'CHÍQUIZA',\n",
       "       'ARENAL', 'GIRALDO', 'PUERTO NARE', 'ALTOS DEL ROSARIO',\n",
       "       'ZETAQUIRA', 'CONFINES', 'PINILLOS', 'SORACÁ', 'ÚTICA',\n",
       "       'MONTEBELLO', 'CEPITÁ', 'ICONONZO', 'BOCHALEMA', 'CIÉNEGA',\n",
       "       'RONDÓN', 'SAN JOSÉ DE MIRANDA', 'PASCA', 'EL ÁGUILA', 'GALERAS',\n",
       "       'SAN JACINTO DEL CAUCA', 'SAN JOSÉ DE URÉ', 'LA FLORIDA',\n",
       "       'SANTA BÁRBARA DE PINTO', 'CAPARRAPÍ', 'CHIVOR', 'SATIVANORTE',\n",
       "       'FLORIÁN', 'SAN JOSÉ', 'SANTACRUZ', 'EL ROSARIO', 'TAMALAMEQUE',\n",
       "       'RAGONVALIA', 'TORIBIO', 'CAROLINA', 'PALOCABILDO', 'NOCAIMA',\n",
       "       'SAN ANDRÉS SOTAVENTO', 'CUCUNUBÁ', 'EBÉJICO', 'SAN JUAN DE URABÁ',\n",
       "       'FALAN', 'AGUA DE DIOS', 'CORRALES', 'MACANAL', 'ACANDÍ',\n",
       "       'GUARANDA', 'CUNDAY', 'VILLAHERMOSA', 'PUERTO RONDÓN', 'BELTRÁN',\n",
       "       'MESETAS', 'MONTECRISTO', 'HELICONIA', 'COLOMBIA', 'FILANDIA',\n",
       "       'GAMBITA', 'SAN JOSÉ DE LA MONTAÑA', 'SAN MARTÍN DE LOBA',\n",
       "       'MARIPÍ', 'PRADO', 'SAN MIGUEL DE SEMA', 'SOPLAVIENTO', 'LA UVITA',\n",
       "       'MARGARITA', 'LOURDES', 'CHAGUANÍ', 'GUATAPÉ', 'CICUCO',\n",
       "       'HATILLO DE LOBA', 'OCAMONTE', 'PAZ DE RÍO', 'PUERTO GUZMÁN',\n",
       "       'HISPANIA', 'BERBEO', 'SANTA ISABEL', 'PESCA', 'PACHAVITA',\n",
       "       'FUNES', 'SAN SEBASTIÁN DE BUENAVISTA', 'PULÍ', 'TENERIFE',\n",
       "       'GUACA', 'PUERTO ESCONDIDO', 'FOMEQUE', 'GUAPI', 'YACOPÍ',\n",
       "       'FLORENCIA', 'VIGÍA DEL FUERTE', 'LA CAPILLA', 'PANDI', 'BITUIMA',\n",
       "       'JESÚS MARÍA', 'CHISCAS', 'EL CHARCO', 'INÍRIDA (CT)', 'GUTIÉRREZ',\n",
       "       'PADILLA', 'NOROSÍ', 'TOGÜÍ', 'UNGUÍA', 'NÓVITA', 'CUBARÁ',\n",
       "       'LA CELIA', 'PUERTO LEGUÍZAMO', 'RECETOR', 'ALPUJARRA',\n",
       "       'MITÚ (CT)', 'UBAQUE', 'CARMEN DEL DARIEN', 'GACHANTIVÁ',\n",
       "       'EL ESPINO', 'LA LLANADA', 'TIBIRITA', 'LOS ANDES', 'MAPIRIPÁN',\n",
       "       'SOTARA', 'MARULANDA', 'REGIDOR', 'LLORÓ', 'ULLOA', 'SUPATÁ',\n",
       "       'PEQUE', 'BOJAYÁ', 'RONCESVALLES', 'SABANAS DE SAN ANGEL',\n",
       "       'ALMAGUER', 'ANGOSTURA', 'UBALÁ', 'GALÁN', 'POLICARPA', 'CHAMEZA',\n",
       "       'JORDÁN', 'VILLA CARO', 'EL PIÑON', 'BAGADÓ', 'MEDIO BAUDÓ',\n",
       "       'NECHÍ', 'ABRIAQUÍ', 'PEDRAZA', 'NUEVO COLÓN', 'CUMBITARA',\n",
       "       'TIBACUY', 'PIAMONTE', 'TÁMESIS', 'MACARAVITA', 'VILLARRICA',\n",
       "       'LEIVA', 'LA MACARENA', 'PÁEZ', 'EL PEÑOL', 'VILLAGÓMEZ', 'OSPINA',\n",
       "       'CALIFORNIA', 'MEDIO SAN JUAN', 'SAN FERNANDO', 'MILÁN', 'CHIPATÁ',\n",
       "       'LA BELLEZA', 'BAJO BAUDÓ', 'SAN JOAQUÍN', 'ALTO BAUDÓ',\n",
       "       'JERUSALÉN'], dtype=object)"
      ]
     },
     "execution_count": 79,
     "metadata": {},
     "output_type": "execute_result"
    }
   ],
   "source": [
    "# Analyzing unique values for column MUNICIPIO\n",
    "hat_df.replace({\"MUNICIPIO\":estandarizar_dic}, inplace = True)\n",
    "hat_df['MUNICIPIO'].unique()"
   ]
  },
  {
   "cell_type": "code",
   "execution_count": 80,
   "metadata": {
    "colab": {
     "base_uri": "https://localhost:8080/"
    },
    "id": "ZqYNzsICaQNS",
    "outputId": "e833edc3-7d7e-4a32-fc27-5a26a76a8865"
   },
   "outputs": [
    {
     "data": {
      "text/plain": [
       "array(['BARRANQUILLA (CT)', 'BARRANCABERMEJA', 'BARRANCO DE LOBA',\n",
       "       'BARRANCA DE UPÍA', 'BARRANCAS', 'CUBARRAL'], dtype=object)"
      ]
     },
     "execution_count": 80,
     "metadata": {},
     "output_type": "execute_result"
    }
   ],
   "source": [
    "# Analyzing unique values for column MUNICIPIO. (Checkear valores que terminen con (CT))\n",
    "hat_df['MUNICIPIO'][(hat_df['MUNICIPIO'].str.lower().str.contains('barr'))].unique()"
   ]
  },
  {
   "cell_type": "code",
   "execution_count": 81,
   "metadata": {
    "colab": {
     "base_uri": "https://localhost:8080/"
    },
    "id": "2Ltbsa7paQNS",
    "outputId": "2d1efa71-972d-4fff-f0df-527044c85461"
   },
   "outputs": [
    {
     "data": {
      "text/plain": [
       "array(['05376000', '08001000', '08421000', ..., '68682000', '27025000',\n",
       "       '25368000'], dtype=object)"
      ]
     },
     "execution_count": 81,
     "metadata": {},
     "output_type": "execute_result"
    }
   ],
   "source": [
    "# Analyzing unique values for column CODIGO DANE\n",
    "hat_df['CODIGO DANE'].unique()"
   ]
  },
  {
   "cell_type": "code",
   "execution_count": 82,
   "metadata": {
    "colab": {
     "base_uri": "https://localhost:8080/"
    },
    "id": "LknyINhBaQNT",
    "outputId": "4f1114d4-b403-4272-bddc-5177600ac5cb"
   },
   "outputs": [
    {
     "data": {
      "text/plain": [
       "array(['MOTO', 'VEHICULO', 'NO REPORTA', 'BICICLETA',\n",
       "       'SIN EMPLEO DE ARMAS', 'TREN', 'CONTUNDENTES'], dtype=object)"
      ]
     },
     "execution_count": 82,
     "metadata": {},
     "output_type": "execute_result"
    }
   ],
   "source": [
    "# Analyzing unique values for column ARMAS MEDIOS\n",
    "hat_df.replace({\"ARMAS MEDIOS\":estandarizar_dic}, inplace = True)\n",
    "hat_df['ARMAS MEDIOS'].unique()\n",
    "\n",
    "#Se podria llegar a homologar los valores para queden en categorias mas grandes"
   ]
  },
  {
   "cell_type": "code",
   "execution_count": 83,
   "metadata": {
    "id": "HufqwyaXaQNU"
   },
   "outputs": [],
   "source": [
    "# Creating a lambda expression for datetime parsing\n",
    "dateparse = lambda x: datetime.strptime(x, \"%d/%m/%Y\")"
   ]
  },
  {
   "cell_type": "code",
   "execution_count": 84,
   "metadata": {
    "id": "vflsgHn2aQNU"
   },
   "outputs": [],
   "source": [
    "# Analyzing unique values for column FECHA HECHO\n",
    "hat_df['FECHA HECHO']=hat_df['FECHA HECHO'].apply(dateparse)"
   ]
  },
  {
   "cell_type": "code",
   "execution_count": 85,
   "metadata": {
    "colab": {
     "base_uri": "https://localhost:8080/"
    },
    "id": "w3h76oV_aQNV",
    "outputId": "1704cf02-30cc-4bb8-8f91-d779457721d6"
   },
   "outputs": [
    {
     "data": {
      "text/plain": [
       "array(['MASCULINO', 'FEMENINO', 'NO REPORTA'], dtype=object)"
      ]
     },
     "execution_count": 85,
     "metadata": {},
     "output_type": "execute_result"
    }
   ],
   "source": [
    "# Analyzing unique values for column GENERO\n",
    "hat_df.replace({\"GENERO\":estandarizar_dic}, inplace = True)\n",
    "\n",
    "hat_df['GENERO'].unique()"
   ]
  },
  {
   "cell_type": "code",
   "execution_count": 86,
   "metadata": {
    "colab": {
     "base_uri": "https://localhost:8080/"
    },
    "id": "ynOaKgyhaQNW",
    "outputId": "68f39313-6c90-4d64-eb7b-f25696b0ea99"
   },
   "outputs": [
    {
     "data": {
      "text/plain": [
       "array(['ADULTOS', 'ADOLESCENTES', 'MENORES', 'NO REPORTA'], dtype=object)"
      ]
     },
     "execution_count": 86,
     "metadata": {},
     "output_type": "execute_result"
    }
   ],
   "source": [
    "# Analyzing unique values for column GRUPO ETARIO\n",
    "hat_df.replace({\"GRUPO ETARIO\":estandarizar_dic}, inplace = True)\n",
    "\n",
    "#Reemplazar valores nulos con NO REPORTA\n",
    "hat_df['GRUPO ETARIO'].fillna('NO REPORTA',inplace = True)\n",
    "\n",
    "hat_df['GRUPO ETARIO'].unique()\n"
   ]
  },
  {
   "cell_type": "code",
   "execution_count": 87,
   "metadata": {
    "colab": {
     "base_uri": "https://localhost:8080/"
    },
    "id": "Tkml-Hl8aQNX",
    "outputId": "848b15a7-5b10-4f37-d972-0583325cc607"
   },
   "outputs": [
    {
     "data": {
      "text/plain": [
       "array(['ARTÍCULO 109. HOMICIDIO CULPOSO ( EN ACCIDENTE DE TRÁNSITO)',\n",
       "       'ARTÍCULO 110. HOMICIDIO CULPOSO ( CIRCUNSTANCIAS DE AGRAVACIÓN)'],\n",
       "      dtype=object)"
      ]
     },
     "execution_count": 87,
     "metadata": {},
     "output_type": "execute_result"
    }
   ],
   "source": [
    "# Analyzing unique values for column DESCRIPCION CONDUCTA\n",
    "hat_df[\"DESCRIPCIÓN CONDUCTA\"].unique()"
   ]
  },
  {
   "cell_type": "code",
   "execution_count": 88,
   "metadata": {
    "colab": {
     "base_uri": "https://localhost:8080/"
    },
    "id": "wjmGkGTDaQNX",
    "outputId": "eb369dd6-66b6-4a74-eddb-00158dcc0919"
   },
   "outputs": [
    {
     "data": {
      "text/plain": [
       "array([ 1,  2,  4,  3,  7,  5, 10,  8,  6,  9], dtype=int64)"
      ]
     },
     "execution_count": 88,
     "metadata": {},
     "output_type": "execute_result"
    }
   ],
   "source": [
    "# Analyzing unique values for column CANTIDAD\n",
    "hat_df['CANTIDAD'].unique()"
   ]
  },
  {
   "cell_type": "code",
   "execution_count": 89,
   "metadata": {
    "id": "v_np5AsFjaA2"
   },
   "outputs": [],
   "source": [
    "#Crear columnas año y mes\n",
    "hat_df['year'] = pd.DatetimeIndex(hat_df['FECHA HECHO']).year \n",
    "hat_df['month'] = pd.DatetimeIndex(hat_df['FECHA HECHO']).month"
   ]
  },
  {
   "cell_type": "markdown",
   "metadata": {
    "id": "2y4RlHlVhlqF"
   },
   "source": [
    "#Punto 2"
   ]
  },
  {
   "cell_type": "markdown",
   "metadata": {
    "id": "8xxbrt75kjsP"
   },
   "source": [
    "##2.1 ¿Cuáles han sido los departamentos (TOP 3) más afectados en términos de cantidad de delitos cometidos en los últimos 5 años?"
   ]
  },
  {
   "cell_type": "markdown",
   "metadata": {
    "id": "jh4ItjFByAYo"
   },
   "source": [
    "R/ Para cada uno de los delitos escogidos, al analizar en un rango de los ultimos 5 años se encuentra que los principales departamentos, en cada una de estos delitos, son: CUNDINAMARCA, ANTIOQUIA y VALLE. "
   ]
  },
  {
   "cell_type": "markdown",
   "metadata": {
    "id": "eTBaVAM8hwVA"
   },
   "source": [
    "Top 3 Departamentos mas afectados en cantidad de delitos en los 5 ultimos años (Lesiones Personales)"
   ]
  },
  {
   "cell_type": "code",
   "execution_count": 90,
   "metadata": {
    "id": "mUOoUU2Nl_c5"
   },
   "outputs": [],
   "source": [
    "#Filtrar Dataframe para que solamente muestre los ultimos 5 años\n",
    "ls_df_last_5 = ls_df[ls_df['year'] >= (ls_df['year'].max()-5)]"
   ]
  },
  {
   "cell_type": "code",
   "execution_count": 91,
   "metadata": {
    "colab": {
     "base_uri": "https://localhost:8080/"
    },
    "id": "O_dIlXf2ifEd",
    "outputId": "e2110503-fb7a-4d5f-bb84-2e6547de436f"
   },
   "outputs": [
    {
     "data": {
      "text/plain": [
       "DEPARTAMENTO\n",
       "CUNDINAMARCA    181811\n",
       "ANTIOQUIA        82704\n",
       "VALLE            80769\n",
       "Name: CANTIDAD, dtype: int64"
      ]
     },
     "execution_count": 91,
     "metadata": {},
     "output_type": "execute_result"
    }
   ],
   "source": [
    "ls_df_last_5.groupby(\"DEPARTAMENTO\").sum().sort_values(by = 'CANTIDAD', ascending = False).head(3)['CANTIDAD']"
   ]
  },
  {
   "cell_type": "markdown",
   "metadata": {
    "id": "lSMMr237h_KT"
   },
   "source": [
    "Top 3 Departamentos mas afectados en cantidad de delitos en los 5 ultimos años (Violencia Intrafamiliar)"
   ]
  },
  {
   "cell_type": "code",
   "execution_count": 92,
   "metadata": {
    "colab": {
     "base_uri": "https://localhost:8080/",
     "height": 0
    },
    "id": "2fHS69SSsWoP",
    "outputId": "e97553ce-c072-418d-e083-e5f735d7e30c"
   },
   "outputs": [],
   "source": [
    "#Filtrar Dataframe para que solamente muestre los ultimos 5 años\n",
    "vi_df_last_5 = vi_df[vi_df['year'] >= (vi_df['year'].max()-5)]"
   ]
  },
  {
   "cell_type": "code",
   "execution_count": 93,
   "metadata": {
    "colab": {
     "base_uri": "https://localhost:8080/"
    },
    "id": "nEEUKkMCsW7G",
    "outputId": "54f95f3e-09de-4b45-d0e6-692a25bc2256"
   },
   "outputs": [
    {
     "data": {
      "text/plain": [
       "DEPARTAMENTO\n",
       "CUNDINAMARCA    198686\n",
       "ANTIOQUIA        70645\n",
       "VALLE            41660\n",
       "Name: CANTIDAD, dtype: int64"
      ]
     },
     "execution_count": 93,
     "metadata": {},
     "output_type": "execute_result"
    }
   ],
   "source": [
    "vi_df_last_5.groupby(\"DEPARTAMENTO\").sum().sort_values(by = 'CANTIDAD', ascending = False).head(3)['CANTIDAD']"
   ]
  },
  {
   "cell_type": "markdown",
   "metadata": {
    "id": "yI-0bl8eiC1B"
   },
   "source": [
    "Top 3 Departamentos mas afectados en cantidad de delitos en los 5 ultimos años (Delitos Sexuales)"
   ]
  },
  {
   "cell_type": "code",
   "execution_count": 94,
   "metadata": {
    "id": "pwAHd81IsXmH"
   },
   "outputs": [],
   "source": [
    "#Filtrar Dataframe para que solamente muestre los ultimos 5 años\n",
    "ds_df_last_5 = ds_df[ds_df['year'] >= (ds_df['year'].max()-5)]"
   ]
  },
  {
   "cell_type": "code",
   "execution_count": 95,
   "metadata": {
    "colab": {
     "base_uri": "https://localhost:8080/"
    },
    "id": "nI9io6-DsX2g",
    "outputId": "3534506f-2ca2-44bf-f54f-fdf96ece3123"
   },
   "outputs": [
    {
     "data": {
      "text/plain": [
       "DEPARTAMENTO\n",
       "CUNDINAMARCA    32731\n",
       "ANTIOQUIA       21496\n",
       "VALLE           14223\n",
       "Name: CANTIDAD, dtype: int64"
      ]
     },
     "execution_count": 95,
     "metadata": {},
     "output_type": "execute_result"
    }
   ],
   "source": [
    "ds_df_last_5.groupby(\"DEPARTAMENTO\").sum().sort_values(by = 'CANTIDAD', ascending = False).head(3)['CANTIDAD']"
   ]
  },
  {
   "cell_type": "markdown",
   "metadata": {
    "id": "IAAms6aMiFnK"
   },
   "source": [
    "Top 3 Departamentos mas afectados en cantidad de delitos en los 5 ultimos años (Homicidios Accidentes Transito)"
   ]
  },
  {
   "cell_type": "code",
   "execution_count": 96,
   "metadata": {
    "id": "7AZkeFaOsYXr"
   },
   "outputs": [],
   "source": [
    "#Filtrar Dataframe para que solamente muestre los ultimos 5 años\n",
    "hat_df_last_5 = hat_df[hat_df['year'] >= (hat_df['year'].max()-5)]"
   ]
  },
  {
   "cell_type": "code",
   "execution_count": 97,
   "metadata": {
    "colab": {
     "base_uri": "https://localhost:8080/"
    },
    "id": "O2nJ_vybsYOZ",
    "outputId": "910acb93-95bf-4351-b36f-46d34c50b76b"
   },
   "outputs": [
    {
     "data": {
      "text/plain": [
       "DEPARTAMENTO\n",
       "CUNDINAMARCA    4737\n",
       "ANTIOQUIA       4392\n",
       "VALLE           3855\n",
       "Name: CANTIDAD, dtype: int64"
      ]
     },
     "execution_count": 97,
     "metadata": {},
     "output_type": "execute_result"
    }
   ],
   "source": [
    "hat_df_last_5.groupby(\"DEPARTAMENTO\").sum().sort_values(by = 'CANTIDAD', ascending = False).head(3)['CANTIDAD']"
   ]
  },
  {
   "cell_type": "markdown",
   "metadata": {
    "id": "xC2NQNWJuOKC"
   },
   "source": [
    "##2.2 Para los casos en los que aplique, ¿cuál ha sido el arma o medio más común para cometer el delito?"
   ]
  },
  {
   "cell_type": "markdown",
   "metadata": {
    "id": "qTIKpouJw_5C"
   },
   "source": [
    "R/ De los delitos escogidos se podía realizar el análisis acerca de solamente tres de ellos: Lesiones Personales, Violencia Familiar y Delitos Sexuales. \n",
    "\n",
    "* Para los data frame de Lesiones Personales se encuentra que las armas mayormente utilizadas en este tipo de delitos son armas contundentes.\n",
    "* Para los delitos sexuales se encuentra que para la mayor cantidad de estos delitos fueron sin utilizar armas. "
   ]
  },
  {
   "cell_type": "code",
   "execution_count": 98,
   "metadata": {
    "colab": {
     "base_uri": "https://localhost:8080/"
    },
    "id": "Efsr1NHbuRdF",
    "outputId": "6d6d1b17-074c-4359-c67e-34501486de82"
   },
   "outputs": [
    {
     "data": {
      "text/plain": [
       "ARMAS MEDIOS\n",
       "CONTUNDENTES                   563579\n",
       "ARMA BLANCA / CORTOPUNZANTE    411909\n",
       "VEHICULO                       254032\n",
       "MOTO                           153094\n",
       "SIN EMPLEO DE ARMAS             97767\n",
       "NO REPORTA                      59366\n",
       "ARMA DE FUEGO                   54860\n",
       "ACIDO                           15561\n",
       "PUNZANTES                        5388\n",
       "BICICLETA                        2672\n",
       "Name: CANTIDAD, dtype: int64"
      ]
     },
     "execution_count": 98,
     "metadata": {},
     "output_type": "execute_result"
    }
   ],
   "source": [
    "ls_df.groupby(\"ARMAS MEDIOS\").sum().sort_values(by = 'CANTIDAD', ascending = False).head(10)['CANTIDAD']"
   ]
  },
  {
   "cell_type": "code",
   "execution_count": 99,
   "metadata": {
    "colab": {
     "base_uri": "https://localhost:8080/"
    },
    "id": "2_Mi1Q-GudLZ",
    "outputId": "364fc494-c11c-482c-d909-75f3d1cd81d3"
   },
   "outputs": [
    {
     "data": {
      "text/plain": [
       "ARMAS MEDIOS\n",
       "CONTUNDENTES                   396253\n",
       "SIN EMPLEO DE ARMAS            290581\n",
       "NO REPORTA                     133280\n",
       "ARMA BLANCA / CORTOPUNZANTE     44464\n",
       "ESCOPOLAMINA                     7294\n",
       "ARMA DE FUEGO                    2616\n",
       "CORTOPUNZANTES                   1195\n",
       "CORTANTES                        1178\n",
       "PUNZANTES                         336\n",
       "Name: CANTIDAD, dtype: int64"
      ]
     },
     "execution_count": 99,
     "metadata": {},
     "output_type": "execute_result"
    }
   ],
   "source": [
    "vi_df.groupby(\"ARMAS MEDIOS\").sum().sort_values(by = 'CANTIDAD', ascending = False).head(10)['CANTIDAD']"
   ]
  },
  {
   "cell_type": "code",
   "execution_count": 100,
   "metadata": {
    "colab": {
     "base_uri": "https://localhost:8080/"
    },
    "id": "-AT69PXhuek9",
    "outputId": "a00dc30d-2a57-4b03-9a98-574995fa0428"
   },
   "outputs": [
    {
     "data": {
      "text/plain": [
       "ARMAS MEDIOS\n",
       "SIN EMPLEO DE ARMAS            120848\n",
       "NO REPORTA                      63103\n",
       "CONTUNDENTES                    44315\n",
       "ARMA BLANCA / CORTOPUNZANTE     12645\n",
       "ESCOPOLAMINA                     6167\n",
       "ARMA DE FUEGO                    2186\n",
       "LICOR ADULTERADO                  953\n",
       "CORTOPUNZANTES                    105\n",
       "CINTAS/CINTURON                   103\n",
       "ESPOSAS                            62\n",
       "Name: CANTIDAD, dtype: int64"
      ]
     },
     "execution_count": 100,
     "metadata": {},
     "output_type": "execute_result"
    }
   ],
   "source": [
    "ds_df.groupby(\"ARMAS MEDIOS\").sum().sort_values(by = 'CANTIDAD', ascending = False).head(10)['CANTIDAD']"
   ]
  },
  {
   "cell_type": "markdown",
   "metadata": {
    "id": "YCnB1l-z44ck"
   },
   "source": [
    "##2.3 Para los casos en los que aplique, ¿cómo ha sido la proporción de géneros  grupos etarios que han estado involucrados en este tipo de delito? ¿Han variado con el paso de los años?"
   ]
  },
  {
   "cell_type": "markdown",
   "metadata": {
    "id": "zShlRhdRazUP"
   },
   "source": [
    "R/ Para cada uno de los dataframes analizados se evidencia que las personas del genero masculino han sido los mas involucrados en este tipo de delitos. Estos a lo largo de los años se han venido incrementando con la excepción que desde el año 2018 se evidencia una disminución. Este mismo comportamiento se evidencia con los ADULTOS con la variable de GRUPO ETARIO. "
   ]
  },
  {
   "cell_type": "markdown",
   "metadata": {
    "id": "CK-X2q_p5JP6"
   },
   "source": [
    "Data Frame de lesiones: "
   ]
  },
  {
   "cell_type": "code",
   "execution_count": 101,
   "metadata": {
    "id": "pXJhMoFQ5GcS"
   },
   "outputs": [
    {
     "data": {
      "text/html": [
       "<div>\n",
       "<style scoped>\n",
       "    .dataframe tbody tr th:only-of-type {\n",
       "        vertical-align: middle;\n",
       "    }\n",
       "\n",
       "    .dataframe tbody tr th {\n",
       "        vertical-align: top;\n",
       "    }\n",
       "\n",
       "    .dataframe thead th {\n",
       "        text-align: right;\n",
       "    }\n",
       "</style>\n",
       "<table border=\"1\" class=\"dataframe\">\n",
       "  <thead>\n",
       "    <tr style=\"text-align: right;\">\n",
       "      <th></th>\n",
       "      <th>GENERO</th>\n",
       "      <th>year</th>\n",
       "      <th>CANTIDAD</th>\n",
       "    </tr>\n",
       "  </thead>\n",
       "  <tbody>\n",
       "    <tr>\n",
       "      <th>32</th>\n",
       "      <td>NO REPORTA</td>\n",
       "      <td>2010</td>\n",
       "      <td>21</td>\n",
       "    </tr>\n",
       "    <tr>\n",
       "      <th>21</th>\n",
       "      <td>FEMENINO</td>\n",
       "      <td>2010</td>\n",
       "      <td>30559</td>\n",
       "    </tr>\n",
       "    <tr>\n",
       "      <th>14</th>\n",
       "      <td>MASCULINO</td>\n",
       "      <td>2010</td>\n",
       "      <td>58565</td>\n",
       "    </tr>\n",
       "    <tr>\n",
       "      <th>19</th>\n",
       "      <td>FEMENINO</td>\n",
       "      <td>2011</td>\n",
       "      <td>34759</td>\n",
       "    </tr>\n",
       "    <tr>\n",
       "      <th>27</th>\n",
       "      <td>NO REPORTA</td>\n",
       "      <td>2011</td>\n",
       "      <td>80</td>\n",
       "    </tr>\n",
       "    <tr>\n",
       "      <th>13</th>\n",
       "      <td>MASCULINO</td>\n",
       "      <td>2011</td>\n",
       "      <td>64310</td>\n",
       "    </tr>\n",
       "    <tr>\n",
       "      <th>30</th>\n",
       "      <td>NO REPORTA</td>\n",
       "      <td>2012</td>\n",
       "      <td>28</td>\n",
       "    </tr>\n",
       "    <tr>\n",
       "      <th>18</th>\n",
       "      <td>FEMENINO</td>\n",
       "      <td>2012</td>\n",
       "      <td>44229</td>\n",
       "    </tr>\n",
       "    <tr>\n",
       "      <th>11</th>\n",
       "      <td>MASCULINO</td>\n",
       "      <td>2012</td>\n",
       "      <td>76054</td>\n",
       "    </tr>\n",
       "    <tr>\n",
       "      <th>33</th>\n",
       "      <td>NO REPORTA</td>\n",
       "      <td>2013</td>\n",
       "      <td>12</td>\n",
       "    </tr>\n",
       "    <tr>\n",
       "      <th>17</th>\n",
       "      <td>FEMENINO</td>\n",
       "      <td>2013</td>\n",
       "      <td>46015</td>\n",
       "    </tr>\n",
       "    <tr>\n",
       "      <th>9</th>\n",
       "      <td>MASCULINO</td>\n",
       "      <td>2013</td>\n",
       "      <td>78192</td>\n",
       "    </tr>\n",
       "    <tr>\n",
       "      <th>16</th>\n",
       "      <td>FEMENINO</td>\n",
       "      <td>2014</td>\n",
       "      <td>46044</td>\n",
       "    </tr>\n",
       "    <tr>\n",
       "      <th>38</th>\n",
       "      <td>NO REPORTA</td>\n",
       "      <td>2014</td>\n",
       "      <td>1</td>\n",
       "    </tr>\n",
       "    <tr>\n",
       "      <th>10</th>\n",
       "      <td>MASCULINO</td>\n",
       "      <td>2014</td>\n",
       "      <td>76623</td>\n",
       "    </tr>\n",
       "    <tr>\n",
       "      <th>15</th>\n",
       "      <td>FEMENINO</td>\n",
       "      <td>2015</td>\n",
       "      <td>49433</td>\n",
       "    </tr>\n",
       "    <tr>\n",
       "      <th>8</th>\n",
       "      <td>MASCULINO</td>\n",
       "      <td>2015</td>\n",
       "      <td>80117</td>\n",
       "    </tr>\n",
       "    <tr>\n",
       "      <th>36</th>\n",
       "      <td>NO REPORTA</td>\n",
       "      <td>2015</td>\n",
       "      <td>1</td>\n",
       "    </tr>\n",
       "    <tr>\n",
       "      <th>37</th>\n",
       "      <td>NO REPORTA</td>\n",
       "      <td>2016</td>\n",
       "      <td>1</td>\n",
       "    </tr>\n",
       "    <tr>\n",
       "      <th>0</th>\n",
       "      <td>MASCULINO</td>\n",
       "      <td>2016</td>\n",
       "      <td>120833</td>\n",
       "    </tr>\n",
       "    <tr>\n",
       "      <th>6</th>\n",
       "      <td>FEMENINO</td>\n",
       "      <td>2016</td>\n",
       "      <td>83429</td>\n",
       "    </tr>\n",
       "    <tr>\n",
       "      <th>5</th>\n",
       "      <td>FEMENINO</td>\n",
       "      <td>2017</td>\n",
       "      <td>85038</td>\n",
       "    </tr>\n",
       "    <tr>\n",
       "      <th>34</th>\n",
       "      <td>NO REPORTA</td>\n",
       "      <td>2017</td>\n",
       "      <td>12</td>\n",
       "    </tr>\n",
       "    <tr>\n",
       "      <th>1</th>\n",
       "      <td>MASCULINO</td>\n",
       "      <td>2017</td>\n",
       "      <td>114886</td>\n",
       "    </tr>\n",
       "    <tr>\n",
       "      <th>29</th>\n",
       "      <td>NO REPORTA</td>\n",
       "      <td>2018</td>\n",
       "      <td>41</td>\n",
       "    </tr>\n",
       "    <tr>\n",
       "      <th>7</th>\n",
       "      <td>FEMENINO</td>\n",
       "      <td>2018</td>\n",
       "      <td>82055</td>\n",
       "    </tr>\n",
       "    <tr>\n",
       "      <th>2</th>\n",
       "      <td>MASCULINO</td>\n",
       "      <td>2018</td>\n",
       "      <td>105200</td>\n",
       "    </tr>\n",
       "    <tr>\n",
       "      <th>12</th>\n",
       "      <td>FEMENINO</td>\n",
       "      <td>2019</td>\n",
       "      <td>67266</td>\n",
       "    </tr>\n",
       "    <tr>\n",
       "      <th>31</th>\n",
       "      <td>NO REPORTA</td>\n",
       "      <td>2019</td>\n",
       "      <td>26</td>\n",
       "    </tr>\n",
       "    <tr>\n",
       "      <th>3</th>\n",
       "      <td>MASCULINO</td>\n",
       "      <td>2019</td>\n",
       "      <td>92133</td>\n",
       "    </tr>\n",
       "    <tr>\n",
       "      <th>35</th>\n",
       "      <td>NO REPORTA</td>\n",
       "      <td>2020</td>\n",
       "      <td>7</td>\n",
       "    </tr>\n",
       "    <tr>\n",
       "      <th>20</th>\n",
       "      <td>MASCULINO</td>\n",
       "      <td>2020</td>\n",
       "      <td>32163</td>\n",
       "    </tr>\n",
       "    <tr>\n",
       "      <th>23</th>\n",
       "      <td>FEMENINO</td>\n",
       "      <td>2020</td>\n",
       "      <td>21065</td>\n",
       "    </tr>\n",
       "    <tr>\n",
       "      <th>4</th>\n",
       "      <td>NO REPORTA</td>\n",
       "      <td>2021</td>\n",
       "      <td>91336</td>\n",
       "    </tr>\n",
       "    <tr>\n",
       "      <th>25</th>\n",
       "      <td>MASCULINO</td>\n",
       "      <td>2021</td>\n",
       "      <td>836</td>\n",
       "    </tr>\n",
       "    <tr>\n",
       "      <th>26</th>\n",
       "      <td>FEMENINO</td>\n",
       "      <td>2021</td>\n",
       "      <td>376</td>\n",
       "    </tr>\n",
       "    <tr>\n",
       "      <th>24</th>\n",
       "      <td>FEMENINO</td>\n",
       "      <td>2022</td>\n",
       "      <td>18645</td>\n",
       "    </tr>\n",
       "    <tr>\n",
       "      <th>22</th>\n",
       "      <td>MASCULINO</td>\n",
       "      <td>2022</td>\n",
       "      <td>29906</td>\n",
       "    </tr>\n",
       "    <tr>\n",
       "      <th>28</th>\n",
       "      <td>NO REPORTA</td>\n",
       "      <td>2022</td>\n",
       "      <td>57</td>\n",
       "    </tr>\n",
       "  </tbody>\n",
       "</table>\n",
       "</div>"
      ],
      "text/plain": [
       "        GENERO  year  CANTIDAD\n",
       "32  NO REPORTA  2010        21\n",
       "21    FEMENINO  2010     30559\n",
       "14   MASCULINO  2010     58565\n",
       "19    FEMENINO  2011     34759\n",
       "27  NO REPORTA  2011        80\n",
       "13   MASCULINO  2011     64310\n",
       "30  NO REPORTA  2012        28\n",
       "18    FEMENINO  2012     44229\n",
       "11   MASCULINO  2012     76054\n",
       "33  NO REPORTA  2013        12\n",
       "17    FEMENINO  2013     46015\n",
       "9    MASCULINO  2013     78192\n",
       "16    FEMENINO  2014     46044\n",
       "38  NO REPORTA  2014         1\n",
       "10   MASCULINO  2014     76623\n",
       "15    FEMENINO  2015     49433\n",
       "8    MASCULINO  2015     80117\n",
       "36  NO REPORTA  2015         1\n",
       "37  NO REPORTA  2016         1\n",
       "0    MASCULINO  2016    120833\n",
       "6     FEMENINO  2016     83429\n",
       "5     FEMENINO  2017     85038\n",
       "34  NO REPORTA  2017        12\n",
       "1    MASCULINO  2017    114886\n",
       "29  NO REPORTA  2018        41\n",
       "7     FEMENINO  2018     82055\n",
       "2    MASCULINO  2018    105200\n",
       "12    FEMENINO  2019     67266\n",
       "31  NO REPORTA  2019        26\n",
       "3    MASCULINO  2019     92133\n",
       "35  NO REPORTA  2020         7\n",
       "20   MASCULINO  2020     32163\n",
       "23    FEMENINO  2020     21065\n",
       "4   NO REPORTA  2021     91336\n",
       "25   MASCULINO  2021       836\n",
       "26    FEMENINO  2021       376\n",
       "24    FEMENINO  2022     18645\n",
       "22   MASCULINO  2022     29906\n",
       "28  NO REPORTA  2022        57"
      ]
     },
     "execution_count": 101,
     "metadata": {},
     "output_type": "execute_result"
    }
   ],
   "source": [
    "#Creacion de nueva variable conteniendo genero, año y creacion de grafica\n",
    "ls_genero = ls_df.groupby(['GENERO', 'year']).sum().sort_values(by = 'CANTIDAD', ascending = False)['CANTIDAD']\n",
    "ls_genero = ls_genero.reset_index()\n",
    "ls_genero.sort_values(by = 'year')"
   ]
  },
  {
   "cell_type": "code",
   "execution_count": 102,
   "metadata": {
    "colab": {
     "base_uri": "https://localhost:8080/",
     "height": 456
    },
    "id": "gHezHA-x-_mx",
    "outputId": "1bf7a303-a811-4efd-fea3-573deb0351d1"
   },
   "outputs": [
    {
     "data": {
      "text/plain": [
       "Text(0.5, 1.0, 'Proporción de Géneros Involucrados en Lesiones Personales')"
      ]
     },
     "execution_count": 102,
     "metadata": {},
     "output_type": "execute_result"
    },
    {
     "data": {
      "image/png": "[encoded data removed]",
      "text/plain": [
       "<Figure size 1440x576 with 1 Axes>"
      ]
     },
     "metadata": {
      "needs_background": "light"
     },
     "output_type": "display_data"
    }
   ],
   "source": [
    "fig, ax = plt.subplots(figsize=(20, 8))\n",
    "sns.barplot(ax = ax, data = ls_genero, x='year', y='CANTIDAD', hue ='GENERO')\n",
    "plt.title('Proporción de Géneros Involucrados en Lesiones Personales')"
   ]
  },
  {
   "cell_type": "code",
   "execution_count": 103,
   "metadata": {
    "id": "LoS-ppu6LxCc"
   },
   "outputs": [
    {
     "data": {
      "text/html": [
       "<div>\n",
       "<style scoped>\n",
       "    .dataframe tbody tr th:only-of-type {\n",
       "        vertical-align: middle;\n",
       "    }\n",
       "\n",
       "    .dataframe tbody tr th {\n",
       "        vertical-align: top;\n",
       "    }\n",
       "\n",
       "    .dataframe thead th {\n",
       "        text-align: right;\n",
       "    }\n",
       "</style>\n",
       "<table border=\"1\" class=\"dataframe\">\n",
       "  <thead>\n",
       "    <tr style=\"text-align: right;\">\n",
       "      <th></th>\n",
       "      <th>GRUPO ETARIO</th>\n",
       "      <th>year</th>\n",
       "      <th>CANTIDAD</th>\n",
       "    </tr>\n",
       "  </thead>\n",
       "  <tbody>\n",
       "    <tr>\n",
       "      <th>22</th>\n",
       "      <td>ADOLESCENTES</td>\n",
       "      <td>2010</td>\n",
       "      <td>7165</td>\n",
       "    </tr>\n",
       "    <tr>\n",
       "      <th>33</th>\n",
       "      <td>MENORES</td>\n",
       "      <td>2010</td>\n",
       "      <td>3378</td>\n",
       "    </tr>\n",
       "    <tr>\n",
       "      <th>10</th>\n",
       "      <td>ADULTOS</td>\n",
       "      <td>2010</td>\n",
       "      <td>78602</td>\n",
       "    </tr>\n",
       "    <tr>\n",
       "      <th>21</th>\n",
       "      <td>ADOLESCENTES</td>\n",
       "      <td>2011</td>\n",
       "      <td>8273</td>\n",
       "    </tr>\n",
       "    <tr>\n",
       "      <th>9</th>\n",
       "      <td>ADULTOS</td>\n",
       "      <td>2011</td>\n",
       "      <td>87425</td>\n",
       "    </tr>\n",
       "    <tr>\n",
       "      <th>32</th>\n",
       "      <td>MENORES</td>\n",
       "      <td>2011</td>\n",
       "      <td>3451</td>\n",
       "    </tr>\n",
       "    <tr>\n",
       "      <th>19</th>\n",
       "      <td>ADOLESCENTES</td>\n",
       "      <td>2012</td>\n",
       "      <td>9239</td>\n",
       "    </tr>\n",
       "    <tr>\n",
       "      <th>31</th>\n",
       "      <td>MENORES</td>\n",
       "      <td>2012</td>\n",
       "      <td>3567</td>\n",
       "    </tr>\n",
       "    <tr>\n",
       "      <th>45</th>\n",
       "      <td>NO REPORTA</td>\n",
       "      <td>2012</td>\n",
       "      <td>2</td>\n",
       "    </tr>\n",
       "    <tr>\n",
       "      <th>7</th>\n",
       "      <td>ADULTOS</td>\n",
       "      <td>2012</td>\n",
       "      <td>107503</td>\n",
       "    </tr>\n",
       "    <tr>\n",
       "      <th>5</th>\n",
       "      <td>ADULTOS</td>\n",
       "      <td>2013</td>\n",
       "      <td>110737</td>\n",
       "    </tr>\n",
       "    <tr>\n",
       "      <th>28</th>\n",
       "      <td>MENORES</td>\n",
       "      <td>2013</td>\n",
       "      <td>3948</td>\n",
       "    </tr>\n",
       "    <tr>\n",
       "      <th>18</th>\n",
       "      <td>ADOLESCENTES</td>\n",
       "      <td>2013</td>\n",
       "      <td>9534</td>\n",
       "    </tr>\n",
       "    <tr>\n",
       "      <th>6</th>\n",
       "      <td>ADULTOS</td>\n",
       "      <td>2014</td>\n",
       "      <td>109867</td>\n",
       "    </tr>\n",
       "    <tr>\n",
       "      <th>30</th>\n",
       "      <td>MENORES</td>\n",
       "      <td>2014</td>\n",
       "      <td>3748</td>\n",
       "    </tr>\n",
       "    <tr>\n",
       "      <th>46</th>\n",
       "      <td>NO REPORTA</td>\n",
       "      <td>2014</td>\n",
       "      <td>1</td>\n",
       "    </tr>\n",
       "    <tr>\n",
       "      <th>20</th>\n",
       "      <td>ADOLESCENTES</td>\n",
       "      <td>2014</td>\n",
       "      <td>9052</td>\n",
       "    </tr>\n",
       "    <tr>\n",
       "      <th>4</th>\n",
       "      <td>ADULTOS</td>\n",
       "      <td>2015</td>\n",
       "      <td>115901</td>\n",
       "    </tr>\n",
       "    <tr>\n",
       "      <th>29</th>\n",
       "      <td>MENORES</td>\n",
       "      <td>2015</td>\n",
       "      <td>3794</td>\n",
       "    </tr>\n",
       "    <tr>\n",
       "      <th>47</th>\n",
       "      <td>NO REPORTA</td>\n",
       "      <td>2015</td>\n",
       "      <td>1</td>\n",
       "    </tr>\n",
       "    <tr>\n",
       "      <th>17</th>\n",
       "      <td>ADOLESCENTES</td>\n",
       "      <td>2015</td>\n",
       "      <td>9855</td>\n",
       "    </tr>\n",
       "    <tr>\n",
       "      <th>23</th>\n",
       "      <td>MENORES</td>\n",
       "      <td>2016</td>\n",
       "      <td>5545</td>\n",
       "    </tr>\n",
       "    <tr>\n",
       "      <th>0</th>\n",
       "      <td>ADULTOS</td>\n",
       "      <td>2016</td>\n",
       "      <td>184067</td>\n",
       "    </tr>\n",
       "    <tr>\n",
       "      <th>48</th>\n",
       "      <td>NO REPORTA</td>\n",
       "      <td>2016</td>\n",
       "      <td>1</td>\n",
       "    </tr>\n",
       "    <tr>\n",
       "      <th>13</th>\n",
       "      <td>ADOLESCENTES</td>\n",
       "      <td>2016</td>\n",
       "      <td>14650</td>\n",
       "    </tr>\n",
       "    <tr>\n",
       "      <th>24</th>\n",
       "      <td>MENORES</td>\n",
       "      <td>2017</td>\n",
       "      <td>5183</td>\n",
       "    </tr>\n",
       "    <tr>\n",
       "      <th>1</th>\n",
       "      <td>ADULTOS</td>\n",
       "      <td>2017</td>\n",
       "      <td>181217</td>\n",
       "    </tr>\n",
       "    <tr>\n",
       "      <th>44</th>\n",
       "      <td>NO REPORTA</td>\n",
       "      <td>2017</td>\n",
       "      <td>12</td>\n",
       "    </tr>\n",
       "    <tr>\n",
       "      <th>14</th>\n",
       "      <td>ADOLESCENTES</td>\n",
       "      <td>2017</td>\n",
       "      <td>13524</td>\n",
       "    </tr>\n",
       "    <tr>\n",
       "      <th>2</th>\n",
       "      <td>ADULTOS</td>\n",
       "      <td>2018</td>\n",
       "      <td>171188</td>\n",
       "    </tr>\n",
       "    <tr>\n",
       "      <th>41</th>\n",
       "      <td>NO REPORTA</td>\n",
       "      <td>2018</td>\n",
       "      <td>41</td>\n",
       "    </tr>\n",
       "    <tr>\n",
       "      <th>15</th>\n",
       "      <td>ADOLESCENTES</td>\n",
       "      <td>2018</td>\n",
       "      <td>11835</td>\n",
       "    </tr>\n",
       "    <tr>\n",
       "      <th>25</th>\n",
       "      <td>MENORES</td>\n",
       "      <td>2018</td>\n",
       "      <td>4232</td>\n",
       "    </tr>\n",
       "    <tr>\n",
       "      <th>3</th>\n",
       "      <td>ADULTOS</td>\n",
       "      <td>2019</td>\n",
       "      <td>144644</td>\n",
       "    </tr>\n",
       "    <tr>\n",
       "      <th>16</th>\n",
       "      <td>ADOLESCENTES</td>\n",
       "      <td>2019</td>\n",
       "      <td>10716</td>\n",
       "    </tr>\n",
       "    <tr>\n",
       "      <th>26</th>\n",
       "      <td>MENORES</td>\n",
       "      <td>2019</td>\n",
       "      <td>4039</td>\n",
       "    </tr>\n",
       "    <tr>\n",
       "      <th>42</th>\n",
       "      <td>NO REPORTA</td>\n",
       "      <td>2019</td>\n",
       "      <td>26</td>\n",
       "    </tr>\n",
       "    <tr>\n",
       "      <th>35</th>\n",
       "      <td>MENORES</td>\n",
       "      <td>2020</td>\n",
       "      <td>1566</td>\n",
       "    </tr>\n",
       "    <tr>\n",
       "      <th>38</th>\n",
       "      <td>NO REPORTA</td>\n",
       "      <td>2020</td>\n",
       "      <td>898</td>\n",
       "    </tr>\n",
       "    <tr>\n",
       "      <th>27</th>\n",
       "      <td>ADOLESCENTES</td>\n",
       "      <td>2020</td>\n",
       "      <td>4004</td>\n",
       "    </tr>\n",
       "    <tr>\n",
       "      <th>11</th>\n",
       "      <td>ADULTOS</td>\n",
       "      <td>2020</td>\n",
       "      <td>46767</td>\n",
       "    </tr>\n",
       "    <tr>\n",
       "      <th>8</th>\n",
       "      <td>NO REPORTA</td>\n",
       "      <td>2021</td>\n",
       "      <td>91336</td>\n",
       "    </tr>\n",
       "    <tr>\n",
       "      <th>43</th>\n",
       "      <td>MENORES</td>\n",
       "      <td>2021</td>\n",
       "      <td>14</td>\n",
       "    </tr>\n",
       "    <tr>\n",
       "      <th>40</th>\n",
       "      <td>ADOLESCENTES</td>\n",
       "      <td>2021</td>\n",
       "      <td>55</td>\n",
       "    </tr>\n",
       "    <tr>\n",
       "      <th>37</th>\n",
       "      <td>ADULTOS</td>\n",
       "      <td>2021</td>\n",
       "      <td>1143</td>\n",
       "    </tr>\n",
       "    <tr>\n",
       "      <th>39</th>\n",
       "      <td>NO REPORTA</td>\n",
       "      <td>2022</td>\n",
       "      <td>57</td>\n",
       "    </tr>\n",
       "    <tr>\n",
       "      <th>34</th>\n",
       "      <td>ADOLESCENTES</td>\n",
       "      <td>2022</td>\n",
       "      <td>3363</td>\n",
       "    </tr>\n",
       "    <tr>\n",
       "      <th>12</th>\n",
       "      <td>ADULTOS</td>\n",
       "      <td>2022</td>\n",
       "      <td>43747</td>\n",
       "    </tr>\n",
       "    <tr>\n",
       "      <th>36</th>\n",
       "      <td>MENORES</td>\n",
       "      <td>2022</td>\n",
       "      <td>1441</td>\n",
       "    </tr>\n",
       "  </tbody>\n",
       "</table>\n",
       "</div>"
      ],
      "text/plain": [
       "    GRUPO ETARIO  year  CANTIDAD\n",
       "22  ADOLESCENTES  2010      7165\n",
       "33       MENORES  2010      3378\n",
       "10       ADULTOS  2010     78602\n",
       "21  ADOLESCENTES  2011      8273\n",
       "9        ADULTOS  2011     87425\n",
       "32       MENORES  2011      3451\n",
       "19  ADOLESCENTES  2012      9239\n",
       "31       MENORES  2012      3567\n",
       "45    NO REPORTA  2012         2\n",
       "7        ADULTOS  2012    107503\n",
       "5        ADULTOS  2013    110737\n",
       "28       MENORES  2013      3948\n",
       "18  ADOLESCENTES  2013      9534\n",
       "6        ADULTOS  2014    109867\n",
       "30       MENORES  2014      3748\n",
       "46    NO REPORTA  2014         1\n",
       "20  ADOLESCENTES  2014      9052\n",
       "4        ADULTOS  2015    115901\n",
       "29       MENORES  2015      3794\n",
       "47    NO REPORTA  2015         1\n",
       "17  ADOLESCENTES  2015      9855\n",
       "23       MENORES  2016      5545\n",
       "0        ADULTOS  2016    184067\n",
       "48    NO REPORTA  2016         1\n",
       "13  ADOLESCENTES  2016     14650\n",
       "24       MENORES  2017      5183\n",
       "1        ADULTOS  2017    181217\n",
       "44    NO REPORTA  2017        12\n",
       "14  ADOLESCENTES  2017     13524\n",
       "2        ADULTOS  2018    171188\n",
       "41    NO REPORTA  2018        41\n",
       "15  ADOLESCENTES  2018     11835\n",
       "25       MENORES  2018      4232\n",
       "3        ADULTOS  2019    144644\n",
       "16  ADOLESCENTES  2019     10716\n",
       "26       MENORES  2019      4039\n",
       "42    NO REPORTA  2019        26\n",
       "35       MENORES  2020      1566\n",
       "38    NO REPORTA  2020       898\n",
       "27  ADOLESCENTES  2020      4004\n",
       "11       ADULTOS  2020     46767\n",
       "8     NO REPORTA  2021     91336\n",
       "43       MENORES  2021        14\n",
       "40  ADOLESCENTES  2021        55\n",
       "37       ADULTOS  2021      1143\n",
       "39    NO REPORTA  2022        57\n",
       "34  ADOLESCENTES  2022      3363\n",
       "12       ADULTOS  2022     43747\n",
       "36       MENORES  2022      1441"
      ]
     },
     "execution_count": 103,
     "metadata": {},
     "output_type": "execute_result"
    }
   ],
   "source": [
    "#Creacion de nueva variable conteniendo grupo etario, año y creacion de grafica\n",
    "ls_grupoetario = ls_df.groupby(['GRUPO ETARIO', 'year']).sum().sort_values(by = 'CANTIDAD', ascending = False)['CANTIDAD']\n",
    "ls_grupoetario = ls_grupoetario.reset_index()\n",
    "ls_grupoetario.sort_values(by = 'year')"
   ]
  },
  {
   "cell_type": "code",
   "execution_count": 104,
   "metadata": {
    "colab": {
     "base_uri": "https://localhost:8080/",
     "height": 503
    },
    "id": "RDTdPo1KMYhG",
    "outputId": "27319327-6483-4129-d7ab-54c7d3bcd04d"
   },
   "outputs": [
    {
     "data": {
      "text/plain": [
       "Text(0.5, 1.0, 'Proporción de Grupos Etarios Involucrados en Lesiones Personales')"
      ]
     },
     "execution_count": 104,
     "metadata": {},
     "output_type": "execute_result"
    },
    {
     "data": {
      "image/png": "[encoded data removed]",
      "text/plain": [
       "<Figure size 1440x648 with 1 Axes>"
      ]
     },
     "metadata": {
      "needs_background": "light"
     },
     "output_type": "display_data"
    }
   ],
   "source": [
    "fig, ax = plt.subplots(figsize=(20, 9))\n",
    "sns.barplot(ax = ax, data = ls_grupoetario, x='year', y='CANTIDAD', hue ='GRUPO ETARIO')\n",
    "plt.title('Proporción de Grupos Etarios Involucrados en Lesiones Personales')"
   ]
  },
  {
   "cell_type": "markdown",
   "metadata": {
    "id": "4_0ApBQX5HJW"
   },
   "source": [
    "Data Frame Violencia Intrafamiliar:"
   ]
  },
  {
   "cell_type": "code",
   "execution_count": 105,
   "metadata": {
    "colab": {
     "base_uri": "https://localhost:8080/",
     "height": 1000
    },
    "id": "DFVIkuSW5GZh",
    "outputId": "3ce250d0-a11d-4191-b54e-2f342c7b3147"
   },
   "outputs": [
    {
     "data": {
      "text/html": [
       "<div>\n",
       "<style scoped>\n",
       "    .dataframe tbody tr th:only-of-type {\n",
       "        vertical-align: middle;\n",
       "    }\n",
       "\n",
       "    .dataframe tbody tr th {\n",
       "        vertical-align: top;\n",
       "    }\n",
       "\n",
       "    .dataframe thead th {\n",
       "        text-align: right;\n",
       "    }\n",
       "</style>\n",
       "<table border=\"1\" class=\"dataframe\">\n",
       "  <thead>\n",
       "    <tr style=\"text-align: right;\">\n",
       "      <th></th>\n",
       "      <th>GENERO</th>\n",
       "      <th>year</th>\n",
       "      <th>CANTIDAD</th>\n",
       "    </tr>\n",
       "  </thead>\n",
       "  <tbody>\n",
       "    <tr>\n",
       "      <th>25</th>\n",
       "      <td>MASCULINO</td>\n",
       "      <td>2010</td>\n",
       "      <td>4049</td>\n",
       "    </tr>\n",
       "    <tr>\n",
       "      <th>15</th>\n",
       "      <td>FEMENINO</td>\n",
       "      <td>2010</td>\n",
       "      <td>19098</td>\n",
       "    </tr>\n",
       "    <tr>\n",
       "      <th>34</th>\n",
       "      <td>NO REPORTA</td>\n",
       "      <td>2010</td>\n",
       "      <td>24</td>\n",
       "    </tr>\n",
       "    <tr>\n",
       "      <th>32</th>\n",
       "      <td>NO REPORTA</td>\n",
       "      <td>2011</td>\n",
       "      <td>26</td>\n",
       "    </tr>\n",
       "    <tr>\n",
       "      <th>24</th>\n",
       "      <td>MASCULINO</td>\n",
       "      <td>2011</td>\n",
       "      <td>4736</td>\n",
       "    </tr>\n",
       "    <tr>\n",
       "      <th>13</th>\n",
       "      <td>FEMENINO</td>\n",
       "      <td>2011</td>\n",
       "      <td>22432</td>\n",
       "    </tr>\n",
       "    <tr>\n",
       "      <th>33</th>\n",
       "      <td>NO REPORTA</td>\n",
       "      <td>2012</td>\n",
       "      <td>25</td>\n",
       "    </tr>\n",
       "    <tr>\n",
       "      <th>11</th>\n",
       "      <td>FEMENINO</td>\n",
       "      <td>2012</td>\n",
       "      <td>26473</td>\n",
       "    </tr>\n",
       "    <tr>\n",
       "      <th>23</th>\n",
       "      <td>MASCULINO</td>\n",
       "      <td>2012</td>\n",
       "      <td>5919</td>\n",
       "    </tr>\n",
       "    <tr>\n",
       "      <th>22</th>\n",
       "      <td>MASCULINO</td>\n",
       "      <td>2013</td>\n",
       "      <td>6120</td>\n",
       "    </tr>\n",
       "    <tr>\n",
       "      <th>31</th>\n",
       "      <td>NO REPORTA</td>\n",
       "      <td>2013</td>\n",
       "      <td>32</td>\n",
       "    </tr>\n",
       "    <tr>\n",
       "      <th>10</th>\n",
       "      <td>FEMENINO</td>\n",
       "      <td>2013</td>\n",
       "      <td>26924</td>\n",
       "    </tr>\n",
       "    <tr>\n",
       "      <th>7</th>\n",
       "      <td>FEMENINO</td>\n",
       "      <td>2014</td>\n",
       "      <td>40490</td>\n",
       "    </tr>\n",
       "    <tr>\n",
       "      <th>21</th>\n",
       "      <td>MASCULINO</td>\n",
       "      <td>2014</td>\n",
       "      <td>7950</td>\n",
       "    </tr>\n",
       "    <tr>\n",
       "      <th>19</th>\n",
       "      <td>MASCULINO</td>\n",
       "      <td>2015</td>\n",
       "      <td>12427</td>\n",
       "    </tr>\n",
       "    <tr>\n",
       "      <th>35</th>\n",
       "      <td>NO REPORTA</td>\n",
       "      <td>2015</td>\n",
       "      <td>11</td>\n",
       "    </tr>\n",
       "    <tr>\n",
       "      <th>5</th>\n",
       "      <td>FEMENINO</td>\n",
       "      <td>2015</td>\n",
       "      <td>63261</td>\n",
       "    </tr>\n",
       "    <tr>\n",
       "      <th>18</th>\n",
       "      <td>MASCULINO</td>\n",
       "      <td>2016</td>\n",
       "      <td>17241</td>\n",
       "    </tr>\n",
       "    <tr>\n",
       "      <th>37</th>\n",
       "      <td>NO REPORTA</td>\n",
       "      <td>2016</td>\n",
       "      <td>4</td>\n",
       "    </tr>\n",
       "    <tr>\n",
       "      <th>3</th>\n",
       "      <td>FEMENINO</td>\n",
       "      <td>2016</td>\n",
       "      <td>79894</td>\n",
       "    </tr>\n",
       "    <tr>\n",
       "      <th>2</th>\n",
       "      <td>FEMENINO</td>\n",
       "      <td>2017</td>\n",
       "      <td>81918</td>\n",
       "    </tr>\n",
       "    <tr>\n",
       "      <th>16</th>\n",
       "      <td>MASCULINO</td>\n",
       "      <td>2017</td>\n",
       "      <td>18561</td>\n",
       "    </tr>\n",
       "    <tr>\n",
       "      <th>29</th>\n",
       "      <td>NO REPORTA</td>\n",
       "      <td>2017</td>\n",
       "      <td>48</td>\n",
       "    </tr>\n",
       "    <tr>\n",
       "      <th>14</th>\n",
       "      <td>MASCULINO</td>\n",
       "      <td>2018</td>\n",
       "      <td>20264</td>\n",
       "    </tr>\n",
       "    <tr>\n",
       "      <th>4</th>\n",
       "      <td>FEMENINO</td>\n",
       "      <td>2018</td>\n",
       "      <td>79547</td>\n",
       "    </tr>\n",
       "    <tr>\n",
       "      <th>26</th>\n",
       "      <td>NO REPORTA</td>\n",
       "      <td>2018</td>\n",
       "      <td>95</td>\n",
       "    </tr>\n",
       "    <tr>\n",
       "      <th>28</th>\n",
       "      <td>NO REPORTA</td>\n",
       "      <td>2019</td>\n",
       "      <td>54</td>\n",
       "    </tr>\n",
       "    <tr>\n",
       "      <th>0</th>\n",
       "      <td>FEMENINO</td>\n",
       "      <td>2019</td>\n",
       "      <td>91650</td>\n",
       "    </tr>\n",
       "    <tr>\n",
       "      <th>12</th>\n",
       "      <td>MASCULINO</td>\n",
       "      <td>2019</td>\n",
       "      <td>24801</td>\n",
       "    </tr>\n",
       "    <tr>\n",
       "      <th>36</th>\n",
       "      <td>NO REPORTA</td>\n",
       "      <td>2020</td>\n",
       "      <td>8</td>\n",
       "    </tr>\n",
       "    <tr>\n",
       "      <th>6</th>\n",
       "      <td>FEMENINO</td>\n",
       "      <td>2020</td>\n",
       "      <td>48608</td>\n",
       "    </tr>\n",
       "    <tr>\n",
       "      <th>17</th>\n",
       "      <td>MASCULINO</td>\n",
       "      <td>2020</td>\n",
       "      <td>17631</td>\n",
       "    </tr>\n",
       "    <tr>\n",
       "      <th>30</th>\n",
       "      <td>NO REPORTA</td>\n",
       "      <td>2021</td>\n",
       "      <td>34</td>\n",
       "    </tr>\n",
       "    <tr>\n",
       "      <th>9</th>\n",
       "      <td>MASCULINO</td>\n",
       "      <td>2021</td>\n",
       "      <td>27190</td>\n",
       "    </tr>\n",
       "    <tr>\n",
       "      <th>1</th>\n",
       "      <td>FEMENINO</td>\n",
       "      <td>2021</td>\n",
       "      <td>89908</td>\n",
       "    </tr>\n",
       "    <tr>\n",
       "      <th>8</th>\n",
       "      <td>FEMENINO</td>\n",
       "      <td>2022</td>\n",
       "      <td>29238</td>\n",
       "    </tr>\n",
       "    <tr>\n",
       "      <th>20</th>\n",
       "      <td>MASCULINO</td>\n",
       "      <td>2022</td>\n",
       "      <td>10437</td>\n",
       "    </tr>\n",
       "    <tr>\n",
       "      <th>27</th>\n",
       "      <td>NO REPORTA</td>\n",
       "      <td>2022</td>\n",
       "      <td>69</td>\n",
       "    </tr>\n",
       "  </tbody>\n",
       "</table>\n",
       "</div>"
      ],
      "text/plain": [
       "        GENERO  year  CANTIDAD\n",
       "25   MASCULINO  2010      4049\n",
       "15    FEMENINO  2010     19098\n",
       "34  NO REPORTA  2010        24\n",
       "32  NO REPORTA  2011        26\n",
       "24   MASCULINO  2011      4736\n",
       "13    FEMENINO  2011     22432\n",
       "33  NO REPORTA  2012        25\n",
       "11    FEMENINO  2012     26473\n",
       "23   MASCULINO  2012      5919\n",
       "22   MASCULINO  2013      6120\n",
       "31  NO REPORTA  2013        32\n",
       "10    FEMENINO  2013     26924\n",
       "7     FEMENINO  2014     40490\n",
       "21   MASCULINO  2014      7950\n",
       "19   MASCULINO  2015     12427\n",
       "35  NO REPORTA  2015        11\n",
       "5     FEMENINO  2015     63261\n",
       "18   MASCULINO  2016     17241\n",
       "37  NO REPORTA  2016         4\n",
       "3     FEMENINO  2016     79894\n",
       "2     FEMENINO  2017     81918\n",
       "16   MASCULINO  2017     18561\n",
       "29  NO REPORTA  2017        48\n",
       "14   MASCULINO  2018     20264\n",
       "4     FEMENINO  2018     79547\n",
       "26  NO REPORTA  2018        95\n",
       "28  NO REPORTA  2019        54\n",
       "0     FEMENINO  2019     91650\n",
       "12   MASCULINO  2019     24801\n",
       "36  NO REPORTA  2020         8\n",
       "6     FEMENINO  2020     48608\n",
       "17   MASCULINO  2020     17631\n",
       "30  NO REPORTA  2021        34\n",
       "9    MASCULINO  2021     27190\n",
       "1     FEMENINO  2021     89908\n",
       "8     FEMENINO  2022     29238\n",
       "20   MASCULINO  2022     10437\n",
       "27  NO REPORTA  2022        69"
      ]
     },
     "execution_count": 105,
     "metadata": {},
     "output_type": "execute_result"
    }
   ],
   "source": [
    "#Creacion de nueva variable conteniendo genero, año y creacion de grafica\n",
    "vi_genero = vi_df.groupby(['GENERO', 'year']).sum().sort_values(by = 'CANTIDAD', ascending = False)['CANTIDAD']\n",
    "vi_genero = vi_genero.reset_index()\n",
    "vi_genero.sort_values(by = 'year')"
   ]
  },
  {
   "cell_type": "code",
   "execution_count": 106,
   "metadata": {
    "colab": {
     "base_uri": "https://localhost:8080/",
     "height": 0
    },
    "id": "xJqIRYpBHKdq",
    "outputId": "87cd09e8-3c70-4b39-ed66-2ec6532ff02a"
   },
   "outputs": [
    {
     "data": {
      "text/plain": [
       "Text(0.5, 1.0, 'Proporción de Géneros Involucrados en Violencia Intrafamilia')"
      ]
     },
     "execution_count": 106,
     "metadata": {},
     "output_type": "execute_result"
    },
    {
     "data": {
      "image/png": "[encoded data removed]",
      "text/plain": [
       "<Figure size 1440x648 with 1 Axes>"
      ]
     },
     "metadata": {
      "needs_background": "light"
     },
     "output_type": "display_data"
    }
   ],
   "source": [
    "fig, ax = plt.subplots(figsize=(20, 9))\n",
    "sns.barplot(ax = ax, data = vi_genero, x='year', y='CANTIDAD', hue ='GENERO')\n",
    "plt.title('Proporción de Géneros Involucrados en Violencia Intrafamilia')"
   ]
  },
  {
   "cell_type": "code",
   "execution_count": 107,
   "metadata": {
    "colab": {
     "base_uri": "https://localhost:8080/",
     "height": 1000
    },
    "id": "mUPYeE8_Ly44",
    "outputId": "4b931fe7-662b-4630-bfd9-6d14e1551e48"
   },
   "outputs": [
    {
     "data": {
      "text/html": [
       "<div>\n",
       "<style scoped>\n",
       "    .dataframe tbody tr th:only-of-type {\n",
       "        vertical-align: middle;\n",
       "    }\n",
       "\n",
       "    .dataframe tbody tr th {\n",
       "        vertical-align: top;\n",
       "    }\n",
       "\n",
       "    .dataframe thead th {\n",
       "        text-align: right;\n",
       "    }\n",
       "</style>\n",
       "<table border=\"1\" class=\"dataframe\">\n",
       "  <thead>\n",
       "    <tr style=\"text-align: right;\">\n",
       "      <th></th>\n",
       "      <th>GRUPO ETARIO</th>\n",
       "      <th>year</th>\n",
       "      <th>CANTIDAD</th>\n",
       "    </tr>\n",
       "  </thead>\n",
       "  <tbody>\n",
       "    <tr>\n",
       "      <th>48</th>\n",
       "      <td>NO REPORTA</td>\n",
       "      <td>2010</td>\n",
       "      <td>18</td>\n",
       "    </tr>\n",
       "    <tr>\n",
       "      <th>35</th>\n",
       "      <td>ADOLESCENTES</td>\n",
       "      <td>2010</td>\n",
       "      <td>1088</td>\n",
       "    </tr>\n",
       "    <tr>\n",
       "      <th>39</th>\n",
       "      <td>MENORES</td>\n",
       "      <td>2010</td>\n",
       "      <td>588</td>\n",
       "    </tr>\n",
       "    <tr>\n",
       "      <th>12</th>\n",
       "      <td>ADULTOS</td>\n",
       "      <td>2010</td>\n",
       "      <td>21477</td>\n",
       "    </tr>\n",
       "    <tr>\n",
       "      <th>11</th>\n",
       "      <td>ADULTOS</td>\n",
       "      <td>2011</td>\n",
       "      <td>25345</td>\n",
       "    </tr>\n",
       "    <tr>\n",
       "      <th>47</th>\n",
       "      <td>NO REPORTA</td>\n",
       "      <td>2011</td>\n",
       "      <td>21</td>\n",
       "    </tr>\n",
       "    <tr>\n",
       "      <th>33</th>\n",
       "      <td>ADOLESCENTES</td>\n",
       "      <td>2011</td>\n",
       "      <td>1192</td>\n",
       "    </tr>\n",
       "    <tr>\n",
       "      <th>38</th>\n",
       "      <td>MENORES</td>\n",
       "      <td>2011</td>\n",
       "      <td>636</td>\n",
       "    </tr>\n",
       "    <tr>\n",
       "      <th>36</th>\n",
       "      <td>MENORES</td>\n",
       "      <td>2012</td>\n",
       "      <td>778</td>\n",
       "    </tr>\n",
       "    <tr>\n",
       "      <th>10</th>\n",
       "      <td>ADULTOS</td>\n",
       "      <td>2012</td>\n",
       "      <td>30114</td>\n",
       "    </tr>\n",
       "    <tr>\n",
       "      <th>31</th>\n",
       "      <td>ADOLESCENTES</td>\n",
       "      <td>2012</td>\n",
       "      <td>1503</td>\n",
       "    </tr>\n",
       "    <tr>\n",
       "      <th>46</th>\n",
       "      <td>NO REPORTA</td>\n",
       "      <td>2012</td>\n",
       "      <td>22</td>\n",
       "    </tr>\n",
       "    <tr>\n",
       "      <th>37</th>\n",
       "      <td>MENORES</td>\n",
       "      <td>2013</td>\n",
       "      <td>665</td>\n",
       "    </tr>\n",
       "    <tr>\n",
       "      <th>45</th>\n",
       "      <td>NO REPORTA</td>\n",
       "      <td>2013</td>\n",
       "      <td>27</td>\n",
       "    </tr>\n",
       "    <tr>\n",
       "      <th>32</th>\n",
       "      <td>ADOLESCENTES</td>\n",
       "      <td>2013</td>\n",
       "      <td>1390</td>\n",
       "    </tr>\n",
       "    <tr>\n",
       "      <th>9</th>\n",
       "      <td>ADULTOS</td>\n",
       "      <td>2013</td>\n",
       "      <td>30994</td>\n",
       "    </tr>\n",
       "    <tr>\n",
       "      <th>29</th>\n",
       "      <td>ADOLESCENTES</td>\n",
       "      <td>2014</td>\n",
       "      <td>1869</td>\n",
       "    </tr>\n",
       "    <tr>\n",
       "      <th>7</th>\n",
       "      <td>ADULTOS</td>\n",
       "      <td>2014</td>\n",
       "      <td>45439</td>\n",
       "    </tr>\n",
       "    <tr>\n",
       "      <th>34</th>\n",
       "      <td>MENORES</td>\n",
       "      <td>2014</td>\n",
       "      <td>1132</td>\n",
       "    </tr>\n",
       "    <tr>\n",
       "      <th>28</th>\n",
       "      <td>MENORES</td>\n",
       "      <td>2015</td>\n",
       "      <td>1969</td>\n",
       "    </tr>\n",
       "    <tr>\n",
       "      <th>24</th>\n",
       "      <td>ADOLESCENTES</td>\n",
       "      <td>2015</td>\n",
       "      <td>2970</td>\n",
       "    </tr>\n",
       "    <tr>\n",
       "      <th>5</th>\n",
       "      <td>ADULTOS</td>\n",
       "      <td>2015</td>\n",
       "      <td>70749</td>\n",
       "    </tr>\n",
       "    <tr>\n",
       "      <th>49</th>\n",
       "      <td>NO REPORTA</td>\n",
       "      <td>2015</td>\n",
       "      <td>11</td>\n",
       "    </tr>\n",
       "    <tr>\n",
       "      <th>25</th>\n",
       "      <td>MENORES</td>\n",
       "      <td>2016</td>\n",
       "      <td>2821</td>\n",
       "    </tr>\n",
       "    <tr>\n",
       "      <th>50</th>\n",
       "      <td>NO REPORTA</td>\n",
       "      <td>2016</td>\n",
       "      <td>3</td>\n",
       "    </tr>\n",
       "    <tr>\n",
       "      <th>22</th>\n",
       "      <td>ADOLESCENTES</td>\n",
       "      <td>2016</td>\n",
       "      <td>3378</td>\n",
       "    </tr>\n",
       "    <tr>\n",
       "      <th>3</th>\n",
       "      <td>ADULTOS</td>\n",
       "      <td>2016</td>\n",
       "      <td>90937</td>\n",
       "    </tr>\n",
       "    <tr>\n",
       "      <th>2</th>\n",
       "      <td>ADULTOS</td>\n",
       "      <td>2017</td>\n",
       "      <td>91654</td>\n",
       "    </tr>\n",
       "    <tr>\n",
       "      <th>21</th>\n",
       "      <td>ADOLESCENTES</td>\n",
       "      <td>2017</td>\n",
       "      <td>3917</td>\n",
       "    </tr>\n",
       "    <tr>\n",
       "      <th>43</th>\n",
       "      <td>NO REPORTA</td>\n",
       "      <td>2017</td>\n",
       "      <td>48</td>\n",
       "    </tr>\n",
       "    <tr>\n",
       "      <th>18</th>\n",
       "      <td>MENORES</td>\n",
       "      <td>2017</td>\n",
       "      <td>4908</td>\n",
       "    </tr>\n",
       "    <tr>\n",
       "      <th>4</th>\n",
       "      <td>ADULTOS</td>\n",
       "      <td>2018</td>\n",
       "      <td>88188</td>\n",
       "    </tr>\n",
       "    <tr>\n",
       "      <th>17</th>\n",
       "      <td>ADOLESCENTES</td>\n",
       "      <td>2018</td>\n",
       "      <td>5084</td>\n",
       "    </tr>\n",
       "    <tr>\n",
       "      <th>40</th>\n",
       "      <td>NO REPORTA</td>\n",
       "      <td>2018</td>\n",
       "      <td>95</td>\n",
       "    </tr>\n",
       "    <tr>\n",
       "      <th>14</th>\n",
       "      <td>MENORES</td>\n",
       "      <td>2018</td>\n",
       "      <td>6539</td>\n",
       "    </tr>\n",
       "    <tr>\n",
       "      <th>1</th>\n",
       "      <td>ADULTOS</td>\n",
       "      <td>2019</td>\n",
       "      <td>101097</td>\n",
       "    </tr>\n",
       "    <tr>\n",
       "      <th>42</th>\n",
       "      <td>NO REPORTA</td>\n",
       "      <td>2019</td>\n",
       "      <td>54</td>\n",
       "    </tr>\n",
       "    <tr>\n",
       "      <th>13</th>\n",
       "      <td>MENORES</td>\n",
       "      <td>2019</td>\n",
       "      <td>9130</td>\n",
       "    </tr>\n",
       "    <tr>\n",
       "      <th>15</th>\n",
       "      <td>ADOLESCENTES</td>\n",
       "      <td>2019</td>\n",
       "      <td>6224</td>\n",
       "    </tr>\n",
       "    <tr>\n",
       "      <th>6</th>\n",
       "      <td>ADULTOS</td>\n",
       "      <td>2020</td>\n",
       "      <td>56288</td>\n",
       "    </tr>\n",
       "    <tr>\n",
       "      <th>19</th>\n",
       "      <td>MENORES</td>\n",
       "      <td>2020</td>\n",
       "      <td>4536</td>\n",
       "    </tr>\n",
       "    <tr>\n",
       "      <th>27</th>\n",
       "      <td>NO REPORTA</td>\n",
       "      <td>2020</td>\n",
       "      <td>2224</td>\n",
       "    </tr>\n",
       "    <tr>\n",
       "      <th>23</th>\n",
       "      <td>ADOLESCENTES</td>\n",
       "      <td>2020</td>\n",
       "      <td>3199</td>\n",
       "    </tr>\n",
       "    <tr>\n",
       "      <th>16</th>\n",
       "      <td>MENORES</td>\n",
       "      <td>2021</td>\n",
       "      <td>5575</td>\n",
       "    </tr>\n",
       "    <tr>\n",
       "      <th>44</th>\n",
       "      <td>NO REPORTA</td>\n",
       "      <td>2021</td>\n",
       "      <td>34</td>\n",
       "    </tr>\n",
       "    <tr>\n",
       "      <th>20</th>\n",
       "      <td>ADOLESCENTES</td>\n",
       "      <td>2021</td>\n",
       "      <td>4202</td>\n",
       "    </tr>\n",
       "    <tr>\n",
       "      <th>0</th>\n",
       "      <td>ADULTOS</td>\n",
       "      <td>2021</td>\n",
       "      <td>107321</td>\n",
       "    </tr>\n",
       "    <tr>\n",
       "      <th>8</th>\n",
       "      <td>ADULTOS</td>\n",
       "      <td>2022</td>\n",
       "      <td>35787</td>\n",
       "    </tr>\n",
       "    <tr>\n",
       "      <th>41</th>\n",
       "      <td>NO REPORTA</td>\n",
       "      <td>2022</td>\n",
       "      <td>69</td>\n",
       "    </tr>\n",
       "    <tr>\n",
       "      <th>30</th>\n",
       "      <td>ADOLESCENTES</td>\n",
       "      <td>2022</td>\n",
       "      <td>1626</td>\n",
       "    </tr>\n",
       "    <tr>\n",
       "      <th>26</th>\n",
       "      <td>MENORES</td>\n",
       "      <td>2022</td>\n",
       "      <td>2262</td>\n",
       "    </tr>\n",
       "  </tbody>\n",
       "</table>\n",
       "</div>"
      ],
      "text/plain": [
       "    GRUPO ETARIO  year  CANTIDAD\n",
       "48    NO REPORTA  2010        18\n",
       "35  ADOLESCENTES  2010      1088\n",
       "39       MENORES  2010       588\n",
       "12       ADULTOS  2010     21477\n",
       "11       ADULTOS  2011     25345\n",
       "47    NO REPORTA  2011        21\n",
       "33  ADOLESCENTES  2011      1192\n",
       "38       MENORES  2011       636\n",
       "36       MENORES  2012       778\n",
       "10       ADULTOS  2012     30114\n",
       "31  ADOLESCENTES  2012      1503\n",
       "46    NO REPORTA  2012        22\n",
       "37       MENORES  2013       665\n",
       "45    NO REPORTA  2013        27\n",
       "32  ADOLESCENTES  2013      1390\n",
       "9        ADULTOS  2013     30994\n",
       "29  ADOLESCENTES  2014      1869\n",
       "7        ADULTOS  2014     45439\n",
       "34       MENORES  2014      1132\n",
       "28       MENORES  2015      1969\n",
       "24  ADOLESCENTES  2015      2970\n",
       "5        ADULTOS  2015     70749\n",
       "49    NO REPORTA  2015        11\n",
       "25       MENORES  2016      2821\n",
       "50    NO REPORTA  2016         3\n",
       "22  ADOLESCENTES  2016      3378\n",
       "3        ADULTOS  2016     90937\n",
       "2        ADULTOS  2017     91654\n",
       "21  ADOLESCENTES  2017      3917\n",
       "43    NO REPORTA  2017        48\n",
       "18       MENORES  2017      4908\n",
       "4        ADULTOS  2018     88188\n",
       "17  ADOLESCENTES  2018      5084\n",
       "40    NO REPORTA  2018        95\n",
       "14       MENORES  2018      6539\n",
       "1        ADULTOS  2019    101097\n",
       "42    NO REPORTA  2019        54\n",
       "13       MENORES  2019      9130\n",
       "15  ADOLESCENTES  2019      6224\n",
       "6        ADULTOS  2020     56288\n",
       "19       MENORES  2020      4536\n",
       "27    NO REPORTA  2020      2224\n",
       "23  ADOLESCENTES  2020      3199\n",
       "16       MENORES  2021      5575\n",
       "44    NO REPORTA  2021        34\n",
       "20  ADOLESCENTES  2021      4202\n",
       "0        ADULTOS  2021    107321\n",
       "8        ADULTOS  2022     35787\n",
       "41    NO REPORTA  2022        69\n",
       "30  ADOLESCENTES  2022      1626\n",
       "26       MENORES  2022      2262"
      ]
     },
     "execution_count": 107,
     "metadata": {},
     "output_type": "execute_result"
    }
   ],
   "source": [
    "#Creacion de nueva variable conteniendo genero, año y creacion de grafica\n",
    "vi_grupoetario = vi_df.groupby(['GRUPO ETARIO', 'year']).sum().sort_values(by = 'CANTIDAD', ascending = False)['CANTIDAD']\n",
    "vi_grupoetario = vi_grupoetario.reset_index()\n",
    "vi_grupoetario.sort_values(by = 'year')"
   ]
  },
  {
   "cell_type": "code",
   "execution_count": 108,
   "metadata": {
    "colab": {
     "base_uri": "https://localhost:8080/",
     "height": 0
    },
    "id": "zRbWB3WyMSQx",
    "outputId": "b0e0ea7a-1e17-4385-bb9b-e0ab3e91e66a"
   },
   "outputs": [
    {
     "data": {
      "text/plain": [
       "Text(0.5, 1.0, 'Proporción de Grupos Etarios Involucrados en Violencia Intrafamiliar')"
      ]
     },
     "execution_count": 108,
     "metadata": {},
     "output_type": "execute_result"
    },
    {
     "data": {
      "image/png": "[encoded data removed]",
      "text/plain": [
       "<Figure size 1440x648 with 1 Axes>"
      ]
     },
     "metadata": {
      "needs_background": "light"
     },
     "output_type": "display_data"
    }
   ],
   "source": [
    "fig, ax = plt.subplots(figsize=(20, 9))\n",
    "sns.barplot(ax = ax, data = vi_grupoetario, x='year', y='CANTIDAD', hue ='GRUPO ETARIO')\n",
    "plt.title('Proporción de Grupos Etarios Involucrados en Violencia Intrafamiliar')"
   ]
  },
  {
   "cell_type": "markdown",
   "metadata": {
    "id": "yycr6L2b5HaL"
   },
   "source": [
    "Data Frame Delitos Sexuales"
   ]
  },
  {
   "cell_type": "code",
   "execution_count": 109,
   "metadata": {
    "colab": {
     "base_uri": "https://localhost:8080/",
     "height": 1000
    },
    "id": "sZtUFD4N5GGi",
    "outputId": "fba5cc0b-6809-4bd7-fe24-8a29885f57b3"
   },
   "outputs": [
    {
     "data": {
      "text/html": [
       "<div>\n",
       "<style scoped>\n",
       "    .dataframe tbody tr th:only-of-type {\n",
       "        vertical-align: middle;\n",
       "    }\n",
       "\n",
       "    .dataframe tbody tr th {\n",
       "        vertical-align: top;\n",
       "    }\n",
       "\n",
       "    .dataframe thead th {\n",
       "        text-align: right;\n",
       "    }\n",
       "</style>\n",
       "<table border=\"1\" class=\"dataframe\">\n",
       "  <thead>\n",
       "    <tr style=\"text-align: right;\">\n",
       "      <th></th>\n",
       "      <th>GENERO</th>\n",
       "      <th>year</th>\n",
       "      <th>CANTIDAD</th>\n",
       "    </tr>\n",
       "  </thead>\n",
       "  <tbody>\n",
       "    <tr>\n",
       "      <th>34</th>\n",
       "      <td>NO REPORTA</td>\n",
       "      <td>2010</td>\n",
       "      <td>24</td>\n",
       "    </tr>\n",
       "    <tr>\n",
       "      <th>25</th>\n",
       "      <td>MASCULINO</td>\n",
       "      <td>2010</td>\n",
       "      <td>891</td>\n",
       "    </tr>\n",
       "    <tr>\n",
       "      <th>12</th>\n",
       "      <td>FEMENINO</td>\n",
       "      <td>2010</td>\n",
       "      <td>5581</td>\n",
       "    </tr>\n",
       "    <tr>\n",
       "      <th>24</th>\n",
       "      <td>MASCULINO</td>\n",
       "      <td>2011</td>\n",
       "      <td>1140</td>\n",
       "    </tr>\n",
       "    <tr>\n",
       "      <th>33</th>\n",
       "      <td>NO REPORTA</td>\n",
       "      <td>2011</td>\n",
       "      <td>31</td>\n",
       "    </tr>\n",
       "    <tr>\n",
       "      <th>11</th>\n",
       "      <td>FEMENINO</td>\n",
       "      <td>2011</td>\n",
       "      <td>6556</td>\n",
       "    </tr>\n",
       "    <tr>\n",
       "      <th>21</th>\n",
       "      <td>MASCULINO</td>\n",
       "      <td>2012</td>\n",
       "      <td>1626</td>\n",
       "    </tr>\n",
       "    <tr>\n",
       "      <th>30</th>\n",
       "      <td>NO REPORTA</td>\n",
       "      <td>2012</td>\n",
       "      <td>54</td>\n",
       "    </tr>\n",
       "    <tr>\n",
       "      <th>9</th>\n",
       "      <td>FEMENINO</td>\n",
       "      <td>2012</td>\n",
       "      <td>9173</td>\n",
       "    </tr>\n",
       "    <tr>\n",
       "      <th>32</th>\n",
       "      <td>NO REPORTA</td>\n",
       "      <td>2013</td>\n",
       "      <td>36</td>\n",
       "    </tr>\n",
       "    <tr>\n",
       "      <th>22</th>\n",
       "      <td>MASCULINO</td>\n",
       "      <td>2013</td>\n",
       "      <td>1604</td>\n",
       "    </tr>\n",
       "    <tr>\n",
       "      <th>8</th>\n",
       "      <td>FEMENINO</td>\n",
       "      <td>2013</td>\n",
       "      <td>9569</td>\n",
       "    </tr>\n",
       "    <tr>\n",
       "      <th>20</th>\n",
       "      <td>MASCULINO</td>\n",
       "      <td>2014</td>\n",
       "      <td>1665</td>\n",
       "    </tr>\n",
       "    <tr>\n",
       "      <th>26</th>\n",
       "      <td>NO REPORTA</td>\n",
       "      <td>2014</td>\n",
       "      <td>541</td>\n",
       "    </tr>\n",
       "    <tr>\n",
       "      <th>7</th>\n",
       "      <td>FEMENINO</td>\n",
       "      <td>2014</td>\n",
       "      <td>10039</td>\n",
       "    </tr>\n",
       "    <tr>\n",
       "      <th>6</th>\n",
       "      <td>FEMENINO</td>\n",
       "      <td>2015</td>\n",
       "      <td>17461</td>\n",
       "    </tr>\n",
       "    <tr>\n",
       "      <th>19</th>\n",
       "      <td>MASCULINO</td>\n",
       "      <td>2015</td>\n",
       "      <td>2966</td>\n",
       "    </tr>\n",
       "    <tr>\n",
       "      <th>35</th>\n",
       "      <td>NO REPORTA</td>\n",
       "      <td>2015</td>\n",
       "      <td>18</td>\n",
       "    </tr>\n",
       "    <tr>\n",
       "      <th>5</th>\n",
       "      <td>FEMENINO</td>\n",
       "      <td>2016</td>\n",
       "      <td>19011</td>\n",
       "    </tr>\n",
       "    <tr>\n",
       "      <th>18</th>\n",
       "      <td>MASCULINO</td>\n",
       "      <td>2016</td>\n",
       "      <td>2973</td>\n",
       "    </tr>\n",
       "    <tr>\n",
       "      <th>17</th>\n",
       "      <td>MASCULINO</td>\n",
       "      <td>2017</td>\n",
       "      <td>3457</td>\n",
       "    </tr>\n",
       "    <tr>\n",
       "      <th>36</th>\n",
       "      <td>NO REPORTA</td>\n",
       "      <td>2017</td>\n",
       "      <td>2</td>\n",
       "    </tr>\n",
       "    <tr>\n",
       "      <th>4</th>\n",
       "      <td>FEMENINO</td>\n",
       "      <td>2017</td>\n",
       "      <td>22444</td>\n",
       "    </tr>\n",
       "    <tr>\n",
       "      <th>14</th>\n",
       "      <td>MASCULINO</td>\n",
       "      <td>2018</td>\n",
       "      <td>4684</td>\n",
       "    </tr>\n",
       "    <tr>\n",
       "      <th>27</th>\n",
       "      <td>NO REPORTA</td>\n",
       "      <td>2018</td>\n",
       "      <td>162</td>\n",
       "    </tr>\n",
       "    <tr>\n",
       "      <th>1</th>\n",
       "      <td>FEMENINO</td>\n",
       "      <td>2018</td>\n",
       "      <td>28610</td>\n",
       "    </tr>\n",
       "    <tr>\n",
       "      <th>29</th>\n",
       "      <td>NO REPORTA</td>\n",
       "      <td>2019</td>\n",
       "      <td>72</td>\n",
       "    </tr>\n",
       "    <tr>\n",
       "      <th>0</th>\n",
       "      <td>FEMENINO</td>\n",
       "      <td>2019</td>\n",
       "      <td>28902</td>\n",
       "    </tr>\n",
       "    <tr>\n",
       "      <th>13</th>\n",
       "      <td>MASCULINO</td>\n",
       "      <td>2019</td>\n",
       "      <td>4961</td>\n",
       "    </tr>\n",
       "    <tr>\n",
       "      <th>15</th>\n",
       "      <td>MASCULINO</td>\n",
       "      <td>2020</td>\n",
       "      <td>4519</td>\n",
       "    </tr>\n",
       "    <tr>\n",
       "      <th>3</th>\n",
       "      <td>FEMENINO</td>\n",
       "      <td>2020</td>\n",
       "      <td>22903</td>\n",
       "    </tr>\n",
       "    <tr>\n",
       "      <th>37</th>\n",
       "      <td>NO REPORTA</td>\n",
       "      <td>2020</td>\n",
       "      <td>2</td>\n",
       "    </tr>\n",
       "    <tr>\n",
       "      <th>16</th>\n",
       "      <td>MASCULINO</td>\n",
       "      <td>2021</td>\n",
       "      <td>4368</td>\n",
       "    </tr>\n",
       "    <tr>\n",
       "      <th>31</th>\n",
       "      <td>NO REPORTA</td>\n",
       "      <td>2021</td>\n",
       "      <td>43</td>\n",
       "    </tr>\n",
       "    <tr>\n",
       "      <th>2</th>\n",
       "      <td>FEMENINO</td>\n",
       "      <td>2021</td>\n",
       "      <td>25159</td>\n",
       "    </tr>\n",
       "    <tr>\n",
       "      <th>28</th>\n",
       "      <td>NO REPORTA</td>\n",
       "      <td>2022</td>\n",
       "      <td>74</td>\n",
       "    </tr>\n",
       "    <tr>\n",
       "      <th>10</th>\n",
       "      <td>FEMENINO</td>\n",
       "      <td>2022</td>\n",
       "      <td>7633</td>\n",
       "    </tr>\n",
       "    <tr>\n",
       "      <th>23</th>\n",
       "      <td>MASCULINO</td>\n",
       "      <td>2022</td>\n",
       "      <td>1548</td>\n",
       "    </tr>\n",
       "  </tbody>\n",
       "</table>\n",
       "</div>"
      ],
      "text/plain": [
       "        GENERO  year  CANTIDAD\n",
       "34  NO REPORTA  2010        24\n",
       "25   MASCULINO  2010       891\n",
       "12    FEMENINO  2010      5581\n",
       "24   MASCULINO  2011      1140\n",
       "33  NO REPORTA  2011        31\n",
       "11    FEMENINO  2011      6556\n",
       "21   MASCULINO  2012      1626\n",
       "30  NO REPORTA  2012        54\n",
       "9     FEMENINO  2012      9173\n",
       "32  NO REPORTA  2013        36\n",
       "22   MASCULINO  2013      1604\n",
       "8     FEMENINO  2013      9569\n",
       "20   MASCULINO  2014      1665\n",
       "26  NO REPORTA  2014       541\n",
       "7     FEMENINO  2014     10039\n",
       "6     FEMENINO  2015     17461\n",
       "19   MASCULINO  2015      2966\n",
       "35  NO REPORTA  2015        18\n",
       "5     FEMENINO  2016     19011\n",
       "18   MASCULINO  2016      2973\n",
       "17   MASCULINO  2017      3457\n",
       "36  NO REPORTA  2017         2\n",
       "4     FEMENINO  2017     22444\n",
       "14   MASCULINO  2018      4684\n",
       "27  NO REPORTA  2018       162\n",
       "1     FEMENINO  2018     28610\n",
       "29  NO REPORTA  2019        72\n",
       "0     FEMENINO  2019     28902\n",
       "13   MASCULINO  2019      4961\n",
       "15   MASCULINO  2020      4519\n",
       "3     FEMENINO  2020     22903\n",
       "37  NO REPORTA  2020         2\n",
       "16   MASCULINO  2021      4368\n",
       "31  NO REPORTA  2021        43\n",
       "2     FEMENINO  2021     25159\n",
       "28  NO REPORTA  2022        74\n",
       "10    FEMENINO  2022      7633\n",
       "23   MASCULINO  2022      1548"
      ]
     },
     "execution_count": 109,
     "metadata": {},
     "output_type": "execute_result"
    }
   ],
   "source": [
    "#Creacion de nueva variable conteniendo genero, año y creacion de grafica\n",
    "ds_genero = ds_df.groupby(['GENERO', 'year']).sum().sort_values(by = 'CANTIDAD', ascending = False)['CANTIDAD']\n",
    "ds_genero = ds_genero.reset_index()\n",
    "ds_genero.sort_values(by = 'year')"
   ]
  },
  {
   "cell_type": "code",
   "execution_count": 110,
   "metadata": {
    "colab": {
     "base_uri": "https://localhost:8080/",
     "height": 0
    },
    "id": "zVUG_PSiHOLr",
    "outputId": "7c72da64-617b-4698-c45c-d120326582cb"
   },
   "outputs": [
    {
     "data": {
      "text/plain": [
       "Text(0.5, 1.0, 'Proporción de Géneros Involucrados en Delitos Sexuales')"
      ]
     },
     "execution_count": 110,
     "metadata": {},
     "output_type": "execute_result"
    },
    {
     "data": {
      "image/png": "[encoded data removed]",
      "text/plain": [
       "<Figure size 1440x648 with 1 Axes>"
      ]
     },
     "metadata": {
      "needs_background": "light"
     },
     "output_type": "display_data"
    }
   ],
   "source": [
    "fig, ax = plt.subplots(figsize=(20, 9))\n",
    "sns.barplot(ax = ax, data = ds_genero, x='year', y='CANTIDAD', hue ='GENERO')\n",
    "plt.title('Proporción de Géneros Involucrados en Delitos Sexuales')"
   ]
  },
  {
   "cell_type": "code",
   "execution_count": 111,
   "metadata": {
    "colab": {
     "base_uri": "https://localhost:8080/",
     "height": 1000
    },
    "id": "qwuCy1GjL0d5",
    "outputId": "44798a6c-b61c-4833-d31b-33d28d1ac944"
   },
   "outputs": [
    {
     "data": {
      "text/html": [
       "<div>\n",
       "<style scoped>\n",
       "    .dataframe tbody tr th:only-of-type {\n",
       "        vertical-align: middle;\n",
       "    }\n",
       "\n",
       "    .dataframe tbody tr th {\n",
       "        vertical-align: top;\n",
       "    }\n",
       "\n",
       "    .dataframe thead th {\n",
       "        text-align: right;\n",
       "    }\n",
       "</style>\n",
       "<table border=\"1\" class=\"dataframe\">\n",
       "  <thead>\n",
       "    <tr style=\"text-align: right;\">\n",
       "      <th></th>\n",
       "      <th>GRUPO ETARIO</th>\n",
       "      <th>year</th>\n",
       "      <th>CANTIDAD</th>\n",
       "    </tr>\n",
       "  </thead>\n",
       "  <tbody>\n",
       "    <tr>\n",
       "      <th>26</th>\n",
       "      <td>MENORES</td>\n",
       "      <td>2010</td>\n",
       "      <td>3331</td>\n",
       "    </tr>\n",
       "    <tr>\n",
       "      <th>38</th>\n",
       "      <td>ADOLESCENTES</td>\n",
       "      <td>2010</td>\n",
       "      <td>1209</td>\n",
       "    </tr>\n",
       "    <tr>\n",
       "      <th>36</th>\n",
       "      <td>ADULTOS</td>\n",
       "      <td>2010</td>\n",
       "      <td>1956</td>\n",
       "    </tr>\n",
       "    <tr>\n",
       "      <th>22</th>\n",
       "      <td>MENORES</td>\n",
       "      <td>2011</td>\n",
       "      <td>4061</td>\n",
       "    </tr>\n",
       "    <tr>\n",
       "      <th>37</th>\n",
       "      <td>ADOLESCENTES</td>\n",
       "      <td>2011</td>\n",
       "      <td>1492</td>\n",
       "    </tr>\n",
       "    <tr>\n",
       "      <th>35</th>\n",
       "      <td>ADULTOS</td>\n",
       "      <td>2011</td>\n",
       "      <td>2174</td>\n",
       "    </tr>\n",
       "    <tr>\n",
       "      <th>28</th>\n",
       "      <td>ADULTOS</td>\n",
       "      <td>2012</td>\n",
       "      <td>3189</td>\n",
       "    </tr>\n",
       "    <tr>\n",
       "      <th>34</th>\n",
       "      <td>ADOLESCENTES</td>\n",
       "      <td>2012</td>\n",
       "      <td>2181</td>\n",
       "    </tr>\n",
       "    <tr>\n",
       "      <th>19</th>\n",
       "      <td>MENORES</td>\n",
       "      <td>2012</td>\n",
       "      <td>5483</td>\n",
       "    </tr>\n",
       "    <tr>\n",
       "      <th>16</th>\n",
       "      <td>MENORES</td>\n",
       "      <td>2013</td>\n",
       "      <td>5874</td>\n",
       "    </tr>\n",
       "    <tr>\n",
       "      <th>29</th>\n",
       "      <td>ADULTOS</td>\n",
       "      <td>2013</td>\n",
       "      <td>3068</td>\n",
       "    </tr>\n",
       "    <tr>\n",
       "      <th>33</th>\n",
       "      <td>ADOLESCENTES</td>\n",
       "      <td>2013</td>\n",
       "      <td>2267</td>\n",
       "    </tr>\n",
       "    <tr>\n",
       "      <th>24</th>\n",
       "      <td>ADULTOS</td>\n",
       "      <td>2014</td>\n",
       "      <td>3862</td>\n",
       "    </tr>\n",
       "    <tr>\n",
       "      <th>17</th>\n",
       "      <td>MENORES</td>\n",
       "      <td>2014</td>\n",
       "      <td>5818</td>\n",
       "    </tr>\n",
       "    <tr>\n",
       "      <th>32</th>\n",
       "      <td>ADOLESCENTES</td>\n",
       "      <td>2014</td>\n",
       "      <td>2565</td>\n",
       "    </tr>\n",
       "    <tr>\n",
       "      <th>9</th>\n",
       "      <td>MENORES</td>\n",
       "      <td>2015</td>\n",
       "      <td>9460</td>\n",
       "    </tr>\n",
       "    <tr>\n",
       "      <th>27</th>\n",
       "      <td>ADOLESCENTES</td>\n",
       "      <td>2015</td>\n",
       "      <td>3319</td>\n",
       "    </tr>\n",
       "    <tr>\n",
       "      <th>13</th>\n",
       "      <td>ADULTOS</td>\n",
       "      <td>2015</td>\n",
       "      <td>7666</td>\n",
       "    </tr>\n",
       "    <tr>\n",
       "      <th>5</th>\n",
       "      <td>MENORES</td>\n",
       "      <td>2016</td>\n",
       "      <td>11239</td>\n",
       "    </tr>\n",
       "    <tr>\n",
       "      <th>23</th>\n",
       "      <td>ADOLESCENTES</td>\n",
       "      <td>2016</td>\n",
       "      <td>3926</td>\n",
       "    </tr>\n",
       "    <tr>\n",
       "      <th>14</th>\n",
       "      <td>ADULTOS</td>\n",
       "      <td>2016</td>\n",
       "      <td>6819</td>\n",
       "    </tr>\n",
       "    <tr>\n",
       "      <th>12</th>\n",
       "      <td>ADULTOS</td>\n",
       "      <td>2017</td>\n",
       "      <td>7678</td>\n",
       "    </tr>\n",
       "    <tr>\n",
       "      <th>21</th>\n",
       "      <td>ADOLESCENTES</td>\n",
       "      <td>2017</td>\n",
       "      <td>4286</td>\n",
       "    </tr>\n",
       "    <tr>\n",
       "      <th>2</th>\n",
       "      <td>MENORES</td>\n",
       "      <td>2017</td>\n",
       "      <td>13939</td>\n",
       "    </tr>\n",
       "    <tr>\n",
       "      <th>18</th>\n",
       "      <td>ADOLESCENTES</td>\n",
       "      <td>2018</td>\n",
       "      <td>5628</td>\n",
       "    </tr>\n",
       "    <tr>\n",
       "      <th>4</th>\n",
       "      <td>ADULTOS</td>\n",
       "      <td>2018</td>\n",
       "      <td>11495</td>\n",
       "    </tr>\n",
       "    <tr>\n",
       "      <th>1</th>\n",
       "      <td>MENORES</td>\n",
       "      <td>2018</td>\n",
       "      <td>16333</td>\n",
       "    </tr>\n",
       "    <tr>\n",
       "      <th>0</th>\n",
       "      <td>MENORES</td>\n",
       "      <td>2019</td>\n",
       "      <td>17291</td>\n",
       "    </tr>\n",
       "    <tr>\n",
       "      <th>8</th>\n",
       "      <td>ADULTOS</td>\n",
       "      <td>2019</td>\n",
       "      <td>10283</td>\n",
       "    </tr>\n",
       "    <tr>\n",
       "      <th>15</th>\n",
       "      <td>ADOLESCENTES</td>\n",
       "      <td>2019</td>\n",
       "      <td>6361</td>\n",
       "    </tr>\n",
       "    <tr>\n",
       "      <th>39</th>\n",
       "      <td>NO REPORTA</td>\n",
       "      <td>2020</td>\n",
       "      <td>565</td>\n",
       "    </tr>\n",
       "    <tr>\n",
       "      <th>20</th>\n",
       "      <td>ADOLESCENTES</td>\n",
       "      <td>2020</td>\n",
       "      <td>4806</td>\n",
       "    </tr>\n",
       "    <tr>\n",
       "      <th>10</th>\n",
       "      <td>ADULTOS</td>\n",
       "      <td>2020</td>\n",
       "      <td>8968</td>\n",
       "    </tr>\n",
       "    <tr>\n",
       "      <th>3</th>\n",
       "      <td>MENORES</td>\n",
       "      <td>2020</td>\n",
       "      <td>13085</td>\n",
       "    </tr>\n",
       "    <tr>\n",
       "      <th>11</th>\n",
       "      <td>ADOLESCENTES</td>\n",
       "      <td>2021</td>\n",
       "      <td>8730</td>\n",
       "    </tr>\n",
       "    <tr>\n",
       "      <th>7</th>\n",
       "      <td>MENORES</td>\n",
       "      <td>2021</td>\n",
       "      <td>10352</td>\n",
       "    </tr>\n",
       "    <tr>\n",
       "      <th>6</th>\n",
       "      <td>ADULTOS</td>\n",
       "      <td>2021</td>\n",
       "      <td>10445</td>\n",
       "    </tr>\n",
       "    <tr>\n",
       "      <th>41</th>\n",
       "      <td>NO REPORTA</td>\n",
       "      <td>2021</td>\n",
       "      <td>43</td>\n",
       "    </tr>\n",
       "    <tr>\n",
       "      <th>30</th>\n",
       "      <td>MENORES</td>\n",
       "      <td>2022</td>\n",
       "      <td>2968</td>\n",
       "    </tr>\n",
       "    <tr>\n",
       "      <th>25</th>\n",
       "      <td>ADULTOS</td>\n",
       "      <td>2022</td>\n",
       "      <td>3426</td>\n",
       "    </tr>\n",
       "    <tr>\n",
       "      <th>40</th>\n",
       "      <td>NO REPORTA</td>\n",
       "      <td>2022</td>\n",
       "      <td>74</td>\n",
       "    </tr>\n",
       "    <tr>\n",
       "      <th>31</th>\n",
       "      <td>ADOLESCENTES</td>\n",
       "      <td>2022</td>\n",
       "      <td>2787</td>\n",
       "    </tr>\n",
       "  </tbody>\n",
       "</table>\n",
       "</div>"
      ],
      "text/plain": [
       "    GRUPO ETARIO  year  CANTIDAD\n",
       "26       MENORES  2010      3331\n",
       "38  ADOLESCENTES  2010      1209\n",
       "36       ADULTOS  2010      1956\n",
       "22       MENORES  2011      4061\n",
       "37  ADOLESCENTES  2011      1492\n",
       "35       ADULTOS  2011      2174\n",
       "28       ADULTOS  2012      3189\n",
       "34  ADOLESCENTES  2012      2181\n",
       "19       MENORES  2012      5483\n",
       "16       MENORES  2013      5874\n",
       "29       ADULTOS  2013      3068\n",
       "33  ADOLESCENTES  2013      2267\n",
       "24       ADULTOS  2014      3862\n",
       "17       MENORES  2014      5818\n",
       "32  ADOLESCENTES  2014      2565\n",
       "9        MENORES  2015      9460\n",
       "27  ADOLESCENTES  2015      3319\n",
       "13       ADULTOS  2015      7666\n",
       "5        MENORES  2016     11239\n",
       "23  ADOLESCENTES  2016      3926\n",
       "14       ADULTOS  2016      6819\n",
       "12       ADULTOS  2017      7678\n",
       "21  ADOLESCENTES  2017      4286\n",
       "2        MENORES  2017     13939\n",
       "18  ADOLESCENTES  2018      5628\n",
       "4        ADULTOS  2018     11495\n",
       "1        MENORES  2018     16333\n",
       "0        MENORES  2019     17291\n",
       "8        ADULTOS  2019     10283\n",
       "15  ADOLESCENTES  2019      6361\n",
       "39    NO REPORTA  2020       565\n",
       "20  ADOLESCENTES  2020      4806\n",
       "10       ADULTOS  2020      8968\n",
       "3        MENORES  2020     13085\n",
       "11  ADOLESCENTES  2021      8730\n",
       "7        MENORES  2021     10352\n",
       "6        ADULTOS  2021     10445\n",
       "41    NO REPORTA  2021        43\n",
       "30       MENORES  2022      2968\n",
       "25       ADULTOS  2022      3426\n",
       "40    NO REPORTA  2022        74\n",
       "31  ADOLESCENTES  2022      2787"
      ]
     },
     "execution_count": 111,
     "metadata": {},
     "output_type": "execute_result"
    }
   ],
   "source": [
    "#Creacion de nueva variable conteniendo genero, año y creacion de grafica\n",
    "ds_grupoetario = ds_df.groupby(['GRUPO ETARIO', 'year']).sum().sort_values(by = 'CANTIDAD', ascending = False)['CANTIDAD']\n",
    "ds_grupoetario = ds_grupoetario.reset_index()\n",
    "ds_grupoetario.sort_values(by = 'year')"
   ]
  },
  {
   "cell_type": "code",
   "execution_count": 112,
   "metadata": {
    "colab": {
     "base_uri": "https://localhost:8080/",
     "height": 0
    },
    "id": "ZMJPRqFkMTkU",
    "outputId": "9ab11ec5-0f51-4693-ba28-172cde846a71"
   },
   "outputs": [
    {
     "data": {
      "text/plain": [
       "Text(0.5, 1.0, 'Proporción de Grupos Etarios Involucrados en Delitos Sexuales')"
      ]
     },
     "execution_count": 112,
     "metadata": {},
     "output_type": "execute_result"
    },
    {
     "data": {
      "image/png": "[encoded data removed]",
      "text/plain": [
       "<Figure size 1440x648 with 1 Axes>"
      ]
     },
     "metadata": {
      "needs_background": "light"
     },
     "output_type": "display_data"
    }
   ],
   "source": [
    "fig, ax = plt.subplots(figsize=(20, 9))\n",
    "sns.barplot(ax = ax, data = ds_grupoetario, x='year', y='CANTIDAD', hue ='GRUPO ETARIO')\n",
    "plt.title('Proporción de Grupos Etarios Involucrados en Delitos Sexuales')"
   ]
  },
  {
   "cell_type": "markdown",
   "metadata": {
    "id": "VgU1TavV5Xh5"
   },
   "source": [
    "Data Frame Homicidios Accidente Transito"
   ]
  },
  {
   "cell_type": "code",
   "execution_count": 113,
   "metadata": {
    "colab": {
     "base_uri": "https://localhost:8080/",
     "height": 1000
    },
    "id": "d7SJneUG5eEc",
    "outputId": "a151aa2e-c728-4829-cbab-52dea32287ec"
   },
   "outputs": [
    {
     "data": {
      "text/html": [
       "<div>\n",
       "<style scoped>\n",
       "    .dataframe tbody tr th:only-of-type {\n",
       "        vertical-align: middle;\n",
       "    }\n",
       "\n",
       "    .dataframe tbody tr th {\n",
       "        vertical-align: top;\n",
       "    }\n",
       "\n",
       "    .dataframe thead th {\n",
       "        text-align: right;\n",
       "    }\n",
       "</style>\n",
       "<table border=\"1\" class=\"dataframe\">\n",
       "  <thead>\n",
       "    <tr style=\"text-align: right;\">\n",
       "      <th></th>\n",
       "      <th>GENERO</th>\n",
       "      <th>year</th>\n",
       "      <th>CANTIDAD</th>\n",
       "    </tr>\n",
       "  </thead>\n",
       "  <tbody>\n",
       "    <tr>\n",
       "      <th>31</th>\n",
       "      <td>NO REPORTA</td>\n",
       "      <td>2010</td>\n",
       "      <td>4</td>\n",
       "    </tr>\n",
       "    <tr>\n",
       "      <th>10</th>\n",
       "      <td>MASCULINO</td>\n",
       "      <td>2010</td>\n",
       "      <td>3570</td>\n",
       "    </tr>\n",
       "    <tr>\n",
       "      <th>21</th>\n",
       "      <td>FEMENINO</td>\n",
       "      <td>2010</td>\n",
       "      <td>926</td>\n",
       "    </tr>\n",
       "    <tr>\n",
       "      <th>29</th>\n",
       "      <td>NO REPORTA</td>\n",
       "      <td>2011</td>\n",
       "      <td>5</td>\n",
       "    </tr>\n",
       "    <tr>\n",
       "      <th>11</th>\n",
       "      <td>MASCULINO</td>\n",
       "      <td>2011</td>\n",
       "      <td>3387</td>\n",
       "    </tr>\n",
       "    <tr>\n",
       "      <th>23</th>\n",
       "      <td>FEMENINO</td>\n",
       "      <td>2011</td>\n",
       "      <td>903</td>\n",
       "    </tr>\n",
       "    <tr>\n",
       "      <th>9</th>\n",
       "      <td>MASCULINO</td>\n",
       "      <td>2012</td>\n",
       "      <td>3647</td>\n",
       "    </tr>\n",
       "    <tr>\n",
       "      <th>24</th>\n",
       "      <td>FEMENINO</td>\n",
       "      <td>2012</td>\n",
       "      <td>902</td>\n",
       "    </tr>\n",
       "    <tr>\n",
       "      <th>20</th>\n",
       "      <td>FEMENINO</td>\n",
       "      <td>2013</td>\n",
       "      <td>983</td>\n",
       "    </tr>\n",
       "    <tr>\n",
       "      <th>28</th>\n",
       "      <td>NO REPORTA</td>\n",
       "      <td>2013</td>\n",
       "      <td>7</td>\n",
       "    </tr>\n",
       "    <tr>\n",
       "      <th>7</th>\n",
       "      <td>MASCULINO</td>\n",
       "      <td>2013</td>\n",
       "      <td>3932</td>\n",
       "    </tr>\n",
       "    <tr>\n",
       "      <th>19</th>\n",
       "      <td>FEMENINO</td>\n",
       "      <td>2014</td>\n",
       "      <td>1019</td>\n",
       "    </tr>\n",
       "    <tr>\n",
       "      <th>8</th>\n",
       "      <td>MASCULINO</td>\n",
       "      <td>2014</td>\n",
       "      <td>3814</td>\n",
       "    </tr>\n",
       "    <tr>\n",
       "      <th>34</th>\n",
       "      <td>NO REPORTA</td>\n",
       "      <td>2014</td>\n",
       "      <td>2</td>\n",
       "    </tr>\n",
       "    <tr>\n",
       "      <th>18</th>\n",
       "      <td>FEMENINO</td>\n",
       "      <td>2015</td>\n",
       "      <td>1052</td>\n",
       "    </tr>\n",
       "    <tr>\n",
       "      <th>4</th>\n",
       "      <td>MASCULINO</td>\n",
       "      <td>2015</td>\n",
       "      <td>4292</td>\n",
       "    </tr>\n",
       "    <tr>\n",
       "      <th>3</th>\n",
       "      <td>MASCULINO</td>\n",
       "      <td>2016</td>\n",
       "      <td>4430</td>\n",
       "    </tr>\n",
       "    <tr>\n",
       "      <th>16</th>\n",
       "      <td>FEMENINO</td>\n",
       "      <td>2016</td>\n",
       "      <td>1179</td>\n",
       "    </tr>\n",
       "    <tr>\n",
       "      <th>17</th>\n",
       "      <td>FEMENINO</td>\n",
       "      <td>2017</td>\n",
       "      <td>1073</td>\n",
       "    </tr>\n",
       "    <tr>\n",
       "      <th>35</th>\n",
       "      <td>NO REPORTA</td>\n",
       "      <td>2017</td>\n",
       "      <td>1</td>\n",
       "    </tr>\n",
       "    <tr>\n",
       "      <th>5</th>\n",
       "      <td>MASCULINO</td>\n",
       "      <td>2017</td>\n",
       "      <td>4187</td>\n",
       "    </tr>\n",
       "    <tr>\n",
       "      <th>13</th>\n",
       "      <td>FEMENINO</td>\n",
       "      <td>2018</td>\n",
       "      <td>1271</td>\n",
       "    </tr>\n",
       "    <tr>\n",
       "      <th>26</th>\n",
       "      <td>NO REPORTA</td>\n",
       "      <td>2018</td>\n",
       "      <td>16</td>\n",
       "    </tr>\n",
       "    <tr>\n",
       "      <th>2</th>\n",
       "      <td>MASCULINO</td>\n",
       "      <td>2018</td>\n",
       "      <td>4729</td>\n",
       "    </tr>\n",
       "    <tr>\n",
       "      <th>27</th>\n",
       "      <td>NO REPORTA</td>\n",
       "      <td>2019</td>\n",
       "      <td>14</td>\n",
       "    </tr>\n",
       "    <tr>\n",
       "      <th>1</th>\n",
       "      <td>MASCULINO</td>\n",
       "      <td>2019</td>\n",
       "      <td>4833</td>\n",
       "    </tr>\n",
       "    <tr>\n",
       "      <th>15</th>\n",
       "      <td>FEMENINO</td>\n",
       "      <td>2019</td>\n",
       "      <td>1203</td>\n",
       "    </tr>\n",
       "    <tr>\n",
       "      <th>22</th>\n",
       "      <td>FEMENINO</td>\n",
       "      <td>2020</td>\n",
       "      <td>907</td>\n",
       "    </tr>\n",
       "    <tr>\n",
       "      <th>6</th>\n",
       "      <td>MASCULINO</td>\n",
       "      <td>2020</td>\n",
       "      <td>4156</td>\n",
       "    </tr>\n",
       "    <tr>\n",
       "      <th>32</th>\n",
       "      <td>NO REPORTA</td>\n",
       "      <td>2020</td>\n",
       "      <td>4</td>\n",
       "    </tr>\n",
       "    <tr>\n",
       "      <th>14</th>\n",
       "      <td>FEMENINO</td>\n",
       "      <td>2021</td>\n",
       "      <td>1267</td>\n",
       "    </tr>\n",
       "    <tr>\n",
       "      <th>30</th>\n",
       "      <td>NO REPORTA</td>\n",
       "      <td>2021</td>\n",
       "      <td>5</td>\n",
       "    </tr>\n",
       "    <tr>\n",
       "      <th>0</th>\n",
       "      <td>MASCULINO</td>\n",
       "      <td>2021</td>\n",
       "      <td>5642</td>\n",
       "    </tr>\n",
       "    <tr>\n",
       "      <th>12</th>\n",
       "      <td>MASCULINO</td>\n",
       "      <td>2022</td>\n",
       "      <td>1844</td>\n",
       "    </tr>\n",
       "    <tr>\n",
       "      <th>25</th>\n",
       "      <td>FEMENINO</td>\n",
       "      <td>2022</td>\n",
       "      <td>464</td>\n",
       "    </tr>\n",
       "    <tr>\n",
       "      <th>33</th>\n",
       "      <td>NO REPORTA</td>\n",
       "      <td>2022</td>\n",
       "      <td>3</td>\n",
       "    </tr>\n",
       "  </tbody>\n",
       "</table>\n",
       "</div>"
      ],
      "text/plain": [
       "        GENERO  year  CANTIDAD\n",
       "31  NO REPORTA  2010         4\n",
       "10   MASCULINO  2010      3570\n",
       "21    FEMENINO  2010       926\n",
       "29  NO REPORTA  2011         5\n",
       "11   MASCULINO  2011      3387\n",
       "23    FEMENINO  2011       903\n",
       "9    MASCULINO  2012      3647\n",
       "24    FEMENINO  2012       902\n",
       "20    FEMENINO  2013       983\n",
       "28  NO REPORTA  2013         7\n",
       "7    MASCULINO  2013      3932\n",
       "19    FEMENINO  2014      1019\n",
       "8    MASCULINO  2014      3814\n",
       "34  NO REPORTA  2014         2\n",
       "18    FEMENINO  2015      1052\n",
       "4    MASCULINO  2015      4292\n",
       "3    MASCULINO  2016      4430\n",
       "16    FEMENINO  2016      1179\n",
       "17    FEMENINO  2017      1073\n",
       "35  NO REPORTA  2017         1\n",
       "5    MASCULINO  2017      4187\n",
       "13    FEMENINO  2018      1271\n",
       "26  NO REPORTA  2018        16\n",
       "2    MASCULINO  2018      4729\n",
       "27  NO REPORTA  2019        14\n",
       "1    MASCULINO  2019      4833\n",
       "15    FEMENINO  2019      1203\n",
       "22    FEMENINO  2020       907\n",
       "6    MASCULINO  2020      4156\n",
       "32  NO REPORTA  2020         4\n",
       "14    FEMENINO  2021      1267\n",
       "30  NO REPORTA  2021         5\n",
       "0    MASCULINO  2021      5642\n",
       "12   MASCULINO  2022      1844\n",
       "25    FEMENINO  2022       464\n",
       "33  NO REPORTA  2022         3"
      ]
     },
     "execution_count": 113,
     "metadata": {},
     "output_type": "execute_result"
    }
   ],
   "source": [
    "#Creacion de nueva variable conteniendo genero, año y creacion de grafica\n",
    "hat_genero = hat_df.groupby(['GENERO', 'year']).sum().sort_values(by = 'CANTIDAD', ascending = False)['CANTIDAD']\n",
    "hat_genero = hat_genero.reset_index()\n",
    "hat_genero.sort_values(by = 'year')"
   ]
  },
  {
   "cell_type": "code",
   "execution_count": 114,
   "metadata": {
    "colab": {
     "base_uri": "https://localhost:8080/",
     "height": 0
    },
    "id": "AChxrjtyHQjL",
    "outputId": "88b490a5-9b98-44d9-d93b-93a767ea631a"
   },
   "outputs": [
    {
     "data": {
      "text/plain": [
       "Text(0.5, 1.0, 'Proporción de Géneros Involucrados en Homicidios por Accidente de Tráfico')"
      ]
     },
     "execution_count": 114,
     "metadata": {},
     "output_type": "execute_result"
    },
    {
     "data": {
      "image/png": "[encoded data removed]",
      "text/plain": [
       "<Figure size 1440x648 with 1 Axes>"
      ]
     },
     "metadata": {
      "needs_background": "light"
     },
     "output_type": "display_data"
    }
   ],
   "source": [
    "fig, ax = plt.subplots(figsize=(20, 9))\n",
    "sns.barplot(ax = ax, data = hat_genero, x='year', y='CANTIDAD', hue ='GENERO')\n",
    "plt.title('Proporción de Géneros Involucrados en Homicidios por Accidente de Tráfico')"
   ]
  },
  {
   "cell_type": "code",
   "execution_count": 115,
   "metadata": {
    "colab": {
     "base_uri": "https://localhost:8080/",
     "height": 1000
    },
    "id": "gNZddQ1yL1oM",
    "outputId": "f854201b-f0ae-422e-a32a-dc83e2f5926a"
   },
   "outputs": [
    {
     "data": {
      "text/html": [
       "<div>\n",
       "<style scoped>\n",
       "    .dataframe tbody tr th:only-of-type {\n",
       "        vertical-align: middle;\n",
       "    }\n",
       "\n",
       "    .dataframe tbody tr th {\n",
       "        vertical-align: top;\n",
       "    }\n",
       "\n",
       "    .dataframe thead th {\n",
       "        text-align: right;\n",
       "    }\n",
       "</style>\n",
       "<table border=\"1\" class=\"dataframe\">\n",
       "  <thead>\n",
       "    <tr style=\"text-align: right;\">\n",
       "      <th></th>\n",
       "      <th>GRUPO ETARIO</th>\n",
       "      <th>year</th>\n",
       "      <th>CANTIDAD</th>\n",
       "    </tr>\n",
       "  </thead>\n",
       "  <tbody>\n",
       "    <tr>\n",
       "      <th>28</th>\n",
       "      <td>ADOLESCENTES</td>\n",
       "      <td>2010</td>\n",
       "      <td>190</td>\n",
       "    </tr>\n",
       "    <tr>\n",
       "      <th>22</th>\n",
       "      <td>MENORES</td>\n",
       "      <td>2010</td>\n",
       "      <td>216</td>\n",
       "    </tr>\n",
       "    <tr>\n",
       "      <th>10</th>\n",
       "      <td>ADULTOS</td>\n",
       "      <td>2010</td>\n",
       "      <td>4094</td>\n",
       "    </tr>\n",
       "    <tr>\n",
       "      <th>23</th>\n",
       "      <td>MENORES</td>\n",
       "      <td>2011</td>\n",
       "      <td>216</td>\n",
       "    </tr>\n",
       "    <tr>\n",
       "      <th>26</th>\n",
       "      <td>ADOLESCENTES</td>\n",
       "      <td>2011</td>\n",
       "      <td>210</td>\n",
       "    </tr>\n",
       "    <tr>\n",
       "      <th>11</th>\n",
       "      <td>ADULTOS</td>\n",
       "      <td>2011</td>\n",
       "      <td>3869</td>\n",
       "    </tr>\n",
       "    <tr>\n",
       "      <th>30</th>\n",
       "      <td>MENORES</td>\n",
       "      <td>2012</td>\n",
       "      <td>185</td>\n",
       "    </tr>\n",
       "    <tr>\n",
       "      <th>9</th>\n",
       "      <td>ADULTOS</td>\n",
       "      <td>2012</td>\n",
       "      <td>4150</td>\n",
       "    </tr>\n",
       "    <tr>\n",
       "      <th>25</th>\n",
       "      <td>ADOLESCENTES</td>\n",
       "      <td>2012</td>\n",
       "      <td>214</td>\n",
       "    </tr>\n",
       "    <tr>\n",
       "      <th>24</th>\n",
       "      <td>MENORES</td>\n",
       "      <td>2013</td>\n",
       "      <td>215</td>\n",
       "    </tr>\n",
       "    <tr>\n",
       "      <th>18</th>\n",
       "      <td>ADOLESCENTES</td>\n",
       "      <td>2013</td>\n",
       "      <td>253</td>\n",
       "    </tr>\n",
       "    <tr>\n",
       "      <th>45</th>\n",
       "      <td>NO REPORTA</td>\n",
       "      <td>2013</td>\n",
       "      <td>1</td>\n",
       "    </tr>\n",
       "    <tr>\n",
       "      <th>7</th>\n",
       "      <td>ADULTOS</td>\n",
       "      <td>2013</td>\n",
       "      <td>4453</td>\n",
       "    </tr>\n",
       "    <tr>\n",
       "      <th>44</th>\n",
       "      <td>NO REPORTA</td>\n",
       "      <td>2014</td>\n",
       "      <td>2</td>\n",
       "    </tr>\n",
       "    <tr>\n",
       "      <th>8</th>\n",
       "      <td>ADULTOS</td>\n",
       "      <td>2014</td>\n",
       "      <td>4397</td>\n",
       "    </tr>\n",
       "    <tr>\n",
       "      <th>19</th>\n",
       "      <td>ADOLESCENTES</td>\n",
       "      <td>2014</td>\n",
       "      <td>241</td>\n",
       "    </tr>\n",
       "    <tr>\n",
       "      <th>27</th>\n",
       "      <td>MENORES</td>\n",
       "      <td>2014</td>\n",
       "      <td>195</td>\n",
       "    </tr>\n",
       "    <tr>\n",
       "      <th>29</th>\n",
       "      <td>MENORES</td>\n",
       "      <td>2015</td>\n",
       "      <td>188</td>\n",
       "    </tr>\n",
       "    <tr>\n",
       "      <th>4</th>\n",
       "      <td>ADULTOS</td>\n",
       "      <td>2015</td>\n",
       "      <td>4933</td>\n",
       "    </tr>\n",
       "    <tr>\n",
       "      <th>21</th>\n",
       "      <td>ADOLESCENTES</td>\n",
       "      <td>2015</td>\n",
       "      <td>223</td>\n",
       "    </tr>\n",
       "    <tr>\n",
       "      <th>31</th>\n",
       "      <td>MENORES</td>\n",
       "      <td>2016</td>\n",
       "      <td>185</td>\n",
       "    </tr>\n",
       "    <tr>\n",
       "      <th>15</th>\n",
       "      <td>ADOLESCENTES</td>\n",
       "      <td>2016</td>\n",
       "      <td>271</td>\n",
       "    </tr>\n",
       "    <tr>\n",
       "      <th>3</th>\n",
       "      <td>ADULTOS</td>\n",
       "      <td>2016</td>\n",
       "      <td>5153</td>\n",
       "    </tr>\n",
       "    <tr>\n",
       "      <th>33</th>\n",
       "      <td>MENORES</td>\n",
       "      <td>2017</td>\n",
       "      <td>173</td>\n",
       "    </tr>\n",
       "    <tr>\n",
       "      <th>46</th>\n",
       "      <td>NO REPORTA</td>\n",
       "      <td>2017</td>\n",
       "      <td>1</td>\n",
       "    </tr>\n",
       "    <tr>\n",
       "      <th>16</th>\n",
       "      <td>ADOLESCENTES</td>\n",
       "      <td>2017</td>\n",
       "      <td>270</td>\n",
       "    </tr>\n",
       "    <tr>\n",
       "      <th>5</th>\n",
       "      <td>ADULTOS</td>\n",
       "      <td>2017</td>\n",
       "      <td>4817</td>\n",
       "    </tr>\n",
       "    <tr>\n",
       "      <th>14</th>\n",
       "      <td>ADOLESCENTES</td>\n",
       "      <td>2018</td>\n",
       "      <td>286</td>\n",
       "    </tr>\n",
       "    <tr>\n",
       "      <th>32</th>\n",
       "      <td>MENORES</td>\n",
       "      <td>2018</td>\n",
       "      <td>177</td>\n",
       "    </tr>\n",
       "    <tr>\n",
       "      <th>2</th>\n",
       "      <td>ADULTOS</td>\n",
       "      <td>2018</td>\n",
       "      <td>5537</td>\n",
       "    </tr>\n",
       "    <tr>\n",
       "      <th>39</th>\n",
       "      <td>NO REPORTA</td>\n",
       "      <td>2018</td>\n",
       "      <td>16</td>\n",
       "    </tr>\n",
       "    <tr>\n",
       "      <th>17</th>\n",
       "      <td>ADOLESCENTES</td>\n",
       "      <td>2019</td>\n",
       "      <td>253</td>\n",
       "    </tr>\n",
       "    <tr>\n",
       "      <th>1</th>\n",
       "      <td>ADULTOS</td>\n",
       "      <td>2019</td>\n",
       "      <td>5621</td>\n",
       "    </tr>\n",
       "    <tr>\n",
       "      <th>34</th>\n",
       "      <td>MENORES</td>\n",
       "      <td>2019</td>\n",
       "      <td>162</td>\n",
       "    </tr>\n",
       "    <tr>\n",
       "      <th>40</th>\n",
       "      <td>NO REPORTA</td>\n",
       "      <td>2019</td>\n",
       "      <td>14</td>\n",
       "    </tr>\n",
       "    <tr>\n",
       "      <th>42</th>\n",
       "      <td>NO REPORTA</td>\n",
       "      <td>2020</td>\n",
       "      <td>4</td>\n",
       "    </tr>\n",
       "    <tr>\n",
       "      <th>6</th>\n",
       "      <td>ADULTOS</td>\n",
       "      <td>2020</td>\n",
       "      <td>4730</td>\n",
       "    </tr>\n",
       "    <tr>\n",
       "      <th>20</th>\n",
       "      <td>ADOLESCENTES</td>\n",
       "      <td>2020</td>\n",
       "      <td>235</td>\n",
       "    </tr>\n",
       "    <tr>\n",
       "      <th>36</th>\n",
       "      <td>MENORES</td>\n",
       "      <td>2020</td>\n",
       "      <td>98</td>\n",
       "    </tr>\n",
       "    <tr>\n",
       "      <th>41</th>\n",
       "      <td>NO REPORTA</td>\n",
       "      <td>2021</td>\n",
       "      <td>5</td>\n",
       "    </tr>\n",
       "    <tr>\n",
       "      <th>35</th>\n",
       "      <td>MENORES</td>\n",
       "      <td>2021</td>\n",
       "      <td>157</td>\n",
       "    </tr>\n",
       "    <tr>\n",
       "      <th>13</th>\n",
       "      <td>ADOLESCENTES</td>\n",
       "      <td>2021</td>\n",
       "      <td>286</td>\n",
       "    </tr>\n",
       "    <tr>\n",
       "      <th>0</th>\n",
       "      <td>ADULTOS</td>\n",
       "      <td>2021</td>\n",
       "      <td>6466</td>\n",
       "    </tr>\n",
       "    <tr>\n",
       "      <th>37</th>\n",
       "      <td>ADOLESCENTES</td>\n",
       "      <td>2022</td>\n",
       "      <td>85</td>\n",
       "    </tr>\n",
       "    <tr>\n",
       "      <th>12</th>\n",
       "      <td>ADULTOS</td>\n",
       "      <td>2022</td>\n",
       "      <td>2161</td>\n",
       "    </tr>\n",
       "    <tr>\n",
       "      <th>43</th>\n",
       "      <td>NO REPORTA</td>\n",
       "      <td>2022</td>\n",
       "      <td>3</td>\n",
       "    </tr>\n",
       "    <tr>\n",
       "      <th>38</th>\n",
       "      <td>MENORES</td>\n",
       "      <td>2022</td>\n",
       "      <td>62</td>\n",
       "    </tr>\n",
       "  </tbody>\n",
       "</table>\n",
       "</div>"
      ],
      "text/plain": [
       "    GRUPO ETARIO  year  CANTIDAD\n",
       "28  ADOLESCENTES  2010       190\n",
       "22       MENORES  2010       216\n",
       "10       ADULTOS  2010      4094\n",
       "23       MENORES  2011       216\n",
       "26  ADOLESCENTES  2011       210\n",
       "11       ADULTOS  2011      3869\n",
       "30       MENORES  2012       185\n",
       "9        ADULTOS  2012      4150\n",
       "25  ADOLESCENTES  2012       214\n",
       "24       MENORES  2013       215\n",
       "18  ADOLESCENTES  2013       253\n",
       "45    NO REPORTA  2013         1\n",
       "7        ADULTOS  2013      4453\n",
       "44    NO REPORTA  2014         2\n",
       "8        ADULTOS  2014      4397\n",
       "19  ADOLESCENTES  2014       241\n",
       "27       MENORES  2014       195\n",
       "29       MENORES  2015       188\n",
       "4        ADULTOS  2015      4933\n",
       "21  ADOLESCENTES  2015       223\n",
       "31       MENORES  2016       185\n",
       "15  ADOLESCENTES  2016       271\n",
       "3        ADULTOS  2016      5153\n",
       "33       MENORES  2017       173\n",
       "46    NO REPORTA  2017         1\n",
       "16  ADOLESCENTES  2017       270\n",
       "5        ADULTOS  2017      4817\n",
       "14  ADOLESCENTES  2018       286\n",
       "32       MENORES  2018       177\n",
       "2        ADULTOS  2018      5537\n",
       "39    NO REPORTA  2018        16\n",
       "17  ADOLESCENTES  2019       253\n",
       "1        ADULTOS  2019      5621\n",
       "34       MENORES  2019       162\n",
       "40    NO REPORTA  2019        14\n",
       "42    NO REPORTA  2020         4\n",
       "6        ADULTOS  2020      4730\n",
       "20  ADOLESCENTES  2020       235\n",
       "36       MENORES  2020        98\n",
       "41    NO REPORTA  2021         5\n",
       "35       MENORES  2021       157\n",
       "13  ADOLESCENTES  2021       286\n",
       "0        ADULTOS  2021      6466\n",
       "37  ADOLESCENTES  2022        85\n",
       "12       ADULTOS  2022      2161\n",
       "43    NO REPORTA  2022         3\n",
       "38       MENORES  2022        62"
      ]
     },
     "execution_count": 115,
     "metadata": {},
     "output_type": "execute_result"
    }
   ],
   "source": [
    "#Creacion de nueva variable conteniendo genero, año y creacion de grafica\n",
    "hat_grupoetario = hat_df.groupby(['GRUPO ETARIO', 'year']).sum().sort_values(by = 'CANTIDAD', ascending = False)['CANTIDAD']\n",
    "hat_grupoetario = hat_grupoetario.reset_index()\n",
    "hat_grupoetario.sort_values(by = 'year')"
   ]
  },
  {
   "cell_type": "code",
   "execution_count": 116,
   "metadata": {
    "colab": {
     "base_uri": "https://localhost:8080/",
     "height": 0
    },
    "id": "v5M16k3MMVMN",
    "outputId": "9d204ebf-7f16-4c56-b1bc-58291c8efd14"
   },
   "outputs": [
    {
     "data": {
      "text/plain": [
       "Text(0.5, 1.0, 'Proporción de Grupos Etarios Involucrados en Homicidios por Accidente de Tráfico')"
      ]
     },
     "execution_count": 116,
     "metadata": {},
     "output_type": "execute_result"
    },
    {
     "data": {
      "image/png": "[encoded data removed]",
      "text/plain": [
       "<Figure size 1440x648 with 1 Axes>"
      ]
     },
     "metadata": {
      "needs_background": "light"
     },
     "output_type": "display_data"
    }
   ],
   "source": [
    "fig, ax = plt.subplots(figsize=(20, 9))\n",
    "sns.barplot(ax = ax, data = hat_grupoetario, x='year', y='CANTIDAD', hue ='GRUPO ETARIO')\n",
    "plt.title('Proporción de Grupos Etarios Involucrados en Homicidios por Accidente de Tráfico')"
   ]
  },
  {
   "cell_type": "markdown",
   "metadata": {
    "id": "9clyruB9bOS9"
   },
   "source": [
    "##2.4 ¿Se evidencia alguna tendencia para cometer dicho delito en algún mes particular del año?"
   ]
  },
  {
   "cell_type": "markdown",
   "metadata": {
    "id": "iUV-7PLldZd1"
   },
   "source": [
    "R/ Parece haber una tendencia en que estos tipos de delitos tienen su pico en el primer trimestre del año, aunque no es una diferencia muy grande comparado con los demas meses. \n",
    "\n",
    "Otro tema particular identificado es relacionado con los Homicidios por Accidente Transito, los cuales aparte de tener una mayor incidencia en la primera parte del año presentan un incremento en el mes de Diciembre siendo uno de sus meses mas altos. (Puede que este incremento se este dando por las fiestas de fin de año."
   ]
  },
  {
   "cell_type": "code",
   "execution_count": 117,
   "metadata": {
    "colab": {
     "base_uri": "https://localhost:8080/",
     "height": 0
    },
    "id": "c6rbRwKlbTbW",
    "outputId": "00e78062-da4b-4cc8-bccd-85bb116b6151"
   },
   "outputs": [
    {
     "data": {
      "text/html": [
       "<div>\n",
       "<style scoped>\n",
       "    .dataframe tbody tr th:only-of-type {\n",
       "        vertical-align: middle;\n",
       "    }\n",
       "\n",
       "    .dataframe tbody tr th {\n",
       "        vertical-align: top;\n",
       "    }\n",
       "\n",
       "    .dataframe thead th {\n",
       "        text-align: right;\n",
       "    }\n",
       "</style>\n",
       "<table border=\"1\" class=\"dataframe\">\n",
       "  <thead>\n",
       "    <tr style=\"text-align: right;\">\n",
       "      <th></th>\n",
       "      <th>month</th>\n",
       "      <th>CANTIDAD</th>\n",
       "    </tr>\n",
       "  </thead>\n",
       "  <tbody>\n",
       "    <tr>\n",
       "      <th>1</th>\n",
       "      <td>1</td>\n",
       "      <td>151211</td>\n",
       "    </tr>\n",
       "    <tr>\n",
       "      <th>2</th>\n",
       "      <td>2</td>\n",
       "      <td>143855</td>\n",
       "    </tr>\n",
       "    <tr>\n",
       "      <th>0</th>\n",
       "      <td>3</td>\n",
       "      <td>153994</td>\n",
       "    </tr>\n",
       "    <tr>\n",
       "      <th>3</th>\n",
       "      <td>4</td>\n",
       "      <td>137825</td>\n",
       "    </tr>\n",
       "    <tr>\n",
       "      <th>4</th>\n",
       "      <td>5</td>\n",
       "      <td>134986</td>\n",
       "    </tr>\n",
       "    <tr>\n",
       "      <th>8</th>\n",
       "      <td>6</td>\n",
       "      <td>131154</td>\n",
       "    </tr>\n",
       "    <tr>\n",
       "      <th>5</th>\n",
       "      <td>7</td>\n",
       "      <td>134172</td>\n",
       "    </tr>\n",
       "    <tr>\n",
       "      <th>6</th>\n",
       "      <td>8</td>\n",
       "      <td>133310</td>\n",
       "    </tr>\n",
       "    <tr>\n",
       "      <th>7</th>\n",
       "      <td>9</td>\n",
       "      <td>131905</td>\n",
       "    </tr>\n",
       "    <tr>\n",
       "      <th>9</th>\n",
       "      <td>10</td>\n",
       "      <td>128501</td>\n",
       "    </tr>\n",
       "    <tr>\n",
       "      <th>11</th>\n",
       "      <td>11</td>\n",
       "      <td>121608</td>\n",
       "    </tr>\n",
       "    <tr>\n",
       "      <th>10</th>\n",
       "      <td>12</td>\n",
       "      <td>127833</td>\n",
       "    </tr>\n",
       "  </tbody>\n",
       "</table>\n",
       "</div>"
      ],
      "text/plain": [
       "    month  CANTIDAD\n",
       "1       1    151211\n",
       "2       2    143855\n",
       "0       3    153994\n",
       "3       4    137825\n",
       "4       5    134986\n",
       "8       6    131154\n",
       "5       7    134172\n",
       "6       8    133310\n",
       "7       9    131905\n",
       "9      10    128501\n",
       "11     11    121608\n",
       "10     12    127833"
      ]
     },
     "execution_count": 117,
     "metadata": {},
     "output_type": "execute_result"
    }
   ],
   "source": [
    "#Creacion de nueva variable especificando cantidad de delitos por mes\n",
    "ls_mes = ls_df.groupby(['month']).sum().sort_values(by = 'CANTIDAD', ascending = False)['CANTIDAD']\n",
    "ls_mes = ls_mes.reset_index()\n",
    "ls_mes.sort_values(by = 'month')"
   ]
  },
  {
   "cell_type": "code",
   "execution_count": 118,
   "metadata": {
    "colab": {
     "base_uri": "https://localhost:8080/",
     "height": 515
    },
    "id": "0MjYVAKzc4LP",
    "outputId": "78f5c35d-abec-49de-b10f-e6e8d9784c05"
   },
   "outputs": [
    {
     "data": {
      "text/plain": [
       "Text(0.5, 1.0, 'Cantidad de Delitos de Lesiones Personales Mes a Mes')"
      ]
     },
     "execution_count": 118,
     "metadata": {},
     "output_type": "execute_result"
    },
    {
     "data": {
      "image/png": "[encoded data removed]",
      "text/plain": [
       "<Figure size 1080x576 with 1 Axes>"
      ]
     },
     "metadata": {
      "needs_background": "light"
     },
     "output_type": "display_data"
    }
   ],
   "source": [
    "fig, ax = plt.subplots(figsize=(15, 8))\n",
    "sns.barplot(ax = ax, data = ls_mes, x='month', y='CANTIDAD', color = 'black')\n",
    "plt.title('Cantidad de Delitos de Lesiones Personales Mes a Mes')"
   ]
  },
  {
   "cell_type": "code",
   "execution_count": 119,
   "metadata": {
    "colab": {
     "base_uri": "https://localhost:8080/",
     "height": 0
    },
    "id": "8PEMxb-RbaEN",
    "outputId": "e933bdba-5f2c-4430-eb3b-80534d4096e5"
   },
   "outputs": [
    {
     "data": {
      "text/html": [
       "<div>\n",
       "<style scoped>\n",
       "    .dataframe tbody tr th:only-of-type {\n",
       "        vertical-align: middle;\n",
       "    }\n",
       "\n",
       "    .dataframe tbody tr th {\n",
       "        vertical-align: top;\n",
       "    }\n",
       "\n",
       "    .dataframe thead th {\n",
       "        text-align: right;\n",
       "    }\n",
       "</style>\n",
       "<table border=\"1\" class=\"dataframe\">\n",
       "  <thead>\n",
       "    <tr style=\"text-align: right;\">\n",
       "      <th></th>\n",
       "      <th>month</th>\n",
       "      <th>CANTIDAD</th>\n",
       "    </tr>\n",
       "  </thead>\n",
       "  <tbody>\n",
       "    <tr>\n",
       "      <th>2</th>\n",
       "      <td>1</td>\n",
       "      <td>78519</td>\n",
       "    </tr>\n",
       "    <tr>\n",
       "      <th>1</th>\n",
       "      <td>2</td>\n",
       "      <td>82599</td>\n",
       "    </tr>\n",
       "    <tr>\n",
       "      <th>0</th>\n",
       "      <td>3</td>\n",
       "      <td>84883</td>\n",
       "    </tr>\n",
       "    <tr>\n",
       "      <th>4</th>\n",
       "      <td>4</td>\n",
       "      <td>76221</td>\n",
       "    </tr>\n",
       "    <tr>\n",
       "      <th>5</th>\n",
       "      <td>5</td>\n",
       "      <td>75897</td>\n",
       "    </tr>\n",
       "    <tr>\n",
       "      <th>9</th>\n",
       "      <td>6</td>\n",
       "      <td>68909</td>\n",
       "    </tr>\n",
       "    <tr>\n",
       "      <th>7</th>\n",
       "      <td>7</td>\n",
       "      <td>70940</td>\n",
       "    </tr>\n",
       "    <tr>\n",
       "      <th>6</th>\n",
       "      <td>8</td>\n",
       "      <td>73490</td>\n",
       "    </tr>\n",
       "    <tr>\n",
       "      <th>3</th>\n",
       "      <td>9</td>\n",
       "      <td>76300</td>\n",
       "    </tr>\n",
       "    <tr>\n",
       "      <th>8</th>\n",
       "      <td>10</td>\n",
       "      <td>69302</td>\n",
       "    </tr>\n",
       "    <tr>\n",
       "      <th>10</th>\n",
       "      <td>11</td>\n",
       "      <td>63856</td>\n",
       "    </tr>\n",
       "    <tr>\n",
       "      <th>11</th>\n",
       "      <td>12</td>\n",
       "      <td>56281</td>\n",
       "    </tr>\n",
       "  </tbody>\n",
       "</table>\n",
       "</div>"
      ],
      "text/plain": [
       "    month  CANTIDAD\n",
       "2       1     78519\n",
       "1       2     82599\n",
       "0       3     84883\n",
       "4       4     76221\n",
       "5       5     75897\n",
       "9       6     68909\n",
       "7       7     70940\n",
       "6       8     73490\n",
       "3       9     76300\n",
       "8      10     69302\n",
       "10     11     63856\n",
       "11     12     56281"
      ]
     },
     "execution_count": 119,
     "metadata": {},
     "output_type": "execute_result"
    }
   ],
   "source": [
    "vi_mes = vi_df.groupby(['month']).sum().sort_values(by = 'CANTIDAD', ascending = False)['CANTIDAD']\n",
    "vi_mes = vi_mes.reset_index()\n",
    "vi_mes.sort_values(by = 'month')"
   ]
  },
  {
   "cell_type": "code",
   "execution_count": 120,
   "metadata": {
    "colab": {
     "base_uri": "https://localhost:8080/",
     "height": 0
    },
    "id": "lIm92TlOc95Z",
    "outputId": "164e25d0-4163-403b-de6a-f5bd0d3567a9"
   },
   "outputs": [
    {
     "data": {
      "text/plain": [
       "Text(0.5, 1.0, 'Cantidad de Delitos de Violencia Intrafamiliar Mes a Mes')"
      ]
     },
     "execution_count": 120,
     "metadata": {},
     "output_type": "execute_result"
    },
    {
     "data": {
      "image/png": "[encoded data removed]",
      "text/plain": [
       "<Figure size 1080x576 with 1 Axes>"
      ]
     },
     "metadata": {
      "needs_background": "light"
     },
     "output_type": "display_data"
    }
   ],
   "source": [
    "fig, ax = plt.subplots(figsize=(15, 8))\n",
    "sns.barplot(ax = ax, data = vi_mes, x='month', y='CANTIDAD', color = 'black')\n",
    "plt.title('Cantidad de Delitos de Violencia Intrafamiliar Mes a Mes')"
   ]
  },
  {
   "cell_type": "code",
   "execution_count": 121,
   "metadata": {
    "colab": {
     "base_uri": "https://localhost:8080/",
     "height": 0
    },
    "id": "hLi8ddd2bbOn",
    "outputId": "a9135ee6-3799-42ea-c8e3-65b7570a06aa"
   },
   "outputs": [
    {
     "data": {
      "text/html": [
       "<div>\n",
       "<style scoped>\n",
       "    .dataframe tbody tr th:only-of-type {\n",
       "        vertical-align: middle;\n",
       "    }\n",
       "\n",
       "    .dataframe tbody tr th {\n",
       "        vertical-align: top;\n",
       "    }\n",
       "\n",
       "    .dataframe thead th {\n",
       "        text-align: right;\n",
       "    }\n",
       "</style>\n",
       "<table border=\"1\" class=\"dataframe\">\n",
       "  <thead>\n",
       "    <tr style=\"text-align: right;\">\n",
       "      <th></th>\n",
       "      <th>month</th>\n",
       "      <th>CANTIDAD</th>\n",
       "    </tr>\n",
       "  </thead>\n",
       "  <tbody>\n",
       "    <tr>\n",
       "      <th>1</th>\n",
       "      <td>1</td>\n",
       "      <td>22965</td>\n",
       "    </tr>\n",
       "    <tr>\n",
       "      <th>2</th>\n",
       "      <td>2</td>\n",
       "      <td>22794</td>\n",
       "    </tr>\n",
       "    <tr>\n",
       "      <th>0</th>\n",
       "      <td>3</td>\n",
       "      <td>24109</td>\n",
       "    </tr>\n",
       "    <tr>\n",
       "      <th>4</th>\n",
       "      <td>4</td>\n",
       "      <td>21533</td>\n",
       "    </tr>\n",
       "    <tr>\n",
       "      <th>5</th>\n",
       "      <td>5</td>\n",
       "      <td>21524</td>\n",
       "    </tr>\n",
       "    <tr>\n",
       "      <th>9</th>\n",
       "      <td>6</td>\n",
       "      <td>19657</td>\n",
       "    </tr>\n",
       "    <tr>\n",
       "      <th>7</th>\n",
       "      <td>7</td>\n",
       "      <td>20644</td>\n",
       "    </tr>\n",
       "    <tr>\n",
       "      <th>3</th>\n",
       "      <td>8</td>\n",
       "      <td>21788</td>\n",
       "    </tr>\n",
       "    <tr>\n",
       "      <th>6</th>\n",
       "      <td>9</td>\n",
       "      <td>21434</td>\n",
       "    </tr>\n",
       "    <tr>\n",
       "      <th>8</th>\n",
       "      <td>10</td>\n",
       "      <td>20594</td>\n",
       "    </tr>\n",
       "    <tr>\n",
       "      <th>10</th>\n",
       "      <td>11</td>\n",
       "      <td>18415</td>\n",
       "    </tr>\n",
       "    <tr>\n",
       "      <th>11</th>\n",
       "      <td>12</td>\n",
       "      <td>15045</td>\n",
       "    </tr>\n",
       "  </tbody>\n",
       "</table>\n",
       "</div>"
      ],
      "text/plain": [
       "    month  CANTIDAD\n",
       "1       1     22965\n",
       "2       2     22794\n",
       "0       3     24109\n",
       "4       4     21533\n",
       "5       5     21524\n",
       "9       6     19657\n",
       "7       7     20644\n",
       "3       8     21788\n",
       "6       9     21434\n",
       "8      10     20594\n",
       "10     11     18415\n",
       "11     12     15045"
      ]
     },
     "execution_count": 121,
     "metadata": {},
     "output_type": "execute_result"
    }
   ],
   "source": [
    "ds_mes = ds_df.groupby(['month']).sum().sort_values(by = 'CANTIDAD', ascending = False)['CANTIDAD']\n",
    "ds_mes = ds_mes.reset_index()\n",
    "ds_mes.sort_values(by = 'month')"
   ]
  },
  {
   "cell_type": "code",
   "execution_count": 122,
   "metadata": {
    "colab": {
     "base_uri": "https://localhost:8080/",
     "height": 0
    },
    "id": "PhWhTgKQdBYw",
    "outputId": "1a6af8c6-db26-4eed-954a-942e1de837f9"
   },
   "outputs": [
    {
     "data": {
      "text/plain": [
       "Text(0.5, 1.0, 'Cantidad de Delitos Sexuales Mes a Mes')"
      ]
     },
     "execution_count": 122,
     "metadata": {},
     "output_type": "execute_result"
    },
    {
     "data": {
      "image/png": "[encoded data removed]",
      "text/plain": [
       "<Figure size 1080x576 with 1 Axes>"
      ]
     },
     "metadata": {
      "needs_background": "light"
     },
     "output_type": "display_data"
    }
   ],
   "source": [
    "fig, ax = plt.subplots(figsize=(15, 8))\n",
    "sns.barplot(ax = ax, data = ds_mes, x='month', y='CANTIDAD', color = 'black')\n",
    "plt.title('Cantidad de Delitos Sexuales Mes a Mes')"
   ]
  },
  {
   "cell_type": "code",
   "execution_count": 123,
   "metadata": {
    "colab": {
     "base_uri": "https://localhost:8080/",
     "height": 0
    },
    "id": "Zd8N3zRKbb3v",
    "outputId": "0cd7eaaa-f49f-43ac-f754-2951a2d74823"
   },
   "outputs": [
    {
     "data": {
      "text/html": [
       "<div>\n",
       "<style scoped>\n",
       "    .dataframe tbody tr th:only-of-type {\n",
       "        vertical-align: middle;\n",
       "    }\n",
       "\n",
       "    .dataframe tbody tr th {\n",
       "        vertical-align: top;\n",
       "    }\n",
       "\n",
       "    .dataframe thead th {\n",
       "        text-align: right;\n",
       "    }\n",
       "</style>\n",
       "<table border=\"1\" class=\"dataframe\">\n",
       "  <thead>\n",
       "    <tr style=\"text-align: right;\">\n",
       "      <th></th>\n",
       "      <th>month</th>\n",
       "      <th>CANTIDAD</th>\n",
       "    </tr>\n",
       "  </thead>\n",
       "  <tbody>\n",
       "    <tr>\n",
       "      <th>1</th>\n",
       "      <td>1</td>\n",
       "      <td>6068</td>\n",
       "    </tr>\n",
       "    <tr>\n",
       "      <th>4</th>\n",
       "      <td>2</td>\n",
       "      <td>5505</td>\n",
       "    </tr>\n",
       "    <tr>\n",
       "      <th>2</th>\n",
       "      <td>3</td>\n",
       "      <td>5908</td>\n",
       "    </tr>\n",
       "    <tr>\n",
       "      <th>7</th>\n",
       "      <td>4</td>\n",
       "      <td>5250</td>\n",
       "    </tr>\n",
       "    <tr>\n",
       "      <th>11</th>\n",
       "      <td>5</td>\n",
       "      <td>4996</td>\n",
       "    </tr>\n",
       "    <tr>\n",
       "      <th>9</th>\n",
       "      <td>6</td>\n",
       "      <td>5206</td>\n",
       "    </tr>\n",
       "    <tr>\n",
       "      <th>5</th>\n",
       "      <td>7</td>\n",
       "      <td>5335</td>\n",
       "    </tr>\n",
       "    <tr>\n",
       "      <th>10</th>\n",
       "      <td>8</td>\n",
       "      <td>5193</td>\n",
       "    </tr>\n",
       "    <tr>\n",
       "      <th>8</th>\n",
       "      <td>9</td>\n",
       "      <td>5235</td>\n",
       "    </tr>\n",
       "    <tr>\n",
       "      <th>3</th>\n",
       "      <td>10</td>\n",
       "      <td>5582</td>\n",
       "    </tr>\n",
       "    <tr>\n",
       "      <th>6</th>\n",
       "      <td>11</td>\n",
       "      <td>5317</td>\n",
       "    </tr>\n",
       "    <tr>\n",
       "      <th>0</th>\n",
       "      <td>12</td>\n",
       "      <td>6078</td>\n",
       "    </tr>\n",
       "  </tbody>\n",
       "</table>\n",
       "</div>"
      ],
      "text/plain": [
       "    month  CANTIDAD\n",
       "1       1      6068\n",
       "4       2      5505\n",
       "2       3      5908\n",
       "7       4      5250\n",
       "11      5      4996\n",
       "9       6      5206\n",
       "5       7      5335\n",
       "10      8      5193\n",
       "8       9      5235\n",
       "3      10      5582\n",
       "6      11      5317\n",
       "0      12      6078"
      ]
     },
     "execution_count": 123,
     "metadata": {},
     "output_type": "execute_result"
    }
   ],
   "source": [
    "hat_mes = hat_df.groupby(['month']).sum().sort_values(by = 'CANTIDAD', ascending = False)['CANTIDAD']\n",
    "hat_mes = hat_mes.reset_index()\n",
    "hat_mes.sort_values(by = 'month')"
   ]
  },
  {
   "cell_type": "code",
   "execution_count": 124,
   "metadata": {
    "colab": {
     "base_uri": "https://localhost:8080/",
     "height": 0
    },
    "id": "0u4JBmFZdEC3",
    "outputId": "14d0c60f-e717-4b56-921b-ceac328348ad"
   },
   "outputs": [
    {
     "data": {
      "text/plain": [
       "Text(0.5, 1.0, 'Cantidad de Homicidios por Accidente de Tráfico Mes a Mes')"
      ]
     },
     "execution_count": 124,
     "metadata": {},
     "output_type": "execute_result"
    },
    {
     "data": {
      "image/png": "[encoded data removed]",
      "text/plain": [
       "<Figure size 1080x576 with 1 Axes>"
      ]
     },
     "metadata": {
      "needs_background": "light"
     },
     "output_type": "display_data"
    }
   ],
   "source": [
    "fig, ax = plt.subplots(figsize=(15, 8))\n",
    "sns.barplot(ax = ax, data = hat_mes, x='month', y='CANTIDAD', color = 'black')\n",
    "plt.title('Cantidad de Homicidios por Accidente de Tráfico Mes a Mes')"
   ]
  },
  {
   "cell_type": "markdown",
   "metadata": {
    "id": "84RdmmuEePJg"
   },
   "source": [
    "##2.5 Para los casos en los que se disponga del detalle del delito o de una descripción, como por ejemplo en delitos sexuales y secuestro, ¿cuáles son las descripciones o modalidades más comunes?"
   ]
  },
  {
   "cell_type": "markdown",
   "metadata": {
    "id": "zW123dgrhvqr"
   },
   "source": [
    "R/ ependiendo de los delitos se tienen las siguientes descripciones principales:\n",
    "* Lesiones Personales\n",
    "* Actos Sexuales con menores de 14 años\n",
    "* Homicidio Culposo en accidente de transito"
   ]
  },
  {
   "cell_type": "code",
   "execution_count": 125,
   "metadata": {
    "colab": {
     "base_uri": "https://localhost:8080/"
    },
    "id": "I2E-KgDVeYZI",
    "outputId": "a89c5f2c-32a5-4848-efbc-b0162db50903"
   },
   "outputs": [
    {
     "data": {
      "text/plain": [
       "DESCRIPCIÓN CONDUCTA\n",
       "LESIONES PERSONALES                               1147947\n",
       "LESIONES CULPOSAS ( EN ACCIDENTE DE TRANSITO )     482407\n",
       "Name: CANTIDAD, dtype: int64"
      ]
     },
     "execution_count": 125,
     "metadata": {},
     "output_type": "execute_result"
    }
   ],
   "source": [
    "ls_df.groupby('DESCRIPCIÓN CONDUCTA').sum().sort_values(by = 'CANTIDAD', ascending = False)['CANTIDAD']\n",
    "#['DESCRIPCIÓN CONDUCTA'].unique()"
   ]
  },
  {
   "cell_type": "code",
   "execution_count": 126,
   "metadata": {
    "colab": {
     "base_uri": "https://localhost:8080/"
    },
    "id": "6H_FX-Cnf5Su",
    "outputId": "c850c84e-358f-4738-a007-a6312c1f454f"
   },
   "outputs": [
    {
     "data": {
      "text/plain": [
       "delito\n",
       "ARTÍCULO 209. ACTOS SEXUALES CON MENOR DE 14 AÑOS                                                                  81928\n",
       "ARTÍCULO 208. ACCESO CARNAL ABUSIVO CON MENOR DE 14 AÑOS                                                           56410\n",
       "ARTÍCULO 205. ACCESO CARNAL VIOLENTO                                                                               39062\n",
       "ARTÍCULO 206. ACTO SEXUAL VIOLENTO                                                                                 27018\n",
       "ARTÍCULO 210 A. ACOSO SEXUAL                                                                                       16469\n",
       "ARTÍCULO 210. ACCESO CARNAL O ACTO SEXUAL ABUSIVO CON INCAPAZ DE RESISTIR                                           9696\n",
       "ARTÍCULO 218. PORNOGRAFÍA CON MENORES                                                                               6682\n",
       "ARTÍCULO 207. ACCESO CARNAL O ACTO SEXUAL EN PERSONA PUESTA EN INCAPACIDAD DE RESISTIR                              4458\n",
       "ARTÍCULO 219 A. UTILIZACIÓN O FACILITACIÓN DE MEDIOS DE COMUNICACIÓN PARA OFRECER SERVICIOS SEXUALES DE MENORES     1831\n",
       "ARTÍCULO 213. INDUCCIÓN A LA PROSTITUCIÓN                                                                           1771\n",
       "ARTÍCULO 217 A. DEMANDA DE EXPLOTACION SEXUAL COMERCIAL DE PERSONA MENOR DE 18 AÑOS DE EDAD                         1264\n",
       "ARTÍCULO 211. ACCESO CARNAL ABUSIVO CON MENOR DE 14 AÑOS (CIRCUNSTANCIAS AGRAVACIÓN)                                 779\n",
       "ARTÍCULO 211. ACTOS SEXUALES CON MENOR DE 14 AÑOS (CIRCUNSTANCIAS DE AGRAVACIÓN)                                     778\n",
       "ARTÍCULO 211. ACCESO CARNAL O ACTO SEXUAL EN PERSONA PUESTA EN INCAPACIDAD DE RESISTIR  (CIRCUNSTANC                 630\n",
       "ARTÍCULO 213 A. PROXENETISMO CON MENOR DE EDAD                                                                       484\n",
       "ARTÍCULO 211. ACCESO CARNAL VIOLENTO (CIRCUNSTANCIAS AGRAVACIÓN)                                                     302\n",
       "ARTÍCULO 211. ACCESO CARNAL O ACTO SEXUAL ABUSIVO CON INCAPAZ DE RESISTIR (CIRCUNSTANCIAS AGRAVACIÓN                 281\n",
       "ARTÍCULO 211. ACTO SEXUAL VIOLENTO (CIRCUNSTANCIAS DE AGRAVACIÓN)                                                    271\n",
       "ARTÍCULO 214. CONSTREÑIMIENTO A LA PROSTITUCIÓN                                                                      198\n",
       "ARTÍCULO 217. ESTÍMULO A LA PROSTITUCIÓN DE MENORES                                                                  155\n",
       "ARTÍCULO 216. INDUCCIÓN A LA PROSTITUCIÓN (CIRCUNSTANCIAS AGRAVACIÓN)                                                 23\n",
       "ARTÍCULO 219 B. OMISIÓN DE DENUNCIA                                                                                    8\n",
       "ARTÍCULO 216. CONSTREÑIMIENTO A LA PROSTITUCIÓN (CIRCUNSTANCIAS AGRAVACIÓN)                                            4\n",
       "Name: CANTIDAD, dtype: int64"
      ]
     },
     "execution_count": 126,
     "metadata": {},
     "output_type": "execute_result"
    }
   ],
   "source": [
    "ds_df.groupby('delito').sum().sort_values(by = 'CANTIDAD', ascending = False)['CANTIDAD']\n",
    "#ds_df['delito'].unique()"
   ]
  },
  {
   "cell_type": "code",
   "execution_count": 127,
   "metadata": {
    "colab": {
     "base_uri": "https://localhost:8080/"
    },
    "id": "9-8g4lCwf596",
    "outputId": "5f7f1e8a-f5ba-4c6a-fde1-a2949e5ebbf3"
   },
   "outputs": [
    {
     "data": {
      "text/plain": [
       "DESCRIPCIÓN CONDUCTA\n",
       "ARTÍCULO 109. HOMICIDIO CULPOSO ( EN ACCIDENTE DE TRÁNSITO)        65662\n",
       "ARTÍCULO 110. HOMICIDIO CULPOSO ( CIRCUNSTANCIAS DE AGRAVACIÓN)       11\n",
       "Name: CANTIDAD, dtype: int64"
      ]
     },
     "execution_count": 127,
     "metadata": {},
     "output_type": "execute_result"
    }
   ],
   "source": [
    "hat_df.groupby('DESCRIPCIÓN CONDUCTA').sum().sort_values(by = 'CANTIDAD', ascending = False)['CANTIDAD']\n",
    "#hat_df['DESCRIPCIÓN CONDUCTA'].unique()"
   ]
  },
  {
   "cell_type": "markdown",
   "metadata": {
    "id": "PjAGmrIJu_LT"
   },
   "source": [
    "#Punto 3"
   ]
  },
  {
   "cell_type": "markdown",
   "metadata": {
    "id": "tQalCnNN0PRq"
   },
   "source": [
    "A partir de alguno de los conjuntos de datos seleccionados, visualice una\n",
    "serie de tiempo por año y mes que permita comparar la cantidad de delitos\n",
    "cometidos para los departamentos con mayor ocurrencia durante los últimos 5\n",
    "años. Para que los resultados entre departamentos sean comparables, es\n",
    "importante que normalice las cantidades obtenidas por cantidad de habitantes.\n",
    "En este archivo puede encontrar la población por departamento para el año\n",
    "2018. Asuma que la población no ha cambiado con el paso de los años."
   ]
  },
  {
   "cell_type": "code",
   "execution_count": 128,
   "metadata": {
    "colab": {
     "base_uri": "https://localhost:8080/",
     "height": 206
    },
    "id": "EWu_I0p4u-ZA",
    "outputId": "381d2b99-f5a0-40ef-b75d-fabd8922308c"
   },
   "outputs": [
    {
     "data": {
      "text/html": [
       "<div>\n",
       "<style scoped>\n",
       "    .dataframe tbody tr th:only-of-type {\n",
       "        vertical-align: middle;\n",
       "    }\n",
       "\n",
       "    .dataframe tbody tr th {\n",
       "        vertical-align: top;\n",
       "    }\n",
       "\n",
       "    .dataframe thead th {\n",
       "        text-align: right;\n",
       "    }\n",
       "</style>\n",
       "<table border=\"1\" class=\"dataframe\">\n",
       "  <thead>\n",
       "    <tr style=\"text-align: right;\">\n",
       "      <th></th>\n",
       "      <th>departamento</th>\n",
       "      <th>población</th>\n",
       "    </tr>\n",
       "  </thead>\n",
       "  <tbody>\n",
       "    <tr>\n",
       "      <th>0</th>\n",
       "      <td>Amazonas</td>\n",
       "      <td>48.144</td>\n",
       "    </tr>\n",
       "    <tr>\n",
       "      <th>1</th>\n",
       "      <td>Antioquia</td>\n",
       "      <td>2.427.129</td>\n",
       "    </tr>\n",
       "    <tr>\n",
       "      <th>2</th>\n",
       "      <td>Arauca</td>\n",
       "      <td>85.585</td>\n",
       "    </tr>\n",
       "    <tr>\n",
       "      <th>3</th>\n",
       "      <td>Atlántico</td>\n",
       "      <td>1.206.319</td>\n",
       "    </tr>\n",
       "    <tr>\n",
       "      <th>4</th>\n",
       "      <td>Bolívar</td>\n",
       "      <td>973.045</td>\n",
       "    </tr>\n",
       "  </tbody>\n",
       "</table>\n",
       "</div>"
      ],
      "text/plain": [
       "  departamento  población\n",
       "0     Amazonas     48.144\n",
       "1    Antioquia  2.427.129\n",
       "2       Arauca     85.585\n",
       "3    Atlántico  1.206.319\n",
       "4      Bolívar    973.045"
      ]
     },
     "execution_count": 128,
     "metadata": {},
     "output_type": "execute_result"
    }
   ],
   "source": [
    "poblacion_df.head()"
   ]
  },
  {
   "cell_type": "code",
   "execution_count": 129,
   "metadata": {
    "id": "6GUPILKXOPap"
   },
   "outputs": [],
   "source": [
    "poblacion_df[\"departamento\"] = poblacion_df[\"departamento\"].replace(\"VALLE DEL CAUCA\",\"VALLE\")"
   ]
  },
  {
   "cell_type": "code",
   "execution_count": 130,
   "metadata": {
    "colab": {
     "base_uri": "https://localhost:8080/"
    },
    "id": "t39g-ny7PCbQ",
    "outputId": "fc8d43b2-70a4-406d-8fb2-777a79f9dad5"
   },
   "outputs": [
    {
     "data": {
      "text/plain": [
       "array([], dtype=object)"
      ]
     },
     "execution_count": 130,
     "metadata": {},
     "output_type": "execute_result"
    }
   ],
   "source": [
    "#Validar y transformar datos población\n",
    "poblacion_df['departamento'].unique()\n",
    "poblacion_df['departamento'] = poblacion_df['departamento'].str.upper()\n",
    "poblacion_df.loc[~poblacion_df[\"departamento\"].isin(departments_list), \"departamento\"].unique()\n",
    "poblacion_df[\"departamento\"] = poblacion_df[\"departamento\"].replace(\"VALLE DEL CAUCA\",\"VALLE\")\n",
    "poblacion_df.replace({\"departamento\":estandarizar_dep}, inplace = True)\n",
    "poblacion_df.loc[~poblacion_df[\"departamento\"].isin(departments_list), \"departamento\"].unique()"
   ]
  },
  {
   "cell_type": "code",
   "execution_count": 131,
   "metadata": {
    "colab": {
     "base_uri": "https://localhost:8080/",
     "height": 423
    },
    "id": "LZ9JT5vaPFY4",
    "outputId": "820b3474-9776-4ba1-c8d8-5592c0937de8"
   },
   "outputs": [
    {
     "data": {
      "text/html": [
       "<div>\n",
       "<style scoped>\n",
       "    .dataframe tbody tr th:only-of-type {\n",
       "        vertical-align: middle;\n",
       "    }\n",
       "\n",
       "    .dataframe tbody tr th {\n",
       "        vertical-align: top;\n",
       "    }\n",
       "\n",
       "    .dataframe thead th {\n",
       "        text-align: right;\n",
       "    }\n",
       "</style>\n",
       "<table border=\"1\" class=\"dataframe\">\n",
       "  <thead>\n",
       "    <tr style=\"text-align: right;\">\n",
       "      <th></th>\n",
       "      <th>DEPARTAMENTO</th>\n",
       "      <th>year</th>\n",
       "      <th>month</th>\n",
       "      <th>CANTIDAD</th>\n",
       "    </tr>\n",
       "  </thead>\n",
       "  <tbody>\n",
       "    <tr>\n",
       "      <th>147</th>\n",
       "      <td>AMAZONAS</td>\n",
       "      <td>2022</td>\n",
       "      <td>4</td>\n",
       "      <td>3</td>\n",
       "    </tr>\n",
       "    <tr>\n",
       "      <th>295</th>\n",
       "      <td>ANTIOQUIA</td>\n",
       "      <td>2022</td>\n",
       "      <td>4</td>\n",
       "      <td>207</td>\n",
       "    </tr>\n",
       "    <tr>\n",
       "      <th>443</th>\n",
       "      <td>ARAUCA</td>\n",
       "      <td>2022</td>\n",
       "      <td>4</td>\n",
       "      <td>9</td>\n",
       "    </tr>\n",
       "    <tr>\n",
       "      <th>591</th>\n",
       "      <td>ATLÁNTICO</td>\n",
       "      <td>2022</td>\n",
       "      <td>4</td>\n",
       "      <td>58</td>\n",
       "    </tr>\n",
       "    <tr>\n",
       "      <th>739</th>\n",
       "      <td>BOLÍVAR</td>\n",
       "      <td>2022</td>\n",
       "      <td>4</td>\n",
       "      <td>61</td>\n",
       "    </tr>\n",
       "    <tr>\n",
       "      <th>...</th>\n",
       "      <td>...</td>\n",
       "      <td>...</td>\n",
       "      <td>...</td>\n",
       "      <td>...</td>\n",
       "    </tr>\n",
       "    <tr>\n",
       "      <th>3998</th>\n",
       "      <td>SUCRE</td>\n",
       "      <td>2018</td>\n",
       "      <td>1</td>\n",
       "      <td>50</td>\n",
       "    </tr>\n",
       "    <tr>\n",
       "      <th>4146</th>\n",
       "      <td>TOLIMA</td>\n",
       "      <td>2018</td>\n",
       "      <td>1</td>\n",
       "      <td>133</td>\n",
       "    </tr>\n",
       "    <tr>\n",
       "      <th>4294</th>\n",
       "      <td>VALLE</td>\n",
       "      <td>2018</td>\n",
       "      <td>1</td>\n",
       "      <td>225</td>\n",
       "    </tr>\n",
       "    <tr>\n",
       "      <th>4379</th>\n",
       "      <td>VAUPÉS</td>\n",
       "      <td>2018</td>\n",
       "      <td>1</td>\n",
       "      <td>4</td>\n",
       "    </tr>\n",
       "    <tr>\n",
       "      <th>4495</th>\n",
       "      <td>VICHADA</td>\n",
       "      <td>2018</td>\n",
       "      <td>1</td>\n",
       "      <td>1</td>\n",
       "    </tr>\n",
       "  </tbody>\n",
       "</table>\n",
       "<p>1658 rows × 4 columns</p>\n",
       "</div>"
      ],
      "text/plain": [
       "     DEPARTAMENTO  year  month  CANTIDAD\n",
       "147      AMAZONAS  2022      4         3\n",
       "295     ANTIOQUIA  2022      4       207\n",
       "443        ARAUCA  2022      4         9\n",
       "591     ATLÁNTICO  2022      4        58\n",
       "739       BOLÍVAR  2022      4        61\n",
       "...           ...   ...    ...       ...\n",
       "3998        SUCRE  2018      1        50\n",
       "4146       TOLIMA  2018      1       133\n",
       "4294        VALLE  2018      1       225\n",
       "4379       VAUPÉS  2018      1         4\n",
       "4495      VICHADA  2018      1         1\n",
       "\n",
       "[1658 rows x 4 columns]"
      ]
     },
     "execution_count": 131,
     "metadata": {},
     "output_type": "execute_result"
    }
   ],
   "source": [
    "#Cantidad de delitos agrupado por departamento, año y mes \n",
    "\n",
    "ds_df.groupby(['year','month','DEPARTAMENTO'], as_index=True).sum().sort_values('CANTIDAD',ascending = False)\n",
    "delitosex_df21 = ds_df[[\"DEPARTAMENTO\",\"year\",\"month\",\"CANTIDAD\"]].groupby(['DEPARTAMENTO','year','month'], as_index=False).sum().sort_values(by=['year','month'],ascending = False)\n",
    "delitosex_df21.loc[delitosex_df21['year'] > 2017]"
   ]
  },
  {
   "cell_type": "code",
   "execution_count": 132,
   "metadata": {
    "colab": {
     "base_uri": "https://localhost:8080/",
     "height": 419
    },
    "id": "ol6YvGyxPOA8",
    "outputId": "6db819f7-fdd7-4f07-ab30-8a61f902b1b4"
   },
   "outputs": [
    {
     "name": "stderr",
     "output_type": "stream",
     "text": [
      "C:\\Users\\Nicolas Rey\\AppData\\Local\\Temp\\ipykernel_11296\\250942228.py:8: FutureWarning: The default value of regex will change from True to False in a future version. In addition, single character regular expressions will *not* be treated as literal strings when regex=True.\n",
      "  delito_per_capita_df['población'] = delito_per_capita_df['población'].str.replace('.', '').astype(int)\n"
     ]
    },
    {
     "data": {
      "text/html": [
       "<div>\n",
       "<style scoped>\n",
       "    .dataframe tbody tr th:only-of-type {\n",
       "        vertical-align: middle;\n",
       "    }\n",
       "\n",
       "    .dataframe tbody tr th {\n",
       "        vertical-align: top;\n",
       "    }\n",
       "\n",
       "    .dataframe thead th {\n",
       "        text-align: right;\n",
       "    }\n",
       "</style>\n",
       "<table border=\"1\" class=\"dataframe\">\n",
       "  <thead>\n",
       "    <tr style=\"text-align: right;\">\n",
       "      <th></th>\n",
       "      <th>DEPARTAMENTO</th>\n",
       "      <th>year</th>\n",
       "      <th>month</th>\n",
       "      <th>CANTIDAD</th>\n",
       "      <th>departamento</th>\n",
       "      <th>población</th>\n",
       "      <th>per capita</th>\n",
       "    </tr>\n",
       "  </thead>\n",
       "  <tbody>\n",
       "    <tr>\n",
       "      <th>0</th>\n",
       "      <td>AMAZONAS</td>\n",
       "      <td>2022</td>\n",
       "      <td>4</td>\n",
       "      <td>3</td>\n",
       "      <td>AMAZONAS</td>\n",
       "      <td>48144</td>\n",
       "      <td>6.231306</td>\n",
       "    </tr>\n",
       "    <tr>\n",
       "      <th>1</th>\n",
       "      <td>AMAZONAS</td>\n",
       "      <td>2022</td>\n",
       "      <td>3</td>\n",
       "      <td>2</td>\n",
       "      <td>AMAZONAS</td>\n",
       "      <td>48144</td>\n",
       "      <td>4.154204</td>\n",
       "    </tr>\n",
       "    <tr>\n",
       "      <th>2</th>\n",
       "      <td>AMAZONAS</td>\n",
       "      <td>2022</td>\n",
       "      <td>2</td>\n",
       "      <td>4</td>\n",
       "      <td>AMAZONAS</td>\n",
       "      <td>48144</td>\n",
       "      <td>8.308408</td>\n",
       "    </tr>\n",
       "    <tr>\n",
       "      <th>3</th>\n",
       "      <td>AMAZONAS</td>\n",
       "      <td>2022</td>\n",
       "      <td>1</td>\n",
       "      <td>5</td>\n",
       "      <td>AMAZONAS</td>\n",
       "      <td>48144</td>\n",
       "      <td>10.385510</td>\n",
       "    </tr>\n",
       "    <tr>\n",
       "      <th>4</th>\n",
       "      <td>AMAZONAS</td>\n",
       "      <td>2021</td>\n",
       "      <td>12</td>\n",
       "      <td>3</td>\n",
       "      <td>AMAZONAS</td>\n",
       "      <td>48144</td>\n",
       "      <td>6.231306</td>\n",
       "    </tr>\n",
       "    <tr>\n",
       "      <th>5</th>\n",
       "      <td>AMAZONAS</td>\n",
       "      <td>2021</td>\n",
       "      <td>11</td>\n",
       "      <td>3</td>\n",
       "      <td>AMAZONAS</td>\n",
       "      <td>48144</td>\n",
       "      <td>6.231306</td>\n",
       "    </tr>\n",
       "    <tr>\n",
       "      <th>6</th>\n",
       "      <td>AMAZONAS</td>\n",
       "      <td>2021</td>\n",
       "      <td>10</td>\n",
       "      <td>6</td>\n",
       "      <td>AMAZONAS</td>\n",
       "      <td>48144</td>\n",
       "      <td>12.462612</td>\n",
       "    </tr>\n",
       "    <tr>\n",
       "      <th>7</th>\n",
       "      <td>AMAZONAS</td>\n",
       "      <td>2021</td>\n",
       "      <td>9</td>\n",
       "      <td>4</td>\n",
       "      <td>AMAZONAS</td>\n",
       "      <td>48144</td>\n",
       "      <td>8.308408</td>\n",
       "    </tr>\n",
       "    <tr>\n",
       "      <th>8</th>\n",
       "      <td>AMAZONAS</td>\n",
       "      <td>2021</td>\n",
       "      <td>8</td>\n",
       "      <td>6</td>\n",
       "      <td>AMAZONAS</td>\n",
       "      <td>48144</td>\n",
       "      <td>12.462612</td>\n",
       "    </tr>\n",
       "    <tr>\n",
       "      <th>9</th>\n",
       "      <td>AMAZONAS</td>\n",
       "      <td>2021</td>\n",
       "      <td>7</td>\n",
       "      <td>2</td>\n",
       "      <td>AMAZONAS</td>\n",
       "      <td>48144</td>\n",
       "      <td>4.154204</td>\n",
       "    </tr>\n",
       "  </tbody>\n",
       "</table>\n",
       "</div>"
      ],
      "text/plain": [
       "  DEPARTAMENTO  year  month  CANTIDAD departamento  población  per capita\n",
       "0     AMAZONAS  2022      4         3     AMAZONAS      48144    6.231306\n",
       "1     AMAZONAS  2022      3         2     AMAZONAS      48144    4.154204\n",
       "2     AMAZONAS  2022      2         4     AMAZONAS      48144    8.308408\n",
       "3     AMAZONAS  2022      1         5     AMAZONAS      48144   10.385510\n",
       "4     AMAZONAS  2021     12         3     AMAZONAS      48144    6.231306\n",
       "5     AMAZONAS  2021     11         3     AMAZONAS      48144    6.231306\n",
       "6     AMAZONAS  2021     10         6     AMAZONAS      48144   12.462612\n",
       "7     AMAZONAS  2021      9         4     AMAZONAS      48144    8.308408\n",
       "8     AMAZONAS  2021      8         6     AMAZONAS      48144   12.462612\n",
       "9     AMAZONAS  2021      7         2     AMAZONAS      48144    4.154204"
      ]
     },
     "execution_count": 132,
     "metadata": {},
     "output_type": "execute_result"
    }
   ],
   "source": [
    "#cantidad de delitos por departamento\n",
    "#departamentos con mayor ocurrencia durante los últimos 5 años: Cundinamarca, Antioquia, Valle\n",
    "delitosex_dpto_df = delitosex_df21.loc[delitosex_df21['year'] > 2017]\n",
    "delitosex_dpto_df\n",
    "\n",
    "#merge con población de los departamentos del dataset de delitos sexuales y población\n",
    "delito_per_capita_df = pd.merge(delitosex_dpto_df, poblacion_df, left_on = \"DEPARTAMENTO\", right_on = \"departamento\")\n",
    "delito_per_capita_df['población'] = delito_per_capita_df['población'].str.replace('.', '').astype(int)\n",
    "delito_per_capita_df\n",
    "\n",
    "#Homicidios per capita \n",
    "delito_per_capita_df['per capita'] = delito_per_capita_df['CANTIDAD'] / delito_per_capita_df['población'] * 100000\n",
    "delito_per_capita_df.head(10)"
   ]
  },
  {
   "cell_type": "code",
   "execution_count": 133,
   "metadata": {
    "colab": {
     "base_uri": "https://localhost:8080/",
     "height": 467
    },
    "id": "VrdVnEgzPTWj",
    "outputId": "92daffa9-0d2a-477a-f8f4-54c9ec6c1532"
   },
   "outputs": [
    {
     "data": {
      "text/plain": [
       "Text(0.5, 1.0, 'Cantidad de Delitos Sexuales por Departamento en los Últimos 5 años')"
      ]
     },
     "execution_count": 133,
     "metadata": {},
     "output_type": "execute_result"
    },
    {
     "data": {
      "image/png": "[encoded data removed]",
      "text/plain": [
       "<Figure size 1440x576 with 1 Axes>"
      ]
     },
     "metadata": {
      "needs_background": "light"
     },
     "output_type": "display_data"
    }
   ],
   "source": [
    "#Visualización de los delitos por departamento con mayor ocurrencia durante los últimos 5 años: Cundinamarca, Antioquia, Valle\n",
    "delito_per_capita_filtro_df = delito_per_capita_df.loc[(delito_per_capita_df['DEPARTAMENTO'] == 'CUNDINAMARCA') | (delito_per_capita_df['DEPARTAMENTO'] == 'ANTIOQUIA') | (delito_per_capita_df['DEPARTAMENTO'] == 'VALLE')]\n",
    "\n",
    "\n",
    "delito_per_capita_filtro_df.set_index(['year', 'month'])\n",
    "pivoted = delito_per_capita_filtro_df.pivot(index=['year', 'month'], columns=\"DEPARTAMENTO\", values=\"per capita\")\n",
    "pivoted.plot(figsize=(20, 8))\n",
    "plt.title('Cantidad de Delitos Sexuales por Departamento en los Últimos 5 años')"
   ]
  },
  {
   "cell_type": "markdown",
   "metadata": {
    "id": "fXaXUPq6vDAa"
   },
   "source": [
    "#Punto 4"
   ]
  },
  {
   "cell_type": "markdown",
   "metadata": {
    "id": "k3_TB5wHvjE3"
   },
   "source": [
    "A partir de los conjuntos de datos seleccionados, construya un único dataset que integre la totalidad de los delitos ocurridos por departamento y municipio. Muestre los valores normalizados por cantidad de habitantes realizando un proceso similar al del punto anterior. En este archivo puede encontrar proyecciones anuales de las poblaciones por departamento. Utilice la proyección para el año en curso. Considere solamente los municipios con más de 1 millón de habitantes."
   ]
  },
  {
   "cell_type": "code",
   "execution_count": 134,
   "metadata": {
    "id": "WD92gNBqvrud"
   },
   "outputs": [],
   "source": [
    "#Identifying which is the original DataFrame:\n",
    "#1 - lesiones_personales 2 - violencia intrafamiliar 3 - delitos sexuales 4 - homicidios\n",
    "ls_df['df_original']  = '1'\n",
    "vi_df['df_original']  = '2'\n",
    "ds_df['df_original']  = '3'\n",
    "hat_df['df_original'] = '4'"
   ]
  },
  {
   "cell_type": "code",
   "execution_count": 135,
   "metadata": {
    "id": "7Dw_wconvxTl"
   },
   "outputs": [],
   "source": [
    "#Creating a new df in order to not pass the description column present in some original df\n",
    "ls_df_2  = ls_df.iloc[:,[0,1,2,3,4,5,6,8,9,10,11]]\n",
    "vi_df_2  = vi_df.iloc[:,:]\n",
    "vi_df_2  = vi_df_2.reset_index(drop=True)\n",
    "ds_df_2  = ds_df.iloc[:,[0,1,2,3,4,5,6,7,9,10,11]]\n",
    "ds_df_2  = ds_df_2.reset_index(drop=True)\n",
    "hat_df_2 = hat_df.iloc[:,[0,1,2,3,4,5,6,8,9,10,11]]\n",
    "hat_df_2 = hat_df_2.reset_index(drop=True)"
   ]
  },
  {
   "cell_type": "code",
   "execution_count": 136,
   "metadata": {
    "id": "y83mku_av305"
   },
   "outputs": [],
   "source": [
    "#Creating the new df with all the original dfs\n",
    "del_df = pd.concat([ls_df_2, vi_df_2,ds_df_2,hat_df_2], axis=0)"
   ]
  },
  {
   "cell_type": "code",
   "execution_count": 137,
   "metadata": {
    "colab": {
     "base_uri": "https://localhost:8080/"
    },
    "id": "nMqOyTAlv57c",
    "outputId": "5c56aa02-69bc-4d0d-c97e-f592840abea8"
   },
   "outputs": [
    {
     "data": {
      "text/plain": [
       "DEPARTAMENTO    1779859\n",
       "MUNICIPIO       1779859\n",
       "CODIGO DANE     1779859\n",
       "ARMAS MEDIOS    1779859\n",
       "FECHA HECHO     1779859\n",
       "GENERO          1779859\n",
       "GRUPO ETARIO    1779859\n",
       "CANTIDAD        1779859\n",
       "year            1779859\n",
       "month           1779859\n",
       "df_original     1779859\n",
       "dtype: int64"
      ]
     },
     "execution_count": 137,
     "metadata": {},
     "output_type": "execute_result"
    }
   ],
   "source": [
    "del_df.count()"
   ]
  },
  {
   "cell_type": "code",
   "execution_count": 138,
   "metadata": {
    "colab": {
     "base_uri": "https://localhost:8080/"
    },
    "id": "WEWz1M45v_BD",
    "outputId": "fa804e5a-947e-46a7-e0c8-e253fa941d78"
   },
   "outputs": [
    {
     "name": "stdout",
     "output_type": "stream",
     "text": [
      "<class 'pandas.core.frame.DataFrame'>\n",
      "Int64Index: 1779859 entries, 0 to 59804\n",
      "Data columns (total 11 columns):\n",
      " #   Column        Dtype         \n",
      "---  ------        -----         \n",
      " 0   DEPARTAMENTO  object        \n",
      " 1   MUNICIPIO     object        \n",
      " 2   CODIGO DANE   object        \n",
      " 3   ARMAS MEDIOS  object        \n",
      " 4   FECHA HECHO   datetime64[ns]\n",
      " 5   GENERO        object        \n",
      " 6   GRUPO ETARIO  object        \n",
      " 7   CANTIDAD      int64         \n",
      " 8   year          int64         \n",
      " 9   month         int64         \n",
      " 10  df_original   object        \n",
      "dtypes: datetime64[ns](1), int64(3), object(7)\n",
      "memory usage: 163.0+ MB\n"
     ]
    }
   ],
   "source": [
    "del_df.info()"
   ]
  },
  {
   "cell_type": "code",
   "execution_count": 139,
   "metadata": {
    "colab": {
     "base_uri": "https://localhost:8080/"
    },
    "id": "bwP09xAsv8K0",
    "outputId": "d17c78fd-f904-4e36-b695-1381d83c850f"
   },
   "outputs": [
    {
     "data": {
      "text/plain": [
       "DEPARTAMENTO    False\n",
       "MUNICIPIO       False\n",
       "CODIGO DANE     False\n",
       "ARMAS MEDIOS    False\n",
       "FECHA HECHO     False\n",
       "GENERO          False\n",
       "GRUPO ETARIO    False\n",
       "CANTIDAD        False\n",
       "year            False\n",
       "month           False\n",
       "df_original     False\n",
       "dtype: bool"
      ]
     },
     "execution_count": 139,
     "metadata": {},
     "output_type": "execute_result"
    }
   ],
   "source": [
    "del_df.isnull().any()"
   ]
  },
  {
   "cell_type": "code",
   "execution_count": 140,
   "metadata": {
    "colab": {
     "base_uri": "https://localhost:8080/"
    },
    "id": "AP3T9sHCwFlU",
    "outputId": "761815db-93a7-4463-f9e4-d17624d7f70b"
   },
   "outputs": [
    {
     "data": {
      "text/plain": [
       "DEPARTAMENTO    58058\n",
       "MUNICIPIO       58058\n",
       "CODIGO DANE     58058\n",
       "ARMAS MEDIOS    58058\n",
       "FECHA HECHO     58058\n",
       "GENERO          58058\n",
       "GRUPO ETARIO    58058\n",
       "CANTIDAD        58058\n",
       "year            58058\n",
       "month           58058\n",
       "df_original     58058\n",
       "dtype: int64"
      ]
     },
     "execution_count": 140,
     "metadata": {},
     "output_type": "execute_result"
    }
   ],
   "source": [
    "#Filtering del_22_df by year = 2022\n",
    "del_22_df = del_df[(del_df['year'] == 2022)]\n",
    "del_22_df.count()"
   ]
  },
  {
   "cell_type": "code",
   "execution_count": 141,
   "metadata": {
    "colab": {
     "base_uri": "https://localhost:8080/",
     "height": 423
    },
    "id": "3_rcYFiRwO28",
    "outputId": "c9304842-e977-4492-db6e-8df9ae341be6"
   },
   "outputs": [
    {
     "data": {
      "text/html": [
       "<div>\n",
       "<style scoped>\n",
       "    .dataframe tbody tr th:only-of-type {\n",
       "        vertical-align: middle;\n",
       "    }\n",
       "\n",
       "    .dataframe tbody tr th {\n",
       "        vertical-align: top;\n",
       "    }\n",
       "\n",
       "    .dataframe thead th {\n",
       "        text-align: right;\n",
       "    }\n",
       "</style>\n",
       "<table border=\"1\" class=\"dataframe\">\n",
       "  <thead>\n",
       "    <tr style=\"text-align: right;\">\n",
       "      <th></th>\n",
       "      <th>DEPARTAMENTO</th>\n",
       "      <th>MUNICIPIO</th>\n",
       "      <th>CANTIDAD</th>\n",
       "    </tr>\n",
       "  </thead>\n",
       "  <tbody>\n",
       "    <tr>\n",
       "      <th>0</th>\n",
       "      <td>AMAZONAS</td>\n",
       "      <td>LETICIA (CT)</td>\n",
       "      <td>86</td>\n",
       "    </tr>\n",
       "    <tr>\n",
       "      <th>1</th>\n",
       "      <td>AMAZONAS</td>\n",
       "      <td>PUERTO NARIÑO</td>\n",
       "      <td>3</td>\n",
       "    </tr>\n",
       "    <tr>\n",
       "      <th>91</th>\n",
       "      <td>ANTIOQUIA</td>\n",
       "      <td>SAN JERÓNIMO</td>\n",
       "      <td>22</td>\n",
       "    </tr>\n",
       "    <tr>\n",
       "      <th>90</th>\n",
       "      <td>ANTIOQUIA</td>\n",
       "      <td>SAN FRANCISCO</td>\n",
       "      <td>1</td>\n",
       "    </tr>\n",
       "    <tr>\n",
       "      <th>89</th>\n",
       "      <td>ANTIOQUIA</td>\n",
       "      <td>SAN CARLOS</td>\n",
       "      <td>13</td>\n",
       "    </tr>\n",
       "    <tr>\n",
       "      <th>...</th>\n",
       "      <td>...</td>\n",
       "      <td>...</td>\n",
       "      <td>...</td>\n",
       "    </tr>\n",
       "    <tr>\n",
       "      <th>1054</th>\n",
       "      <td>VAUPÉS</td>\n",
       "      <td>TARAIRA</td>\n",
       "      <td>1</td>\n",
       "    </tr>\n",
       "    <tr>\n",
       "      <th>1057</th>\n",
       "      <td>VICHADA</td>\n",
       "      <td>PUERTO CARREÑO (CT)</td>\n",
       "      <td>25</td>\n",
       "    </tr>\n",
       "    <tr>\n",
       "      <th>1055</th>\n",
       "      <td>VICHADA</td>\n",
       "      <td>CUMARIBO</td>\n",
       "      <td>6</td>\n",
       "    </tr>\n",
       "    <tr>\n",
       "      <th>1056</th>\n",
       "      <td>VICHADA</td>\n",
       "      <td>LA PRIMAVERA</td>\n",
       "      <td>25</td>\n",
       "    </tr>\n",
       "    <tr>\n",
       "      <th>1058</th>\n",
       "      <td>VICHADA</td>\n",
       "      <td>SANTA ROSALÍA</td>\n",
       "      <td>8</td>\n",
       "    </tr>\n",
       "  </tbody>\n",
       "</table>\n",
       "<p>1059 rows × 3 columns</p>\n",
       "</div>"
      ],
      "text/plain": [
       "     DEPARTAMENTO            MUNICIPIO  CANTIDAD\n",
       "0        AMAZONAS         LETICIA (CT)        86\n",
       "1        AMAZONAS        PUERTO NARIÑO         3\n",
       "91      ANTIOQUIA         SAN JERÓNIMO        22\n",
       "90      ANTIOQUIA        SAN FRANCISCO         1\n",
       "89      ANTIOQUIA           SAN CARLOS        13\n",
       "...           ...                  ...       ...\n",
       "1054       VAUPÉS              TARAIRA         1\n",
       "1057      VICHADA  PUERTO CARREÑO (CT)        25\n",
       "1055      VICHADA             CUMARIBO         6\n",
       "1056      VICHADA         LA PRIMAVERA        25\n",
       "1058      VICHADA        SANTA ROSALÍA         8\n",
       "\n",
       "[1059 rows x 3 columns]"
      ]
     },
     "execution_count": 141,
     "metadata": {},
     "output_type": "execute_result"
    }
   ],
   "source": [
    "#Grouping by DEPARTAMENTO Y MUNICIPIO\n",
    "del_dp_mn_df = del_22_df.groupby(['DEPARTAMENTO','MUNICIPIO'], as_index=False).CANTIDAD.sum().sort_values('DEPARTAMENTO')\n",
    "del_dp_mn_df"
   ]
  },
  {
   "cell_type": "code",
   "execution_count": 142,
   "metadata": {
    "colab": {
     "base_uri": "https://localhost:8080/",
     "height": 206
    },
    "id": "RESySngdx9se",
    "outputId": "b5bb9041-391d-4f4e-be7d-fb8a8a65046b"
   },
   "outputs": [
    {
     "data": {
      "text/html": [
       "<div>\n",
       "<style scoped>\n",
       "    .dataframe tbody tr th:only-of-type {\n",
       "        vertical-align: middle;\n",
       "    }\n",
       "\n",
       "    .dataframe tbody tr th {\n",
       "        vertical-align: top;\n",
       "    }\n",
       "\n",
       "    .dataframe thead th {\n",
       "        text-align: right;\n",
       "    }\n",
       "</style>\n",
       "<table border=\"1\" class=\"dataframe\">\n",
       "  <thead>\n",
       "    <tr style=\"text-align: right;\">\n",
       "      <th></th>\n",
       "      <th>DP</th>\n",
       "      <th>DPNOM</th>\n",
       "      <th>DPMP</th>\n",
       "      <th>MPIO</th>\n",
       "      <th>AÑO</th>\n",
       "      <th>ÁREA GEOGRÁFICA</th>\n",
       "      <th>Total</th>\n",
       "    </tr>\n",
       "  </thead>\n",
       "  <tbody>\n",
       "    <tr>\n",
       "      <th>0</th>\n",
       "      <td>5</td>\n",
       "      <td>Antioquia</td>\n",
       "      <td>5001</td>\n",
       "      <td>Medellín</td>\n",
       "      <td>2018</td>\n",
       "      <td>Cabecera Municipal</td>\n",
       "      <td>2382399</td>\n",
       "    </tr>\n",
       "    <tr>\n",
       "      <th>1</th>\n",
       "      <td>5</td>\n",
       "      <td>Antioquia</td>\n",
       "      <td>5001</td>\n",
       "      <td>Medellín</td>\n",
       "      <td>2018</td>\n",
       "      <td>Centros Poblados y Rural Disperso</td>\n",
       "      <td>44730</td>\n",
       "    </tr>\n",
       "    <tr>\n",
       "      <th>2</th>\n",
       "      <td>5</td>\n",
       "      <td>Antioquia</td>\n",
       "      <td>5001</td>\n",
       "      <td>Medellín</td>\n",
       "      <td>2018</td>\n",
       "      <td>Total</td>\n",
       "      <td>2427129</td>\n",
       "    </tr>\n",
       "    <tr>\n",
       "      <th>3</th>\n",
       "      <td>5</td>\n",
       "      <td>Antioquia</td>\n",
       "      <td>5001</td>\n",
       "      <td>Medellín</td>\n",
       "      <td>2019</td>\n",
       "      <td>Cabecera Municipal</td>\n",
       "      <td>2439470</td>\n",
       "    </tr>\n",
       "    <tr>\n",
       "      <th>4</th>\n",
       "      <td>5</td>\n",
       "      <td>Antioquia</td>\n",
       "      <td>5001</td>\n",
       "      <td>Medellín</td>\n",
       "      <td>2019</td>\n",
       "      <td>Centros Poblados y Rural Disperso</td>\n",
       "      <td>44075</td>\n",
       "    </tr>\n",
       "  </tbody>\n",
       "</table>\n",
       "</div>"
      ],
      "text/plain": [
       "   DP      DPNOM  DPMP      MPIO   AÑO                    ÁREA GEOGRÁFICA  \\\n",
       "0   5  Antioquia  5001  Medellín  2018                 Cabecera Municipal   \n",
       "1   5  Antioquia  5001  Medellín  2018  Centros Poblados y Rural Disperso   \n",
       "2   5  Antioquia  5001  Medellín  2018                              Total   \n",
       "3   5  Antioquia  5001  Medellín  2019                 Cabecera Municipal   \n",
       "4   5  Antioquia  5001  Medellín  2019  Centros Poblados y Rural Disperso   \n",
       "\n",
       "     Total  \n",
       "0  2382399  \n",
       "1    44730  \n",
       "2  2427129  \n",
       "3  2439470  \n",
       "4    44075  "
      ]
     },
     "execution_count": 142,
     "metadata": {},
     "output_type": "execute_result"
    }
   ],
   "source": [
    "proy_pob_all_df.head()"
   ]
  },
  {
   "cell_type": "code",
   "execution_count": 143,
   "metadata": {
    "colab": {
     "base_uri": "https://localhost:8080/",
     "height": 423
    },
    "id": "bHYP3ZtcyY-K",
    "outputId": "1126c2ff-3f02-447a-bd42-c3b490b7f401"
   },
   "outputs": [
    {
     "data": {
      "text/html": [
       "<div>\n",
       "<style scoped>\n",
       "    .dataframe tbody tr th:only-of-type {\n",
       "        vertical-align: middle;\n",
       "    }\n",
       "\n",
       "    .dataframe tbody tr th {\n",
       "        vertical-align: top;\n",
       "    }\n",
       "\n",
       "    .dataframe thead th {\n",
       "        text-align: right;\n",
       "    }\n",
       "</style>\n",
       "<table border=\"1\" class=\"dataframe\">\n",
       "  <thead>\n",
       "    <tr style=\"text-align: right;\">\n",
       "      <th></th>\n",
       "      <th>DP</th>\n",
       "      <th>DPNOM</th>\n",
       "      <th>DPMP</th>\n",
       "      <th>MPIO</th>\n",
       "      <th>ANIO</th>\n",
       "      <th>AREA GEOGRAFICA</th>\n",
       "      <th>Total</th>\n",
       "    </tr>\n",
       "  </thead>\n",
       "  <tbody>\n",
       "    <tr>\n",
       "      <th>0</th>\n",
       "      <td>5</td>\n",
       "      <td>Antioquia</td>\n",
       "      <td>5001</td>\n",
       "      <td>Medellín</td>\n",
       "      <td>2018</td>\n",
       "      <td>Cabecera Municipal</td>\n",
       "      <td>2382399</td>\n",
       "    </tr>\n",
       "    <tr>\n",
       "      <th>1</th>\n",
       "      <td>5</td>\n",
       "      <td>Antioquia</td>\n",
       "      <td>5001</td>\n",
       "      <td>Medellín</td>\n",
       "      <td>2018</td>\n",
       "      <td>Centros Poblados y Rural Disperso</td>\n",
       "      <td>44730</td>\n",
       "    </tr>\n",
       "    <tr>\n",
       "      <th>2</th>\n",
       "      <td>5</td>\n",
       "      <td>Antioquia</td>\n",
       "      <td>5001</td>\n",
       "      <td>Medellín</td>\n",
       "      <td>2018</td>\n",
       "      <td>Total</td>\n",
       "      <td>2427129</td>\n",
       "    </tr>\n",
       "    <tr>\n",
       "      <th>3</th>\n",
       "      <td>5</td>\n",
       "      <td>Antioquia</td>\n",
       "      <td>5001</td>\n",
       "      <td>Medellín</td>\n",
       "      <td>2019</td>\n",
       "      <td>Cabecera Municipal</td>\n",
       "      <td>2439470</td>\n",
       "    </tr>\n",
       "    <tr>\n",
       "      <th>4</th>\n",
       "      <td>5</td>\n",
       "      <td>Antioquia</td>\n",
       "      <td>5001</td>\n",
       "      <td>Medellín</td>\n",
       "      <td>2019</td>\n",
       "      <td>Centros Poblados y Rural Disperso</td>\n",
       "      <td>44075</td>\n",
       "    </tr>\n",
       "    <tr>\n",
       "      <th>...</th>\n",
       "      <td>...</td>\n",
       "      <td>...</td>\n",
       "      <td>...</td>\n",
       "      <td>...</td>\n",
       "      <td>...</td>\n",
       "      <td>...</td>\n",
       "      <td>...</td>\n",
       "    </tr>\n",
       "    <tr>\n",
       "      <th>60583</th>\n",
       "      <td>99</td>\n",
       "      <td>Vichada</td>\n",
       "      <td>99773</td>\n",
       "      <td>Cumaribo</td>\n",
       "      <td>2034</td>\n",
       "      <td>Centros Poblados y Rural Disperso</td>\n",
       "      <td>93327</td>\n",
       "    </tr>\n",
       "    <tr>\n",
       "      <th>60584</th>\n",
       "      <td>99</td>\n",
       "      <td>Vichada</td>\n",
       "      <td>99773</td>\n",
       "      <td>Cumaribo</td>\n",
       "      <td>2034</td>\n",
       "      <td>Total</td>\n",
       "      <td>96319</td>\n",
       "    </tr>\n",
       "    <tr>\n",
       "      <th>60585</th>\n",
       "      <td>99</td>\n",
       "      <td>Vichada</td>\n",
       "      <td>99773</td>\n",
       "      <td>Cumaribo</td>\n",
       "      <td>2035</td>\n",
       "      <td>Cabecera Municipal</td>\n",
       "      <td>3001</td>\n",
       "    </tr>\n",
       "    <tr>\n",
       "      <th>60586</th>\n",
       "      <td>99</td>\n",
       "      <td>Vichada</td>\n",
       "      <td>99773</td>\n",
       "      <td>Cumaribo</td>\n",
       "      <td>2035</td>\n",
       "      <td>Centros Poblados y Rural Disperso</td>\n",
       "      <td>94793</td>\n",
       "    </tr>\n",
       "    <tr>\n",
       "      <th>60587</th>\n",
       "      <td>99</td>\n",
       "      <td>Vichada</td>\n",
       "      <td>99773</td>\n",
       "      <td>Cumaribo</td>\n",
       "      <td>2035</td>\n",
       "      <td>Total</td>\n",
       "      <td>97794</td>\n",
       "    </tr>\n",
       "  </tbody>\n",
       "</table>\n",
       "<p>60588 rows × 7 columns</p>\n",
       "</div>"
      ],
      "text/plain": [
       "       DP      DPNOM   DPMP      MPIO  ANIO  \\\n",
       "0       5  Antioquia   5001  Medellín  2018   \n",
       "1       5  Antioquia   5001  Medellín  2018   \n",
       "2       5  Antioquia   5001  Medellín  2018   \n",
       "3       5  Antioquia   5001  Medellín  2019   \n",
       "4       5  Antioquia   5001  Medellín  2019   \n",
       "...    ..        ...    ...       ...   ...   \n",
       "60583  99    Vichada  99773  Cumaribo  2034   \n",
       "60584  99    Vichada  99773  Cumaribo  2034   \n",
       "60585  99    Vichada  99773  Cumaribo  2035   \n",
       "60586  99    Vichada  99773  Cumaribo  2035   \n",
       "60587  99    Vichada  99773  Cumaribo  2035   \n",
       "\n",
       "                         AREA GEOGRAFICA    Total  \n",
       "0                     Cabecera Municipal  2382399  \n",
       "1      Centros Poblados y Rural Disperso    44730  \n",
       "2                                  Total  2427129  \n",
       "3                     Cabecera Municipal  2439470  \n",
       "4      Centros Poblados y Rural Disperso    44075  \n",
       "...                                  ...      ...  \n",
       "60583  Centros Poblados y Rural Disperso    93327  \n",
       "60584                              Total    96319  \n",
       "60585                 Cabecera Municipal     3001  \n",
       "60586  Centros Poblados y Rural Disperso    94793  \n",
       "60587                              Total    97794  \n",
       "\n",
       "[60588 rows x 7 columns]"
      ]
     },
     "execution_count": 143,
     "metadata": {},
     "output_type": "execute_result"
    }
   ],
   "source": [
    "# Changing the column name AÑO Y ÁREA GEOGRÁFICA\n",
    "proy_pob_all_df.rename(columns={'AÑO':'ANIO','ÁREA GEOGRÁFICA':'AREA GEOGRAFICA'}, inplace=True)\n",
    "proy_pob_all_df"
   ]
  },
  {
   "cell_type": "code",
   "execution_count": 144,
   "metadata": {
    "colab": {
     "base_uri": "https://localhost:8080/",
     "height": 206
    },
    "id": "DZyXERicysBU",
    "outputId": "f9530199-ace9-4bb6-adca-2dee515d6c89"
   },
   "outputs": [
    {
     "data": {
      "text/html": [
       "<div>\n",
       "<style scoped>\n",
       "    .dataframe tbody tr th:only-of-type {\n",
       "        vertical-align: middle;\n",
       "    }\n",
       "\n",
       "    .dataframe tbody tr th {\n",
       "        vertical-align: top;\n",
       "    }\n",
       "\n",
       "    .dataframe thead th {\n",
       "        text-align: right;\n",
       "    }\n",
       "</style>\n",
       "<table border=\"1\" class=\"dataframe\">\n",
       "  <thead>\n",
       "    <tr style=\"text-align: right;\">\n",
       "      <th></th>\n",
       "      <th>DP</th>\n",
       "      <th>DPNOM</th>\n",
       "      <th>DPMP</th>\n",
       "      <th>MPIO</th>\n",
       "      <th>ANIO</th>\n",
       "      <th>AREA GEOGRAFICA</th>\n",
       "      <th>Total</th>\n",
       "    </tr>\n",
       "  </thead>\n",
       "  <tbody>\n",
       "    <tr>\n",
       "      <th>14</th>\n",
       "      <td>5</td>\n",
       "      <td>Antioquia</td>\n",
       "      <td>5001</td>\n",
       "      <td>Medellín</td>\n",
       "      <td>2022</td>\n",
       "      <td>Total</td>\n",
       "      <td>2612958</td>\n",
       "    </tr>\n",
       "    <tr>\n",
       "      <th>6764</th>\n",
       "      <td>8</td>\n",
       "      <td>Atlántico</td>\n",
       "      <td>8001</td>\n",
       "      <td>Barranquilla</td>\n",
       "      <td>2022</td>\n",
       "      <td>Total</td>\n",
       "      <td>1312473</td>\n",
       "    </tr>\n",
       "    <tr>\n",
       "      <th>8006</th>\n",
       "      <td>11</td>\n",
       "      <td>Bogotá, D.C.</td>\n",
       "      <td>11001</td>\n",
       "      <td>Bogotá, D.C.</td>\n",
       "      <td>2022</td>\n",
       "      <td>Total</td>\n",
       "      <td>7901653</td>\n",
       "    </tr>\n",
       "    <tr>\n",
       "      <th>8060</th>\n",
       "      <td>13</td>\n",
       "      <td>Bolívar</td>\n",
       "      <td>13001</td>\n",
       "      <td>Cartagena de Indias</td>\n",
       "      <td>2022</td>\n",
       "      <td>Total</td>\n",
       "      <td>1055035</td>\n",
       "    </tr>\n",
       "    <tr>\n",
       "      <th>54284</th>\n",
       "      <td>76</td>\n",
       "      <td>Valle del Cauca</td>\n",
       "      <td>76001</td>\n",
       "      <td>Cali</td>\n",
       "      <td>2022</td>\n",
       "      <td>Total</td>\n",
       "      <td>2280907</td>\n",
       "    </tr>\n",
       "  </tbody>\n",
       "</table>\n",
       "</div>"
      ],
      "text/plain": [
       "       DP            DPNOM   DPMP                 MPIO  ANIO AREA GEOGRAFICA  \\\n",
       "14      5        Antioquia   5001             Medellín  2022           Total   \n",
       "6764    8        Atlántico   8001         Barranquilla  2022           Total   \n",
       "8006   11     Bogotá, D.C.  11001         Bogotá, D.C.  2022           Total   \n",
       "8060   13          Bolívar  13001  Cartagena de Indias  2022           Total   \n",
       "54284  76  Valle del Cauca  76001                 Cali  2022           Total   \n",
       "\n",
       "         Total  \n",
       "14     2612958  \n",
       "6764   1312473  \n",
       "8006   7901653  \n",
       "8060   1055035  \n",
       "54284  2280907  "
      ]
     },
     "execution_count": 144,
     "metadata": {},
     "output_type": "execute_result"
    }
   ],
   "source": [
    "#Filtering proy_pob_df by ANIO = 2022, AREA GEOGRAFICA = Total and Total >= 1.000.000\n",
    "proy_pob_df = proy_pob_all_df[(proy_pob_all_df['ANIO'] == 2022) & (proy_pob_all_df['AREA GEOGRAFICA'] == 'Total') & (proy_pob_all_df['Total'] >= 1000000)]\n",
    "proy_pob_df"
   ]
  },
  {
   "cell_type": "code",
   "execution_count": 145,
   "metadata": {
    "id": "A-jezL6zy3ii"
   },
   "outputs": [
    {
     "name": "stderr",
     "output_type": "stream",
     "text": [
      "C:\\Users\\Nicolas Rey\\anaconda3\\lib\\site-packages\\pandas\\core\\indexing.py:1773: SettingWithCopyWarning: \n",
      "A value is trying to be set on a copy of a slice from a DataFrame.\n",
      "Try using .loc[row_indexer,col_indexer] = value instead\n",
      "\n",
      "See the caveats in the documentation: https://pandas.pydata.org/pandas-docs/stable/user_guide/indexing.html#returning-a-view-versus-a-copy\n",
      "  self._setitem_single_column(ilocs[0], value, pi)\n"
     ]
    }
   ],
   "source": [
    "#Replacing departamentos wrong writed.\n",
    "proy_pob_df.replace({\"DPNOM\":estandarizar_dep}, inplace = True)"
   ]
  },
  {
   "cell_type": "code",
   "execution_count": 146,
   "metadata": {
    "id": "mdomQnLCy87G"
   },
   "outputs": [],
   "source": [
    "#Replacing municipios wrong writed.\n",
    "proy_pob_df.replace({\"MPIO\":estandarizar_mun}, inplace = True)"
   ]
  },
  {
   "cell_type": "code",
   "execution_count": 147,
   "metadata": {
    "colab": {
     "base_uri": "https://localhost:8080/"
    },
    "id": "KZ_dHWJ2zTxy",
    "outputId": "02553512-1ae5-4c5a-bfb1-7725b3c8752a"
   },
   "outputs": [
    {
     "name": "stdout",
     "output_type": "stream",
     "text": [
      "<class 'pandas.core.frame.DataFrame'>\n",
      "Int64Index: 5 entries, 14 to 54284\n",
      "Data columns (total 7 columns):\n",
      " #   Column           Non-Null Count  Dtype \n",
      "---  ------           --------------  ----- \n",
      " 0   DP               5 non-null      int64 \n",
      " 1   DPNOM            5 non-null      object\n",
      " 2   DPMP             5 non-null      int64 \n",
      " 3   MPIO             5 non-null      object\n",
      " 4   ANIO             5 non-null      int64 \n",
      " 5   AREA GEOGRAFICA  5 non-null      object\n",
      " 6   Total            5 non-null      int64 \n",
      "dtypes: int64(4), object(3)\n",
      "memory usage: 320.0+ bytes\n"
     ]
    }
   ],
   "source": [
    "proy_pob_df.info()"
   ]
  },
  {
   "cell_type": "code",
   "execution_count": 148,
   "metadata": {
    "colab": {
     "base_uri": "https://localhost:8080/",
     "height": 175
    },
    "id": "ziv95apkzXE8",
    "outputId": "996cd2d9-4342-4b3e-e9c3-f3fdc0b19a89"
   },
   "outputs": [
    {
     "data": {
      "text/html": [
       "<div>\n",
       "<style scoped>\n",
       "    .dataframe tbody tr th:only-of-type {\n",
       "        vertical-align: middle;\n",
       "    }\n",
       "\n",
       "    .dataframe tbody tr th {\n",
       "        vertical-align: top;\n",
       "    }\n",
       "\n",
       "    .dataframe thead th {\n",
       "        text-align: right;\n",
       "    }\n",
       "</style>\n",
       "<table border=\"1\" class=\"dataframe\">\n",
       "  <thead>\n",
       "    <tr style=\"text-align: right;\">\n",
       "      <th></th>\n",
       "      <th>DEPARTAMENTO</th>\n",
       "      <th>MUNICIPIO</th>\n",
       "      <th>CANTIDAD</th>\n",
       "      <th>DP</th>\n",
       "      <th>DPNOM</th>\n",
       "      <th>DPMP</th>\n",
       "      <th>MPIO</th>\n",
       "      <th>ANIO</th>\n",
       "      <th>AREA GEOGRAFICA</th>\n",
       "      <th>Total</th>\n",
       "    </tr>\n",
       "  </thead>\n",
       "  <tbody>\n",
       "    <tr>\n",
       "      <th>0</th>\n",
       "      <td>ANTIOQUIA</td>\n",
       "      <td>MEDELLÍN (CT)</td>\n",
       "      <td>5656</td>\n",
       "      <td>5</td>\n",
       "      <td>ANTIOQUIA</td>\n",
       "      <td>5001</td>\n",
       "      <td>MEDELLÍN (CT)</td>\n",
       "      <td>2022</td>\n",
       "      <td>Total</td>\n",
       "      <td>2612958</td>\n",
       "    </tr>\n",
       "    <tr>\n",
       "      <th>1</th>\n",
       "      <td>ATLÁNTICO</td>\n",
       "      <td>BARRANQUILLA (CT)</td>\n",
       "      <td>2192</td>\n",
       "      <td>8</td>\n",
       "      <td>ATLÁNTICO</td>\n",
       "      <td>8001</td>\n",
       "      <td>BARRANQUILLA (CT)</td>\n",
       "      <td>2022</td>\n",
       "      <td>Total</td>\n",
       "      <td>1312473</td>\n",
       "    </tr>\n",
       "    <tr>\n",
       "      <th>2</th>\n",
       "      <td>BOLÍVAR</td>\n",
       "      <td>CARTAGENA (CT)</td>\n",
       "      <td>2718</td>\n",
       "      <td>13</td>\n",
       "      <td>BOLÍVAR</td>\n",
       "      <td>13001</td>\n",
       "      <td>CARTAGENA (CT)</td>\n",
       "      <td>2022</td>\n",
       "      <td>Total</td>\n",
       "      <td>1055035</td>\n",
       "    </tr>\n",
       "    <tr>\n",
       "      <th>3</th>\n",
       "      <td>CUNDINAMARCA</td>\n",
       "      <td>BOGOTÁ D.C. (CT)</td>\n",
       "      <td>22562</td>\n",
       "      <td>11</td>\n",
       "      <td>CUNDINAMARCA</td>\n",
       "      <td>11001</td>\n",
       "      <td>BOGOTÁ D.C. (CT)</td>\n",
       "      <td>2022</td>\n",
       "      <td>Total</td>\n",
       "      <td>7901653</td>\n",
       "    </tr>\n",
       "  </tbody>\n",
       "</table>\n",
       "</div>"
      ],
      "text/plain": [
       "   DEPARTAMENTO          MUNICIPIO  CANTIDAD  DP         DPNOM   DPMP  \\\n",
       "0     ANTIOQUIA      MEDELLÍN (CT)      5656   5     ANTIOQUIA   5001   \n",
       "1     ATLÁNTICO  BARRANQUILLA (CT)      2192   8     ATLÁNTICO   8001   \n",
       "2       BOLÍVAR     CARTAGENA (CT)      2718  13       BOLÍVAR  13001   \n",
       "3  CUNDINAMARCA   BOGOTÁ D.C. (CT)     22562  11  CUNDINAMARCA  11001   \n",
       "\n",
       "                MPIO  ANIO AREA GEOGRAFICA    Total  \n",
       "0      MEDELLÍN (CT)  2022           Total  2612958  \n",
       "1  BARRANQUILLA (CT)  2022           Total  1312473  \n",
       "2     CARTAGENA (CT)  2022           Total  1055035  \n",
       "3   BOGOTÁ D.C. (CT)  2022           Total  7901653  "
      ]
     },
     "execution_count": 148,
     "metadata": {},
     "output_type": "execute_result"
    }
   ],
   "source": [
    "#Merging del_dp_mn_df delitos por Departamento y Municipio con su población \n",
    "del_pry_df = pd.merge(del_dp_mn_df, proy_pob_df, left_on = ['DEPARTAMENTO','MUNICIPIO'], right_on = ['DPNOM','MPIO'])\n",
    "del_pry_df"
   ]
  },
  {
   "cell_type": "code",
   "execution_count": 149,
   "metadata": {
    "colab": {
     "base_uri": "https://localhost:8080/"
    },
    "id": "srFPEZI8zd3S",
    "outputId": "d6055c61-156f-429c-b7b1-3f0a5f1b3bba"
   },
   "outputs": [
    {
     "name": "stdout",
     "output_type": "stream",
     "text": [
      "<class 'pandas.core.frame.DataFrame'>\n",
      "Int64Index: 4 entries, 0 to 3\n",
      "Data columns (total 10 columns):\n",
      " #   Column           Non-Null Count  Dtype \n",
      "---  ------           --------------  ----- \n",
      " 0   DEPARTAMENTO     4 non-null      object\n",
      " 1   MUNICIPIO        4 non-null      object\n",
      " 2   CANTIDAD         4 non-null      int64 \n",
      " 3   DP               4 non-null      int64 \n",
      " 4   DPNOM            4 non-null      object\n",
      " 5   DPMP             4 non-null      int64 \n",
      " 6   MPIO             4 non-null      object\n",
      " 7   ANIO             4 non-null      int64 \n",
      " 8   AREA GEOGRAFICA  4 non-null      object\n",
      " 9   Total            4 non-null      int64 \n",
      "dtypes: int64(5), object(5)\n",
      "memory usage: 352.0+ bytes\n"
     ]
    }
   ],
   "source": [
    "del_pry_df.info()"
   ]
  },
  {
   "cell_type": "code",
   "execution_count": 150,
   "metadata": {
    "colab": {
     "base_uri": "https://localhost:8080/",
     "height": 175
    },
    "id": "zWYYVpv-zhNC",
    "outputId": "c56f8953-4650-47bc-eda5-0a905a11946a"
   },
   "outputs": [
    {
     "data": {
      "text/html": [
       "<div>\n",
       "<style scoped>\n",
       "    .dataframe tbody tr th:only-of-type {\n",
       "        vertical-align: middle;\n",
       "    }\n",
       "\n",
       "    .dataframe tbody tr th {\n",
       "        vertical-align: top;\n",
       "    }\n",
       "\n",
       "    .dataframe thead th {\n",
       "        text-align: right;\n",
       "    }\n",
       "</style>\n",
       "<table border=\"1\" class=\"dataframe\">\n",
       "  <thead>\n",
       "    <tr style=\"text-align: right;\">\n",
       "      <th></th>\n",
       "      <th>ANIO</th>\n",
       "      <th>DEPARTAMENTO</th>\n",
       "      <th>MUNICIPIO</th>\n",
       "      <th>CANTIDAD</th>\n",
       "      <th>Total</th>\n",
       "      <th>per_cap</th>\n",
       "      <th>per_cap_mult</th>\n",
       "    </tr>\n",
       "  </thead>\n",
       "  <tbody>\n",
       "    <tr>\n",
       "      <th>0</th>\n",
       "      <td>2022</td>\n",
       "      <td>ANTIOQUIA</td>\n",
       "      <td>MEDELLÍN (CT)</td>\n",
       "      <td>5656</td>\n",
       "      <td>2612958</td>\n",
       "      <td>0.002165</td>\n",
       "      <td>216.459660</td>\n",
       "    </tr>\n",
       "    <tr>\n",
       "      <th>1</th>\n",
       "      <td>2022</td>\n",
       "      <td>ATLÁNTICO</td>\n",
       "      <td>BARRANQUILLA (CT)</td>\n",
       "      <td>2192</td>\n",
       "      <td>1312473</td>\n",
       "      <td>0.001670</td>\n",
       "      <td>167.012960</td>\n",
       "    </tr>\n",
       "    <tr>\n",
       "      <th>2</th>\n",
       "      <td>2022</td>\n",
       "      <td>BOLÍVAR</td>\n",
       "      <td>CARTAGENA (CT)</td>\n",
       "      <td>2718</td>\n",
       "      <td>1055035</td>\n",
       "      <td>0.002576</td>\n",
       "      <td>257.621785</td>\n",
       "    </tr>\n",
       "    <tr>\n",
       "      <th>3</th>\n",
       "      <td>2022</td>\n",
       "      <td>CUNDINAMARCA</td>\n",
       "      <td>BOGOTÁ D.C. (CT)</td>\n",
       "      <td>22562</td>\n",
       "      <td>7901653</td>\n",
       "      <td>0.002855</td>\n",
       "      <td>285.535191</td>\n",
       "    </tr>\n",
       "  </tbody>\n",
       "</table>\n",
       "</div>"
      ],
      "text/plain": [
       "   ANIO  DEPARTAMENTO          MUNICIPIO  CANTIDAD    Total   per_cap  \\\n",
       "0  2022     ANTIOQUIA      MEDELLÍN (CT)      5656  2612958  0.002165   \n",
       "1  2022     ATLÁNTICO  BARRANQUILLA (CT)      2192  1312473  0.001670   \n",
       "2  2022       BOLÍVAR     CARTAGENA (CT)      2718  1055035  0.002576   \n",
       "3  2022  CUNDINAMARCA   BOGOTÁ D.C. (CT)     22562  7901653  0.002855   \n",
       "\n",
       "   per_cap_mult  \n",
       "0    216.459660  \n",
       "1    167.012960  \n",
       "2    257.621785  \n",
       "3    285.535191  "
      ]
     },
     "execution_count": 150,
     "metadata": {},
     "output_type": "execute_result"
    }
   ],
   "source": [
    "#Calculating delitos per capita\n",
    "del_pry_df['per_cap'] = del_pry_df['CANTIDAD']/del_pry_df['Total'] \n",
    "del_pry_df['per_cap_mult'] = del_pry_df['per_cap']*100000\n",
    "del_pry_df.iloc[:,[7,0,1,2,9,10,11]]"
   ]
  },
  {
   "cell_type": "markdown",
   "metadata": {
    "id": "fDUvQdyEzsPW"
   },
   "source": [
    "R/ En seguida los valores percapita de delitos en los municipios con población mayor o igual a 1'000.000 de habitantes para los delitos registrados en lo corrido del año 2022: \n",
    "* En el municipio de MEDELLÍN (CT), por cada 216 habitantes se presenta un delito.\n",
    "* En el municipio de BARRANQUILLA (CT), por cada 167 habitantes se presenta un delito.\n",
    "* En el municipio de CARTAGENA (CT), por cada 257 habitantes se presenta un delito.\n",
    "* En el municipio de BARRANQUILLA (CT), por cada 285 habitantes se presenta un delito."
   ]
  },
  {
   "cell_type": "code",
   "execution_count": 151,
   "metadata": {
    "colab": {
     "base_uri": "https://localhost:8080/",
     "height": 506
    },
    "id": "6X76vkwZzkSg",
    "outputId": "8bde03e4-f692-46b4-af0b-f01d876d5a1e"
   },
   "outputs": [
    {
     "data": {
      "text/plain": [
       "Text(0.5, 1.0, 'Delitos Per-Capita')"
      ]
     },
     "execution_count": 151,
     "metadata": {},
     "output_type": "execute_result"
    },
    {
     "data": {
      "image/png": "[encoded data removed]",
      "text/plain": [
       "<Figure size 1440x648 with 1 Axes>"
      ]
     },
     "metadata": {
      "needs_background": "light"
     },
     "output_type": "display_data"
    }
   ],
   "source": [
    "fig, ax = plt.subplots(figsize=(20, 9))\n",
    "sns.barplot(ax = ax, data = del_pry_df, x='ANIO', y='per_cap_mult', hue ='DEPARTAMENTO', palette = 'magma')\n",
    "plt.title('Delitos Per-Capita')"
   ]
  }
 ],
 "metadata": {
  "colab": {
   "collapsed_sections": [
    "9LNLhKHEjCKX",
    "S7QB1GWNVpsn",
    "7_Ja5Pv_KlgI",
    "byYPq1nkZ6SL",
    "N6Z80BRRcHM3",
    "pLaYxVNvaKqP",
    "iqbhQJ59aKqQ",
    "OP-63T1eaKqW",
    "PJCZpJKOaOQw",
    "jZ6kXTWPaOQx",
    "ektDUHSjaOQ2",
    "nbi6JJikaQNI",
    "FTyQvrfjaQNJ",
    "t1STOguWaQNO",
    "2y4RlHlVhlqF",
    "8xxbrt75kjsP",
    "xC2NQNWJuOKC",
    "YCnB1l-z44ck",
    "9clyruB9bOS9",
    "84RdmmuEePJg",
    "PjAGmrIJu_LT",
    "fXaXUPq6vDAa"
   ],
   "name": "Taller 1.ipynb",
   "provenance": []
  },
  "kernelspec": {
   "display_name": "Python 3 (ipykernel)",
   "language": "python",
   "name": "python3"
  },
  "language_info": {
   "codemirror_mode": {
    "name": "ipython",
    "version": 3
   },
   "file_extension": ".py",
   "mimetype": "text/x-python",
   "name": "python",
   "nbconvert_exporter": "python",
   "pygments_lexer": "ipython3",
   "version": "3.9.7"
  }
 },
 "nbformat": 4,
 "nbformat_minor": 4
}
